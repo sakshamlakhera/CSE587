{
 "cells": [
  {
   "cell_type": "markdown",
   "metadata": {},
   "source": [
    "#### Code by: Apurva Umredkar (50592382)\n"
   ]
  },
  {
   "cell_type": "code",
   "execution_count": 30,
   "metadata": {},
   "outputs": [],
   "source": [
    "# Importing the libraries\n",
    "import requests\n",
    "import zipfile\n",
    "import io\n",
    "import pandas as pd\n",
    "import matplotlib.pyplot as plt\n",
    "import numpy as np\n",
    "import plotly.graph_objects as go\n",
    "from plotly.subplots import make_subplots\n",
    "\n",
    "import plotly.io as pio\n",
    "pio.renderers.default='iframe'\n",
    "\n",
    "import warnings\n",
    "warnings.filterwarnings(\"ignore\")"
   ]
  },
  {
   "cell_type": "code",
   "execution_count": 31,
   "metadata": {},
   "outputs": [
    {
     "data": {
      "text/plain": [
       "((13464, 55),\n",
       " Index(['S. No.', 'Timestamp', 'GAD1', 'GAD2', 'GAD3', 'GAD4', 'GAD5', 'GAD6',\n",
       "        'GAD7', 'GADE', 'SWL1', 'SWL2', 'SWL3', 'SWL4', 'SWL5', 'Game',\n",
       "        'Platform', 'Hours', 'earnings', 'whyplay', 'League', 'highestleague',\n",
       "        'streams', 'SPIN1', 'SPIN2', 'SPIN3', 'SPIN4', 'SPIN5', 'SPIN6',\n",
       "        'SPIN7', 'SPIN8', 'SPIN9', 'SPIN10', 'SPIN11', 'SPIN12', 'SPIN13',\n",
       "        'SPIN14', 'SPIN15', 'SPIN16', 'SPIN17', 'Narcissism', 'Gender', 'Age',\n",
       "        'Work', 'Degree', 'Birthplace', 'Residence', 'Reference', 'Playstyle',\n",
       "        'accept', 'GAD_T', 'SWL_T', 'SPIN_T', 'Residence_ISO3',\n",
       "        'Birthplace_ISO3'],\n",
       "       dtype='object'))"
      ]
     },
     "execution_count": 31,
     "metadata": {},
     "output_type": "execute_result"
    }
   ],
   "source": [
    "# Reading the dataset\n",
    "gaming_dat = pd.read_csv(r\"../data/GamingStudy_data.csv\")\n",
    "# dataset size\n",
    "gaming_dat.shape, gaming_dat.columns"
   ]
  },
  {
   "cell_type": "code",
   "execution_count": 32,
   "metadata": {},
   "outputs": [
    {
     "data": {
      "text/html": [
       "<div>\n",
       "<style scoped>\n",
       "    .dataframe tbody tr th:only-of-type {\n",
       "        vertical-align: middle;\n",
       "    }\n",
       "\n",
       "    .dataframe tbody tr th {\n",
       "        vertical-align: top;\n",
       "    }\n",
       "\n",
       "    .dataframe thead th {\n",
       "        text-align: right;\n",
       "    }\n",
       "</style>\n",
       "<table border=\"1\" class=\"dataframe\">\n",
       "  <thead>\n",
       "    <tr style=\"text-align: right;\">\n",
       "      <th></th>\n",
       "      <th>GAD1</th>\n",
       "      <th>GAD2</th>\n",
       "      <th>GAD3</th>\n",
       "      <th>GAD4</th>\n",
       "      <th>GAD5</th>\n",
       "      <th>GAD6</th>\n",
       "      <th>GAD7</th>\n",
       "      <th>GADE</th>\n",
       "      <th>SWL1</th>\n",
       "      <th>SWL2</th>\n",
       "      <th>...</th>\n",
       "      <th>Birthplace</th>\n",
       "      <th>Residence</th>\n",
       "      <th>Reference</th>\n",
       "      <th>Playstyle</th>\n",
       "      <th>accept</th>\n",
       "      <th>GAD_T</th>\n",
       "      <th>SWL_T</th>\n",
       "      <th>SPIN_T</th>\n",
       "      <th>Residence_ISO3</th>\n",
       "      <th>Birthplace_ISO3</th>\n",
       "    </tr>\n",
       "  </thead>\n",
       "  <tbody>\n",
       "    <tr>\n",
       "      <th>0</th>\n",
       "      <td>0</td>\n",
       "      <td>0</td>\n",
       "      <td>0</td>\n",
       "      <td>0</td>\n",
       "      <td>1</td>\n",
       "      <td>0</td>\n",
       "      <td>0</td>\n",
       "      <td>Not difficult at all</td>\n",
       "      <td>3</td>\n",
       "      <td>5</td>\n",
       "      <td>...</td>\n",
       "      <td>USA</td>\n",
       "      <td>USA</td>\n",
       "      <td>Reddit</td>\n",
       "      <td>Singleplayer</td>\n",
       "      <td>Accept</td>\n",
       "      <td>1</td>\n",
       "      <td>23</td>\n",
       "      <td>5.0</td>\n",
       "      <td>USA</td>\n",
       "      <td>USA</td>\n",
       "    </tr>\n",
       "    <tr>\n",
       "      <th>1</th>\n",
       "      <td>1</td>\n",
       "      <td>2</td>\n",
       "      <td>2</td>\n",
       "      <td>2</td>\n",
       "      <td>0</td>\n",
       "      <td>1</td>\n",
       "      <td>0</td>\n",
       "      <td>Somewhat difficult</td>\n",
       "      <td>3</td>\n",
       "      <td>5</td>\n",
       "      <td>...</td>\n",
       "      <td>USA</td>\n",
       "      <td>USA</td>\n",
       "      <td>Reddit</td>\n",
       "      <td>Multiplayer - online - with strangers</td>\n",
       "      <td>Accept</td>\n",
       "      <td>8</td>\n",
       "      <td>16</td>\n",
       "      <td>33.0</td>\n",
       "      <td>USA</td>\n",
       "      <td>USA</td>\n",
       "    </tr>\n",
       "    <tr>\n",
       "      <th>2</th>\n",
       "      <td>0</td>\n",
       "      <td>2</td>\n",
       "      <td>2</td>\n",
       "      <td>0</td>\n",
       "      <td>0</td>\n",
       "      <td>3</td>\n",
       "      <td>1</td>\n",
       "      <td>Not difficult at all</td>\n",
       "      <td>2</td>\n",
       "      <td>6</td>\n",
       "      <td>...</td>\n",
       "      <td>Germany</td>\n",
       "      <td>Germany</td>\n",
       "      <td>Reddit</td>\n",
       "      <td>Singleplayer</td>\n",
       "      <td>Accept</td>\n",
       "      <td>8</td>\n",
       "      <td>17</td>\n",
       "      <td>31.0</td>\n",
       "      <td>DEU</td>\n",
       "      <td>DEU</td>\n",
       "    </tr>\n",
       "    <tr>\n",
       "      <th>3</th>\n",
       "      <td>0</td>\n",
       "      <td>0</td>\n",
       "      <td>0</td>\n",
       "      <td>0</td>\n",
       "      <td>0</td>\n",
       "      <td>0</td>\n",
       "      <td>0</td>\n",
       "      <td>Not difficult at all</td>\n",
       "      <td>2</td>\n",
       "      <td>5</td>\n",
       "      <td>...</td>\n",
       "      <td>USA</td>\n",
       "      <td>USA</td>\n",
       "      <td>Reddit</td>\n",
       "      <td>Multiplayer - online - with online acquaintanc...</td>\n",
       "      <td>Accept</td>\n",
       "      <td>0</td>\n",
       "      <td>17</td>\n",
       "      <td>11.0</td>\n",
       "      <td>USA</td>\n",
       "      <td>USA</td>\n",
       "    </tr>\n",
       "    <tr>\n",
       "      <th>4</th>\n",
       "      <td>2</td>\n",
       "      <td>1</td>\n",
       "      <td>2</td>\n",
       "      <td>2</td>\n",
       "      <td>2</td>\n",
       "      <td>3</td>\n",
       "      <td>2</td>\n",
       "      <td>Very difficult</td>\n",
       "      <td>2</td>\n",
       "      <td>2</td>\n",
       "      <td>...</td>\n",
       "      <td>USA</td>\n",
       "      <td>South Korea</td>\n",
       "      <td>Reddit</td>\n",
       "      <td>Multiplayer - online - with strangers</td>\n",
       "      <td>Accept</td>\n",
       "      <td>14</td>\n",
       "      <td>14</td>\n",
       "      <td>13.0</td>\n",
       "      <td>KOR</td>\n",
       "      <td>USA</td>\n",
       "    </tr>\n",
       "  </tbody>\n",
       "</table>\n",
       "<p>5 rows × 53 columns</p>\n",
       "</div>"
      ],
      "text/plain": [
       "   GAD1  GAD2  GAD3  GAD4  GAD5  GAD6  GAD7                  GADE  SWL1  SWL2  \\\n",
       "0     0     0     0     0     1     0     0  Not difficult at all     3     5   \n",
       "1     1     2     2     2     0     1     0    Somewhat difficult     3     5   \n",
       "2     0     2     2     0     0     3     1  Not difficult at all     2     6   \n",
       "3     0     0     0     0     0     0     0  Not difficult at all     2     5   \n",
       "4     2     1     2     2     2     3     2        Very difficult     2     2   \n",
       "\n",
       "   ...  Birthplace    Residence  Reference  \\\n",
       "0  ...         USA          USA     Reddit   \n",
       "1  ...         USA          USA     Reddit   \n",
       "2  ...     Germany      Germany     Reddit   \n",
       "3  ...         USA          USA     Reddit   \n",
       "4  ...         USA  South Korea     Reddit   \n",
       "\n",
       "                                           Playstyle  accept  GAD_T SWL_T  \\\n",
       "0                                       Singleplayer  Accept      1    23   \n",
       "1              Multiplayer - online - with strangers  Accept      8    16   \n",
       "2                                       Singleplayer  Accept      8    17   \n",
       "3  Multiplayer - online - with online acquaintanc...  Accept      0    17   \n",
       "4              Multiplayer - online - with strangers  Accept     14    14   \n",
       "\n",
       "  SPIN_T Residence_ISO3  Birthplace_ISO3  \n",
       "0    5.0            USA              USA  \n",
       "1   33.0            USA              USA  \n",
       "2   31.0            DEU              DEU  \n",
       "3   11.0            USA              USA  \n",
       "4   13.0            KOR              USA  \n",
       "\n",
       "[5 rows x 53 columns]"
      ]
     },
     "execution_count": 32,
     "metadata": {},
     "output_type": "execute_result"
    }
   ],
   "source": [
    "# data cleaning: S. No. and timestamp are irrelevant, dropping these columns\n",
    "gaming_dat = gaming_dat.drop(columns = [\"S. No.\", \"Timestamp\"], axis = 1)   \n",
    "gaming_dat.head()"
   ]
  },
  {
   "cell_type": "markdown",
   "metadata": {},
   "source": [
    "Analysis: What are the age of the gamers present in our dataset and what is the mean age?"
   ]
  },
  {
   "cell_type": "code",
   "execution_count": 33,
   "metadata": {},
   "outputs": [
    {
     "name": "stdout",
     "output_type": "stream",
     "text": [
      "Mean age of the gamers: 21\n"
     ]
    },
    {
     "data": {
      "image/png": "[encoded data removed]",
      "text/plain": [
       "<Figure size 640x480 with 1 Axes>"
      ]
     },
     "metadata": {},
     "output_type": "display_data"
    }
   ],
   "source": [
    "mean_age = np.mean(gaming_dat[\"Age\"])\n",
    "print(f\"Mean age of the gamers: {np.round(mean_age,0):.0f}\")\n",
    "\n",
    "age_count = gaming_dat['Age'].value_counts().reset_index()\n",
    "plt.bar(age_count[\"Age\"], age_count[\"count\"])\n",
    "plt.title(\"Studying the age of gamers\")\n",
    "plt.xlabel(\"Age\")\n",
    "plt.ylabel(\"# of gamers\")\n",
    "plt.show()"
   ]
  },
  {
   "cell_type": "markdown",
   "metadata": {},
   "source": [
    "We can observe that most of the gamers are of the age 18 and the mean age of the gamers in our dataset is 21."
   ]
  },
  {
   "cell_type": "markdown",
   "metadata": {},
   "source": [
    "### Hypothesis 1\n",
    "#### Which country has the highest average of anxiety levels in online gamers?\n",
    "\n",
    "Approach: The GAD columns contain metrics for General Anxiety Disorder from category 1 to 7. We will take the average of these and group by country, and get the highest and lowest average value.\n",
    "\n",
    "**A little background on the anxiety terminologies**\n",
    "\n",
    "In Psychology, General Anxiety Disorder (GAD) has been divided into 7 categories:\n",
    "1. GAD-1: Feeling nervous, anxious or on edge\n",
    "2. GAD-2: Not being able to stop or control worrying\n",
    "3. GAD-3: Worrying too much about different things\n",
    "4. GAD-4: Trouble relaxing\n",
    "5. GAD-5: Being so restless that it is hard to sit still\n",
    "6. GAD-6: Becoming easily annoyed or irritable\n",
    "7. GAD-7: Feeling afraid as if something awful might happen\n",
    "\n",
    "The answer to GAD categories can be 0 - Not at all, 1 - Several days, 2 - More than half the days, 3 - Nearly everyday\n",
    "\n",
    "SWL refers to Satisfaction with Life.\n",
    "\n",
    "Here, a survey was conducted to curate this dataset which consisted of 5 questions which had to be answered with a SWL score on a scale of 1-5, 1 being Strongly disagree and 5 being Strongly Agree."
   ]
  },
  {
   "cell_type": "code",
   "execution_count": 34,
   "metadata": {},
   "outputs": [
    {
     "name": "stdout",
     "output_type": "stream",
     "text": [
      "Based on online gaming data\n",
      "Highest average anxiety: QAT - 16.333333333333332\n",
      "Lowest average anxiety: FJI - 0.0 \n"
     ]
    }
   ],
   "source": [
    "# Step 1: Calculate total GAD score per participant\n",
    "gaming_dat['GAD_total'] = gaming_dat[['GAD1', 'GAD2', 'GAD3', 'GAD4', 'GAD5', 'GAD6', 'GAD7']].sum(axis=1)\n",
    "\n",
    "# Step 2: Group by country and calculate average GAD score\n",
    "country_anxiety = gaming_dat.groupby('Residence_ISO3')['GAD_total'].mean()\n",
    "\n",
    "# Step 3: Sort countries by average GAD score\n",
    "country_anxiety_sorted = country_anxiety.sort_values(ascending=False).reset_index()\n",
    "\n",
    "print(f\"Based on online gaming data\")\n",
    "print(f\"Highest average anxiety: {country_anxiety_sorted.iloc[0,0]} - {country_anxiety_sorted.iloc[0,1]}\")\n",
    "print(f\"Lowest average anxiety: {country_anxiety_sorted.iloc[-1,0]} - {country_anxiety_sorted.iloc[-1,1]} \")"
   ]
  },
  {
   "cell_type": "markdown",
   "metadata": {},
   "source": [
    "Conclusion: Online gamers from Qatar have the highest anxiety levels and gamers from Fiji have the lowest anxiety levels.\n",
    "\n",
    "But how about the satisfaction with life? Let's implement the same averaging approach but with SWL scores instead."
   ]
  },
  {
   "cell_type": "code",
   "execution_count": 35,
   "metadata": {},
   "outputs": [
    {
     "name": "stdout",
     "output_type": "stream",
     "text": [
      "Highest SWL average: NAM - 35.0\n",
      "Highest SWL average: IDN - 8.0\n",
      "Qatar SWL: 19.666666666666668\n",
      "Fiji SWL: 12.0\n"
     ]
    }
   ],
   "source": [
    "gaming_dat['SWL_total'] = gaming_dat[['SWL1', 'SWL2', 'SWL5', 'SWL4', 'SWL5']].sum(axis=1)\n",
    "country_swl = gaming_dat.groupby('Residence_ISO3')['SWL_total'].mean()\n",
    "country_swl_sorted = country_swl.sort_values(ascending=False).reset_index().rename(columns={\"SWL_total\": \"SWL_avg\"})\n",
    "\n",
    "print(f\"Highest SWL average: {country_swl_sorted.iloc[0,0]} - {country_swl_sorted.iloc[0,1]}\")\n",
    "print(f\"Highest SWL average: {country_swl_sorted.iloc[-1,0]} - {country_swl_sorted.iloc[-1,1]}\")\n",
    "\n",
    "print(f\"Qatar SWL: {country_swl_sorted.loc[country_swl_sorted['Residence_ISO3'] == 'QAT', 'SWL_avg'].values[0]}\")\n",
    "print(f\"Fiji SWL: {country_swl_sorted.loc[country_swl_sorted['Residence_ISO3'] == 'FJI', 'SWL_avg'].values[0]}\")"
   ]
  },
  {
   "cell_type": "markdown",
   "metadata": {},
   "source": [
    "Findings: Namibia has the highest SWL avg, whereas Indonesia has the least SWL average. Even though gamers in Qatar have the highest anxiety disorder, they have a moderate satisfaction with life."
   ]
  },
  {
   "cell_type": "markdown",
   "metadata": {},
   "source": [
    "### Hypothesis 2\n",
    "#### Which age group suffers from the most anxiety?"
   ]
  },
  {
   "cell_type": "code",
   "execution_count": 36,
   "metadata": {},
   "outputs": [],
   "source": [
    "# Mapping the GAD statement to the corresponding column names in the dataset\n",
    "gad_statements = {\n",
    "    'GAD1': 'Feeling nervous, anxious, or on edge',\n",
    "    'GAD2': 'Not being able to stop or control worrying',\n",
    "    'GAD3': 'Worrying too much about different things',\n",
    "    'GAD4': 'Trouble relaxing',\n",
    "    'GAD5': 'Being so restless that it`s hard to sit still',\n",
    "    'GAD6': 'Becoming easily annoyed or irritable',\n",
    "    'GAD7': 'Feeling afraid as if something awful might happen'\n",
    "}\n",
    "\n",
    "statement_columns = list(gad_statements.keys())\n",
    "statement_labels = list(gad_statements.values())"
   ]
  },
  {
   "cell_type": "code",
   "execution_count": 37,
   "metadata": {},
   "outputs": [],
   "source": [
    "gaming_dat_copy = gaming_dat.copy()\n",
    "\n",
    "# Creating bins for age\n",
    "age_bins = [18, 20, 25, 30, 100]\n",
    "age_labels = ['18-20', '20-25', '25-30', '30+']\n",
    "gaming_dat_copy['AgeBin'] = pd.cut(gaming_dat_copy.Age, age_bins, labels=age_labels)\n",
    "\n",
    "# Creating bins for hours played per week\n",
    "hour_bins = [0, 20, 40, 60, 80, 120]\n",
    "hour_labels = ['0-20', '20-40', '40-60', '60-80', '80+']\n",
    "gaming_dat_copy['HoursBin'] = pd.cut(gaming_dat_copy.Hours, hour_bins, labels=hour_labels)\n",
    "\n",
    "# Prepare data for radar charts\n",
    "radar_data = gaming_dat_copy.groupby(['AgeBin', 'HoursBin'])[statement_columns].mean().reset_index()"
   ]
  },
  {
   "cell_type": "code",
   "execution_count": 38,
   "metadata": {},
   "outputs": [
    {
     "data": {
      "text/html": [
       "<iframe\n",
       "    scrolling=\"no\"\n",
       "    width=\"1020px\"\n",
       "    height=\"2020\"\n",
       "    src=\"iframe_figures/figure_38.html\"\n",
       "    frameborder=\"0\"\n",
       "    allowfullscreen\n",
       "></iframe>\n"
      ]
     },
     "metadata": {},
     "output_type": "display_data"
    }
   ],
   "source": [
    "# Create subplots for each age zone\n",
    "fig = make_subplots(rows=len(age_labels), cols=1,\n",
    "                    subplot_titles=age_labels,\n",
    "                    specs=[[{'type': 'polar'}] for _ in age_labels])\n",
    "\n",
    "# Iterate over each age zone and add radar plot\n",
    "for idx, age_zone in enumerate(age_labels):\n",
    "    age_data = radar_data[radar_data['AgeBin'] == age_zone]\n",
    "    for _, row in age_data.iterrows():\n",
    "        fig.add_trace(go.Scatterpolar(\n",
    "            r=row[statement_columns].values,\n",
    "            theta=statement_labels,\n",
    "            fill='toself',\n",
    "            name=f\"{row['AgeBin']} | {row['HoursBin']}\"\n",
    "        ), row=idx+1, col=1)\n",
    "\n",
    "fig.update_layout(\n",
    "    polar=dict(\n",
    "        radialaxis=dict(visible=True, showticklabels=False)\n",
    "    ),\n",
    "    showlegend=True,\n",
    "    title=\"Radar Chart for Psychological Well-being by Age and Hours Played\",\n",
    "    height=2000,\n",
    "    width=1000\n",
    ")\n",
    "fig.show( )\n",
    "# pyo.iplot(fig)"
   ]
  },
  {
   "cell_type": "markdown",
   "metadata": {},
   "source": [
    "**Conclusion** \\\n",
    "From the radar charts, it can be seen that young gamers from the age group 18-25 suffer from more anxiety in all areas.\n",
    "\n",
    "Age group 18-20 & 21-25 is mostly easily annoyed or irritated (GAD-6) \\\n",
    "Age group 25-30 is mostly restless and find it hard to sit still (GAD-5) \\\n",
    "Ages 30+ are mostly not able to stop or control worrying (GAD-2)"
   ]
  },
  {
   "cell_type": "code",
   "execution_count": null,
   "metadata": {},
   "outputs": [],
   "source": []
  }
 ],
 "metadata": {
  "kernelspec": {
   "display_name": "venv",
   "language": "python",
   "name": "venv"
  },
  "language_info": {
   "codemirror_mode": {
    "name": "ipython",
    "version": 3
   },
   "file_extension": ".py",
   "mimetype": "text/x-python",
   "name": "python",
   "nbconvert_exporter": "python",
   "pygments_lexer": "ipython3",
   "version": "3.12.5"
  }
 },
 "nbformat": 4,
 "nbformat_minor": 4
}
