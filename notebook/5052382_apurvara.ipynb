{
 "cells": [
  {
   "cell_type": "markdown",
   "metadata": {},
   "source": [
    "### Code by: Apurva Umredkar (50592382)\n",
    "\n",
    "Kaggle dataset source: https://www.kaggle.com/datasets/divyansh22/online-gaming-anxiety-data"
   ]
  },
  {
   "cell_type": "code",
   "execution_count": 14,
   "metadata": {},
   "outputs": [],
   "source": [
    "# Importing the libraries\n",
    "import pandas as pd\n",
    "import matplotlib.pyplot as plt\n",
    "import numpy as np\n",
    "import plotly.graph_objects as go\n",
    "from plotly.subplots import make_subplots\n",
    "from PIL import Image\n",
    "\n",
    "import warnings\n",
    "warnings.filterwarnings(\"ignore\")"
   ]
  },
  {
   "cell_type": "code",
   "execution_count": 15,
   "metadata": {},
   "outputs": [
    {
     "data": {
      "text/plain": [
       "((13464, 55),\n",
       " Index(['S. No.', 'Timestamp', 'GAD1', 'GAD2', 'GAD3', 'GAD4', 'GAD5', 'GAD6',\n",
       "        'GAD7', 'GADE', 'SWL1', 'SWL2', 'SWL3', 'SWL4', 'SWL5', 'Game',\n",
       "        'Platform', 'Hours', 'earnings', 'whyplay', 'League', 'highestleague',\n",
       "        'streams', 'SPIN1', 'SPIN2', 'SPIN3', 'SPIN4', 'SPIN5', 'SPIN6',\n",
       "        'SPIN7', 'SPIN8', 'SPIN9', 'SPIN10', 'SPIN11', 'SPIN12', 'SPIN13',\n",
       "        'SPIN14', 'SPIN15', 'SPIN16', 'SPIN17', 'Narcissism', 'Gender', 'Age',\n",
       "        'Work', 'Degree', 'Birthplace', 'Residence', 'Reference', 'Playstyle',\n",
       "        'accept', 'GAD_T', 'SWL_T', 'SPIN_T', 'Residence_ISO3',\n",
       "        'Birthplace_ISO3'],\n",
       "       dtype='object'))"
      ]
     },
     "execution_count": 15,
     "metadata": {},
     "output_type": "execute_result"
    }
   ],
   "source": [
    "# Reading the dataset\n",
    "gaming_dat = pd.read_csv(r\"../data/GamingStudy_data.csv\")\n",
    "# dataset size\n",
    "gaming_dat.shape, gaming_dat.columns"
   ]
  },
  {
   "cell_type": "code",
   "execution_count": 16,
   "metadata": {},
   "outputs": [
    {
     "data": {
      "text/html": [
       "<div>\n",
       "<style scoped>\n",
       "    .dataframe tbody tr th:only-of-type {\n",
       "        vertical-align: middle;\n",
       "    }\n",
       "\n",
       "    .dataframe tbody tr th {\n",
       "        vertical-align: top;\n",
       "    }\n",
       "\n",
       "    .dataframe thead th {\n",
       "        text-align: right;\n",
       "    }\n",
       "</style>\n",
       "<table border=\"1\" class=\"dataframe\">\n",
       "  <thead>\n",
       "    <tr style=\"text-align: right;\">\n",
       "      <th></th>\n",
       "      <th>GAD1</th>\n",
       "      <th>GAD2</th>\n",
       "      <th>GAD3</th>\n",
       "      <th>GAD4</th>\n",
       "      <th>GAD5</th>\n",
       "      <th>GAD6</th>\n",
       "      <th>GAD7</th>\n",
       "      <th>GADE</th>\n",
       "      <th>SWL1</th>\n",
       "      <th>SWL2</th>\n",
       "      <th>...</th>\n",
       "      <th>Birthplace</th>\n",
       "      <th>Residence</th>\n",
       "      <th>Reference</th>\n",
       "      <th>Playstyle</th>\n",
       "      <th>accept</th>\n",
       "      <th>GAD_T</th>\n",
       "      <th>SWL_T</th>\n",
       "      <th>SPIN_T</th>\n",
       "      <th>Residence_ISO3</th>\n",
       "      <th>Birthplace_ISO3</th>\n",
       "    </tr>\n",
       "  </thead>\n",
       "  <tbody>\n",
       "    <tr>\n",
       "      <th>0</th>\n",
       "      <td>0</td>\n",
       "      <td>0</td>\n",
       "      <td>0</td>\n",
       "      <td>0</td>\n",
       "      <td>1</td>\n",
       "      <td>0</td>\n",
       "      <td>0</td>\n",
       "      <td>Not difficult at all</td>\n",
       "      <td>3</td>\n",
       "      <td>5</td>\n",
       "      <td>...</td>\n",
       "      <td>USA</td>\n",
       "      <td>USA</td>\n",
       "      <td>Reddit</td>\n",
       "      <td>Singleplayer</td>\n",
       "      <td>Accept</td>\n",
       "      <td>1</td>\n",
       "      <td>23</td>\n",
       "      <td>5.0</td>\n",
       "      <td>USA</td>\n",
       "      <td>USA</td>\n",
       "    </tr>\n",
       "    <tr>\n",
       "      <th>1</th>\n",
       "      <td>1</td>\n",
       "      <td>2</td>\n",
       "      <td>2</td>\n",
       "      <td>2</td>\n",
       "      <td>0</td>\n",
       "      <td>1</td>\n",
       "      <td>0</td>\n",
       "      <td>Somewhat difficult</td>\n",
       "      <td>3</td>\n",
       "      <td>5</td>\n",
       "      <td>...</td>\n",
       "      <td>USA</td>\n",
       "      <td>USA</td>\n",
       "      <td>Reddit</td>\n",
       "      <td>Multiplayer - online - with strangers</td>\n",
       "      <td>Accept</td>\n",
       "      <td>8</td>\n",
       "      <td>16</td>\n",
       "      <td>33.0</td>\n",
       "      <td>USA</td>\n",
       "      <td>USA</td>\n",
       "    </tr>\n",
       "    <tr>\n",
       "      <th>2</th>\n",
       "      <td>0</td>\n",
       "      <td>2</td>\n",
       "      <td>2</td>\n",
       "      <td>0</td>\n",
       "      <td>0</td>\n",
       "      <td>3</td>\n",
       "      <td>1</td>\n",
       "      <td>Not difficult at all</td>\n",
       "      <td>2</td>\n",
       "      <td>6</td>\n",
       "      <td>...</td>\n",
       "      <td>Germany</td>\n",
       "      <td>Germany</td>\n",
       "      <td>Reddit</td>\n",
       "      <td>Singleplayer</td>\n",
       "      <td>Accept</td>\n",
       "      <td>8</td>\n",
       "      <td>17</td>\n",
       "      <td>31.0</td>\n",
       "      <td>DEU</td>\n",
       "      <td>DEU</td>\n",
       "    </tr>\n",
       "    <tr>\n",
       "      <th>3</th>\n",
       "      <td>0</td>\n",
       "      <td>0</td>\n",
       "      <td>0</td>\n",
       "      <td>0</td>\n",
       "      <td>0</td>\n",
       "      <td>0</td>\n",
       "      <td>0</td>\n",
       "      <td>Not difficult at all</td>\n",
       "      <td>2</td>\n",
       "      <td>5</td>\n",
       "      <td>...</td>\n",
       "      <td>USA</td>\n",
       "      <td>USA</td>\n",
       "      <td>Reddit</td>\n",
       "      <td>Multiplayer - online - with online acquaintanc...</td>\n",
       "      <td>Accept</td>\n",
       "      <td>0</td>\n",
       "      <td>17</td>\n",
       "      <td>11.0</td>\n",
       "      <td>USA</td>\n",
       "      <td>USA</td>\n",
       "    </tr>\n",
       "    <tr>\n",
       "      <th>4</th>\n",
       "      <td>2</td>\n",
       "      <td>1</td>\n",
       "      <td>2</td>\n",
       "      <td>2</td>\n",
       "      <td>2</td>\n",
       "      <td>3</td>\n",
       "      <td>2</td>\n",
       "      <td>Very difficult</td>\n",
       "      <td>2</td>\n",
       "      <td>2</td>\n",
       "      <td>...</td>\n",
       "      <td>USA</td>\n",
       "      <td>South Korea</td>\n",
       "      <td>Reddit</td>\n",
       "      <td>Multiplayer - online - with strangers</td>\n",
       "      <td>Accept</td>\n",
       "      <td>14</td>\n",
       "      <td>14</td>\n",
       "      <td>13.0</td>\n",
       "      <td>KOR</td>\n",
       "      <td>USA</td>\n",
       "    </tr>\n",
       "  </tbody>\n",
       "</table>\n",
       "<p>5 rows × 53 columns</p>\n",
       "</div>"
      ],
      "text/plain": [
       "   GAD1  GAD2  GAD3  GAD4  GAD5  GAD6  GAD7                  GADE  SWL1  SWL2  \\\n",
       "0     0     0     0     0     1     0     0  Not difficult at all     3     5   \n",
       "1     1     2     2     2     0     1     0    Somewhat difficult     3     5   \n",
       "2     0     2     2     0     0     3     1  Not difficult at all     2     6   \n",
       "3     0     0     0     0     0     0     0  Not difficult at all     2     5   \n",
       "4     2     1     2     2     2     3     2        Very difficult     2     2   \n",
       "\n",
       "   ...  Birthplace    Residence  Reference  \\\n",
       "0  ...         USA          USA     Reddit   \n",
       "1  ...         USA          USA     Reddit   \n",
       "2  ...     Germany      Germany     Reddit   \n",
       "3  ...         USA          USA     Reddit   \n",
       "4  ...         USA  South Korea     Reddit   \n",
       "\n",
       "                                           Playstyle  accept  GAD_T SWL_T  \\\n",
       "0                                       Singleplayer  Accept      1    23   \n",
       "1              Multiplayer - online - with strangers  Accept      8    16   \n",
       "2                                       Singleplayer  Accept      8    17   \n",
       "3  Multiplayer - online - with online acquaintanc...  Accept      0    17   \n",
       "4              Multiplayer - online - with strangers  Accept     14    14   \n",
       "\n",
       "  SPIN_T Residence_ISO3  Birthplace_ISO3  \n",
       "0    5.0            USA              USA  \n",
       "1   33.0            USA              USA  \n",
       "2   31.0            DEU              DEU  \n",
       "3   11.0            USA              USA  \n",
       "4   13.0            KOR              USA  \n",
       "\n",
       "[5 rows x 53 columns]"
      ]
     },
     "execution_count": 16,
     "metadata": {},
     "output_type": "execute_result"
    }
   ],
   "source": [
    "# data cleaning: S. No. and timestamp are irrelevant, dropping these columns\n",
    "gaming_dat = gaming_dat.drop(columns = [\"S. No.\", \"Timestamp\"], axis = 1)   \n",
    "gaming_dat.head()"
   ]
  },
  {
   "cell_type": "markdown",
   "metadata": {},
   "source": [
    "Analysis: What are the age of the gamers present in our dataset and what is the mean age?"
   ]
  },
  {
   "cell_type": "code",
   "execution_count": 17,
   "metadata": {},
   "outputs": [
    {
     "name": "stdout",
     "output_type": "stream",
     "text": [
      "Mean age of the gamers: 21\n"
     ]
    },
    {
     "data": {
      "image/png": "[encoded data removed]",
      "text/plain": [
       "<Figure size 640x480 with 1 Axes>"
      ]
     },
     "metadata": {},
     "output_type": "display_data"
    }
   ],
   "source": [
    "mean_age = np.mean(gaming_dat[\"Age\"])\n",
    "print(f\"Mean age of the gamers: {np.round(mean_age,0):.0f}\")\n",
    "\n",
    "age_count = gaming_dat['Age'].value_counts().reset_index()\n",
    "plt.bar(age_count[\"Age\"], age_count[\"count\"])\n",
    "plt.title(\"Studying the age of gamers\")\n",
    "plt.xlabel(\"Age\")\n",
    "plt.ylabel(\"# of gamers\")\n",
    "plt.show()"
   ]
  },
  {
   "cell_type": "markdown",
   "metadata": {},
   "source": [
    "We can observe that most of the gamers are of the age 18 and the mean age of the gamers in our dataset is 21."
   ]
  },
  {
   "cell_type": "markdown",
   "metadata": {},
   "source": [
    "### Hypothesis 1\n",
    "#### Which country has the highest average of anxiety levels in online gamers?\n",
    "\n",
    "Approach: The GAD columns contain metrics for General Anxiety Disorder from category 1 to 7. We will take the average of these and group by country, and get the highest and lowest average value.\n",
    "\n",
    "**A little background on the anxiety terminologies**\n",
    "\n",
    "In Psychology, General Anxiety Disorder (GAD) has been divided into 7 categories:\n",
    "1. GAD-1: Feeling nervous, anxious or on edge\n",
    "2. GAD-2: Not being able to stop or control worrying\n",
    "3. GAD-3: Worrying too much about different things\n",
    "4. GAD-4: Trouble relaxing\n",
    "5. GAD-5: Being so restless that it is hard to sit still\n",
    "6. GAD-6: Becoming easily annoyed or irritable\n",
    "7. GAD-7: Feeling afraid as if something awful might happen\n",
    "\n",
    "The answer to GAD categories can be 0 - Not at all, 1 - Several days, 2 - More than half the days, 3 - Nearly everyday\n",
    "\n",
    "SWL refers to Satisfaction with Life.\n",
    "\n",
    "Here, a survey was conducted to curate this dataset which consisted of 5 questions which had to be answered with a SWL score on a scale of 1-5, 1 being Strongly disagree and 5 being Strongly Agree."
   ]
  },
  {
   "cell_type": "code",
   "execution_count": 18,
   "metadata": {},
   "outputs": [
    {
     "name": "stdout",
     "output_type": "stream",
     "text": [
      "Based on online gaming data\n",
      "Highest average anxiety: QAT - 16.333333333333332\n",
      "Lowest average anxiety: FJI - 0.0 \n"
     ]
    }
   ],
   "source": [
    "# Step 1: Calculate total GAD score per participant\n",
    "gaming_dat['GAD_total'] = gaming_dat[['GAD1', 'GAD2', 'GAD3', 'GAD4', 'GAD5', 'GAD6', 'GAD7']].sum(axis=1)\n",
    "\n",
    "# Step 2: Group by country and calculate average GAD score\n",
    "country_anxiety = gaming_dat.groupby('Residence_ISO3')['GAD_total'].mean()\n",
    "\n",
    "# Step 3: Sort countries by average GAD score\n",
    "country_anxiety_sorted = country_anxiety.sort_values(ascending=False).reset_index()\n",
    "\n",
    "print(f\"Based on online gaming data\")\n",
    "print(f\"Highest average anxiety: {country_anxiety_sorted.iloc[0,0]} - {country_anxiety_sorted.iloc[0,1]}\")\n",
    "print(f\"Lowest average anxiety: {country_anxiety_sorted.iloc[-1,0]} - {country_anxiety_sorted.iloc[-1,1]} \")"
   ]
  },
  {
   "cell_type": "markdown",
   "metadata": {},
   "source": [
    "Conclusion: Online gamers from Qatar have the highest anxiety levels and gamers from Fiji have the lowest anxiety levels.\n",
    "\n",
    "But how about the satisfaction with life? Let's implement the same averaging approach but with SWL scores instead."
   ]
  },
  {
   "cell_type": "code",
   "execution_count": 19,
   "metadata": {},
   "outputs": [
    {
     "name": "stdout",
     "output_type": "stream",
     "text": [
      "Highest SWL average: NAM - 35.0\n",
      "Highest SWL average: IDN - 8.0\n",
      "Qatar SWL: 19.666666666666668\n",
      "Fiji SWL: 12.0\n"
     ]
    }
   ],
   "source": [
    "gaming_dat['SWL_total'] = gaming_dat[['SWL1', 'SWL2', 'SWL5', 'SWL4', 'SWL5']].sum(axis=1)\n",
    "country_swl = gaming_dat.groupby('Residence_ISO3')['SWL_total'].mean()\n",
    "country_swl_sorted = country_swl.sort_values(ascending=False).reset_index().rename(columns={\"SWL_total\": \"SWL_avg\"})\n",
    "\n",
    "print(f\"Highest SWL average: {country_swl_sorted.iloc[0,0]} - {country_swl_sorted.iloc[0,1]}\")\n",
    "print(f\"Highest SWL average: {country_swl_sorted.iloc[-1,0]} - {country_swl_sorted.iloc[-1,1]}\")\n",
    "\n",
    "print(f\"Qatar SWL: {country_swl_sorted.loc[country_swl_sorted['Residence_ISO3'] == 'QAT', 'SWL_avg'].values[0]}\")\n",
    "print(f\"Fiji SWL: {country_swl_sorted.loc[country_swl_sorted['Residence_ISO3'] == 'FJI', 'SWL_avg'].values[0]}\")"
   ]
  },
  {
   "cell_type": "markdown",
   "metadata": {},
   "source": [
    "Findings: Namibia has the highest SWL avg, whereas Indonesia has the least SWL average. Even though gamers in Qatar have the highest anxiety disorder, they have a moderate satisfaction with life."
   ]
  },
  {
   "cell_type": "markdown",
   "metadata": {},
   "source": [
    "### Hypothesis 2\n",
    "#### Which age group suffers from the most anxiety?"
   ]
  },
  {
   "cell_type": "code",
   "execution_count": 20,
   "metadata": {},
   "outputs": [],
   "source": [
    "# Mapping the GAD statement to the corresponding column names in the dataset\n",
    "gad_statements = {\n",
    "    'GAD1': 'Feeling nervous, anxious, or on edge',\n",
    "    'GAD2': 'Not being able to stop or control worrying',\n",
    "    'GAD3': 'Worrying too much about different things',\n",
    "    'GAD4': 'Trouble relaxing',\n",
    "    'GAD5': 'Being so restless that it`s hard to sit still',\n",
    "    'GAD6': 'Becoming easily annoyed or irritable',\n",
    "    'GAD7': 'Feeling afraid as if something awful might happen'\n",
    "}\n",
    "\n",
    "statement_columns = list(gad_statements.keys())\n",
    "statement_labels = list(gad_statements.values())"
   ]
  },
  {
   "cell_type": "code",
   "execution_count": 21,
   "metadata": {},
   "outputs": [],
   "source": [
    "gaming_dat_copy = gaming_dat.copy()\n",
    "\n",
    "# Creating bins for age\n",
    "age_bins = [18, 20, 25, 30, 100]\n",
    "age_labels = ['18-20', '20-25', '25-30', '30+']\n",
    "gaming_dat_copy['AgeBin'] = pd.cut(gaming_dat_copy.Age, age_bins, labels=age_labels)\n",
    "\n",
    "# Creating bins for hours played per week\n",
    "hour_bins = [0, 20, 40, 60, 80, 120]\n",
    "hour_labels = ['0-20', '20-40', '40-60', '60-80', '80+']\n",
    "gaming_dat_copy['HoursBin'] = pd.cut(gaming_dat_copy.Hours, hour_bins, labels=hour_labels)\n",
    "\n",
    "# Prepare data for radar charts\n",
    "radar_data = gaming_dat_copy.groupby(['AgeBin', 'HoursBin'])[statement_columns].mean().reset_index()"
   ]
  },
  {
   "cell_type": "code",
   "execution_count": 23,
   "metadata": {},
   "outputs": [
    {
     "data": {
      "application/vnd.plotly.v1+json": {
       "config": {
        "plotlyServerURL": "https://plot.ly"
       },
       "data": [
        {
         "fill": "toself",
         "name": "18-20 | 0-20",
         "r": [
          0.8368026644462948,
          0.6552872606161532,
          0.9729392173189009,
          0.6840133222314738,
          0.48501248959200666,
          0.8322231473771857,
          0.5599500416319734
         ],
         "subplot": "polar",
         "theta": [
          "Feeling nervous, anxious, or on edge",
          "Not being able to stop or control worrying",
          "Worrying too much about different things",
          "Trouble relaxing",
          "Being so restless that it`s hard to sit still",
          "Becoming easily annoyed or irritable",
          "Feeling afraid as if something awful might happen"
         ],
         "type": "scatterpolar"
        },
        {
         "fill": "toself",
         "name": "18-20 | 20-40",
         "r": [
          0.8488924050632911,
          0.6653481012658228,
          0.9572784810126582,
          0.6819620253164557,
          0.48813291139240506,
          0.9667721518987342,
          0.6099683544303798
         ],
         "subplot": "polar",
         "theta": [
          "Feeling nervous, anxious, or on edge",
          "Not being able to stop or control worrying",
          "Worrying too much about different things",
          "Trouble relaxing",
          "Being so restless that it`s hard to sit still",
          "Becoming easily annoyed or irritable",
          "Feeling afraid as if something awful might happen"
         ],
         "type": "scatterpolar"
        },
        {
         "fill": "toself",
         "name": "18-20 | 40-60",
         "r": [
          0.952191235059761,
          0.8247011952191236,
          1.151394422310757,
          0.8406374501992032,
          0.6454183266932271,
          1.2151394422310757,
          0.6892430278884463
         ],
         "subplot": "polar",
         "theta": [
          "Feeling nervous, anxious, or on edge",
          "Not being able to stop or control worrying",
          "Worrying too much about different things",
          "Trouble relaxing",
          "Being so restless that it`s hard to sit still",
          "Becoming easily annoyed or irritable",
          "Feeling afraid as if something awful might happen"
         ],
         "type": "scatterpolar"
        },
        {
         "fill": "toself",
         "name": "18-20 | 60-80",
         "r": [
          1.015625,
          0.734375,
          1.015625,
          0.9375,
          0.71875,
          1.140625,
          0.875
         ],
         "subplot": "polar",
         "theta": [
          "Feeling nervous, anxious, or on edge",
          "Not being able to stop or control worrying",
          "Worrying too much about different things",
          "Trouble relaxing",
          "Being so restless that it`s hard to sit still",
          "Becoming easily annoyed or irritable",
          "Feeling afraid as if something awful might happen"
         ],
         "type": "scatterpolar"
        },
        {
         "fill": "toself",
         "name": "18-20 | 80+",
         "r": [
          1.1666666666666667,
          0.7777777777777778,
          1.1111111111111112,
          0.7777777777777778,
          0.7222222222222222,
          1.5555555555555556,
          0.8333333333333334
         ],
         "subplot": "polar",
         "theta": [
          "Feeling nervous, anxious, or on edge",
          "Not being able to stop or control worrying",
          "Worrying too much about different things",
          "Trouble relaxing",
          "Being so restless that it`s hard to sit still",
          "Becoming easily annoyed or irritable",
          "Feeling afraid as if something awful might happen"
         ],
         "type": "scatterpolar"
        },
        {
         "fill": "toself",
         "name": "20-25 | 0-20",
         "r": [
          0.8416334661354582,
          0.6533864541832669,
          0.9259628154050464,
          0.7214475431606906,
          0.4598273572377158,
          0.7908366533864541,
          0.5348605577689243
         ],
         "subplot": "polar2",
         "theta": [
          "Feeling nervous, anxious, or on edge",
          "Not being able to stop or control worrying",
          "Worrying too much about different things",
          "Trouble relaxing",
          "Being so restless that it`s hard to sit still",
          "Becoming easily annoyed or irritable",
          "Feeling afraid as if something awful might happen"
         ],
         "type": "scatterpolar"
        },
        {
         "fill": "toself",
         "name": "20-25 | 20-40",
         "r": [
          0.9320113314447592,
          0.7103399433427762,
          1.001416430594901,
          0.7946175637393768,
          0.4985835694050991,
          0.9674220963172805,
          0.6203966005665722
         ],
         "subplot": "polar2",
         "theta": [
          "Feeling nervous, anxious, or on edge",
          "Not being able to stop or control worrying",
          "Worrying too much about different things",
          "Trouble relaxing",
          "Being so restless that it`s hard to sit still",
          "Becoming easily annoyed or irritable",
          "Feeling afraid as if something awful might happen"
         ],
         "type": "scatterpolar"
        },
        {
         "fill": "toself",
         "name": "20-25 | 40-60",
         "r": [
          1.0693069306930694,
          0.9702970297029703,
          1.1435643564356435,
          0.8712871287128713,
          0.5,
          1.108910891089109,
          0.7524752475247525
         ],
         "subplot": "polar2",
         "theta": [
          "Feeling nervous, anxious, or on edge",
          "Not being able to stop or control worrying",
          "Worrying too much about different things",
          "Trouble relaxing",
          "Being so restless that it`s hard to sit still",
          "Becoming easily annoyed or irritable",
          "Feeling afraid as if something awful might happen"
         ],
         "type": "scatterpolar"
        },
        {
         "fill": "toself",
         "name": "20-25 | 60-80",
         "r": [
          1.0476190476190477,
          1.0714285714285714,
          1.2142857142857142,
          1.119047619047619,
          0.6904761904761905,
          1.3571428571428572,
          1
         ],
         "subplot": "polar2",
         "theta": [
          "Feeling nervous, anxious, or on edge",
          "Not being able to stop or control worrying",
          "Worrying too much about different things",
          "Trouble relaxing",
          "Being so restless that it`s hard to sit still",
          "Becoming easily annoyed or irritable",
          "Feeling afraid as if something awful might happen"
         ],
         "type": "scatterpolar"
        },
        {
         "fill": "toself",
         "name": "20-25 | 80+",
         "r": [
          0.6666666666666666,
          0.8888888888888888,
          1,
          1.2222222222222223,
          1.2222222222222223,
          1.7777777777777777,
          0.6666666666666666
         ],
         "subplot": "polar2",
         "theta": [
          "Feeling nervous, anxious, or on edge",
          "Not being able to stop or control worrying",
          "Worrying too much about different things",
          "Trouble relaxing",
          "Being so restless that it`s hard to sit still",
          "Becoming easily annoyed or irritable",
          "Feeling afraid as if something awful might happen"
         ],
         "type": "scatterpolar"
        },
        {
         "fill": "toself",
         "name": "25-30 | 0-20",
         "r": [
          0.7777777777777778,
          0.573820395738204,
          0.7808219178082192,
          0.6636225266362252,
          0.3789954337899543,
          0.7549467275494672,
          0.4383561643835616
         ],
         "subplot": "polar3",
         "theta": [
          "Feeling nervous, anxious, or on edge",
          "Not being able to stop or control worrying",
          "Worrying too much about different things",
          "Trouble relaxing",
          "Being so restless that it`s hard to sit still",
          "Becoming easily annoyed or irritable",
          "Feeling afraid as if something awful might happen"
         ],
         "type": "scatterpolar"
        },
        {
         "fill": "toself",
         "name": "25-30 | 20-40",
         "r": [
          0.9313304721030042,
          0.6223175965665236,
          0.8927038626609443,
          0.776824034334764,
          0.44206008583690987,
          0.9098712446351931,
          0.6094420600858369
         ],
         "subplot": "polar3",
         "theta": [
          "Feeling nervous, anxious, or on edge",
          "Not being able to stop or control worrying",
          "Worrying too much about different things",
          "Trouble relaxing",
          "Being so restless that it`s hard to sit still",
          "Becoming easily annoyed or irritable",
          "Feeling afraid as if something awful might happen"
         ],
         "type": "scatterpolar"
        },
        {
         "fill": "toself",
         "name": "25-30 | 40-60",
         "r": [
          1.2,
          0.9,
          1.1666666666666667,
          0.9,
          0.8666666666666667,
          1.2,
          0.8666666666666667
         ],
         "subplot": "polar3",
         "theta": [
          "Feeling nervous, anxious, or on edge",
          "Not being able to stop or control worrying",
          "Worrying too much about different things",
          "Trouble relaxing",
          "Being so restless that it`s hard to sit still",
          "Becoming easily annoyed or irritable",
          "Feeling afraid as if something awful might happen"
         ],
         "type": "scatterpolar"
        },
        {
         "fill": "toself",
         "name": "25-30 | 60-80",
         "r": [
          1.2857142857142858,
          1.1428571428571428,
          1.1428571428571428,
          1.2857142857142858,
          1.2857142857142858,
          1.5714285714285714,
          1
         ],
         "subplot": "polar3",
         "theta": [
          "Feeling nervous, anxious, or on edge",
          "Not being able to stop or control worrying",
          "Worrying too much about different things",
          "Trouble relaxing",
          "Being so restless that it`s hard to sit still",
          "Becoming easily annoyed or irritable",
          "Feeling afraid as if something awful might happen"
         ],
         "type": "scatterpolar"
        },
        {
         "fill": "toself",
         "name": "25-30 | 80+",
         "r": [
          2,
          2,
          2,
          2,
          3,
          1,
          1
         ],
         "subplot": "polar3",
         "theta": [
          "Feeling nervous, anxious, or on edge",
          "Not being able to stop or control worrying",
          "Worrying too much about different things",
          "Trouble relaxing",
          "Being so restless that it`s hard to sit still",
          "Becoming easily annoyed or irritable",
          "Feeling afraid as if something awful might happen"
         ],
         "type": "scatterpolar"
        },
        {
         "fill": "toself",
         "name": "30+ | 0-20",
         "r": [
          0.7640449438202247,
          0.48314606741573035,
          0.6460674157303371,
          0.6910112359550562,
          0.4044943820224719,
          0.8876404494382022,
          0.3651685393258427
         ],
         "subplot": "polar4",
         "theta": [
          "Feeling nervous, anxious, or on edge",
          "Not being able to stop or control worrying",
          "Worrying too much about different things",
          "Trouble relaxing",
          "Being so restless that it`s hard to sit still",
          "Becoming easily annoyed or irritable",
          "Feeling afraid as if something awful might happen"
         ],
         "type": "scatterpolar"
        },
        {
         "fill": "toself",
         "name": "30+ | 20-40",
         "r": [
          0.6078431372549019,
          0.5294117647058824,
          0.7254901960784313,
          0.7254901960784313,
          0.37254901960784315,
          0.8235294117647058,
          0.47058823529411764
         ],
         "subplot": "polar4",
         "theta": [
          "Feeling nervous, anxious, or on edge",
          "Not being able to stop or control worrying",
          "Worrying too much about different things",
          "Trouble relaxing",
          "Being so restless that it`s hard to sit still",
          "Becoming easily annoyed or irritable",
          "Feeling afraid as if something awful might happen"
         ],
         "type": "scatterpolar"
        },
        {
         "fill": "toself",
         "name": "30+ | 40-60",
         "r": [
          0.5,
          1.5,
          1.3333333333333333,
          1.1666666666666667,
          0.8333333333333334,
          0.8333333333333334,
          0.6666666666666666
         ],
         "subplot": "polar4",
         "theta": [
          "Feeling nervous, anxious, or on edge",
          "Not being able to stop or control worrying",
          "Worrying too much about different things",
          "Trouble relaxing",
          "Being so restless that it`s hard to sit still",
          "Becoming easily annoyed or irritable",
          "Feeling afraid as if something awful might happen"
         ],
         "type": "scatterpolar"
        },
        {
         "fill": "toself",
         "name": "30+ | 60-80",
         "r": [
          null,
          null,
          null,
          null,
          null,
          null,
          null
         ],
         "subplot": "polar4",
         "theta": [
          "Feeling nervous, anxious, or on edge",
          "Not being able to stop or control worrying",
          "Worrying too much about different things",
          "Trouble relaxing",
          "Being so restless that it`s hard to sit still",
          "Becoming easily annoyed or irritable",
          "Feeling afraid as if something awful might happen"
         ],
         "type": "scatterpolar"
        },
        {
         "fill": "toself",
         "name": "30+ | 80+",
         "r": [
          1,
          1,
          1,
          1,
          1,
          1,
          1
         ],
         "subplot": "polar4",
         "theta": [
          "Feeling nervous, anxious, or on edge",
          "Not being able to stop or control worrying",
          "Worrying too much about different things",
          "Trouble relaxing",
          "Being so restless that it`s hard to sit still",
          "Becoming easily annoyed or irritable",
          "Feeling afraid as if something awful might happen"
         ],
         "type": "scatterpolar"
        }
       ],
       "layout": {
        "annotations": [
         {
          "font": {
           "size": 16
          },
          "showarrow": false,
          "text": "18-20",
          "x": 0.5,
          "xanchor": "center",
          "xref": "paper",
          "y": 1,
          "yanchor": "bottom",
          "yref": "paper"
         },
         {
          "font": {
           "size": 16
          },
          "showarrow": false,
          "text": "20-25",
          "x": 0.5,
          "xanchor": "center",
          "xref": "paper",
          "y": 0.71875,
          "yanchor": "bottom",
          "yref": "paper"
         },
         {
          "font": {
           "size": 16
          },
          "showarrow": false,
          "text": "25-30",
          "x": 0.5,
          "xanchor": "center",
          "xref": "paper",
          "y": 0.4375,
          "yanchor": "bottom",
          "yref": "paper"
         },
         {
          "font": {
           "size": 16
          },
          "showarrow": false,
          "text": "30+",
          "x": 0.5,
          "xanchor": "center",
          "xref": "paper",
          "y": 0.15625,
          "yanchor": "bottom",
          "yref": "paper"
         }
        ],
        "height": 2000,
        "polar": {
         "domain": {
          "x": [
           0,
           1
          ],
          "y": [
           0.84375,
           1
          ]
         },
         "radialaxis": {
          "showticklabels": false,
          "visible": true
         }
        },
        "polar2": {
         "domain": {
          "x": [
           0,
           1
          ],
          "y": [
           0.5625,
           0.71875
          ]
         }
        },
        "polar3": {
         "domain": {
          "x": [
           0,
           1
          ],
          "y": [
           0.28125,
           0.4375
          ]
         }
        },
        "polar4": {
         "domain": {
          "x": [
           0,
           1
          ],
          "y": [
           0,
           0.15625
          ]
         }
        },
        "showlegend": true,
        "template": {
         "data": {
          "bar": [
           {
            "error_x": {
             "color": "#2a3f5f"
            },
            "error_y": {
             "color": "#2a3f5f"
            },
            "marker": {
             "line": {
              "color": "#E5ECF6",
              "width": 0.5
             },
             "pattern": {
              "fillmode": "overlay",
              "size": 10,
              "solidity": 0.2
             }
            },
            "type": "bar"
           }
          ],
          "barpolar": [
           {
            "marker": {
             "line": {
              "color": "#E5ECF6",
              "width": 0.5
             },
             "pattern": {
              "fillmode": "overlay",
              "size": 10,
              "solidity": 0.2
             }
            },
            "type": "barpolar"
           }
          ],
          "carpet": [
           {
            "aaxis": {
             "endlinecolor": "#2a3f5f",
             "gridcolor": "white",
             "linecolor": "white",
             "minorgridcolor": "white",
             "startlinecolor": "#2a3f5f"
            },
            "baxis": {
             "endlinecolor": "#2a3f5f",
             "gridcolor": "white",
             "linecolor": "white",
             "minorgridcolor": "white",
             "startlinecolor": "#2a3f5f"
            },
            "type": "carpet"
           }
          ],
          "choropleth": [
           {
            "colorbar": {
             "outlinewidth": 0,
             "ticks": ""
            },
            "type": "choropleth"
           }
          ],
          "contour": [
           {
            "colorbar": {
             "outlinewidth": 0,
             "ticks": ""
            },
            "colorscale": [
             [
              0,
              "#0d0887"
             ],
             [
              0.1111111111111111,
              "#46039f"
             ],
             [
              0.2222222222222222,
              "#7201a8"
             ],
             [
              0.3333333333333333,
              "#9c179e"
             ],
             [
              0.4444444444444444,
              "#bd3786"
             ],
             [
              0.5555555555555556,
              "#d8576b"
             ],
             [
              0.6666666666666666,
              "#ed7953"
             ],
             [
              0.7777777777777778,
              "#fb9f3a"
             ],
             [
              0.8888888888888888,
              "#fdca26"
             ],
             [
              1,
              "#f0f921"
             ]
            ],
            "type": "contour"
           }
          ],
          "contourcarpet": [
           {
            "colorbar": {
             "outlinewidth": 0,
             "ticks": ""
            },
            "type": "contourcarpet"
           }
          ],
          "heatmap": [
           {
            "colorbar": {
             "outlinewidth": 0,
             "ticks": ""
            },
            "colorscale": [
             [
              0,
              "#0d0887"
             ],
             [
              0.1111111111111111,
              "#46039f"
             ],
             [
              0.2222222222222222,
              "#7201a8"
             ],
             [
              0.3333333333333333,
              "#9c179e"
             ],
             [
              0.4444444444444444,
              "#bd3786"
             ],
             [
              0.5555555555555556,
              "#d8576b"
             ],
             [
              0.6666666666666666,
              "#ed7953"
             ],
             [
              0.7777777777777778,
              "#fb9f3a"
             ],
             [
              0.8888888888888888,
              "#fdca26"
             ],
             [
              1,
              "#f0f921"
             ]
            ],
            "type": "heatmap"
           }
          ],
          "heatmapgl": [
           {
            "colorbar": {
             "outlinewidth": 0,
             "ticks": ""
            },
            "colorscale": [
             [
              0,
              "#0d0887"
             ],
             [
              0.1111111111111111,
              "#46039f"
             ],
             [
              0.2222222222222222,
              "#7201a8"
             ],
             [
              0.3333333333333333,
              "#9c179e"
             ],
             [
              0.4444444444444444,
              "#bd3786"
             ],
             [
              0.5555555555555556,
              "#d8576b"
             ],
             [
              0.6666666666666666,
              "#ed7953"
             ],
             [
              0.7777777777777778,
              "#fb9f3a"
             ],
             [
              0.8888888888888888,
              "#fdca26"
             ],
             [
              1,
              "#f0f921"
             ]
            ],
            "type": "heatmapgl"
           }
          ],
          "histogram": [
           {
            "marker": {
             "pattern": {
              "fillmode": "overlay",
              "size": 10,
              "solidity": 0.2
             }
            },
            "type": "histogram"
           }
          ],
          "histogram2d": [
           {
            "colorbar": {
             "outlinewidth": 0,
             "ticks": ""
            },
            "colorscale": [
             [
              0,
              "#0d0887"
             ],
             [
              0.1111111111111111,
              "#46039f"
             ],
             [
              0.2222222222222222,
              "#7201a8"
             ],
             [
              0.3333333333333333,
              "#9c179e"
             ],
             [
              0.4444444444444444,
              "#bd3786"
             ],
             [
              0.5555555555555556,
              "#d8576b"
             ],
             [
              0.6666666666666666,
              "#ed7953"
             ],
             [
              0.7777777777777778,
              "#fb9f3a"
             ],
             [
              0.8888888888888888,
              "#fdca26"
             ],
             [
              1,
              "#f0f921"
             ]
            ],
            "type": "histogram2d"
           }
          ],
          "histogram2dcontour": [
           {
            "colorbar": {
             "outlinewidth": 0,
             "ticks": ""
            },
            "colorscale": [
             [
              0,
              "#0d0887"
             ],
             [
              0.1111111111111111,
              "#46039f"
             ],
             [
              0.2222222222222222,
              "#7201a8"
             ],
             [
              0.3333333333333333,
              "#9c179e"
             ],
             [
              0.4444444444444444,
              "#bd3786"
             ],
             [
              0.5555555555555556,
              "#d8576b"
             ],
             [
              0.6666666666666666,
              "#ed7953"
             ],
             [
              0.7777777777777778,
              "#fb9f3a"
             ],
             [
              0.8888888888888888,
              "#fdca26"
             ],
             [
              1,
              "#f0f921"
             ]
            ],
            "type": "histogram2dcontour"
           }
          ],
          "mesh3d": [
           {
            "colorbar": {
             "outlinewidth": 0,
             "ticks": ""
            },
            "type": "mesh3d"
           }
          ],
          "parcoords": [
           {
            "line": {
             "colorbar": {
              "outlinewidth": 0,
              "ticks": ""
             }
            },
            "type": "parcoords"
           }
          ],
          "pie": [
           {
            "automargin": true,
            "type": "pie"
           }
          ],
          "scatter": [
           {
            "fillpattern": {
             "fillmode": "overlay",
             "size": 10,
             "solidity": 0.2
            },
            "type": "scatter"
           }
          ],
          "scatter3d": [
           {
            "line": {
             "colorbar": {
              "outlinewidth": 0,
              "ticks": ""
             }
            },
            "marker": {
             "colorbar": {
              "outlinewidth": 0,
              "ticks": ""
             }
            },
            "type": "scatter3d"
           }
          ],
          "scattercarpet": [
           {
            "marker": {
             "colorbar": {
              "outlinewidth": 0,
              "ticks": ""
             }
            },
            "type": "scattercarpet"
           }
          ],
          "scattergeo": [
           {
            "marker": {
             "colorbar": {
              "outlinewidth": 0,
              "ticks": ""
             }
            },
            "type": "scattergeo"
           }
          ],
          "scattergl": [
           {
            "marker": {
             "colorbar": {
              "outlinewidth": 0,
              "ticks": ""
             }
            },
            "type": "scattergl"
           }
          ],
          "scattermapbox": [
           {
            "marker": {
             "colorbar": {
              "outlinewidth": 0,
              "ticks": ""
             }
            },
            "type": "scattermapbox"
           }
          ],
          "scatterpolar": [
           {
            "marker": {
             "colorbar": {
              "outlinewidth": 0,
              "ticks": ""
             }
            },
            "type": "scatterpolar"
           }
          ],
          "scatterpolargl": [
           {
            "marker": {
             "colorbar": {
              "outlinewidth": 0,
              "ticks": ""
             }
            },
            "type": "scatterpolargl"
           }
          ],
          "scatterternary": [
           {
            "marker": {
             "colorbar": {
              "outlinewidth": 0,
              "ticks": ""
             }
            },
            "type": "scatterternary"
           }
          ],
          "surface": [
           {
            "colorbar": {
             "outlinewidth": 0,
             "ticks": ""
            },
            "colorscale": [
             [
              0,
              "#0d0887"
             ],
             [
              0.1111111111111111,
              "#46039f"
             ],
             [
              0.2222222222222222,
              "#7201a8"
             ],
             [
              0.3333333333333333,
              "#9c179e"
             ],
             [
              0.4444444444444444,
              "#bd3786"
             ],
             [
              0.5555555555555556,
              "#d8576b"
             ],
             [
              0.6666666666666666,
              "#ed7953"
             ],
             [
              0.7777777777777778,
              "#fb9f3a"
             ],
             [
              0.8888888888888888,
              "#fdca26"
             ],
             [
              1,
              "#f0f921"
             ]
            ],
            "type": "surface"
           }
          ],
          "table": [
           {
            "cells": {
             "fill": {
              "color": "#EBF0F8"
             },
             "line": {
              "color": "white"
             }
            },
            "header": {
             "fill": {
              "color": "#C8D4E3"
             },
             "line": {
              "color": "white"
             }
            },
            "type": "table"
           }
          ]
         },
         "layout": {
          "annotationdefaults": {
           "arrowcolor": "#2a3f5f",
           "arrowhead": 0,
           "arrowwidth": 1
          },
          "autotypenumbers": "strict",
          "coloraxis": {
           "colorbar": {
            "outlinewidth": 0,
            "ticks": ""
           }
          },
          "colorscale": {
           "diverging": [
            [
             0,
             "#8e0152"
            ],
            [
             0.1,
             "#c51b7d"
            ],
            [
             0.2,
             "#de77ae"
            ],
            [
             0.3,
             "#f1b6da"
            ],
            [
             0.4,
             "#fde0ef"
            ],
            [
             0.5,
             "#f7f7f7"
            ],
            [
             0.6,
             "#e6f5d0"
            ],
            [
             0.7,
             "#b8e186"
            ],
            [
             0.8,
             "#7fbc41"
            ],
            [
             0.9,
             "#4d9221"
            ],
            [
             1,
             "#276419"
            ]
           ],
           "sequential": [
            [
             0,
             "#0d0887"
            ],
            [
             0.1111111111111111,
             "#46039f"
            ],
            [
             0.2222222222222222,
             "#7201a8"
            ],
            [
             0.3333333333333333,
             "#9c179e"
            ],
            [
             0.4444444444444444,
             "#bd3786"
            ],
            [
             0.5555555555555556,
             "#d8576b"
            ],
            [
             0.6666666666666666,
             "#ed7953"
            ],
            [
             0.7777777777777778,
             "#fb9f3a"
            ],
            [
             0.8888888888888888,
             "#fdca26"
            ],
            [
             1,
             "#f0f921"
            ]
           ],
           "sequentialminus": [
            [
             0,
             "#0d0887"
            ],
            [
             0.1111111111111111,
             "#46039f"
            ],
            [
             0.2222222222222222,
             "#7201a8"
            ],
            [
             0.3333333333333333,
             "#9c179e"
            ],
            [
             0.4444444444444444,
             "#bd3786"
            ],
            [
             0.5555555555555556,
             "#d8576b"
            ],
            [
             0.6666666666666666,
             "#ed7953"
            ],
            [
             0.7777777777777778,
             "#fb9f3a"
            ],
            [
             0.8888888888888888,
             "#fdca26"
            ],
            [
             1,
             "#f0f921"
            ]
           ]
          },
          "colorway": [
           "#636efa",
           "#EF553B",
           "#00cc96",
           "#ab63fa",
           "#FFA15A",
           "#19d3f3",
           "#FF6692",
           "#B6E880",
           "#FF97FF",
           "#FECB52"
          ],
          "font": {
           "color": "#2a3f5f"
          },
          "geo": {
           "bgcolor": "white",
           "lakecolor": "white",
           "landcolor": "#E5ECF6",
           "showlakes": true,
           "showland": true,
           "subunitcolor": "white"
          },
          "hoverlabel": {
           "align": "left"
          },
          "hovermode": "closest",
          "mapbox": {
           "style": "light"
          },
          "paper_bgcolor": "white",
          "plot_bgcolor": "#E5ECF6",
          "polar": {
           "angularaxis": {
            "gridcolor": "white",
            "linecolor": "white",
            "ticks": ""
           },
           "bgcolor": "#E5ECF6",
           "radialaxis": {
            "gridcolor": "white",
            "linecolor": "white",
            "ticks": ""
           }
          },
          "scene": {
           "xaxis": {
            "backgroundcolor": "#E5ECF6",
            "gridcolor": "white",
            "gridwidth": 2,
            "linecolor": "white",
            "showbackground": true,
            "ticks": "",
            "zerolinecolor": "white"
           },
           "yaxis": {
            "backgroundcolor": "#E5ECF6",
            "gridcolor": "white",
            "gridwidth": 2,
            "linecolor": "white",
            "showbackground": true,
            "ticks": "",
            "zerolinecolor": "white"
           },
           "zaxis": {
            "backgroundcolor": "#E5ECF6",
            "gridcolor": "white",
            "gridwidth": 2,
            "linecolor": "white",
            "showbackground": true,
            "ticks": "",
            "zerolinecolor": "white"
           }
          },
          "shapedefaults": {
           "line": {
            "color": "#2a3f5f"
           }
          },
          "ternary": {
           "aaxis": {
            "gridcolor": "white",
            "linecolor": "white",
            "ticks": ""
           },
           "baxis": {
            "gridcolor": "white",
            "linecolor": "white",
            "ticks": ""
           },
           "bgcolor": "#E5ECF6",
           "caxis": {
            "gridcolor": "white",
            "linecolor": "white",
            "ticks": ""
           }
          },
          "title": {
           "x": 0.05
          },
          "xaxis": {
           "automargin": true,
           "gridcolor": "white",
           "linecolor": "white",
           "ticks": "",
           "title": {
            "standoff": 15
           },
           "zerolinecolor": "white",
           "zerolinewidth": 2
          },
          "yaxis": {
           "automargin": true,
           "gridcolor": "white",
           "linecolor": "white",
           "ticks": "",
           "title": {
            "standoff": 15
           },
           "zerolinecolor": "white",
           "zerolinewidth": 2
          }
         }
        },
        "title": {
         "text": "Radar Chart for Psychological Well-being by Age and Hours Played"
        },
        "width": 1000
       }
      }
     },
     "metadata": {},
     "output_type": "display_data"
    }
   ],
   "source": [
    "# Create subplots for each age zone\n",
    "fig = make_subplots(rows=len(age_labels), cols=1,\n",
    "                    subplot_titles=age_labels,\n",
    "                    specs=[[{'type': 'polar'}] for _ in age_labels])\n",
    "\n",
    "# Iterate over each age zone and add radar plot\n",
    "for idx, age_zone in enumerate(age_labels):\n",
    "    age_data = radar_data[radar_data['AgeBin'] == age_zone]\n",
    "    for _, row in age_data.iterrows():\n",
    "        fig.add_trace(go.Scatterpolar(\n",
    "            r=row[statement_columns].values,\n",
    "            theta=statement_labels,\n",
    "            fill='toself',\n",
    "            name=f\"{row['AgeBin']} | {row['HoursBin']}\"\n",
    "        ), row=idx+1, col=1)\n",
    "\n",
    "fig.update_layout(\n",
    "    polar=dict(\n",
    "        radialaxis=dict(visible=True, showticklabels=False)\n",
    "    ),\n",
    "    showlegend=True,\n",
    "    title=\"Radar Chart for Psychological Well-being by Age and Hours Played\",\n",
    "    height=2000,\n",
    "    width=1000\n",
    ")\n",
    "\n",
    "fig.show()\n",
    "\n"
   ]
  },
  {
   "cell_type": "markdown",
   "metadata": {},
   "source": [
    "**NOTE: Plotly output may not be visible directly on GitHub, view output in attached PDF or clone the repository in VSCode**"
   ]
  },
  {
   "cell_type": "markdown",
   "metadata": {},
   "source": [
    "**Conclusion** \\\n",
    "From the radar charts, it can be seen that young gamers from the age group 18-25 suffer from more anxiety in all areas.\n",
    "\n",
    "Age group 18-20 & 21-25 is mostly easily annoyed or irritated (GAD-6) \\\n",
    "Age group 25-30 is mostly restless and find it hard to sit still (GAD-5) \\\n",
    "Ages 30+ are mostly not able to stop or control worrying (GAD-2)"
   ]
  }
 ],
 "metadata": {
  "kernelspec": {
   "display_name": "base",
   "language": "python",
   "name": "python3"
  },
  "language_info": {
   "codemirror_mode": {
    "name": "ipython",
    "version": 3
   },
   "file_extension": ".py",
   "mimetype": "text/x-python",
   "name": "python",
   "nbconvert_exporter": "python",
   "pygments_lexer": "ipython3",
   "version": "3.12.4"
  }
 },
 "nbformat": 4,
 "nbformat_minor": 2
}
