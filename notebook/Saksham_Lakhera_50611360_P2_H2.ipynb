{
 "cells": [
  {
   "cell_type": "code",
   "execution_count": null,
   "metadata": {},
   "outputs": [],
   "source": [
    "# this is Saksham's file for ML models\n",
    "import pandas as pd\n",
    "import os\n",
    "from typing import List, Optional, Dict\n",
    "import gc\n",
    "import matplotlib.pyplot as plt\n",
    "import warnings\n",
    "import numpy as np\n",
    "from sklearn.model_selection import train_test_split\n",
    "from sklearn.tree import DecisionTreeClassifier\n",
    "from sklearn.metrics import classification_report, accuracy_score, confusion_matrix\n",
    "import seaborn as sns\n",
    "import matplotlib.pyplot as plt\n",
    "from sklearn.linear_model import LogisticRegression\n",
    "from sklearn.metrics import classification_report, accuracy_score, confusion_matrix\n",
    "import seaborn as sns\n",
    "import matplotlib.pyplot as plt\n",
    "\n",
    "warnings.filterwarnings(\"ignore\")\n",
    "\n",
    "def read_parquet(input_dir: str, years: Optional[List[int]] = None) -> Dict[int, pd.DataFrame]:\n",
    "    \"\"\"\n",
    "    Reads Parquet files for specified years from the input directory.\n",
    "\n",
    "    Args:\n",
    "        input_dir (str): The directory where Parquet files are stored.\n",
    "        years (Optional[List[int]]): A list of years to read. If None, read all available years.\n",
    "\n",
    "    Returns:\n",
    "        Dict[int, pd.DataFrame]: A dictionary with years as keys and pandas DataFrames as values.\n",
    "    \"\"\"\n",
    "    data_frames = {}\n",
    "    available_years = [int(d.split('=')[1]) for d in os.listdir(input_dir) if d.startswith('year=')]\n",
    "    years_to_read = years if years is not None else available_years\n",
    "\n",
    "    for year in years_to_read:\n",
    "        year_path = os.path.join(input_dir, f'year={year}')\n",
    "        if os.path.exists(year_path):\n",
    "            df = pd.read_parquet(year_path)\n",
    "            data_frames[year] = df\n",
    "        else:\n",
    "            print(f\"Warning: No data found for year {year}\")\n",
    "\n",
    "    return data_frames\n",
    "\n",
    "\n",
    "\n",
    "if __name__ == \"__main__\":\n",
    "    years = [2015, 2016, 2017, 2018, 2019] \n",
    "    output_directory = \"../data/DS/NSDUH\"\n",
    "    \n",
    "    # Fetch and save dat\n",
    "    # Initialize an empty DataFrame to hold all data\n",
    "    df = pd.DataFrame()\n",
    "\n",
    "    # Read saved data and concatenate into df\n",
    "    for year in years:\n",
    "        df_year = read_parquet(output_directory, [year])\n",
    "        if year in df_year:\n",
    "            # Concatenate the current year's DataFrame to df\n",
    "            df = pd.concat([df, df_year[year]], ignore_index=True)"
   ]
  },
  {
   "cell_type": "code",
   "execution_count": 17,
   "metadata": {},
   "outputs": [],
   "source": [
    "data_frame = df.copy()"
   ]
  },
  {
   "cell_type": "markdown",
   "metadata": {},
   "source": [
    "### Hypothesis 2: This hypothesis is to find depression in adult based on his religious belief, smoking/drug activity, ethnicity, age. \n",
    "\n",
    "We have combined hypothesis 1, 2, 3 from my phase 1 to comeup with a larger hypthesis for better classification and prediction."
   ]
  },
  {
   "cell_type": "markdown",
   "metadata": {},
   "source": [
    "We get the data for our ML ADDPREV is the column that is of importance. Rest all are features"
   ]
  },
  {
   "cell_type": "code",
   "execution_count": 18,
   "metadata": {},
   "outputs": [],
   "source": [
    "hypothesis_result = data_frame[\n",
    "    (data_frame['ADDPREV'] >= 1) & (data_frame['ADDPREV'] <= 2) &\n",
    "    (data_frame['IRINSUR4'] >=1) & (data_frame['IRINSUR4'] <= 2) &\n",
    "    (data_frame['IRWRKSTAT'] >= 1) & (data_frame['IRWRKSTAT'] <= 4) &\n",
    "    (data_frame['INCOME'] >= 4) & (data_frame['INCOME'] <= 4) &\n",
    "    (data_frame['ILLALCFLG'] >= 0) & (data_frame['ILLALCFLG'] <= 1) &\n",
    "    (data_frame['SNRLGIMP'] >= 1) & (data_frame['SNRLGIMP'] <= 4) &\n",
    "    (data_frame['SNRLFRND'] >= 1) & (data_frame['SNRLFRND'] <= 4) & #\n",
    "    (data_frame['SNRLGSVC'] >= 1) & (data_frame['SNRLGSVC'] <= 4) &\n",
    "    (data_frame['SNRLDCSN'] >= 1) & (data_frame['SNRLDCSN'] <= 4) &\n",
    "    (data_frame['SEXAGE'] >= 1) & (data_frame['SEXAGE'] <= 5 ) &\n",
    "    (data_frame['NEWRACE2'] >= 1) & (data_frame['NEWRACE2'] <= 7) \n",
    "] \n",
    "hypothesis_result['ADDPREV'] = hypothesis_result['ADDPREV'].replace({1: 0, 2: 1})\n",
    "columns_to_keep = ['ADDPREV', 'IRINSUR4', 'IRWRKSTAT', 'INCOME','ILLALCFLG','SNRLGIMP','SNRLFRND','SNRLGSVC','SNRLDCSN','SEXAGE','NEWRACE2']\n",
    "hypothesis_result = hypothesis_result[columns_to_keep]"
   ]
  },
  {
   "cell_type": "markdown",
   "metadata": {},
   "source": [
    "### Feature transformation"
   ]
  },
  {
   "cell_type": "markdown",
   "metadata": {},
   "source": [
    "We have to find all the combination by performing group by and find the average depression (ADDPREV) per cluster or combination. \n",
    "Now when we find the average for per combination and then convert into bins. This bins are new outputs for us as we have to predict the bin. \n",
    "\n",
    "We will have only 2 Bins. \n",
    "\n",
    "1. 1st bin: Predict the combinations with higher depression probability\n",
    "2. 2nd bin: predicts the combination of features with lower depression probability"
   ]
  },
  {
   "cell_type": "code",
   "execution_count": 19,
   "metadata": {},
   "outputs": [],
   "source": [
    "hypothesis_result_avg = hypothesis_result.groupby(['IRINSUR4', 'IRWRKSTAT', 'INCOME', 'ILLALCFLG','SNRLGIMP','SNRLFRND','SNRLGSVC','SNRLDCSN','SEXAGE','NEWRACE2']).agg(\n",
    "    ADDPREV_avg=('ADDPREV', 'mean'),\n",
    "    ADDPREV_count=('ADDPREV', 'count')\n",
    ").reset_index()\n",
    "hypothesis_result_groupby = hypothesis_result_avg.sort_values(by='ADDPREV_avg', ascending=True)"
   ]
  },
  {
   "cell_type": "markdown",
   "metadata": {},
   "source": [
    "#### Performing bining"
   ]
  },
  {
   "cell_type": "code",
   "execution_count": 20,
   "metadata": {},
   "outputs": [],
   "source": [
    "hypothesis_result_avg['ADDPREV_avg_normalized'] = (hypothesis_result_avg['ADDPREV_avg'] - hypothesis_result_avg['ADDPREV_avg'].min()) / (hypothesis_result_avg['ADDPREV_avg'].max() - hypothesis_result_avg['ADDPREV_avg'].min())\n",
    "bins = [0,0.5,1]\n",
    "labels = [0,1]\n",
    "hypothesis_result_avg['ADDPREV_category'] = pd.cut(hypothesis_result_avg['ADDPREV_avg_normalized'], bins=bins, labels=labels, include_lowest=True)\n",
    "hypothesis_result_transform = hypothesis_result_avg.drop(['ADDPREV_avg', 'ADDPREV_avg_normalized'], axis=1)"
   ]
  },
  {
   "cell_type": "markdown",
   "metadata": {},
   "source": [
    "The above code performs bining making ADDPREV_category as our new output. We have to assigin any new combination of features to this new output (ADDPREV_category).\n",
    "\n",
    "1. 1st bin (0): Predict the combinations with higher depression probability\n",
    "2. 2nd bin (1): predicts the combination of features with lower depression probability"
   ]
  },
  {
   "cell_type": "markdown",
   "metadata": {},
   "source": [
    "#### Now we need to apply this category to our whole dataset and below code does the same"
   ]
  },
  {
   "cell_type": "code",
   "execution_count": 21,
   "metadata": {},
   "outputs": [],
   "source": [
    "hypothesis_result_copy = hypothesis_result.copy()\n",
    "#print(result_data_behavourial_copy)\n",
    "result_data_behavourial_copy = hypothesis_result_copy.drop(['ADDPREV'], axis=1)\n",
    "\n",
    "# Perform merge based on the columns of interest\n",
    "hypothesis_result_copy = hypothesis_result_copy.merge(\n",
    "    hypothesis_result_transform[['IRINSUR4', 'IRWRKSTAT', 'INCOME', 'ILLALCFLG', 'SNRLGIMP','SNRLFRND','SNRLGSVC','SNRLDCSN','SEXAGE','NEWRACE2','ADDPREV_category']], \n",
    "    on=['IRINSUR4', 'IRWRKSTAT', 'INCOME', 'ILLALCFLG', 'SNRLGIMP','SNRLFRND','SNRLGSVC','SNRLDCSN','SEXAGE','NEWRACE2'], \n",
    "    how='left'\n",
    ")"
   ]
  },
  {
   "cell_type": "markdown",
   "metadata": {},
   "source": [
    "#### Balancing our dataset\n",
    "\n",
    "As our dataset is Skewed, we need to add synthetic data to balance it. For that we use SMOTE.\n",
    "\n",
    "It generates synthetic samples for the minority class to address the imbalance, this ensures that we have more balanced dataset for training the model.\n",
    "\n",
    "SMOTE selects data point from the minority class and finds its nearest neighbors. Then, it creates new synthetic instances by interpolating between the selected data point and the neighbors, this increases minority data points."
   ]
  },
  {
   "cell_type": "code",
   "execution_count": 22,
   "metadata": {},
   "outputs": [],
   "source": [
    "import pandas as pd\n",
    "from imblearn.over_sampling import SMOTE\n",
    "\n",
    "X = hypothesis_result_copy.drop('ADDPREV_category', axis=1)\n",
    "y = hypothesis_result_copy['ADDPREV_category']\n",
    "\n",
    "smote = SMOTE(random_state=42)\n",
    "X_resampled, y_resampled = smote.fit_resample(X, y)\n"
   ]
  },
  {
   "cell_type": "markdown",
   "metadata": {},
   "source": [
    "### Model 1: Decision Tree\n",
    "\n",
    "We decided to select Decistion tree because as per phase 1 statistical analysis we figured out that few combinations can be statistically seprated if not all. hence for this purpose we used decision tree."
   ]
  },
  {
   "cell_type": "code",
   "execution_count": 23,
   "metadata": {},
   "outputs": [
    {
     "name": "stdout",
     "output_type": "stream",
     "text": [
      "Accuracy: 97.73093411244301\n",
      "              precision    recall  f1-score   support\n",
      "\n",
      "           0       0.97      0.98      0.98     18344\n",
      "           1       0.98      0.97      0.98     18279\n",
      "\n",
      "    accuracy                           0.98     36623\n",
      "   macro avg       0.98      0.98      0.98     36623\n",
      "weighted avg       0.98      0.98      0.98     36623\n",
      "\n"
     ]
    },
    {
     "data": {
      "image/png": "[encoded data removed]",
      "text/plain": [
       "<Figure size 600x500 with 2 Axes>"
      ]
     },
     "metadata": {},
     "output_type": "display_data"
    }
   ],
   "source": [
    "X_train, X_test, y_train, y_test = train_test_split(X_resampled, y_resampled, test_size=0.4, random_state=42)\n",
    "\n",
    "tree_model = DecisionTreeClassifier(random_state=42)\n",
    "tree_model.fit(X_train, y_train)\n",
    "\n",
    "y_pred = tree_model.predict(X_test)\n",
    "\n",
    "accuracy = accuracy_score(y_test, y_pred)\n",
    "print(\"Accuracy:\", accuracy*100)\n",
    "\n",
    "print(classification_report(y_test, y_pred))\n",
    "\n",
    "cm = confusion_matrix(y_test, y_pred)\n",
    "\n",
    "plt.figure(figsize=(6, 5))\n",
    "sns.heatmap(cm, annot=True, fmt=\"d\", cmap=\"Blues\", xticklabels=tree_model.classes_, yticklabels=tree_model.classes_)\n",
    "plt.title(\"Confusion Matrix\")\n",
    "plt.xlabel(\"Predicted Label\")\n",
    "plt.ylabel(\"True Label\")\n",
    "plt.show()"
   ]
  },
  {
   "cell_type": "markdown",
   "metadata": {},
   "source": [
    "#### Decision tree gave 97.7% accuracy which is good"
   ]
  },
  {
   "cell_type": "markdown",
   "metadata": {},
   "source": [
    "### Model 2: MLPClassifier\n",
    "\n",
    "MLPClassifier is Multilayer Perceptron Classifier, allows us to learn complex, non-linear relationships in data.\n",
    "\n",
    "We Choose this Model as we need to fit out data and predict it with bst accuracy and this model (neural net) is best known for function approximation."
   ]
  },
  {
   "cell_type": "code",
   "execution_count": 26,
   "metadata": {},
   "outputs": [
    {
     "name": "stdout",
     "output_type": "stream",
     "text": [
      "Accuracy: 0.9321737705813287\n",
      "              precision    recall  f1-score   support\n",
      "\n",
      "           0       0.92      0.94      0.93     18344\n",
      "           1       0.94      0.92      0.93     18279\n",
      "\n",
      "    accuracy                           0.93     36623\n",
      "   macro avg       0.93      0.93      0.93     36623\n",
      "weighted avg       0.93      0.93      0.93     36623\n",
      "\n"
     ]
    },
    {
     "data": {
      "image/png": "[encoded data removed]",
      "text/plain": [
       "<Figure size 600x500 with 2 Axes>"
      ]
     },
     "metadata": {},
     "output_type": "display_data"
    }
   ],
   "source": [
    "from sklearn.neural_network import MLPClassifier\n",
    "from sklearn.metrics import classification_report, accuracy_score, confusion_matrix\n",
    "import seaborn as sns\n",
    "import matplotlib.pyplot as plt\n",
    "\n",
    "# Split the data\n",
    "X_train, X_test, y_train, y_test = train_test_split(X_resampled, y_resampled, test_size=0.4, random_state=42)\n",
    "\n",
    "# Train the MLP model with hidden layers\n",
    "mlp_model = MLPClassifier(hidden_layer_sizes=(100,), random_state=42, max_iter=4000)\n",
    "mlp_model.fit(X_train, y_train)\n",
    "\n",
    "# Make predictions on the test set\n",
    "y_pred = mlp_model.predict(X_test)\n",
    "\n",
    "# Evaluate the model\n",
    "accuracy = accuracy_score(y_test, y_pred)\n",
    "print(\"Accuracy:\", accuracy)\n",
    "\n",
    "# Print classification report for detailed performance\n",
    "print(classification_report(y_test, y_pred))\n",
    "\n",
    "# Confusion Matrix\n",
    "cm = confusion_matrix(y_test, y_pred)\n",
    "\n",
    "# Plot the confusion matrix using seaborn heatmap\n",
    "plt.figure(figsize=(6, 5))\n",
    "sns.heatmap(cm, annot=True, fmt=\"d\", cmap=\"Blues\", xticklabels=mlp_model.classes_, yticklabels=mlp_model.classes_)\n",
    "plt.title(\"Confusion Matrix\")\n",
    "plt.xlabel(\"Predicted Label\")\n",
    "plt.ylabel(\"True Label\")\n",
    "plt.show()\n"
   ]
  },
  {
   "cell_type": "markdown",
   "metadata": {},
   "source": [
    "#### We got an accuracy of 93.21%\n",
    "\n",
    "This accuracy is not as good as Decision tree. Decision tree is very quick and easy and less complex. Training MLPclassifier takes time and defining it's parameters is also very difficult. \n",
    "\n",
    "hence we chose the simplest model with best accuracy which us Decision Tree"
   ]
  },
  {
   "cell_type": "markdown",
   "metadata": {},
   "source": [
    "#### Observation\n",
    "\n",
    "| Model            | Accuracy |\n",
    "|------------------|----------|\n",
    "| MLPClassifier  | 93.21%      |\n",
    "| Decision Tree         | 97.7%      |\n",
    "\n",
    "\n",
    "Decision Tree (97.7% accuracy):\n",
    "1. It Effectively captures clear patterns in the data.\n",
    "2. It Well-suited for discrete features with simple splits.\n",
    "3. It Likely found strong decision boundaries, leading to better performance.\n",
    "4. It trained faster than MLPClassifier\n",
    "\n",
    "\n",
    "The Decision Tree achieved 97.7% accuracy because it effectively captures clear patterns in the data with simple splits, making it well-suited for discrete features. It likely found strong decision boundaries, resulting in higher performance.\n",
    "\n",
    "Reason for not selecting MLPClassifier (93.21% accuracy):\n",
    "\n",
    "1. it Requires more tuning and sensitive to hyperparameters hence tough to train\n",
    "2. it many May not have fully leveraged the data’s structure.\n",
    "3. Slightly lower performance compared to the Decision Tree.\n",
    "4. Decision tree is a simpler model and much faster than this.\n",
    "\n",
    "The MLPClassifier, while capable of modeling complex relationships, reached 93.21% accuracy due to the need for more tuning and its sensitivity to hyperparameters. It may not have fully leveraged the data's structure, leading to slightly lower performance compared to the Decision Tree."
   ]
  }
 ],
 "metadata": {
  "kernelspec": {
   "display_name": "DIC",
   "language": "python",
   "name": "python3"
  },
  "language_info": {
   "codemirror_mode": {
    "name": "ipython",
    "version": 3
   },
   "file_extension": ".py",
   "mimetype": "text/x-python",
   "name": "python",
   "nbconvert_exporter": "python",
   "pygments_lexer": "ipython3",
   "version": "3.9.6"
  }
 },
 "nbformat": 4,
 "nbformat_minor": 2
}
