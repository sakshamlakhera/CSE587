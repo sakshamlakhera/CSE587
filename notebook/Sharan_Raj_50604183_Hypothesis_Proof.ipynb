{
 "cells": [
  {
   "cell_type": "code",
   "execution_count": 287,
   "id": "324aab60-4a02-45f7-95df-4111bc5e2c03",
   "metadata": {},
   "outputs": [],
   "source": [
    "import numpy as np\n",
    "import pandas as pd\n",
    "import os\n",
    "from typing import List, Optional, Dict\n",
    "import gc\n",
    "import missingno as msno\n",
    "import matplotlib.pyplot as plt\n",
    "import math\n",
    "from scipy import stats\n",
    "\n",
    "# Set precision to 2 decimal places\n",
    "pd.options.display.float_format = '{:.2f}'.format\n",
    "\n",
    "# Suppress all warnings\n",
    "import warnings\n",
    "warnings.filterwarnings(\"ignore\")"
   ]
  },
  {
   "cell_type": "markdown",
   "id": "001d5264-77cc-40a7-b12d-5d80dd871896",
   "metadata": {},
   "source": [
    "### Data Read"
   ]
  },
  {
   "cell_type": "code",
   "execution_count": 288,
   "id": "8be55925-5e54-4545-95c8-3f500746cdd9",
   "metadata": {},
   "outputs": [],
   "source": [
    "def read_parquet(input_dir: str, years: Optional[List[int]] = None) -> Dict[int, pd.DataFrame]:\n",
    "    \"\"\"\n",
    "    Reads Parquet files for specified years from the input directory.\n",
    "\n",
    "    Args:\n",
    "        input_dir (str): The directory where Parquet files are stored.\n",
    "        years (Optional[List[int]]): A list of years to read. If None, read all available years.\n",
    "\n",
    "    Returns:\n",
    "        Dict[int, pd.DataFrame]: A dictionary with years as keys and pandas DataFrames as values.\n",
    "    \"\"\"\n",
    "    data_frames = {}\n",
    "    available_years = [int(d.split('=')[1]) for d in os.listdir(input_dir) if d.startswith('year=')]\n",
    "    years_to_read = years if years is not None else available_years\n",
    "\n",
    "    for year in years_to_read:\n",
    "        year_path = os.path.join(input_dir, f'year={year}')\n",
    "        if os.path.exists(year_path):\n",
    "            df = pd.read_parquet(year_path)\n",
    "            df['year'] = year  # Add the year column \n",
    "            data_frames[year] = df\n",
    "        else:\n",
    "            print(f\"Warning: No data found for year {year}\")\n",
    "\n",
    "    return data_frames"
   ]
  },
  {
   "cell_type": "code",
   "execution_count": 289,
   "id": "ba31f28a-fe1e-471e-bacc-9863ef41fb5b",
   "metadata": {},
   "outputs": [],
   "source": [
    "years = [2015, 2016, 2017, 2018, 2019] \n",
    "output_directory = \"../data/DS/NSDUH\"\n",
    "\n",
    "# Read saved data \n",
    "df = pd.concat(read_parquet(output_directory, years).values())   \n",
    "        "
   ]
  },
  {
   "cell_type": "markdown",
   "id": "91c0d462-4d94-43db-9070-59d0f0848ee2",
   "metadata": {},
   "source": [
    "## Sharan Raj Sivakumar Hypothesis"
   ]
  },
  {
   "cell_type": "markdown",
   "id": "2f0f2729-cc5f-4925-baee-1005c4a61c96",
   "metadata": {},
   "source": [
    "### Hypothesis 1: Early drug use, particularly during adolescence, is a risk factor for the development of mental health issues. \n",
    "#### Null Hypothesis: There is no relationship between early drug use and the development of mental health issues.\n",
    "#### Alternative Hypothesis: Early drug use is associated with an increased risk of developing mental health issues."
   ]
  },
  {
   "cell_type": "code",
   "execution_count": 301,
   "id": "ef40d0e7-c6d4-44b5-b35b-7bb6c7d3253c",
   "metadata": {},
   "outputs": [],
   "source": [
    "identity_columns_H1 = ['QUESTID2']\n",
    "# drug_usage_columns_H1 = ['MJEVER','MJAGE', 'BLNTEVER', 'BLNTAGE','COCEVER', 'COCAGE', 'CRKEVER', 'CRKAGE', 'HEREVER', 'HERAGE', 'HALLUCEVR','HALLUCAGE', 'METHAMEVR', 'METHAMAGE']\n",
    "\n",
    "drug_usage_columns_H1 = ['MJAGE', 'BLNTAGE','COCAGE',  'CRKAGE',  'HERAGE', 'HALLUCAGE', 'METHAMAGE']\n",
    "\n",
    "\n",
    "mental_health_columns_H1 = ['YMDELT']\n",
    "\n",
    "columns_of_interest_H1 = identity_columns_H1 + drug_usage_columns_H1 + mental_health_columns_H1\n"
   ]
  },
  {
   "cell_type": "code",
   "execution_count": 302,
   "id": "8b420099-4fcf-4854-a3e5-7f4e33202fbd",
   "metadata": {},
   "outputs": [],
   "source": [
    "# Creating a copy of df for Hypothesis 2 analysis\n",
    "df_H1 = df[columns_of_interest_H1].copy()"
   ]
  },
  {
   "cell_type": "code",
   "execution_count": 303,
   "id": "e7e1418d-b795-4df7-9e57-ae16cb1ad5fc",
   "metadata": {},
   "outputs": [
    {
     "name": "stdout",
     "output_type": "stream",
     "text": [
      "\n",
      "Unique values for QUESTID2:\n",
      "[25095143 13005143 67415143 ... 38044730 43164730 92074730]\n",
      "\n",
      "Unique values for MJAGE:\n",
      "[991  15  14  18 985  12  21  24  17  13  22  35  16  20  19  23  25  36\n",
      "  38 994   7  30  32   9  11  29  10  27  28  26  31  39   8  37  55  40\n",
      "  45  34  51  50 998  44  76 997  48  42   5  56  52   6   2  47  43   3\n",
      "  33   4  54  49  58  72  65  46  57  64  69  62  60  75   1  77  41  78\n",
      "  74  68  53  61  66  71  67  59  80  63  70  81  79  73  82]\n",
      "\n",
      "Unique values for BLNTAGE:\n",
      "[991  26  16  21  14  15 994  18  17  35  19  20  12  13  22  40  36  30\n",
      "  25  10  23  34  45   6  28  11  56   8  29  24  38  42 997  27  54  32\n",
      "  31  60  47 981 998   9  55  50   7  37   2  49  48  59  43  53   1  46\n",
      " 985  33   3  44  41  58  39  52  57  65  51   5  62  66   4  61  63  76\n",
      "  68  73  64  70  69]\n",
      "\n",
      "Unique values for COCAGE:\n",
      "[991  16  13  20  15  24  18  34  19  25  22  17  14  21  27  23  26  12\n",
      "  50  35  30  37  29  36  28  31 994  38  48 997  39  40  33  32  11 985\n",
      "   2  55  45 998  49   9  41  10  46   7   8   1  42  47  52  43   5   3\n",
      "  60   4  51   6  44  58  62  53  54  72  56]\n",
      "\n",
      "Unique values for CRKAGE:\n",
      "[991  16  14  18  20  17  24  30  25  19  26  15  21  22  50  35  29  27\n",
      "  23  42  34 994  45  12 998  39  31  40  28  32  44  11  37  53  55 997\n",
      "  33  47  43  13  36  41  51  46  38  49   7   2   8  48   1  52  10  56\n",
      " 985  57   4   6  60  54   9  64  59  72   5  58]\n",
      "\n",
      "Unique values for HERAGE:\n",
      "[991  18  17  25  21  35  19 998  28  31  20  42  41  34  37  23  14  16\n",
      "  36  22  12  29  13  27  15  24  30  26  33 994 997  40  54  32 985  38\n",
      "  52  10   2  53  50  55   9  45  39   6  11   1  48  43  44  59   5  46\n",
      "  56  47  57  49  51   4   3  68  70]\n",
      "\n",
      "Unique values for HALLUCAGE:\n",
      "[991  18 998  14  20 994  21  24  17  15  16  25  10  26  19  23  22  12\n",
      "  31  13  30  29  35  33  27  28 985   3  11  50 997  41  43   2  37  38\n",
      "   5   8   9  52  32  45  40  36  34  39  49  44   1  47  42  60   6   7\n",
      "   4  57  53  55  46  69  56  54  48  51  63  72  61  65  59  73]\n",
      "\n",
      "Unique values for METHAMAGE:\n",
      "[991 998  14  49  24  20  21  25  19 994  15  16  18  17  28  40  26  31\n",
      "  34  10  27  56  41  29  33  23  22 997  30  32  35  12  45  13  38  36\n",
      "  42  11  39  44  46  50  54   6  48   9   8  51  37  47 985  43  60   2\n",
      "   3  61   1  53   5   4  58  72   7  57  62  55  63  70  65  59  64  67\n",
      "  52]\n",
      "\n",
      "Unique values for YMDELT:\n",
      "[ 1. nan  2.]\n"
     ]
    }
   ],
   "source": [
    "# Get unique values for each column\n",
    "for column in df_H1.columns:\n",
    "    unique_values = df_H1[column].unique()\n",
    "    print(f\"\\nUnique values for {column}:\")\n",
    "    print(unique_values)"
   ]
  },
  {
   "cell_type": "code",
   "execution_count": 304,
   "id": "6a4be1ba-c13c-437c-a84b-6269c4226c19",
   "metadata": {},
   "outputs": [],
   "source": [
    "# Clean the data\n",
    "df_H1 = df_H1.drop_duplicates()  # Remove duplicates"
   ]
  },
  {
   "cell_type": "code",
   "execution_count": 305,
   "id": "31a9b2c6-ca31-462e-b45a-efa8840cb884",
   "metadata": {},
   "outputs": [
    {
     "data": {
      "text/html": [
       "<div>\n",
       "<style scoped>\n",
       "    .dataframe tbody tr th:only-of-type {\n",
       "        vertical-align: middle;\n",
       "    }\n",
       "\n",
       "    .dataframe tbody tr th {\n",
       "        vertical-align: top;\n",
       "    }\n",
       "\n",
       "    .dataframe thead th {\n",
       "        text-align: right;\n",
       "    }\n",
       "</style>\n",
       "<table border=\"1\" class=\"dataframe\">\n",
       "  <thead>\n",
       "    <tr style=\"text-align: right;\">\n",
       "      <th></th>\n",
       "      <th>MJAGE</th>\n",
       "      <th>BLNTAGE</th>\n",
       "      <th>COCAGE</th>\n",
       "      <th>CRKAGE</th>\n",
       "      <th>HERAGE</th>\n",
       "      <th>HALLUCAGE</th>\n",
       "      <th>METHAMAGE</th>\n",
       "      <th>YMDELT</th>\n",
       "    </tr>\n",
       "  </thead>\n",
       "  <tbody>\n",
       "    <tr>\n",
       "      <th>count</th>\n",
       "      <td>281835.00</td>\n",
       "      <td>281835.00</td>\n",
       "      <td>281835.00</td>\n",
       "      <td>281835.00</td>\n",
       "      <td>281835.00</td>\n",
       "      <td>281835.00</td>\n",
       "      <td>281835.00</td>\n",
       "      <td>66390.00</td>\n",
       "    </tr>\n",
       "    <tr>\n",
       "      <th>mean</th>\n",
       "      <td>575.25</td>\n",
       "      <td>763.95</td>\n",
       "      <td>877.24</td>\n",
       "      <td>965.19</td>\n",
       "      <td>974.43</td>\n",
       "      <td>851.72</td>\n",
       "      <td>947.53</td>\n",
       "      <td>1.80</td>\n",
       "    </tr>\n",
       "    <tr>\n",
       "      <th>std</th>\n",
       "      <td>481.69</td>\n",
       "      <td>411.66</td>\n",
       "      <td>312.15</td>\n",
       "      <td>155.91</td>\n",
       "      <td>125.60</td>\n",
       "      <td>340.62</td>\n",
       "      <td>200.71</td>\n",
       "      <td>0.40</td>\n",
       "    </tr>\n",
       "    <tr>\n",
       "      <th>min</th>\n",
       "      <td>1.00</td>\n",
       "      <td>1.00</td>\n",
       "      <td>1.00</td>\n",
       "      <td>1.00</td>\n",
       "      <td>1.00</td>\n",
       "      <td>1.00</td>\n",
       "      <td>1.00</td>\n",
       "      <td>1.00</td>\n",
       "    </tr>\n",
       "    <tr>\n",
       "      <th>25%</th>\n",
       "      <td>17.00</td>\n",
       "      <td>991.00</td>\n",
       "      <td>991.00</td>\n",
       "      <td>991.00</td>\n",
       "      <td>991.00</td>\n",
       "      <td>991.00</td>\n",
       "      <td>991.00</td>\n",
       "      <td>2.00</td>\n",
       "    </tr>\n",
       "    <tr>\n",
       "      <th>50%</th>\n",
       "      <td>991.00</td>\n",
       "      <td>991.00</td>\n",
       "      <td>991.00</td>\n",
       "      <td>991.00</td>\n",
       "      <td>991.00</td>\n",
       "      <td>991.00</td>\n",
       "      <td>991.00</td>\n",
       "      <td>2.00</td>\n",
       "    </tr>\n",
       "    <tr>\n",
       "      <th>75%</th>\n",
       "      <td>991.00</td>\n",
       "      <td>991.00</td>\n",
       "      <td>991.00</td>\n",
       "      <td>991.00</td>\n",
       "      <td>991.00</td>\n",
       "      <td>991.00</td>\n",
       "      <td>991.00</td>\n",
       "      <td>2.00</td>\n",
       "    </tr>\n",
       "    <tr>\n",
       "      <th>max</th>\n",
       "      <td>998.00</td>\n",
       "      <td>998.00</td>\n",
       "      <td>998.00</td>\n",
       "      <td>998.00</td>\n",
       "      <td>998.00</td>\n",
       "      <td>998.00</td>\n",
       "      <td>998.00</td>\n",
       "      <td>2.00</td>\n",
       "    </tr>\n",
       "  </tbody>\n",
       "</table>\n",
       "</div>"
      ],
      "text/plain": [
       "          MJAGE   BLNTAGE    COCAGE    CRKAGE    HERAGE  HALLUCAGE  METHAMAGE  \\\n",
       "count 281835.00 281835.00 281835.00 281835.00 281835.00  281835.00  281835.00   \n",
       "mean     575.25    763.95    877.24    965.19    974.43     851.72     947.53   \n",
       "std      481.69    411.66    312.15    155.91    125.60     340.62     200.71   \n",
       "min        1.00      1.00      1.00      1.00      1.00       1.00       1.00   \n",
       "25%       17.00    991.00    991.00    991.00    991.00     991.00     991.00   \n",
       "50%      991.00    991.00    991.00    991.00    991.00     991.00     991.00   \n",
       "75%      991.00    991.00    991.00    991.00    991.00     991.00     991.00   \n",
       "max      998.00    998.00    998.00    998.00    998.00     998.00     998.00   \n",
       "\n",
       "        YMDELT  \n",
       "count 66390.00  \n",
       "mean      1.80  \n",
       "std       0.40  \n",
       "min       1.00  \n",
       "25%       2.00  \n",
       "50%       2.00  \n",
       "75%       2.00  \n",
       "max       2.00  "
      ]
     },
     "execution_count": 305,
     "metadata": {},
     "output_type": "execute_result"
    }
   ],
   "source": [
    "df_H1[drug_usage_columns_H1+mental_health_columns_H1].describe()"
   ]
  },
  {
   "cell_type": "code",
   "execution_count": 306,
   "id": "f7d0da83-d52f-4455-8b52-4e5dac4d2c8f",
   "metadata": {},
   "outputs": [],
   "source": [
    "# Define a dictionary for replacements based on the code conventions\n",
    "code_replacements = {\n",
    "    93: np.nan,\n",
    "    993: np.nan,\n",
    "    9993: np.nan,\n",
    "    94: np.nan,  # Don't Know\n",
    "    994: np.nan,\n",
    "    9994: np.nan,\n",
    "    97: np.nan,  # Refused\n",
    "    997: np.nan,\n",
    "    9997: np.nan,\n",
    "    98: np.nan,  # Blank\n",
    "    998: np.nan,\n",
    "    9998: np.nan,\n",
    "    99: np.nan,  # Legitimate Skip\n",
    "    999: np.nan,\n",
    "    9999: np.nan,\n",
    "    89: np.nan,  \n",
    "    989: np.nan,\n",
    "    9989: np.nan,\n",
    "    85: np.nan, # Bad data\n",
    "    985: np.nan,\n",
    "    9985: np.nan\n",
    "}\n",
    "\n",
    "# Apply the replacements to the DataFrame\n",
    "df_H1.replace(code_replacements, inplace=True)\n",
    "\n",
    "# Drop rows with missing values\n",
    "df_H1.dropna(inplace=True)"
   ]
  },
  {
   "cell_type": "code",
   "execution_count": 307,
   "id": "709e197a-60c0-4d1b-887f-d6027b62df75",
   "metadata": {},
   "outputs": [],
   "source": [
    "# Convert all to integer\n",
    "df_H1 = df_H1.astype(int)"
   ]
  },
  {
   "cell_type": "code",
   "execution_count": 308,
   "id": "974971ef-b921-4906-b9a3-14d72d0a5574",
   "metadata": {},
   "outputs": [
    {
     "name": "stdout",
     "output_type": "stream",
     "text": [
      "\n",
      "Unique values for QUESTID2:\n",
      "[25095143 70925143 63765143 ... 38044730 43164730 92074730]\n",
      "\n",
      "Unique values for MJAGE:\n",
      "[991  14  12  15  17  16  13  11   9  10   8   5   7   2   6   1   3   4]\n",
      "\n",
      "Unique values for BLNTAGE:\n",
      "[991  16  14  15  17  12  13  10   8   6 981   7  11   9   1   2   5   3\n",
      "   4]\n",
      "\n",
      "Unique values for COCAGE:\n",
      "[991  15  14  16  17  12  13  10   8   7   9  11   1   6]\n",
      "\n",
      "Unique values for CRKAGE:\n",
      "[991  14  15  13  12   8  17  16  11   6]\n",
      "\n",
      "Unique values for HERAGE:\n",
      "[991  15  14  13  12   9  16  17  11   5  10]\n",
      "\n",
      "Unique values for HALLUCAGE:\n",
      "[991  14  15  17  12  13  16   2   1  10  11   9   8   6   7   4   5]\n",
      "\n",
      "Unique values for METHAMAGE:\n",
      "[991  14  15  12  16  17  10  11   9  13   1   8   5   2   6]\n",
      "\n",
      "Unique values for YMDELT:\n",
      "[1 2]\n"
     ]
    }
   ],
   "source": [
    "# Get unique values for each column\n",
    "for column in df_H1.columns:\n",
    "    unique_values = df_H1[column].unique()\n",
    "    print(f\"\\nUnique values for {column}:\")\n",
    "    print(unique_values)"
   ]
  },
  {
   "cell_type": "code",
   "execution_count": 309,
   "id": "c6e983ba-f77e-494b-8f51-01ae14ea130b",
   "metadata": {},
   "outputs": [
    {
     "name": "stdout",
     "output_type": "stream",
     "text": [
      "No Drug Use DataFrame Shape:(53755, 10)\n",
      "Any Drug Use DataFrame Shape:(11040, 10)\n"
     ]
    }
   ],
   "source": [
    "# Condition for never used drugs\n",
    "never_used_condition = (df_H1 == 991) | (df_H1 == 981)\n",
    "\n",
    "# DataFrame for no drug use\n",
    "no_drug_use_df = df_H1[never_used_condition[drug_usage_columns_H1].all(axis=1)]\n",
    "no_drug_use_df[\"Drug_Use\"] = 0\n",
    "\n",
    "# DataFrame for any drug use\n",
    "any_drug_use_df = df_H1[~never_used_condition[drug_usage_columns_H1].all(axis=1)]\n",
    "any_drug_use_df[\"Drug_Use\"] = 1\n",
    "\n",
    "df_H1 = pd.concat([no_drug_use_df,any_drug_use_df])\n",
    "\n",
    "# Add a binary column for drug use\n",
    "# df_H1['Drug_Use'] = ~(df_H1 == 991).all(axis=1) & ~(df_H1 == 981).all(axis=1)\n",
    "\n",
    "\n",
    "print(f\"No Drug Use DataFrame Shape:{df_H1[df_H1['Drug_Use']==0].shape}\")\n",
    "\n",
    "print(f\"Any Drug Use DataFrame Shape:{df_H1[df_H1['Drug_Use']==1].shape}\")"
   ]
  },
  {
   "cell_type": "code",
   "execution_count": 310,
   "id": "cd2cae18-6ebd-4837-9349-c788c738e511",
   "metadata": {},
   "outputs": [
    {
     "name": "stdout",
     "output_type": "stream",
     "text": [
      "T-statistic: 43.34074470538926\n",
      "P-value: 0.0\n"
     ]
    }
   ],
   "source": [
    "# Hypothesis Test\n",
    "t_stat, p_value = stats.ttest_ind(no_drug_use_df['YMDELT'].dropna(), any_drug_use_df['YMDELT'].dropna())\n",
    "\n",
    "print(f\"T-statistic: {t_stat}\")\n",
    "print(f\"P-value: {p_value}\")"
   ]
  },
  {
   "cell_type": "markdown",
   "id": "f08a6863-6732-4f0b-8361-a939319df053",
   "metadata": {},
   "source": [
    "### Interpretation of Results:\n",
    "\n",
    "- **T-statistic**: 43.341  \n",
    "  A **T-statistic** of 43.341 is very large. This indicates that the difference between early drug users and non-drug users (in terms of developing mental health issues) is much greater than what would be expected under the null hypothesis. In other words, this large T-value suggests a strong association between early drug use and the development of mental health issues.\n",
    "\n",
    "- **P-value**: 0.0  \n",
    "  A **P-value** of 0.0 (or something extremely close to 0) indicates that the likelihood of observing this data if the null hypothesis were true (i.e., if there really is no association between early drug use and mental health issues) is virtually **zero**.\n",
    "\n",
    "---\n",
    "\n",
    "### Conclusion:\n",
    "- Given the very high T-statistic and the P-value of 0.0, you would **reject the null hypothesis** with great confidence.\n",
    "- There is very strong evidence to suggest that early drug use, particularly during adolescence, is a significant risk factor for the development of mental health issues.\n",
    "- The result implies that the observed relationship is not due to random chance but is likely a true effect in the population."
   ]
  },
  {
   "cell_type": "code",
   "execution_count": 311,
   "id": "fe8844f3-c6ec-45c2-b5e9-c8fe1accd4a6",
   "metadata": {},
   "outputs": [
    {
     "data": {
      "image/png": "[encoded data removed]",
      "text/plain": [
       "<Figure size 1200x600 with 1 Axes>"
      ]
     },
     "metadata": {},
     "output_type": "display_data"
    }
   ],
   "source": [
    "# Calculate the proportions\n",
    "drug_use_0 = df_H1[df_H1['Drug_Use'] == 0]['YMDELT'].value_counts(normalize=True)\n",
    "drug_use_1 = df_H1[df_H1['Drug_Use'] == 1]['YMDELT'].value_counts(normalize=True)\n",
    "\n",
    "# Create the stacked bar chart\n",
    "fig, ax = plt.subplots(figsize=(12, 6))\n",
    "\n",
    "labels = ['No Drug Use', 'Drug Use']\n",
    "no_depression = [drug_use_0.get(2, 0), drug_use_1.get(2, 0)]\n",
    "depression = [drug_use_0.get(1, 0), drug_use_1.get(1, 0)]\n",
    "\n",
    "ax.bar(labels, no_depression, label='No Depression', color='lightblue')\n",
    "ax.bar(labels, depression, bottom=no_depression, label='Depression')\n",
    "\n",
    "ax.set_ylabel('Proportion')\n",
    "ax.set_title('Correlation between Early Drug Use and Depression')\n",
    "ax.legend(bbox_to_anchor=(1.05, 1), loc='upper left')\n",
    "\n",
    "# Add percentage labels on the bars\n",
    "for i, (no_dep, dep) in enumerate(zip(no_depression, depression)):\n",
    "    ax.text(i, no_dep/2, f'{no_dep:.1%}', ha='center', va='center')\n",
    "    ax.text(i, no_dep + dep/2, f'{dep:.1%}', ha='center', va='center')\n",
    "\n",
    "plt.tight_layout()\n",
    "plt.show()"
   ]
  },
  {
   "cell_type": "markdown",
   "id": "04383ab7-1c11-4228-be60-89d43cc0143e",
   "metadata": {},
   "source": [
    "### Key Observations:\n",
    "\n",
    "1. **No Drug Use Group**:\n",
    "   - **83.4%** of individuals who did not use drugs early are not depressed.\n",
    "   - **16.6%** of individuals in the \"No Drug Use\" group suffer from depression.\n",
    "\n",
    "2. **Drug Use Group**:\n",
    "   - **65.6%** of individuals who used drugs early are not depressed.\n",
    "   - **34.4%** of individuals in the \"Drug Use\" group suffer from depression.\n",
    "\n",
    "---\n",
    "\n",
    "### Interpretation:\n",
    "- **Higher Depression in Drug Users**: The proportion of individuals with depression is notably higher in the \"Drug Use\" group (**34.4%**) compared to the \"No Drug Use\" group (**16.6%**).\n",
    "- **Lower Depression in Non-Drug Users**: Conversely, individuals who did not engage in early drug use show a much higher rate of being non-depressed (**83.4%**) compared to the \"Drug Use\" group (**65.6%**).\n",
    "\n",
    "---\n",
    "\n",
    "### Conclusion:\n",
    "The chart visually supports the hypothesis that early drug use is associated with a higher likelihood of developing depression. There is a clear difference between the two groups, with a higher proportion of depression among those who used drugs early in life. This suggests that early drug use could be a risk factor for depression, as the relationship is clearly visible in the data."
   ]
  },
  {
   "cell_type": "markdown",
   "id": "df535651-d474-45c4-b7fa-239b564571e8",
   "metadata": {},
   "source": [
    "### Hypothesis 2: Individuals who are married or widowed are less likely to experience suicidal thoughts compared to individuals who are single. \n",
    "#### Null Hypothesis: There is no relationship between being marital status and experiencing suicidal thoughts.\n",
    "#### Alternative Hypothesis: Married or widowed individuals have lesser chance of experiencing suicidal thoughts "
   ]
  },
  {
   "cell_type": "code",
   "execution_count": 312,
   "id": "edcb9768-aa15-497e-be6e-a9aaa23d0903",
   "metadata": {},
   "outputs": [],
   "source": [
    "identity_columns_H2 = ['QUESTID2']\n",
    "\n",
    "independent_columns_H2 = ['IRMARIT']\n",
    "\n",
    "dependent_columns_H2 = ['SUICTHNK']\n",
    "\n",
    "columns_of_interest_H2 = identity_columns_H2 + independent_columns_H2 + dependent_columns_H2\n"
   ]
  },
  {
   "cell_type": "code",
   "execution_count": 313,
   "id": "896689a8-d506-477f-820d-b7c02bf6fa91",
   "metadata": {},
   "outputs": [],
   "source": [
    "# Creating a copy of df for Hypothesis 3 analysis\n",
    "df_H2 = df[columns_of_interest_H2].copy()"
   ]
  },
  {
   "cell_type": "code",
   "execution_count": 314,
   "id": "c8388358-faee-4ac7-aefd-16a9a5177dd6",
   "metadata": {},
   "outputs": [
    {
     "name": "stdout",
     "output_type": "stream",
     "text": [
      "\n",
      "Unique values for IRMARIT:\n",
      "[nan  1.  4.  2. 99.  3.]\n",
      "\n",
      "Unique values for SUICTHNK:\n",
      "[99  2 94 97  1 85 98 89]\n"
     ]
    }
   ],
   "source": [
    "# Get unique values for each column\n",
    "for column in df_H2.columns:\n",
    "    if column not in identity_columns_H2:\n",
    "        unique_values = df_H2[column].unique()\n",
    "        print(f\"\\nUnique values for {column}:\")\n",
    "        print(unique_values)"
   ]
  },
  {
   "cell_type": "code",
   "execution_count": 315,
   "id": "63689c3e-659b-44e8-9bfb-45f34ba6462a",
   "metadata": {},
   "outputs": [],
   "source": [
    "# Clean the data\n",
    "df_H2 = df_H2.drop_duplicates()  # Remove duplicates"
   ]
  },
  {
   "cell_type": "code",
   "execution_count": 316,
   "id": "31a9d5f5-d35b-4fa0-b49b-47822badefea",
   "metadata": {},
   "outputs": [
    {
     "data": {
      "text/html": [
       "<div>\n",
       "<style scoped>\n",
       "    .dataframe tbody tr th:only-of-type {\n",
       "        vertical-align: middle;\n",
       "    }\n",
       "\n",
       "    .dataframe tbody tr th {\n",
       "        vertical-align: top;\n",
       "    }\n",
       "\n",
       "    .dataframe thead th {\n",
       "        text-align: right;\n",
       "    }\n",
       "</style>\n",
       "<table border=\"1\" class=\"dataframe\">\n",
       "  <thead>\n",
       "    <tr style=\"text-align: right;\">\n",
       "      <th></th>\n",
       "      <th>IRMARIT</th>\n",
       "      <th>SUICTHNK</th>\n",
       "    </tr>\n",
       "  </thead>\n",
       "  <tbody>\n",
       "    <tr>\n",
       "      <th>count</th>\n",
       "      <td>224857.00</td>\n",
       "      <td>282003.00</td>\n",
       "    </tr>\n",
       "    <tr>\n",
       "      <th>mean</th>\n",
       "      <td>14.22</td>\n",
       "      <td>25.92</td>\n",
       "    </tr>\n",
       "    <tr>\n",
       "      <th>std</th>\n",
       "      <td>31.14</td>\n",
       "      <td>41.85</td>\n",
       "    </tr>\n",
       "    <tr>\n",
       "      <th>min</th>\n",
       "      <td>1.00</td>\n",
       "      <td>1.00</td>\n",
       "    </tr>\n",
       "    <tr>\n",
       "      <th>25%</th>\n",
       "      <td>1.00</td>\n",
       "      <td>2.00</td>\n",
       "    </tr>\n",
       "    <tr>\n",
       "      <th>50%</th>\n",
       "      <td>4.00</td>\n",
       "      <td>2.00</td>\n",
       "    </tr>\n",
       "    <tr>\n",
       "      <th>75%</th>\n",
       "      <td>4.00</td>\n",
       "      <td>2.00</td>\n",
       "    </tr>\n",
       "    <tr>\n",
       "      <th>max</th>\n",
       "      <td>99.00</td>\n",
       "      <td>99.00</td>\n",
       "    </tr>\n",
       "  </tbody>\n",
       "</table>\n",
       "</div>"
      ],
      "text/plain": [
       "        IRMARIT  SUICTHNK\n",
       "count 224857.00 282003.00\n",
       "mean      14.22     25.92\n",
       "std       31.14     41.85\n",
       "min        1.00      1.00\n",
       "25%        1.00      2.00\n",
       "50%        4.00      2.00\n",
       "75%        4.00      2.00\n",
       "max       99.00     99.00"
      ]
     },
     "execution_count": 316,
     "metadata": {},
     "output_type": "execute_result"
    }
   ],
   "source": [
    "df_H2[independent_columns_H2+dependent_columns_H2].describe()"
   ]
  },
  {
   "cell_type": "code",
   "execution_count": 317,
   "id": "d0b15d0a-213e-40d1-8e74-e2f9928de9bf",
   "metadata": {},
   "outputs": [],
   "source": [
    "# Define a dictionary for replacements based on the code conventions for IRMARIT\n",
    "code_replacements = {1:\"Married\", 2:\"Widowed\", 3:np.nan, 4:\"Single\", 99: np.nan}\n",
    "\n",
    "\n",
    "# Apply the replacements to the DataFrame\n",
    "df_H2[\"IRMARIT\"].replace(code_replacements, inplace=True)\n",
    "\n",
    "\n",
    "# Define a dictionary for replacements based on the code conventions for SUICTHNK\n",
    "code_replacements = {85:np.nan, 89:np.nan, 94:np.nan, 97:np.nan, 98:np.nan, 99: np.nan}\n",
    "\n",
    "# Apply the replacements to the DataFrame\n",
    "df_H2[\"SUICTHNK\"].replace(code_replacements, inplace=True)\n",
    "\n",
    "# Drop rows with missing values\n",
    "df_H2.dropna(inplace=True)"
   ]
  },
  {
   "cell_type": "code",
   "execution_count": 318,
   "id": "a9e6d8d6-7e1d-40a3-a8f6-5551ad3f5dea",
   "metadata": {},
   "outputs": [],
   "source": [
    "# Convert all to integer\n",
    "df_H2[\"SUICTHNK\"] = df_H2[\"SUICTHNK\"].astype(int)"
   ]
  },
  {
   "cell_type": "code",
   "execution_count": 319,
   "id": "d495df19-7ee2-4531-a882-e16e264cd56c",
   "metadata": {},
   "outputs": [
    {
     "name": "stdout",
     "output_type": "stream",
     "text": [
      "\n",
      "Unique values for IRMARIT:\n",
      "['Married' 'Single' 'Widowed']\n",
      "\n",
      "Unique values for SUICTHNK:\n",
      "[2 1]\n"
     ]
    }
   ],
   "source": [
    "# Get unique values for each column\n",
    "for column in df_H2.columns:\n",
    "    if column not in identity_columns_H2:\n",
    "        unique_values = df_H2[column].unique()\n",
    "        print(f\"\\nUnique values for {column}:\")\n",
    "        print(unique_values)"
   ]
  },
  {
   "cell_type": "code",
   "execution_count": 320,
   "id": "6f5fb4d2-0f4f-45cb-ab78-69e392402887",
   "metadata": {},
   "outputs": [],
   "source": [
    "single_df_H2 = df_H2[df_H2[\"IRMARIT\"]==\"Single\"]\n",
    "not_single_df_H2 = df_H2[df_H2[\"IRMARIT\"]!=\"Single\"]\n"
   ]
  },
  {
   "cell_type": "code",
   "execution_count": 321,
   "id": "4741aa5a-edb9-49ac-9257-edb550fa6ca7",
   "metadata": {},
   "outputs": [
    {
     "name": "stdout",
     "output_type": "stream",
     "text": [
      "T-statistic: 50.2948528555206\n",
      "P-value: 0.0\n"
     ]
    }
   ],
   "source": [
    "# Hypothesis Test\n",
    "t_stat, p_value = stats.ttest_ind(not_single_df_H2['SUICTHNK'], single_df_H2[\"SUICTHNK\"])\n",
    "\n",
    "print(f\"T-statistic: {t_stat}\")\n",
    "print(f\"P-value: {p_value}\")"
   ]
  },
  {
   "cell_type": "markdown",
   "id": "3ac478e8-8b15-4126-8d19-bc9957bc95b5",
   "metadata": {},
   "source": [
    "### Results:\n",
    "- **T-statistic**: 50.295  \n",
    "  A **T-statistic** of 50.295 is extremely high, indicating a significant difference between the two groups regarding suicidal thoughts. This suggests that the observed data deviate greatly from what would be expected under the null hypothesis.\n",
    "\n",
    "- **P-value**: 0.0  \n",
    "  A **P-value** of 0.0 (or very close to it) indicates that the probability of observing such extreme results, assuming the null hypothesis is true, is virtually zero. This strongly suggests that the null hypothesis can be rejected.\n",
    "\n",
    "---\n",
    "\n",
    "### Conclusion:\n",
    "Given the very high T-statistic and the P-value of 0.0, we can confidently **reject the null hypothesis**. There is compelling evidence to support the alternative hypothesis that individuals who are single are significantly more likely to experience suicidal thoughts compared to those who are married or widowed. This result highlights the potential individuals enjoy a sense of companionship(present or former) contributes positively to their happiness."
   ]
  },
  {
   "cell_type": "code",
   "execution_count": 322,
   "id": "10c567f7-86dd-4d0f-adde-8d46dfa7e576",
   "metadata": {},
   "outputs": [
    {
     "data": {
      "image/png": "[encoded data removed]",
      "text/plain": [
       "<Figure size 1200x600 with 1 Axes>"
      ]
     },
     "metadata": {},
     "output_type": "display_data"
    }
   ],
   "source": [
    "# Calculate the proportions for each marital status\n",
    "marital_status_0 = df_H2[df_H2['IRMARIT'] == 'Single']['SUICTHNK'].value_counts(normalize=True)\n",
    "marital_status_1 = df_H2[df_H2['IRMARIT'] == 'Married']['SUICTHNK'].value_counts(normalize=True)\n",
    "marital_status_2 = df_H2[df_H2['IRMARIT'] == 'Widowed']['SUICTHNK'].value_counts(normalize=True)\n",
    "\n",
    "\n",
    "# Create the stacked bar chart\n",
    "fig, ax = plt.subplots(figsize=(12, 6))\n",
    "\n",
    "labels = ['Single', 'Married', 'Widowed']\n",
    "no_suicidal_thoughts = [\n",
    "    marital_status_0.get(2, 0),  # No for Single\n",
    "    marital_status_1.get(2, 0),  # No for Marriage\n",
    "    marital_status_2.get(2, 0),  # No for Widowed\n",
    "]\n",
    "suicidal_thoughts = [\n",
    "    marital_status_0.get(1, 0),  # Yes for Single\n",
    "    marital_status_1.get(1, 0),  # Yes for Marriage\n",
    "    marital_status_2.get(1, 0),  # Yes for Widowed\n",
    "]\n",
    "\n",
    "ax.bar(labels, no_suicidal_thoughts, label='No Suicidal Thoughts')\n",
    "ax.bar(labels, suicidal_thoughts, bottom=no_suicidal_thoughts, label='Suicidal Thoughts')\n",
    "\n",
    "ax.set_ylabel('Proportion')\n",
    "ax.set_title('Correlation between Marital Status and Suicidal Thoughts')\n",
    "ax.legend(bbox_to_anchor=(1.05, 1), loc='upper left')\n",
    "\n",
    "# Add percentage labels on the bars\n",
    "for i, (no_suicidal, suicidal) in enumerate(zip(no_suicidal_thoughts, suicidal_thoughts)):\n",
    "    ax.text(i, no_suicidal / 2, f'{no_suicidal:.1%}', ha='center', va='center')\n",
    "    ax.text(i, no_suicidal + suicidal / 2, f'{suicidal:.1%}', ha='center', va='center')\n",
    "\n",
    "plt.tight_layout()\n",
    "plt.show()\n"
   ]
  },
  {
   "cell_type": "markdown",
   "id": "87567cb8-b99c-483d-88d9-088f54677425",
   "metadata": {},
   "source": [
    "### Key Observations:\n",
    "\n",
    "1. **Single Individuals**:\n",
    "   - **90.5%** of single individuals donot experience having suicidal thoughts.\n",
    "   - **9.5%** of single individuals experience suicidal thoughts.\n",
    "\n",
    "2. **Married Individuals**:\n",
    "   - **96.8%** of married individuals donot experience having suicidal thoughts.\n",
    "   - **3.2%** of married individuals experience suicidal thoughts.\n",
    "\n",
    "3. **Widowed Individuals**:\n",
    "   - **97.4%** of widowed individuals donot experience having suicidal thoughts.\n",
    "   - **2.6%** of widowed individuals experience suicidal thoughts.\n",
    "\n",
    "---\n",
    "\n",
    "### Interpretation:\n",
    "- **Higher Suicidal Thoughts in Single Individuals**: The proportion of individuals reporting suicidal thoughts is significantly higher in singles compared to married and widowed individual.\n",
    "---\n",
    "\n",
    "### Conclusion:\n",
    "The chart visually supports the hypothesis that marital status is associated with the likelihood of experiencing suicidal thoughts. The data reveals a clear trend, with single individuals showing a higher proportion of suicidal thoughts compared to their married and widowed counterparts. Though Singles do experience higher suicidal thoughts we need to consider other socio-economic factors to further classify since the difference in percentages is less than 7%\n"
   ]
  },
  {
   "cell_type": "code",
   "execution_count": null,
   "id": "60d6a2c0-7752-45e5-98b8-c4f6d6e53fc8",
   "metadata": {},
   "outputs": [],
   "source": []
  },
  {
   "cell_type": "code",
   "execution_count": null,
   "id": "43536003-0f8d-484e-84ee-7f1fcd51dfb1",
   "metadata": {},
   "outputs": [],
   "source": []
  },
  {
   "cell_type": "code",
   "execution_count": null,
   "id": "e8dc5792-e55d-479c-bb89-9c6c4eb9c8e4",
   "metadata": {},
   "outputs": [],
   "source": []
  }
 ],
 "metadata": {
  "kernelspec": {
   "display_name": "venv",
   "language": "python",
   "name": "venv"
  },
  "language_info": {
   "codemirror_mode": {
    "name": "ipython",
    "version": 3
   },
   "file_extension": ".py",
   "mimetype": "text/x-python",
   "name": "python",
   "nbconvert_exporter": "python",
   "pygments_lexer": "ipython3",
   "version": "3.12.5"
  }
 },
 "nbformat": 4,
 "nbformat_minor": 5
}
