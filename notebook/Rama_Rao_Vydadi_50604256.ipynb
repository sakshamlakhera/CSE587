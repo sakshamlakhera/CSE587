{
 "cells": [
  {
   "cell_type": "markdown",
   "id": "d7c447df-1fb8-4259-9fd4-c144de344725",
   "metadata": {},
   "source": [
    "### Problem Statement :\n",
    "### This analysis aims to uncover potential causes of mental health disorders by examining the behavioral patterns and histories of affected patients, ### leading to insights for better interventions.\n"
   ]
  },
  {
   "cell_type": "code",
   "execution_count": 1,
   "id": "8ba4c456-2d2b-4fc0-ab35-2ab2170987d3",
   "metadata": {},
   "outputs": [],
   "source": [
    "import pandas as pd\n",
    "import os\n",
    "from typing import List, Optional, Dict\n",
    "import gc\n",
    "import numpy as np\n",
    "import matplotlib.pyplot as plt\n",
    "import seaborn as sns\n",
    "from sklearn.model_selection import train_test_split, cross_val_score\n",
    "from sklearn.ensemble import RandomForestClassifier, GradientBoostingClassifier\n",
    "from sklearn.linear_model import LogisticRegression\n",
    "from sklearn.metrics import accuracy_score, f1_score\n",
    "from sklearn.pipeline import Pipeline\n",
    "from sklearn.preprocessing import StandardScaler\n",
    "from sklearn.ensemble import GradientBoostingClassifier\n",
    "from statsmodels.stats.outliers_influence import variance_inflation_factor\n",
    "import pickle\n",
    "from xgboost import XGBClassifier \n",
    "from sklearn.metrics import accuracy_score, classification_report, precision_score, recall_score, f1_score, confusion_matrix\n"
   ]
  },
  {
   "cell_type": "code",
   "execution_count": 2,
   "id": "51986590-78ad-4ed7-9b4c-68672905ff5d",
   "metadata": {},
   "outputs": [],
   "source": [
    "def fetch_nsduh_data(year: int) -> Optional[pd.DataFrame]:\n",
    "    url_placeholder = \"https://www.datafiles.samhsa.gov/sites/default/files/field-uploads-protected/studies/NSDUH-{year}/NSDUH-{year}-datasets/NSDUH-{year}-DS0001/NSDUH-{year}-DS0001-bundles-with-study-info/NSDUH-{year}-DS0001-bndl-data-tsv.zip\"\n",
    "    \n",
    "    try:\n",
    "        url = url_placeholder.format(year=year)\n",
    "        df = pd.read_csv(url, compression='zip', sep='\\t', low_memory=False)\n",
    "        return df\n",
    "    except Exception as e:\n",
    "        print(f\"An error occurred for year {year}: {e}\")\n",
    "        return None"
   ]
  },
  {
   "cell_type": "code",
   "execution_count": 3,
   "id": "391cc6f6-e9e1-4a1e-b63f-984e2509fa83",
   "metadata": {},
   "outputs": [],
   "source": [
    "def check_parquet_exists(years: List[int], output_dir: str) -> Dict[int, bool]:\n",
    "    existence_check = {}\n",
    "    \n",
    "    for year in years:\n",
    "        year_path = os.path.join(output_dir, f'year={year}')\n",
    "        existence_check[year] = os.path.exists(year_path)\n",
    "    \n",
    "    return existence_check"
   ]
  },
  {
   "cell_type": "code",
   "execution_count": 4,
   "id": "f9d167b9-97a3-42ed-bd0e-238c43ed9603",
   "metadata": {},
   "outputs": [],
   "source": [
    "def write_parquet(df: pd.DataFrame, year: int, output_dir: str, overwrite: bool = False) -> None:\n",
    "    try:\n",
    "        year_dir = os.path.join(output_dir, f'year={year}')\n",
    "        if overwrite and os.path.exists(year_dir):\n",
    "            shutil.rmtree(year_dir)  # Remove existing directory to start fresh\n",
    "\n",
    "        df['year'] = year  # Add the year column for partitioning\n",
    "        # Write data to Parquet format with partitioning\n",
    "        df.to_parquet(output_dir, partition_cols=['year'], index=False)\n",
    "        \n",
    "        print(f\"Data for year {year} successfully saved to Parquet format in {output_dir}\")\n",
    "    except Exception as e:\n",
    "        print(f\"Error saving data to Parquet for year {year}: {e}\")"
   ]
  },
  {
   "cell_type": "code",
   "execution_count": 5,
   "id": "f472628b-fe1b-4899-8126-854d1bd05919",
   "metadata": {},
   "outputs": [],
   "source": [
    "def data_fetch(years_to_fetch: List[int], output_dir: str, overwrite: bool = False) -> None:\n",
    "    try:\n",
    "        for year in years_to_fetch:\n",
    "            if not overwrite and os.path.exists(os.path.join(output_dir, f'year={year}')):\n",
    "                print(f\"Data for year {year} already exists. Skipping.\")\n",
    "                continue\n",
    "\n",
    "            df = fetch_nsduh_data(year)\n",
    "            if df is not None:\n",
    "                print(f\"Successfully fetched data for year: {year}\")\n",
    "                write_parquet(df, year, output_dir, overwrite)\n",
    "                del df  # Remove the DataFrame from memory\n",
    "                gc.collect()  # Force garbage collection\n",
    "\n",
    "        print(\"All requested years processed.\")\n",
    "    except Exception as e:\n",
    "        print(f\"An unexpected error occurred in the data_fetch function: {e}\")"
   ]
  },
  {
   "cell_type": "code",
   "execution_count": 6,
   "id": "6888b375-2100-410d-baa8-1ad377aa9500",
   "metadata": {},
   "outputs": [],
   "source": [
    "def read_parquet(input_dir: str, years: Optional[List[int]] = None) -> pd.DataFrame:\n",
    "    data_frames = []\n",
    "    available_years = [int(d.split('=')[1]) for d in os.listdir(input_dir) if d.startswith('year=')]\n",
    "    years_to_read = years if years is not None else available_years\n",
    "\n",
    "    for year in years_to_read:\n",
    "        year_path = os.path.join(input_dir, f'year={year}')\n",
    "        if os.path.exists(year_path):\n",
    "            df = pd.read_parquet(year_path)\n",
    "\n",
    "            # Convert data types to reduce memory usage\n",
    "            for col in df.select_dtypes(include=['float64']).columns:\n",
    "                df[col] = df[col].astype('float32')\n",
    "\n",
    "            data_frames.append(df)\n",
    "        else:\n",
    "            print(f\"Warning: No data found for year {year}\")\n",
    "\n",
    "    if data_frames:\n",
    "        combined_df = pd.concat(data_frames, ignore_index=True)\n",
    "        return combined_df\n",
    "    else:\n",
    "        print(\"Warning: No data was loaded.\")\n",
    "        return pd.DataFrame()"
   ]
  },
  {
   "cell_type": "code",
   "execution_count": 7,
   "id": "9af61774-cc8a-46d3-8acf-849d7e49e6a9",
   "metadata": {},
   "outputs": [
    {
     "name": "stdout",
     "output_type": "stream",
     "text": [
      "Data for year 2015 already exists. Skipping.\n",
      "Data for year 2016 already exists. Skipping.\n",
      "Data for year 2017 already exists. Skipping.\n",
      "Data for year 2018 already exists. Skipping.\n",
      "Data for year 2019 already exists. Skipping.\n",
      "All requested years processed.\n"
     ]
    }
   ],
   "source": [
    "if __name__ == \"__main__\":\n",
    "    years = [2015, 2016, 2017, 2018, 2019] \n",
    "    output_directory = \"../data/DS/NSDUH\"    \n",
    "    data_fetch(years, output_directory, overwrite=False)\n",
    "    for year in years:\n",
    "        df = read_parquet(output_directory, [year])\n",
    "        if year in df:\n",
    "            print(f\"Data for year {year}:\")\n",
    "            print(df[year].head())\n",
    "        #del df\n",
    "        gc.collect()"
   ]
  },
  {
   "cell_type": "markdown",
   "id": "f4c5b16b-cc70-48c0-b689-9bca7443370a",
   "metadata": {
    "jp-MarkdownHeadingCollapsed": true
   },
   "source": [
    "### Name : Rama Rao Vydadi\n",
    "### Person Number : 50604256\n",
    "\n",
    "### Question 1: How does socioeconomic status (income, education, employment status) influence the likelihood of experiencing mental health disorders?\n",
    "### Hypothesis 1: Individuals with lower income are more likely to experience mental health issues or Unemployment is a significant predictor of mental health disorders\n",
    "### Significance of the question: Understanding the correlation between socio-economic factors and mental health can help identify vulnerable populations and provide support for economically weak population.\n",
    "\n",
    "\n",
    "\n",
    "### Question2: What role does marijuana use play in the aggravation of mental health disorders?\n",
    "### Hypothesis 2: Frequent marijuana use is more common in states where marijuana is legalized, and this is associated with a higher prevalence of depression.\n",
    "### •\tUnderstanding the relationship between marijuana use and mental health will help us to answer sensitive questions like should marijuana be banned all over the world\n",
    "\n",
    "\n",
    "\n",
    "\n",
    "### Question 3: What role does hallucinogens play in mental health disorders?\n",
    "### Hypothesis 3: Unregulated use of hallucinogens can cause mental health problems like anxiety and depression.\n",
    "### •\tUnderstanding the relationship between use of various hallucinogens and mental health will suggest us to regulate the supply of medical hallucinogens\n"
   ]
  },
  {
   "cell_type": "markdown",
   "id": "f7025341-2e66-423f-8402-84be045dda7b",
   "metadata": {},
   "source": [
    "#We will first perform the basic data cleaning steps and then perform EDA "
   ]
  },
  {
   "cell_type": "code",
   "execution_count": 8,
   "id": "b5efc9d1-b40c-4b83-aea5-2db71c42c793",
   "metadata": {},
   "outputs": [
    {
     "data": {
      "text/html": [
       "<div>\n",
       "<style scoped>\n",
       "    .dataframe tbody tr th:only-of-type {\n",
       "        vertical-align: middle;\n",
       "    }\n",
       "\n",
       "    .dataframe tbody tr th {\n",
       "        vertical-align: top;\n",
       "    }\n",
       "\n",
       "    .dataframe thead th {\n",
       "        text-align: right;\n",
       "    }\n",
       "</style>\n",
       "<table border=\"1\" class=\"dataframe\">\n",
       "  <thead>\n",
       "    <tr style=\"text-align: right;\">\n",
       "      <th></th>\n",
       "      <th>QUESTID2</th>\n",
       "      <th>FILEDATE</th>\n",
       "      <th>CIGEVER</th>\n",
       "      <th>CIGOFRSM</th>\n",
       "      <th>CIGWILYR</th>\n",
       "      <th>CIGTRY</th>\n",
       "      <th>CIGYFU</th>\n",
       "      <th>CIGMFU</th>\n",
       "      <th>CIGREC</th>\n",
       "      <th>CIG30USE</th>\n",
       "      <th>...</th>\n",
       "      <th>POVERTY3</th>\n",
       "      <th>TOOLONG</th>\n",
       "      <th>TROUBUND</th>\n",
       "      <th>PDEN10</th>\n",
       "      <th>COUTYP4</th>\n",
       "      <th>MAIIN102</th>\n",
       "      <th>AIIND102</th>\n",
       "      <th>ANALWT_C</th>\n",
       "      <th>VESTR</th>\n",
       "      <th>VEREP</th>\n",
       "    </tr>\n",
       "  </thead>\n",
       "  <tbody>\n",
       "    <tr>\n",
       "      <th>0</th>\n",
       "      <td>43295143</td>\n",
       "      <td>10/09/2020</td>\n",
       "      <td>1</td>\n",
       "      <td>99</td>\n",
       "      <td>99</td>\n",
       "      <td>13</td>\n",
       "      <td>9999</td>\n",
       "      <td>99</td>\n",
       "      <td>4</td>\n",
       "      <td>93</td>\n",
       "      <td>...</td>\n",
       "      <td>3.0</td>\n",
       "      <td>2</td>\n",
       "      <td>2</td>\n",
       "      <td>2</td>\n",
       "      <td>2</td>\n",
       "      <td>2</td>\n",
       "      <td>2</td>\n",
       "      <td>6613.865723</td>\n",
       "      <td>40004</td>\n",
       "      <td>2</td>\n",
       "    </tr>\n",
       "    <tr>\n",
       "      <th>1</th>\n",
       "      <td>65095143</td>\n",
       "      <td>10/09/2020</td>\n",
       "      <td>2</td>\n",
       "      <td>99</td>\n",
       "      <td>99</td>\n",
       "      <td>991</td>\n",
       "      <td>9991</td>\n",
       "      <td>91</td>\n",
       "      <td>91</td>\n",
       "      <td>91</td>\n",
       "      <td>...</td>\n",
       "      <td>3.0</td>\n",
       "      <td>2</td>\n",
       "      <td>2</td>\n",
       "      <td>2</td>\n",
       "      <td>2</td>\n",
       "      <td>2</td>\n",
       "      <td>2</td>\n",
       "      <td>6321.580566</td>\n",
       "      <td>40003</td>\n",
       "      <td>1</td>\n",
       "    </tr>\n",
       "    <tr>\n",
       "      <th>2</th>\n",
       "      <td>49405143</td>\n",
       "      <td>10/09/2020</td>\n",
       "      <td>1</td>\n",
       "      <td>99</td>\n",
       "      <td>99</td>\n",
       "      <td>22</td>\n",
       "      <td>9999</td>\n",
       "      <td>99</td>\n",
       "      <td>4</td>\n",
       "      <td>93</td>\n",
       "      <td>...</td>\n",
       "      <td>3.0</td>\n",
       "      <td>2</td>\n",
       "      <td>2</td>\n",
       "      <td>2</td>\n",
       "      <td>2</td>\n",
       "      <td>2</td>\n",
       "      <td>2</td>\n",
       "      <td>5045.607422</td>\n",
       "      <td>40008</td>\n",
       "      <td>1</td>\n",
       "    </tr>\n",
       "    <tr>\n",
       "      <th>3</th>\n",
       "      <td>51015143</td>\n",
       "      <td>10/09/2020</td>\n",
       "      <td>2</td>\n",
       "      <td>99</td>\n",
       "      <td>99</td>\n",
       "      <td>991</td>\n",
       "      <td>9991</td>\n",
       "      <td>91</td>\n",
       "      <td>91</td>\n",
       "      <td>91</td>\n",
       "      <td>...</td>\n",
       "      <td>1.0</td>\n",
       "      <td>2</td>\n",
       "      <td>2</td>\n",
       "      <td>2</td>\n",
       "      <td>2</td>\n",
       "      <td>2</td>\n",
       "      <td>2</td>\n",
       "      <td>2419.558838</td>\n",
       "      <td>40031</td>\n",
       "      <td>1</td>\n",
       "    </tr>\n",
       "    <tr>\n",
       "      <th>4</th>\n",
       "      <td>31825143</td>\n",
       "      <td>10/09/2020</td>\n",
       "      <td>2</td>\n",
       "      <td>99</td>\n",
       "      <td>99</td>\n",
       "      <td>991</td>\n",
       "      <td>9991</td>\n",
       "      <td>91</td>\n",
       "      <td>91</td>\n",
       "      <td>91</td>\n",
       "      <td>...</td>\n",
       "      <td>3.0</td>\n",
       "      <td>2</td>\n",
       "      <td>2</td>\n",
       "      <td>2</td>\n",
       "      <td>2</td>\n",
       "      <td>2</td>\n",
       "      <td>2</td>\n",
       "      <td>575.225464</td>\n",
       "      <td>40010</td>\n",
       "      <td>2</td>\n",
       "    </tr>\n",
       "  </tbody>\n",
       "</table>\n",
       "<p>5 rows × 2741 columns</p>\n",
       "</div>"
      ],
      "text/plain": [
       "   QUESTID2    FILEDATE  CIGEVER  CIGOFRSM  CIGWILYR  CIGTRY  CIGYFU  CIGMFU  \\\n",
       "0  43295143  10/09/2020        1        99        99      13    9999      99   \n",
       "1  65095143  10/09/2020        2        99        99     991    9991      91   \n",
       "2  49405143  10/09/2020        1        99        99      22    9999      99   \n",
       "3  51015143  10/09/2020        2        99        99     991    9991      91   \n",
       "4  31825143  10/09/2020        2        99        99     991    9991      91   \n",
       "\n",
       "   CIGREC  CIG30USE  ...  POVERTY3  TOOLONG  TROUBUND  PDEN10  COUTYP4  \\\n",
       "0       4        93  ...       3.0        2         2       2        2   \n",
       "1      91        91  ...       3.0        2         2       2        2   \n",
       "2       4        93  ...       3.0        2         2       2        2   \n",
       "3      91        91  ...       1.0        2         2       2        2   \n",
       "4      91        91  ...       3.0        2         2       2        2   \n",
       "\n",
       "   MAIIN102  AIIND102     ANALWT_C  VESTR  VEREP  \n",
       "0         2         2  6613.865723  40004      2  \n",
       "1         2         2  6321.580566  40003      1  \n",
       "2         2         2  5045.607422  40008      1  \n",
       "3         2         2  2419.558838  40031      1  \n",
       "4         2         2   575.225464  40010      2  \n",
       "\n",
       "[5 rows x 2741 columns]"
      ]
     },
     "execution_count": 8,
     "metadata": {},
     "output_type": "execute_result"
    }
   ],
   "source": [
    "df.head()"
   ]
  },
  {
   "cell_type": "code",
   "execution_count": 9,
   "id": "05a46504-1236-4fbe-bda1-8a2f516bce1e",
   "metadata": {},
   "outputs": [
    {
     "data": {
      "text/plain": [
       "(56136, 2741)"
      ]
     },
     "execution_count": 9,
     "metadata": {},
     "output_type": "execute_result"
    }
   ],
   "source": [
    "df.shape"
   ]
  },
  {
   "cell_type": "code",
   "execution_count": 10,
   "id": "cd78d40c-45b4-4d53-9ea3-b45c929f3e85",
   "metadata": {},
   "outputs": [
    {
     "name": "stdout",
     "output_type": "stream",
     "text": [
      "<class 'pandas.core.frame.DataFrame'>\n",
      "RangeIndex: 56136 entries, 0 to 56135\n",
      "Columns: 2741 entries, QUESTID2 to VEREP\n",
      "dtypes: float32(407), int64(2332), object(2)\n",
      "memory usage: 1.1+ GB\n"
     ]
    }
   ],
   "source": [
    "df.info()"
   ]
  },
  {
   "cell_type": "code",
   "execution_count": 11,
   "id": "9068faa7-0ea6-437a-9477-1856cc52107a",
   "metadata": {},
   "outputs": [
    {
     "data": {
      "text/html": [
       "<div>\n",
       "<style scoped>\n",
       "    .dataframe tbody tr th:only-of-type {\n",
       "        vertical-align: middle;\n",
       "    }\n",
       "\n",
       "    .dataframe tbody tr th {\n",
       "        vertical-align: top;\n",
       "    }\n",
       "\n",
       "    .dataframe thead th {\n",
       "        text-align: right;\n",
       "    }\n",
       "</style>\n",
       "<table border=\"1\" class=\"dataframe\">\n",
       "  <thead>\n",
       "    <tr style=\"text-align: right;\">\n",
       "      <th></th>\n",
       "      <th>QUESTID2</th>\n",
       "      <th>CIGEVER</th>\n",
       "      <th>CIGOFRSM</th>\n",
       "      <th>CIGWILYR</th>\n",
       "      <th>CIGTRY</th>\n",
       "      <th>CIGYFU</th>\n",
       "      <th>CIGMFU</th>\n",
       "      <th>CIGREC</th>\n",
       "      <th>CIG30USE</th>\n",
       "      <th>CG30EST</th>\n",
       "      <th>...</th>\n",
       "      <th>POVERTY3</th>\n",
       "      <th>TOOLONG</th>\n",
       "      <th>TROUBUND</th>\n",
       "      <th>PDEN10</th>\n",
       "      <th>COUTYP4</th>\n",
       "      <th>MAIIN102</th>\n",
       "      <th>AIIND102</th>\n",
       "      <th>ANALWT_C</th>\n",
       "      <th>VESTR</th>\n",
       "      <th>VEREP</th>\n",
       "    </tr>\n",
       "  </thead>\n",
       "  <tbody>\n",
       "    <tr>\n",
       "      <th>count</th>\n",
       "      <td>5.613600e+04</td>\n",
       "      <td>56136.000000</td>\n",
       "      <td>56136.000000</td>\n",
       "      <td>56136.000000</td>\n",
       "      <td>56136.000000</td>\n",
       "      <td>56136.000000</td>\n",
       "      <td>56136.000000</td>\n",
       "      <td>56136.000000</td>\n",
       "      <td>56136.000000</td>\n",
       "      <td>56136.000000</td>\n",
       "      <td>...</td>\n",
       "      <td>55609.000000</td>\n",
       "      <td>56136.000000</td>\n",
       "      <td>56136.000000</td>\n",
       "      <td>56136.000000</td>\n",
       "      <td>56136.000000</td>\n",
       "      <td>56136.000000</td>\n",
       "      <td>56136.000000</td>\n",
       "      <td>56136.000000</td>\n",
       "      <td>56136.000000</td>\n",
       "      <td>56136.000000</td>\n",
       "    </tr>\n",
       "    <tr>\n",
       "      <th>mean</th>\n",
       "      <td>5.434607e+07</td>\n",
       "      <td>1.542700</td>\n",
       "      <td>78.595554</td>\n",
       "      <td>78.605458</td>\n",
       "      <td>550.575816</td>\n",
       "      <td>9840.048846</td>\n",
       "      <td>92.951600</td>\n",
       "      <td>50.651080</td>\n",
       "      <td>80.111248</td>\n",
       "      <td>92.784915</td>\n",
       "      <td>...</td>\n",
       "      <td>2.427179</td>\n",
       "      <td>2.173650</td>\n",
       "      <td>2.199854</td>\n",
       "      <td>1.662997</td>\n",
       "      <td>1.747827</td>\n",
       "      <td>1.982827</td>\n",
       "      <td>1.982560</td>\n",
       "      <td>4902.758301</td>\n",
       "      <td>40025.570899</td>\n",
       "      <td>1.504400</td>\n",
       "    </tr>\n",
       "    <tr>\n",
       "      <th>std</th>\n",
       "      <td>2.563167e+07</td>\n",
       "      <td>0.498178</td>\n",
       "      <td>39.056828</td>\n",
       "      <td>39.037478</td>\n",
       "      <td>485.236660</td>\n",
       "      <td>1099.156156</td>\n",
       "      <td>12.225758</td>\n",
       "      <td>43.980321</td>\n",
       "      <td>26.734751</td>\n",
       "      <td>4.208800</td>\n",
       "      <td>...</td>\n",
       "      <td>0.776759</td>\n",
       "      <td>4.797938</td>\n",
       "      <td>4.794185</td>\n",
       "      <td>0.627146</td>\n",
       "      <td>0.762371</td>\n",
       "      <td>0.129915</td>\n",
       "      <td>0.130904</td>\n",
       "      <td>5952.114746</td>\n",
       "      <td>14.388113</td>\n",
       "      <td>0.499985</td>\n",
       "    </tr>\n",
       "    <tr>\n",
       "      <th>min</th>\n",
       "      <td>1.000945e+07</td>\n",
       "      <td>1.000000</td>\n",
       "      <td>1.000000</td>\n",
       "      <td>1.000000</td>\n",
       "      <td>1.000000</td>\n",
       "      <td>2017.000000</td>\n",
       "      <td>1.000000</td>\n",
       "      <td>1.000000</td>\n",
       "      <td>1.000000</td>\n",
       "      <td>1.000000</td>\n",
       "      <td>...</td>\n",
       "      <td>1.000000</td>\n",
       "      <td>1.000000</td>\n",
       "      <td>1.000000</td>\n",
       "      <td>1.000000</td>\n",
       "      <td>1.000000</td>\n",
       "      <td>1.000000</td>\n",
       "      <td>1.000000</td>\n",
       "      <td>3.581148</td>\n",
       "      <td>40001.000000</td>\n",
       "      <td>1.000000</td>\n",
       "    </tr>\n",
       "    <tr>\n",
       "      <th>25%</th>\n",
       "      <td>3.198245e+07</td>\n",
       "      <td>1.000000</td>\n",
       "      <td>99.000000</td>\n",
       "      <td>99.000000</td>\n",
       "      <td>16.000000</td>\n",
       "      <td>9991.000000</td>\n",
       "      <td>91.000000</td>\n",
       "      <td>3.000000</td>\n",
       "      <td>91.000000</td>\n",
       "      <td>91.000000</td>\n",
       "      <td>...</td>\n",
       "      <td>2.000000</td>\n",
       "      <td>2.000000</td>\n",
       "      <td>2.000000</td>\n",
       "      <td>1.000000</td>\n",
       "      <td>1.000000</td>\n",
       "      <td>2.000000</td>\n",
       "      <td>2.000000</td>\n",
       "      <td>1262.476593</td>\n",
       "      <td>40013.000000</td>\n",
       "      <td>1.000000</td>\n",
       "    </tr>\n",
       "    <tr>\n",
       "      <th>50%</th>\n",
       "      <td>5.403939e+07</td>\n",
       "      <td>2.000000</td>\n",
       "      <td>99.000000</td>\n",
       "      <td>99.000000</td>\n",
       "      <td>991.000000</td>\n",
       "      <td>9991.000000</td>\n",
       "      <td>91.000000</td>\n",
       "      <td>91.000000</td>\n",
       "      <td>91.000000</td>\n",
       "      <td>91.000000</td>\n",
       "      <td>...</td>\n",
       "      <td>3.000000</td>\n",
       "      <td>2.000000</td>\n",
       "      <td>2.000000</td>\n",
       "      <td>2.000000</td>\n",
       "      <td>2.000000</td>\n",
       "      <td>2.000000</td>\n",
       "      <td>2.000000</td>\n",
       "      <td>2855.374878</td>\n",
       "      <td>40025.000000</td>\n",
       "      <td>2.000000</td>\n",
       "    </tr>\n",
       "    <tr>\n",
       "      <th>75%</th>\n",
       "      <td>7.625105e+07</td>\n",
       "      <td>2.000000</td>\n",
       "      <td>99.000000</td>\n",
       "      <td>99.000000</td>\n",
       "      <td>991.000000</td>\n",
       "      <td>9999.000000</td>\n",
       "      <td>99.000000</td>\n",
       "      <td>91.000000</td>\n",
       "      <td>93.000000</td>\n",
       "      <td>93.000000</td>\n",
       "      <td>...</td>\n",
       "      <td>3.000000</td>\n",
       "      <td>2.000000</td>\n",
       "      <td>2.000000</td>\n",
       "      <td>2.000000</td>\n",
       "      <td>2.000000</td>\n",
       "      <td>2.000000</td>\n",
       "      <td>2.000000</td>\n",
       "      <td>6076.500732</td>\n",
       "      <td>40038.000000</td>\n",
       "      <td>2.000000</td>\n",
       "    </tr>\n",
       "    <tr>\n",
       "      <th>max</th>\n",
       "      <td>9.999669e+07</td>\n",
       "      <td>2.000000</td>\n",
       "      <td>99.000000</td>\n",
       "      <td>99.000000</td>\n",
       "      <td>997.000000</td>\n",
       "      <td>9999.000000</td>\n",
       "      <td>99.000000</td>\n",
       "      <td>91.000000</td>\n",
       "      <td>98.000000</td>\n",
       "      <td>99.000000</td>\n",
       "      <td>...</td>\n",
       "      <td>3.000000</td>\n",
       "      <td>98.000000</td>\n",
       "      <td>98.000000</td>\n",
       "      <td>3.000000</td>\n",
       "      <td>3.000000</td>\n",
       "      <td>2.000000</td>\n",
       "      <td>2.000000</td>\n",
       "      <td>77284.484375</td>\n",
       "      <td>40050.000000</td>\n",
       "      <td>2.000000</td>\n",
       "    </tr>\n",
       "  </tbody>\n",
       "</table>\n",
       "<p>8 rows × 2739 columns</p>\n",
       "</div>"
      ],
      "text/plain": [
       "           QUESTID2       CIGEVER      CIGOFRSM      CIGWILYR        CIGTRY  \\\n",
       "count  5.613600e+04  56136.000000  56136.000000  56136.000000  56136.000000   \n",
       "mean   5.434607e+07      1.542700     78.595554     78.605458    550.575816   \n",
       "std    2.563167e+07      0.498178     39.056828     39.037478    485.236660   \n",
       "min    1.000945e+07      1.000000      1.000000      1.000000      1.000000   \n",
       "25%    3.198245e+07      1.000000     99.000000     99.000000     16.000000   \n",
       "50%    5.403939e+07      2.000000     99.000000     99.000000    991.000000   \n",
       "75%    7.625105e+07      2.000000     99.000000     99.000000    991.000000   \n",
       "max    9.999669e+07      2.000000     99.000000     99.000000    997.000000   \n",
       "\n",
       "             CIGYFU        CIGMFU        CIGREC      CIG30USE       CG30EST  \\\n",
       "count  56136.000000  56136.000000  56136.000000  56136.000000  56136.000000   \n",
       "mean    9840.048846     92.951600     50.651080     80.111248     92.784915   \n",
       "std     1099.156156     12.225758     43.980321     26.734751      4.208800   \n",
       "min     2017.000000      1.000000      1.000000      1.000000      1.000000   \n",
       "25%     9991.000000     91.000000      3.000000     91.000000     91.000000   \n",
       "50%     9991.000000     91.000000     91.000000     91.000000     91.000000   \n",
       "75%     9999.000000     99.000000     91.000000     93.000000     93.000000   \n",
       "max     9999.000000     99.000000     91.000000     98.000000     99.000000   \n",
       "\n",
       "       ...      POVERTY3       TOOLONG      TROUBUND        PDEN10  \\\n",
       "count  ...  55609.000000  56136.000000  56136.000000  56136.000000   \n",
       "mean   ...      2.427179      2.173650      2.199854      1.662997   \n",
       "std    ...      0.776759      4.797938      4.794185      0.627146   \n",
       "min    ...      1.000000      1.000000      1.000000      1.000000   \n",
       "25%    ...      2.000000      2.000000      2.000000      1.000000   \n",
       "50%    ...      3.000000      2.000000      2.000000      2.000000   \n",
       "75%    ...      3.000000      2.000000      2.000000      2.000000   \n",
       "max    ...      3.000000     98.000000     98.000000      3.000000   \n",
       "\n",
       "            COUTYP4      MAIIN102      AIIND102      ANALWT_C         VESTR  \\\n",
       "count  56136.000000  56136.000000  56136.000000  56136.000000  56136.000000   \n",
       "mean       1.747827      1.982827      1.982560   4902.758301  40025.570899   \n",
       "std        0.762371      0.129915      0.130904   5952.114746     14.388113   \n",
       "min        1.000000      1.000000      1.000000      3.581148  40001.000000   \n",
       "25%        1.000000      2.000000      2.000000   1262.476593  40013.000000   \n",
       "50%        2.000000      2.000000      2.000000   2855.374878  40025.000000   \n",
       "75%        2.000000      2.000000      2.000000   6076.500732  40038.000000   \n",
       "max        3.000000      2.000000      2.000000  77284.484375  40050.000000   \n",
       "\n",
       "              VEREP  \n",
       "count  56136.000000  \n",
       "mean       1.504400  \n",
       "std        0.499985  \n",
       "min        1.000000  \n",
       "25%        1.000000  \n",
       "50%        2.000000  \n",
       "75%        2.000000  \n",
       "max        2.000000  \n",
       "\n",
       "[8 rows x 2739 columns]"
      ]
     },
     "execution_count": 11,
     "metadata": {},
     "output_type": "execute_result"
    }
   ],
   "source": [
    "df.describe()"
   ]
  },
  {
   "cell_type": "code",
   "execution_count": 12,
   "id": "d2d6caaf-40c2-447a-83d8-a2c311b9d5af",
   "metadata": {},
   "outputs": [
    {
     "data": {
      "text/plain": [
       "Index(['QUESTID2', 'FILEDATE', 'CIGEVER', 'CIGOFRSM', 'CIGWILYR', 'CIGTRY',\n",
       "       'CIGYFU', 'CIGMFU', 'CIGREC', 'CIG30USE',\n",
       "       ...\n",
       "       'POVERTY3', 'TOOLONG', 'TROUBUND', 'PDEN10', 'COUTYP4', 'MAIIN102',\n",
       "       'AIIND102', 'ANALWT_C', 'VESTR', 'VEREP'],\n",
       "      dtype='object', length=2741)"
      ]
     },
     "execution_count": 12,
     "metadata": {},
     "output_type": "execute_result"
    }
   ],
   "source": [
    "df.columns"
   ]
  },
  {
   "cell_type": "code",
   "execution_count": 13,
   "id": "d93df249-c5c2-47dd-afed-302c681cb2aa",
   "metadata": {},
   "outputs": [],
   "source": [
    "filtered_df=df.copy()"
   ]
  },
  {
   "cell_type": "markdown",
   "id": "81d3f1ae-12ef-46f6-ae6d-4b0367dd611a",
   "metadata": {},
   "source": [
    "Selecting only required columns from the entire dataset (This is an iterative step after performing EDA)"
   ]
  },
  {
   "cell_type": "code",
   "execution_count": 14,
   "id": "bc28ed22-1bd3-4e10-9e80-c628bd4ef2f6",
   "metadata": {},
   "outputs": [],
   "source": [
    "desired_columns = [\n",
    "    'QUESTID2', 'IRWRKSTAT', 'IREDUHIGHST2', 'INCOME', 'IRSEX', 'MJEVER',\n",
    "    'PNRANYLIF', 'COUTYP4', 'MEDMJPA2', 'DSTCHR30', 'ADDPREV', 'LSD', 'PCP', 'PEYOTE', 'MESC', 'PSILCY', 'ECSTMOLLY', 'KETMINESK', 'DMTAMTFXY', 'SALVIADIV', 'HALLUCOTH'\n",
    "]\n",
    "\n",
    "filtered_df = df[desired_columns]\n",
    "\n"
   ]
  },
  {
   "cell_type": "code",
   "execution_count": 15,
   "id": "1d4f35a9-6cfe-48c7-a089-8ce1fdb8894a",
   "metadata": {},
   "outputs": [],
   "source": [
    "#We have various hallucinogens in our dataset we can standardize the mapping and remove the unwanted data \n",
    "#like \"Dont know\", \"Refused\" etc with nan values "
   ]
  },
  {
   "cell_type": "code",
   "execution_count": 16,
   "id": "1e8cf6b3-3eeb-4b8a-aa0f-dc6e1c6b4d3f",
   "metadata": {},
   "outputs": [
    {
     "name": "stderr",
     "output_type": "stream",
     "text": [
      "C:\\Users\\Rama Rao\\AppData\\Local\\Temp\\ipykernel_17120\\1422645912.py:11: SettingWithCopyWarning: \n",
      "A value is trying to be set on a copy of a slice from a DataFrame.\n",
      "Try using .loc[row_indexer,col_indexer] = value instead\n",
      "\n",
      "See the caveats in the documentation: https://pandas.pydata.org/pandas-docs/stable/user_guide/indexing.html#returning-a-view-versus-a-copy\n",
      "  filtered_df['LSD'] = filtered_df['LSD'].map(lsd_mapping)\n"
     ]
    }
   ],
   "source": [
    "lsd_mapping = {\n",
    "    1: 'Yes',  # \"Yes\"\n",
    "    2: 'No',   # \"No\"\n",
    "    3: 'Yes',  # \"Yes logically assigned\"\n",
    "    91: 'No',  # \"Never used hallucinogens\"\n",
    "    94: np.nan,  # \"Don't know\" replaced with NaN\n",
    "    97: np.nan   # \"Refused\" replaced with NaN\n",
    "}\n",
    "\n",
    "# Apply the mapping to the 'LSD' column\n",
    "filtered_df['LSD'] = filtered_df['LSD'].map(lsd_mapping)"
   ]
  },
  {
   "cell_type": "code",
   "execution_count": 17,
   "id": "2e315c38-8279-4445-bd79-a7de13acb356",
   "metadata": {},
   "outputs": [],
   "source": [
    "#we can create similar mapping for all hallucinogens"
   ]
  },
  {
   "cell_type": "code",
   "execution_count": 18,
   "id": "68f0783c-957f-4033-a56a-afea0d155435",
   "metadata": {},
   "outputs": [
    {
     "name": "stderr",
     "output_type": "stream",
     "text": [
      "C:\\Users\\Rama Rao\\AppData\\Local\\Temp\\ipykernel_17120\\497884309.py:12: SettingWithCopyWarning: \n",
      "A value is trying to be set on a copy of a slice from a DataFrame.\n",
      "Try using .loc[row_indexer,col_indexer] = value instead\n",
      "\n",
      "See the caveats in the documentation: https://pandas.pydata.org/pandas-docs/stable/user_guide/indexing.html#returning-a-view-versus-a-copy\n",
      "  filtered_df[col] = filtered_df[col].map(substance_mapping)\n"
     ]
    }
   ],
   "source": [
    "substance_mapping = {\n",
    "    1: 'Yes',  # \"Yes\"\n",
    "    2: 'No',   # \"No\"\n",
    "    91: 'No',  # \"Never used hallucinogens\"\n",
    "    94: np.nan,  # \"Don't know\" replaced with NaN\n",
    "    97: np.nan   # \"Refused\" replaced with NaN\n",
    "}\n",
    "\n",
    "substance_columns = ['PCP', 'PEYOTE', 'MESC', 'PSILCY', 'ECSTMOLLY', 'KETMINESK', 'DMTAMTFXY', 'SALVIADIV', 'HALLUCOTH']\n",
    "\n",
    "for col in substance_columns:\n",
    "    filtered_df[col] = filtered_df[col].map(substance_mapping)"
   ]
  },
  {
   "cell_type": "code",
   "execution_count": 19,
   "id": "9f098fd3-d3cf-45a2-9130-667cf61282d0",
   "metadata": {},
   "outputs": [],
   "source": [
    "# Since we have a lot of hallucinogens we can generalize the use of them by creating a new column which will have yes if any one of the \n",
    "#hallucinogens in dataset is used"
   ]
  },
  {
   "cell_type": "code",
   "execution_count": 20,
   "id": "affcecb4-dc89-47e4-a079-4a83be65d6fe",
   "metadata": {},
   "outputs": [
    {
     "name": "stderr",
     "output_type": "stream",
     "text": [
      "C:\\Users\\Rama Rao\\AppData\\Local\\Temp\\ipykernel_17120\\3382138147.py:3: SettingWithCopyWarning: \n",
      "A value is trying to be set on a copy of a slice from a DataFrame.\n",
      "Try using .loc[row_indexer,col_indexer] = value instead\n",
      "\n",
      "See the caveats in the documentation: https://pandas.pydata.org/pandas-docs/stable/user_guide/indexing.html#returning-a-view-versus-a-copy\n",
      "  filtered_df['hallucinogens'] = filtered_df[hallucinogen_columns].apply(\n"
     ]
    }
   ],
   "source": [
    "hallucinogen_columns = ['LSD', 'PCP', 'PEYOTE', 'MESC', 'PSILCY', 'ECSTMOLLY', 'KETMINESK', 'DMTAMTFXY', 'SALVIADIV', 'HALLUCOTH']\n",
    "\n",
    "filtered_df['hallucinogens'] = filtered_df[hallucinogen_columns].apply(\n",
    "    lambda row: 'Yes' if 'Yes' in row.values else ('No' if all(val == 'No' for val in row.values) else np.nan), axis=1\n",
    ")"
   ]
  },
  {
   "cell_type": "code",
   "execution_count": 21,
   "id": "cd5416fa-6486-43ff-a0c5-6c73378840cd",
   "metadata": {},
   "outputs": [],
   "source": [
    "# Now only considering hallucination column created in filtered_df\n",
    "desired_columns = [\n",
    "    'QUESTID2', 'IRWRKSTAT', 'IREDUHIGHST2', 'INCOME', 'IRSEX', 'MJEVER',\n",
    "    'PNRANYLIF', 'COUTYP4', 'MEDMJPA2', 'DSTCHR30', 'ADDPREV', 'hallucinogens' ]\n",
    "\n",
    "filtered_df = filtered_df[desired_columns]\n",
    "\n"
   ]
  },
  {
   "cell_type": "markdown",
   "id": "0ccddbd8-4248-4b9c-9dcb-899b9fb8adf7",
   "metadata": {
    "jp-MarkdownHeadingCollapsed": true
   },
   "source": [
    "### Data Cleaning"
   ]
  },
  {
   "cell_type": "code",
   "execution_count": 22,
   "id": "311d7d08-9500-421a-b797-f6f6f1f261c3",
   "metadata": {},
   "outputs": [
    {
     "data": {
      "text/html": [
       "<div>\n",
       "<style scoped>\n",
       "    .dataframe tbody tr th:only-of-type {\n",
       "        vertical-align: middle;\n",
       "    }\n",
       "\n",
       "    .dataframe tbody tr th {\n",
       "        vertical-align: top;\n",
       "    }\n",
       "\n",
       "    .dataframe thead th {\n",
       "        text-align: right;\n",
       "    }\n",
       "</style>\n",
       "<table border=\"1\" class=\"dataframe\">\n",
       "  <thead>\n",
       "    <tr style=\"text-align: right;\">\n",
       "      <th></th>\n",
       "      <th>QUESTID2</th>\n",
       "      <th>IRWRKSTAT</th>\n",
       "      <th>IREDUHIGHST2</th>\n",
       "      <th>INCOME</th>\n",
       "      <th>IRSEX</th>\n",
       "      <th>MJEVER</th>\n",
       "      <th>PNRANYLIF</th>\n",
       "      <th>COUTYP4</th>\n",
       "      <th>MEDMJPA2</th>\n",
       "      <th>DSTCHR30</th>\n",
       "      <th>ADDPREV</th>\n",
       "      <th>hallucinogens</th>\n",
       "    </tr>\n",
       "  </thead>\n",
       "  <tbody>\n",
       "    <tr>\n",
       "      <th>0</th>\n",
       "      <td>43295143</td>\n",
       "      <td>1</td>\n",
       "      <td>11</td>\n",
       "      <td>4</td>\n",
       "      <td>1</td>\n",
       "      <td>1</td>\n",
       "      <td>1</td>\n",
       "      <td>2</td>\n",
       "      <td>2</td>\n",
       "      <td>3</td>\n",
       "      <td>1</td>\n",
       "      <td>No</td>\n",
       "    </tr>\n",
       "    <tr>\n",
       "      <th>1</th>\n",
       "      <td>65095143</td>\n",
       "      <td>1</td>\n",
       "      <td>11</td>\n",
       "      <td>4</td>\n",
       "      <td>2</td>\n",
       "      <td>2</td>\n",
       "      <td>1</td>\n",
       "      <td>2</td>\n",
       "      <td>1</td>\n",
       "      <td>5</td>\n",
       "      <td>1</td>\n",
       "      <td>No</td>\n",
       "    </tr>\n",
       "    <tr>\n",
       "      <th>2</th>\n",
       "      <td>49405143</td>\n",
       "      <td>1</td>\n",
       "      <td>11</td>\n",
       "      <td>4</td>\n",
       "      <td>1</td>\n",
       "      <td>1</td>\n",
       "      <td>1</td>\n",
       "      <td>2</td>\n",
       "      <td>1</td>\n",
       "      <td>5</td>\n",
       "      <td>2</td>\n",
       "      <td>No</td>\n",
       "    </tr>\n",
       "    <tr>\n",
       "      <th>3</th>\n",
       "      <td>51015143</td>\n",
       "      <td>4</td>\n",
       "      <td>6</td>\n",
       "      <td>1</td>\n",
       "      <td>2</td>\n",
       "      <td>2</td>\n",
       "      <td>1</td>\n",
       "      <td>2</td>\n",
       "      <td>1</td>\n",
       "      <td>4</td>\n",
       "      <td>2</td>\n",
       "      <td>No</td>\n",
       "    </tr>\n",
       "    <tr>\n",
       "      <th>4</th>\n",
       "      <td>31825143</td>\n",
       "      <td>4</td>\n",
       "      <td>7</td>\n",
       "      <td>4</td>\n",
       "      <td>1</td>\n",
       "      <td>2</td>\n",
       "      <td>2</td>\n",
       "      <td>2</td>\n",
       "      <td>1</td>\n",
       "      <td>4</td>\n",
       "      <td>1</td>\n",
       "      <td>No</td>\n",
       "    </tr>\n",
       "  </tbody>\n",
       "</table>\n",
       "</div>"
      ],
      "text/plain": [
       "   QUESTID2  IRWRKSTAT  IREDUHIGHST2  INCOME  IRSEX  MJEVER  PNRANYLIF  \\\n",
       "0  43295143          1            11       4      1       1          1   \n",
       "1  65095143          1            11       4      2       2          1   \n",
       "2  49405143          1            11       4      1       1          1   \n",
       "3  51015143          4             6       1      2       2          1   \n",
       "4  31825143          4             7       4      1       2          2   \n",
       "\n",
       "   COUTYP4  MEDMJPA2  DSTCHR30  ADDPREV hallucinogens  \n",
       "0        2         2         3        1            No  \n",
       "1        2         1         5        1            No  \n",
       "2        2         1         5        2            No  \n",
       "3        2         1         4        2            No  \n",
       "4        2         1         4        1            No  "
      ]
     },
     "execution_count": 22,
     "metadata": {},
     "output_type": "execute_result"
    }
   ],
   "source": [
    "filtered_df.head()"
   ]
  },
  {
   "cell_type": "markdown",
   "id": "3530f8ab-2bba-4479-a848-816d5fb5c4e5",
   "metadata": {},
   "source": [
    "### Handling Special codes like Bad Data, Legitimate Skip etc in depression column which does not add value to the analysis"
   ]
  },
  {
   "cell_type": "markdown",
   "id": "d745b126-280d-4cc9-8a56-bb0048aed034",
   "metadata": {},
   "source": [
    "Replace special codes which does not add value with NaN values\n",
    "85: 'Bad Data',\n",
    "97: 'Refused',\n",
    "98: 'Blank',\n",
    "99: 'Legitimate Skip'"
   ]
  },
  {
   "cell_type": "code",
   "execution_count": 23,
   "id": "08f8ae4c-318c-4f75-810c-c28401e25cc7",
   "metadata": {},
   "outputs": [
    {
     "name": "stderr",
     "output_type": "stream",
     "text": [
      "C:\\Users\\Rama Rao\\AppData\\Local\\Temp\\ipykernel_17120\\2321724339.py:1: FutureWarning: A value is trying to be set on a copy of a DataFrame or Series through chained assignment using an inplace method.\n",
      "The behavior will change in pandas 3.0. This inplace method will never work because the intermediate object on which we are setting values always behaves as a copy.\n",
      "\n",
      "For example, when doing 'df[col].method(value, inplace=True)', try using 'df.method({col: value}, inplace=True)' or df[col] = df[col].method(value) instead, to perform the operation inplace on the original object.\n",
      "\n",
      "\n",
      "  filtered_df['ADDPREV'].replace([85, 97, 98, 99], np.nan, inplace=True)\n"
     ]
    }
   ],
   "source": [
    "\n",
    "filtered_df['ADDPREV'].replace([85, 97, 98, 99], np.nan, inplace=True)\n"
   ]
  },
  {
   "cell_type": "code",
   "execution_count": 24,
   "id": "015e402b-d25a-4a4b-a84d-59abc40e3f88",
   "metadata": {},
   "outputs": [
    {
     "data": {
      "text/plain": [
       "array([ 1.,  2., nan, 94.])"
      ]
     },
     "execution_count": 24,
     "metadata": {},
     "output_type": "execute_result"
    }
   ],
   "source": [
    "filtered_df['ADDPREV'].unique()"
   ]
  },
  {
   "cell_type": "markdown",
   "id": "3754f8ff-d4c6-4655-bf27-0de69702d7a9",
   "metadata": {},
   "source": [
    "In the IRWRKSTAT (EMPLOYMENT STATUS) column - 99 indicates 12-14 year olds, this data might not be useful for analysis hence we can remove this data as these people might also be having some income, since we cannot say the exact income level it is better to drop these values "
   ]
  },
  {
   "cell_type": "code",
   "execution_count": 25,
   "id": "fa06ae38-2ea7-4622-be7e-7715428e7ef2",
   "metadata": {},
   "outputs": [
    {
     "name": "stderr",
     "output_type": "stream",
     "text": [
      "C:\\Users\\Rama Rao\\AppData\\Local\\Temp\\ipykernel_17120\\753615126.py:1: FutureWarning: A value is trying to be set on a copy of a DataFrame or Series through chained assignment using an inplace method.\n",
      "The behavior will change in pandas 3.0. This inplace method will never work because the intermediate object on which we are setting values always behaves as a copy.\n",
      "\n",
      "For example, when doing 'df[col].method(value, inplace=True)', try using 'df.method({col: value}, inplace=True)' or df[col] = df[col].method(value) instead, to perform the operation inplace on the original object.\n",
      "\n",
      "\n",
      "  filtered_df['IRWRKSTAT'].replace([99], np.nan, inplace=True)\n"
     ]
    }
   ],
   "source": [
    "\n",
    "filtered_df['IRWRKSTAT'].replace([99], np.nan, inplace=True)\n"
   ]
  },
  {
   "cell_type": "markdown",
   "id": "a67bf1f3-6501-44f5-b7e4-37eb7685dfa4",
   "metadata": {},
   "source": [
    "Since we have more than 11 levels of education in the dataset, we can categorize the education levels into 3 different levels which make more sense i.e Primary, Secondary and Higher education based on the grade studying"
   ]
  },
  {
   "cell_type": "code",
   "execution_count": 26,
   "id": "652fdb0e-f554-4beb-8f67-7b7a293b923a",
   "metadata": {},
   "outputs": [],
   "source": [
    "# Define a function to categorize the education levels\n",
    "def categorize_education(value):\n",
    "    if value < 7:\n",
    "        return 'primary education'\n",
    "    elif value in [8, 9]:\n",
    "        return 'intermediate education'\n",
    "    else:\n",
    "        return 'higher education'\n",
    "\n",
    "filtered_df['IREDUHIGHST2'] = filtered_df['IREDUHIGHST2'].apply(categorize_education)\n"
   ]
  },
  {
   "cell_type": "code",
   "execution_count": 27,
   "id": "6ddd5b99-34fb-4c2b-abab-9c298a93ccd3",
   "metadata": {},
   "outputs": [
    {
     "data": {
      "text/html": [
       "<div>\n",
       "<style scoped>\n",
       "    .dataframe tbody tr th:only-of-type {\n",
       "        vertical-align: middle;\n",
       "    }\n",
       "\n",
       "    .dataframe tbody tr th {\n",
       "        vertical-align: top;\n",
       "    }\n",
       "\n",
       "    .dataframe thead th {\n",
       "        text-align: right;\n",
       "    }\n",
       "</style>\n",
       "<table border=\"1\" class=\"dataframe\">\n",
       "  <thead>\n",
       "    <tr style=\"text-align: right;\">\n",
       "      <th></th>\n",
       "      <th>QUESTID2</th>\n",
       "      <th>IRWRKSTAT</th>\n",
       "      <th>IREDUHIGHST2</th>\n",
       "      <th>INCOME</th>\n",
       "      <th>IRSEX</th>\n",
       "      <th>MJEVER</th>\n",
       "      <th>PNRANYLIF</th>\n",
       "      <th>COUTYP4</th>\n",
       "      <th>MEDMJPA2</th>\n",
       "      <th>DSTCHR30</th>\n",
       "      <th>ADDPREV</th>\n",
       "      <th>hallucinogens</th>\n",
       "    </tr>\n",
       "  </thead>\n",
       "  <tbody>\n",
       "    <tr>\n",
       "      <th>0</th>\n",
       "      <td>43295143</td>\n",
       "      <td>1.0</td>\n",
       "      <td>higher education</td>\n",
       "      <td>4</td>\n",
       "      <td>1</td>\n",
       "      <td>1</td>\n",
       "      <td>1</td>\n",
       "      <td>2</td>\n",
       "      <td>2</td>\n",
       "      <td>3</td>\n",
       "      <td>1.0</td>\n",
       "      <td>No</td>\n",
       "    </tr>\n",
       "    <tr>\n",
       "      <th>1</th>\n",
       "      <td>65095143</td>\n",
       "      <td>1.0</td>\n",
       "      <td>higher education</td>\n",
       "      <td>4</td>\n",
       "      <td>2</td>\n",
       "      <td>2</td>\n",
       "      <td>1</td>\n",
       "      <td>2</td>\n",
       "      <td>1</td>\n",
       "      <td>5</td>\n",
       "      <td>1.0</td>\n",
       "      <td>No</td>\n",
       "    </tr>\n",
       "    <tr>\n",
       "      <th>2</th>\n",
       "      <td>49405143</td>\n",
       "      <td>1.0</td>\n",
       "      <td>higher education</td>\n",
       "      <td>4</td>\n",
       "      <td>1</td>\n",
       "      <td>1</td>\n",
       "      <td>1</td>\n",
       "      <td>2</td>\n",
       "      <td>1</td>\n",
       "      <td>5</td>\n",
       "      <td>2.0</td>\n",
       "      <td>No</td>\n",
       "    </tr>\n",
       "    <tr>\n",
       "      <th>3</th>\n",
       "      <td>51015143</td>\n",
       "      <td>4.0</td>\n",
       "      <td>primary education</td>\n",
       "      <td>1</td>\n",
       "      <td>2</td>\n",
       "      <td>2</td>\n",
       "      <td>1</td>\n",
       "      <td>2</td>\n",
       "      <td>1</td>\n",
       "      <td>4</td>\n",
       "      <td>2.0</td>\n",
       "      <td>No</td>\n",
       "    </tr>\n",
       "    <tr>\n",
       "      <th>4</th>\n",
       "      <td>31825143</td>\n",
       "      <td>4.0</td>\n",
       "      <td>higher education</td>\n",
       "      <td>4</td>\n",
       "      <td>1</td>\n",
       "      <td>2</td>\n",
       "      <td>2</td>\n",
       "      <td>2</td>\n",
       "      <td>1</td>\n",
       "      <td>4</td>\n",
       "      <td>1.0</td>\n",
       "      <td>No</td>\n",
       "    </tr>\n",
       "  </tbody>\n",
       "</table>\n",
       "</div>"
      ],
      "text/plain": [
       "   QUESTID2  IRWRKSTAT       IREDUHIGHST2  INCOME  IRSEX  MJEVER  PNRANYLIF  \\\n",
       "0  43295143        1.0   higher education       4      1       1          1   \n",
       "1  65095143        1.0   higher education       4      2       2          1   \n",
       "2  49405143        1.0   higher education       4      1       1          1   \n",
       "3  51015143        4.0  primary education       1      2       2          1   \n",
       "4  31825143        4.0   higher education       4      1       2          2   \n",
       "\n",
       "   COUTYP4  MEDMJPA2  DSTCHR30  ADDPREV hallucinogens  \n",
       "0        2         2         3      1.0            No  \n",
       "1        2         1         5      1.0            No  \n",
       "2        2         1         5      2.0            No  \n",
       "3        2         1         4      2.0            No  \n",
       "4        2         1         4      1.0            No  "
      ]
     },
     "execution_count": 27,
     "metadata": {},
     "output_type": "execute_result"
    }
   ],
   "source": [
    "filtered_df.head()"
   ]
  },
  {
   "cell_type": "markdown",
   "id": "2d3d4856-ca08-481d-8adc-3cbc138d7611",
   "metadata": {},
   "source": [
    "MJEVER contains 94 and 97 which are dont know and refused to answer, these rows are not useful in our analysis hence we can exclude this data"
   ]
  },
  {
   "cell_type": "code",
   "execution_count": 28,
   "id": "5b3ceb7d-d02a-44af-9ba3-e909282271bf",
   "metadata": {},
   "outputs": [
    {
     "name": "stderr",
     "output_type": "stream",
     "text": [
      "C:\\Users\\Rama Rao\\AppData\\Local\\Temp\\ipykernel_17120\\3512628858.py:1: FutureWarning: A value is trying to be set on a copy of a DataFrame or Series through chained assignment using an inplace method.\n",
      "The behavior will change in pandas 3.0. This inplace method will never work because the intermediate object on which we are setting values always behaves as a copy.\n",
      "\n",
      "For example, when doing 'df[col].method(value, inplace=True)', try using 'df.method({col: value}, inplace=True)' or df[col] = df[col].method(value) instead, to perform the operation inplace on the original object.\n",
      "\n",
      "\n",
      "  filtered_df['MJEVER'].replace([94, 97], np.nan, inplace=True)\n"
     ]
    }
   ],
   "source": [
    "\n",
    "filtered_df['MJEVER'].replace([94, 97], np.nan, inplace=True)\n"
   ]
  },
  {
   "cell_type": "code",
   "execution_count": 29,
   "id": "b56c229b-9337-4c4e-a330-06aa320bb148",
   "metadata": {},
   "outputs": [],
   "source": [
    "#Pain releiver use in lifetime 5 indicates logically assigned yes which means this value is logically made as yes, so we can replace this \n",
    "#with 1 in the final data"
   ]
  },
  {
   "cell_type": "code",
   "execution_count": 30,
   "id": "0e097213-8ed2-4c8d-97d6-a87fb1f65251",
   "metadata": {},
   "outputs": [
    {
     "name": "stderr",
     "output_type": "stream",
     "text": [
      "C:\\Users\\Rama Rao\\AppData\\Local\\Temp\\ipykernel_17120\\422161004.py:1: FutureWarning: A value is trying to be set on a copy of a DataFrame or Series through chained assignment using an inplace method.\n",
      "The behavior will change in pandas 3.0. This inplace method will never work because the intermediate object on which we are setting values always behaves as a copy.\n",
      "\n",
      "For example, when doing 'df[col].method(value, inplace=True)', try using 'df.method({col: value}, inplace=True)' or df[col] = df[col].method(value) instead, to perform the operation inplace on the original object.\n",
      "\n",
      "\n",
      "  filtered_df['PNRANYLIF'].replace(5, 1, inplace=True)\n"
     ]
    }
   ],
   "source": [
    "filtered_df['PNRANYLIF'].replace(5, 1, inplace=True)"
   ]
  },
  {
   "cell_type": "code",
   "execution_count": 31,
   "id": "49b3ec80-5c9e-4497-9745-c36786ae7b60",
   "metadata": {},
   "outputs": [
    {
     "name": "stderr",
     "output_type": "stream",
     "text": [
      "C:\\Users\\Rama Rao\\AppData\\Local\\Temp\\ipykernel_17120\\3256104701.py:2: FutureWarning: A value is trying to be set on a copy of a DataFrame or Series through chained assignment using an inplace method.\n",
      "The behavior will change in pandas 3.0. This inplace method will never work because the intermediate object on which we are setting values always behaves as a copy.\n",
      "\n",
      "For example, when doing 'df[col].method(value, inplace=True)', try using 'df.method({col: value}, inplace=True)' or df[col] = df[col].method(value) instead, to perform the operation inplace on the original object.\n",
      "\n",
      "\n",
      "  filtered_df['PNRANYLIF'].replace([94, 97, 98], np.nan, inplace=True)\n"
     ]
    }
   ],
   "source": [
    "#replcaing values which are not useful with NA\n",
    "filtered_df['PNRANYLIF'].replace([94, 97, 98], np.nan, inplace=True)\n"
   ]
  },
  {
   "cell_type": "markdown",
   "id": "fc42a58d-27d7-497e-ace4-e4101e755c91",
   "metadata": {},
   "source": [
    "In the column How often do you feel sad, there are many columns which cannot be used for analysis we can replace them with NaN"
   ]
  },
  {
   "cell_type": "code",
   "execution_count": 32,
   "id": "00abe390-0fe4-4979-b2d1-51b91b80e097",
   "metadata": {},
   "outputs": [
    {
     "name": "stderr",
     "output_type": "stream",
     "text": [
      "C:\\Users\\Rama Rao\\AppData\\Local\\Temp\\ipykernel_17120\\1097070963.py:2: FutureWarning: A value is trying to be set on a copy of a DataFrame or Series through chained assignment using an inplace method.\n",
      "The behavior will change in pandas 3.0. This inplace method will never work because the intermediate object on which we are setting values always behaves as a copy.\n",
      "\n",
      "For example, when doing 'df[col].method(value, inplace=True)', try using 'df.method({col: value}, inplace=True)' or df[col] = df[col].method(value) instead, to perform the operation inplace on the original object.\n",
      "\n",
      "\n",
      "  filtered_df['DSTCHR30'].replace([85, 94, 97, 98, 99], np.nan, inplace=True)\n"
     ]
    }
   ],
   "source": [
    "#replcaing values which are not useful with NA\n",
    "filtered_df['DSTCHR30'].replace([85, 94, 97, 98, 99], np.nan, inplace=True)\n"
   ]
  },
  {
   "cell_type": "code",
   "execution_count": 33,
   "id": "df4a9111-9709-4d9b-a552-11b40b8c6d03",
   "metadata": {},
   "outputs": [
    {
     "data": {
      "text/html": [
       "<div>\n",
       "<style scoped>\n",
       "    .dataframe tbody tr th:only-of-type {\n",
       "        vertical-align: middle;\n",
       "    }\n",
       "\n",
       "    .dataframe tbody tr th {\n",
       "        vertical-align: top;\n",
       "    }\n",
       "\n",
       "    .dataframe thead th {\n",
       "        text-align: right;\n",
       "    }\n",
       "</style>\n",
       "<table border=\"1\" class=\"dataframe\">\n",
       "  <thead>\n",
       "    <tr style=\"text-align: right;\">\n",
       "      <th></th>\n",
       "      <th>QUESTID2</th>\n",
       "      <th>IRWRKSTAT</th>\n",
       "      <th>IREDUHIGHST2</th>\n",
       "      <th>INCOME</th>\n",
       "      <th>IRSEX</th>\n",
       "      <th>MJEVER</th>\n",
       "      <th>PNRANYLIF</th>\n",
       "      <th>COUTYP4</th>\n",
       "      <th>MEDMJPA2</th>\n",
       "      <th>DSTCHR30</th>\n",
       "      <th>ADDPREV</th>\n",
       "      <th>hallucinogens</th>\n",
       "    </tr>\n",
       "  </thead>\n",
       "  <tbody>\n",
       "    <tr>\n",
       "      <th>0</th>\n",
       "      <td>43295143</td>\n",
       "      <td>1.0</td>\n",
       "      <td>higher education</td>\n",
       "      <td>4</td>\n",
       "      <td>1</td>\n",
       "      <td>1.0</td>\n",
       "      <td>1.0</td>\n",
       "      <td>2</td>\n",
       "      <td>2</td>\n",
       "      <td>3.0</td>\n",
       "      <td>1.0</td>\n",
       "      <td>No</td>\n",
       "    </tr>\n",
       "    <tr>\n",
       "      <th>1</th>\n",
       "      <td>65095143</td>\n",
       "      <td>1.0</td>\n",
       "      <td>higher education</td>\n",
       "      <td>4</td>\n",
       "      <td>2</td>\n",
       "      <td>2.0</td>\n",
       "      <td>1.0</td>\n",
       "      <td>2</td>\n",
       "      <td>1</td>\n",
       "      <td>5.0</td>\n",
       "      <td>1.0</td>\n",
       "      <td>No</td>\n",
       "    </tr>\n",
       "    <tr>\n",
       "      <th>2</th>\n",
       "      <td>49405143</td>\n",
       "      <td>1.0</td>\n",
       "      <td>higher education</td>\n",
       "      <td>4</td>\n",
       "      <td>1</td>\n",
       "      <td>1.0</td>\n",
       "      <td>1.0</td>\n",
       "      <td>2</td>\n",
       "      <td>1</td>\n",
       "      <td>5.0</td>\n",
       "      <td>2.0</td>\n",
       "      <td>No</td>\n",
       "    </tr>\n",
       "    <tr>\n",
       "      <th>3</th>\n",
       "      <td>51015143</td>\n",
       "      <td>4.0</td>\n",
       "      <td>primary education</td>\n",
       "      <td>1</td>\n",
       "      <td>2</td>\n",
       "      <td>2.0</td>\n",
       "      <td>1.0</td>\n",
       "      <td>2</td>\n",
       "      <td>1</td>\n",
       "      <td>4.0</td>\n",
       "      <td>2.0</td>\n",
       "      <td>No</td>\n",
       "    </tr>\n",
       "    <tr>\n",
       "      <th>4</th>\n",
       "      <td>31825143</td>\n",
       "      <td>4.0</td>\n",
       "      <td>higher education</td>\n",
       "      <td>4</td>\n",
       "      <td>1</td>\n",
       "      <td>2.0</td>\n",
       "      <td>2.0</td>\n",
       "      <td>2</td>\n",
       "      <td>1</td>\n",
       "      <td>4.0</td>\n",
       "      <td>1.0</td>\n",
       "      <td>No</td>\n",
       "    </tr>\n",
       "  </tbody>\n",
       "</table>\n",
       "</div>"
      ],
      "text/plain": [
       "   QUESTID2  IRWRKSTAT       IREDUHIGHST2  INCOME  IRSEX  MJEVER  PNRANYLIF  \\\n",
       "0  43295143        1.0   higher education       4      1     1.0        1.0   \n",
       "1  65095143        1.0   higher education       4      2     2.0        1.0   \n",
       "2  49405143        1.0   higher education       4      1     1.0        1.0   \n",
       "3  51015143        4.0  primary education       1      2     2.0        1.0   \n",
       "4  31825143        4.0   higher education       4      1     2.0        2.0   \n",
       "\n",
       "   COUTYP4  MEDMJPA2  DSTCHR30  ADDPREV hallucinogens  \n",
       "0        2         2       3.0      1.0            No  \n",
       "1        2         1       5.0      1.0            No  \n",
       "2        2         1       5.0      2.0            No  \n",
       "3        2         1       4.0      2.0            No  \n",
       "4        2         1       4.0      1.0            No  "
      ]
     },
     "execution_count": 33,
     "metadata": {},
     "output_type": "execute_result"
    }
   ],
   "source": [
    "filtered_df.head()"
   ]
  },
  {
   "cell_type": "code",
   "execution_count": 34,
   "id": "e6d97d53-6f40-4a4f-a81e-715dfc732664",
   "metadata": {},
   "outputs": [],
   "source": [
    "#Removal of duplicates from the data frame\n",
    "filtered_df.drop_duplicates(inplace=True)"
   ]
  },
  {
   "cell_type": "code",
   "execution_count": 35,
   "id": "ffcd43ac-13c5-4e95-bcd8-451413551ea5",
   "metadata": {},
   "outputs": [],
   "source": [
    "#Set display options to have 2 decimals to have proper scale for future operations\n",
    "pd.options.display.float_format = '{:.2f}'.format"
   ]
  },
  {
   "cell_type": "code",
   "execution_count": 36,
   "id": "f4adf034-f52f-49ca-a768-1c29cfa926a8",
   "metadata": {},
   "outputs": [
    {
     "data": {
      "text/html": [
       "<div>\n",
       "<style scoped>\n",
       "    .dataframe tbody tr th:only-of-type {\n",
       "        vertical-align: middle;\n",
       "    }\n",
       "\n",
       "    .dataframe tbody tr th {\n",
       "        vertical-align: top;\n",
       "    }\n",
       "\n",
       "    .dataframe thead th {\n",
       "        text-align: right;\n",
       "    }\n",
       "</style>\n",
       "<table border=\"1\" class=\"dataframe\">\n",
       "  <thead>\n",
       "    <tr style=\"text-align: right;\">\n",
       "      <th></th>\n",
       "      <th>QUESTID2</th>\n",
       "      <th>IRWRKSTAT</th>\n",
       "      <th>INCOME</th>\n",
       "      <th>IRSEX</th>\n",
       "      <th>MJEVER</th>\n",
       "      <th>PNRANYLIF</th>\n",
       "      <th>COUTYP4</th>\n",
       "      <th>MEDMJPA2</th>\n",
       "      <th>DSTCHR30</th>\n",
       "      <th>ADDPREV</th>\n",
       "    </tr>\n",
       "  </thead>\n",
       "  <tbody>\n",
       "    <tr>\n",
       "      <th>count</th>\n",
       "      <td>56136.00</td>\n",
       "      <td>49581.00</td>\n",
       "      <td>56136.00</td>\n",
       "      <td>56136.00</td>\n",
       "      <td>56097.00</td>\n",
       "      <td>55670.00</td>\n",
       "      <td>56136.00</td>\n",
       "      <td>56136.00</td>\n",
       "      <td>42411.00</td>\n",
       "      <td>42508.00</td>\n",
       "    </tr>\n",
       "    <tr>\n",
       "      <th>mean</th>\n",
       "      <td>54346070.01</td>\n",
       "      <td>2.22</td>\n",
       "      <td>2.72</td>\n",
       "      <td>1.52</td>\n",
       "      <td>1.56</td>\n",
       "      <td>1.49</td>\n",
       "      <td>1.75</td>\n",
       "      <td>1.30</td>\n",
       "      <td>4.37</td>\n",
       "      <td>1.89</td>\n",
       "    </tr>\n",
       "    <tr>\n",
       "      <th>std</th>\n",
       "      <td>25631667.47</td>\n",
       "      <td>1.30</td>\n",
       "      <td>1.14</td>\n",
       "      <td>0.50</td>\n",
       "      <td>0.50</td>\n",
       "      <td>0.50</td>\n",
       "      <td>0.76</td>\n",
       "      <td>0.46</td>\n",
       "      <td>0.98</td>\n",
       "      <td>4.59</td>\n",
       "    </tr>\n",
       "    <tr>\n",
       "      <th>min</th>\n",
       "      <td>10009454.00</td>\n",
       "      <td>1.00</td>\n",
       "      <td>1.00</td>\n",
       "      <td>1.00</td>\n",
       "      <td>1.00</td>\n",
       "      <td>1.00</td>\n",
       "      <td>1.00</td>\n",
       "      <td>1.00</td>\n",
       "      <td>1.00</td>\n",
       "      <td>1.00</td>\n",
       "    </tr>\n",
       "    <tr>\n",
       "      <th>25%</th>\n",
       "      <td>31982452.50</td>\n",
       "      <td>1.00</td>\n",
       "      <td>2.00</td>\n",
       "      <td>1.00</td>\n",
       "      <td>1.00</td>\n",
       "      <td>1.00</td>\n",
       "      <td>1.00</td>\n",
       "      <td>1.00</td>\n",
       "      <td>4.00</td>\n",
       "      <td>1.00</td>\n",
       "    </tr>\n",
       "    <tr>\n",
       "      <th>50%</th>\n",
       "      <td>54039390.00</td>\n",
       "      <td>2.00</td>\n",
       "      <td>3.00</td>\n",
       "      <td>2.00</td>\n",
       "      <td>2.00</td>\n",
       "      <td>1.00</td>\n",
       "      <td>2.00</td>\n",
       "      <td>1.00</td>\n",
       "      <td>5.00</td>\n",
       "      <td>2.00</td>\n",
       "    </tr>\n",
       "    <tr>\n",
       "      <th>75%</th>\n",
       "      <td>76251052.50</td>\n",
       "      <td>4.00</td>\n",
       "      <td>4.00</td>\n",
       "      <td>2.00</td>\n",
       "      <td>2.00</td>\n",
       "      <td>2.00</td>\n",
       "      <td>2.00</td>\n",
       "      <td>2.00</td>\n",
       "      <td>5.00</td>\n",
       "      <td>2.00</td>\n",
       "    </tr>\n",
       "    <tr>\n",
       "      <th>max</th>\n",
       "      <td>99996688.00</td>\n",
       "      <td>4.00</td>\n",
       "      <td>4.00</td>\n",
       "      <td>2.00</td>\n",
       "      <td>2.00</td>\n",
       "      <td>2.00</td>\n",
       "      <td>3.00</td>\n",
       "      <td>2.00</td>\n",
       "      <td>5.00</td>\n",
       "      <td>94.00</td>\n",
       "    </tr>\n",
       "  </tbody>\n",
       "</table>\n",
       "</div>"
      ],
      "text/plain": [
       "         QUESTID2  IRWRKSTAT   INCOME    IRSEX   MJEVER  PNRANYLIF  COUTYP4  \\\n",
       "count    56136.00   49581.00 56136.00 56136.00 56097.00   55670.00 56136.00   \n",
       "mean  54346070.01       2.22     2.72     1.52     1.56       1.49     1.75   \n",
       "std   25631667.47       1.30     1.14     0.50     0.50       0.50     0.76   \n",
       "min   10009454.00       1.00     1.00     1.00     1.00       1.00     1.00   \n",
       "25%   31982452.50       1.00     2.00     1.00     1.00       1.00     1.00   \n",
       "50%   54039390.00       2.00     3.00     2.00     2.00       1.00     2.00   \n",
       "75%   76251052.50       4.00     4.00     2.00     2.00       2.00     2.00   \n",
       "max   99996688.00       4.00     4.00     2.00     2.00       2.00     3.00   \n",
       "\n",
       "       MEDMJPA2  DSTCHR30  ADDPREV  \n",
       "count  56136.00  42411.00 42508.00  \n",
       "mean       1.30      4.37     1.89  \n",
       "std        0.46      0.98     4.59  \n",
       "min        1.00      1.00     1.00  \n",
       "25%        1.00      4.00     1.00  \n",
       "50%        1.00      5.00     2.00  \n",
       "75%        2.00      5.00     2.00  \n",
       "max        2.00      5.00    94.00  "
      ]
     },
     "execution_count": 36,
     "metadata": {},
     "output_type": "execute_result"
    }
   ],
   "source": [
    "filtered_df.describe()"
   ]
  },
  {
   "cell_type": "code",
   "execution_count": 37,
   "id": "f6307950-120a-4a52-b9da-0b1a922fba7d",
   "metadata": {},
   "outputs": [
    {
     "name": "stderr",
     "output_type": "stream",
     "text": [
      "C:\\Users\\Rama Rao\\AppData\\Local\\Temp\\ipykernel_17120\\4283032743.py:6: FutureWarning: Downcasting behavior in `replace` is deprecated and will be removed in a future version. To retain the old behavior, explicitly call `result.infer_objects(copy=False)`. To opt-in to the future behavior, set `pd.set_option('future.no_silent_downcasting', True)`\n",
      "  filtered_df['IREDUHIGHST2'] = filtered_df['IREDUHIGHST2'].replace(education_mapping)\n"
     ]
    }
   ],
   "source": [
    "education_mapping = {\n",
    "    'higher education': 3,\n",
    "    'primary education': 1,\n",
    "    'intermediate education': 2\n",
    "}\n",
    "filtered_df['IREDUHIGHST2'] = filtered_df['IREDUHIGHST2'].replace(education_mapping)"
   ]
  },
  {
   "cell_type": "code",
   "execution_count": 38,
   "id": "7ae7e9f3-0c94-416a-af6d-479bf1e55d77",
   "metadata": {},
   "outputs": [
    {
     "data": {
      "text/html": [
       "<div>\n",
       "<style scoped>\n",
       "    .dataframe tbody tr th:only-of-type {\n",
       "        vertical-align: middle;\n",
       "    }\n",
       "\n",
       "    .dataframe tbody tr th {\n",
       "        vertical-align: top;\n",
       "    }\n",
       "\n",
       "    .dataframe thead th {\n",
       "        text-align: right;\n",
       "    }\n",
       "</style>\n",
       "<table border=\"1\" class=\"dataframe\">\n",
       "  <thead>\n",
       "    <tr style=\"text-align: right;\">\n",
       "      <th></th>\n",
       "      <th>QUESTID2</th>\n",
       "      <th>IRWRKSTAT</th>\n",
       "      <th>IREDUHIGHST2</th>\n",
       "      <th>INCOME</th>\n",
       "      <th>IRSEX</th>\n",
       "      <th>MJEVER</th>\n",
       "      <th>PNRANYLIF</th>\n",
       "      <th>COUTYP4</th>\n",
       "      <th>MEDMJPA2</th>\n",
       "      <th>DSTCHR30</th>\n",
       "      <th>ADDPREV</th>\n",
       "      <th>hallucinogens</th>\n",
       "    </tr>\n",
       "  </thead>\n",
       "  <tbody>\n",
       "    <tr>\n",
       "      <th>0</th>\n",
       "      <td>43295143</td>\n",
       "      <td>1.00</td>\n",
       "      <td>3</td>\n",
       "      <td>4</td>\n",
       "      <td>1</td>\n",
       "      <td>1.00</td>\n",
       "      <td>1.00</td>\n",
       "      <td>2</td>\n",
       "      <td>2</td>\n",
       "      <td>3.00</td>\n",
       "      <td>1.00</td>\n",
       "      <td>No</td>\n",
       "    </tr>\n",
       "    <tr>\n",
       "      <th>1</th>\n",
       "      <td>65095143</td>\n",
       "      <td>1.00</td>\n",
       "      <td>3</td>\n",
       "      <td>4</td>\n",
       "      <td>2</td>\n",
       "      <td>2.00</td>\n",
       "      <td>1.00</td>\n",
       "      <td>2</td>\n",
       "      <td>1</td>\n",
       "      <td>5.00</td>\n",
       "      <td>1.00</td>\n",
       "      <td>No</td>\n",
       "    </tr>\n",
       "    <tr>\n",
       "      <th>2</th>\n",
       "      <td>49405143</td>\n",
       "      <td>1.00</td>\n",
       "      <td>3</td>\n",
       "      <td>4</td>\n",
       "      <td>1</td>\n",
       "      <td>1.00</td>\n",
       "      <td>1.00</td>\n",
       "      <td>2</td>\n",
       "      <td>1</td>\n",
       "      <td>5.00</td>\n",
       "      <td>2.00</td>\n",
       "      <td>No</td>\n",
       "    </tr>\n",
       "    <tr>\n",
       "      <th>3</th>\n",
       "      <td>51015143</td>\n",
       "      <td>4.00</td>\n",
       "      <td>1</td>\n",
       "      <td>1</td>\n",
       "      <td>2</td>\n",
       "      <td>2.00</td>\n",
       "      <td>1.00</td>\n",
       "      <td>2</td>\n",
       "      <td>1</td>\n",
       "      <td>4.00</td>\n",
       "      <td>2.00</td>\n",
       "      <td>No</td>\n",
       "    </tr>\n",
       "    <tr>\n",
       "      <th>4</th>\n",
       "      <td>31825143</td>\n",
       "      <td>4.00</td>\n",
       "      <td>3</td>\n",
       "      <td>4</td>\n",
       "      <td>1</td>\n",
       "      <td>2.00</td>\n",
       "      <td>2.00</td>\n",
       "      <td>2</td>\n",
       "      <td>1</td>\n",
       "      <td>4.00</td>\n",
       "      <td>1.00</td>\n",
       "      <td>No</td>\n",
       "    </tr>\n",
       "  </tbody>\n",
       "</table>\n",
       "</div>"
      ],
      "text/plain": [
       "   QUESTID2  IRWRKSTAT  IREDUHIGHST2  INCOME  IRSEX  MJEVER  PNRANYLIF  \\\n",
       "0  43295143       1.00             3       4      1    1.00       1.00   \n",
       "1  65095143       1.00             3       4      2    2.00       1.00   \n",
       "2  49405143       1.00             3       4      1    1.00       1.00   \n",
       "3  51015143       4.00             1       1      2    2.00       1.00   \n",
       "4  31825143       4.00             3       4      1    2.00       2.00   \n",
       "\n",
       "   COUTYP4  MEDMJPA2  DSTCHR30  ADDPREV hallucinogens  \n",
       "0        2         2      3.00     1.00            No  \n",
       "1        2         1      5.00     1.00            No  \n",
       "2        2         1      5.00     2.00            No  \n",
       "3        2         1      4.00     2.00            No  \n",
       "4        2         1      4.00     1.00            No  "
      ]
     },
     "execution_count": 38,
     "metadata": {},
     "output_type": "execute_result"
    }
   ],
   "source": [
    "filtered_df.head()\n"
   ]
  },
  {
   "cell_type": "code",
   "execution_count": 39,
   "id": "cf6f55b4-d040-4639-9c77-60a4b00dea13",
   "metadata": {},
   "outputs": [
    {
     "data": {
      "text/plain": [
       "(56136, 12)"
      ]
     },
     "execution_count": 39,
     "metadata": {},
     "output_type": "execute_result"
    }
   ],
   "source": [
    "filtered_df.shape"
   ]
  },
  {
   "cell_type": "code",
   "execution_count": 40,
   "id": "c4e0c423-5ba6-4710-9415-950fd58a001a",
   "metadata": {},
   "outputs": [],
   "source": [
    "#Since we have already replaced unnecessary values with NaN we can drop these values as they are no longer useful\n"
   ]
  },
  {
   "cell_type": "code",
   "execution_count": 41,
   "id": "e004a0a0-89ad-4500-a8fc-cfb9e45936f8",
   "metadata": {},
   "outputs": [
    {
     "name": "stdout",
     "output_type": "stream",
     "text": [
      "QUESTID2             0\n",
      "IRWRKSTAT         6555\n",
      "IREDUHIGHST2         0\n",
      "INCOME               0\n",
      "IRSEX                0\n",
      "MJEVER              39\n",
      "PNRANYLIF          466\n",
      "COUTYP4              0\n",
      "MEDMJPA2             0\n",
      "DSTCHR30         13725\n",
      "ADDPREV          13628\n",
      "hallucinogens      245\n",
      "dtype: int64\n"
     ]
    }
   ],
   "source": [
    "null_values = filtered_df.isnull().sum()\n",
    "\n",
    "print(null_values)\n"
   ]
  },
  {
   "cell_type": "code",
   "execution_count": 42,
   "id": "bba7314b-fc68-4b65-b0dc-6cd0e6c74deb",
   "metadata": {},
   "outputs": [],
   "source": [
    "filtered_df_cleaned = filtered_df.dropna(subset=['IRWRKSTAT', 'DSTCHR30', 'ADDPREV', 'PNRANYLIF','MJEVER' ])\n",
    "\n"
   ]
  },
  {
   "cell_type": "code",
   "execution_count": 43,
   "id": "c7dcb3c6-5ebd-4608-8e52-7672964b54eb",
   "metadata": {},
   "outputs": [
    {
     "data": {
      "text/plain": [
       "(42166, 12)"
      ]
     },
     "execution_count": 43,
     "metadata": {},
     "output_type": "execute_result"
    }
   ],
   "source": [
    "filtered_df_cleaned.shape"
   ]
  },
  {
   "cell_type": "code",
   "execution_count": 44,
   "id": "0945b791-edef-49c1-89fb-5cb7b4de8c4a",
   "metadata": {},
   "outputs": [
    {
     "data": {
      "text/plain": [
       "array([1., 4., 3., 2.])"
      ]
     },
     "execution_count": 44,
     "metadata": {},
     "output_type": "execute_result"
    }
   ],
   "source": [
    "filtered_df_cleaned['IRWRKSTAT'].unique()"
   ]
  },
  {
   "cell_type": "code",
   "execution_count": 45,
   "id": "70ddbbce-a863-426f-8d01-753294989642",
   "metadata": {},
   "outputs": [
    {
     "name": "stderr",
     "output_type": "stream",
     "text": [
      "C:\\Users\\Rama Rao\\AppData\\Local\\Temp\\ipykernel_17120\\2354628446.py:9: SettingWithCopyWarning: \n",
      "A value is trying to be set on a copy of a slice from a DataFrame.\n",
      "Try using .loc[row_indexer,col_indexer] = value instead\n",
      "\n",
      "See the caveats in the documentation: https://pandas.pydata.org/pandas-docs/stable/user_guide/indexing.html#returning-a-view-versus-a-copy\n",
      "  filtered_df_cleaned['IRWRKSTAT'] = filtered_df_cleaned['IRWRKSTAT'].map(irwrkstat_mapping)\n"
     ]
    }
   ],
   "source": [
    "irwrkstat_mapping = {\n",
    "    1: 'Employed full time',\n",
    "    2: 'Employed part time',\n",
    "    3: 'Unemployed',\n",
    "    4: 'Other (incl. not in labor force)',\n",
    "    99: '12–14 year olds'\n",
    "}\n",
    "\n",
    "filtered_df_cleaned['IRWRKSTAT'] = filtered_df_cleaned['IRWRKSTAT'].map(irwrkstat_mapping)\n",
    "\n",
    "\n"
   ]
  },
  {
   "cell_type": "code",
   "execution_count": 46,
   "id": "af34f58c-5d49-419d-9fd7-5308721233e4",
   "metadata": {},
   "outputs": [
    {
     "data": {
      "text/html": [
       "<div>\n",
       "<style scoped>\n",
       "    .dataframe tbody tr th:only-of-type {\n",
       "        vertical-align: middle;\n",
       "    }\n",
       "\n",
       "    .dataframe tbody tr th {\n",
       "        vertical-align: top;\n",
       "    }\n",
       "\n",
       "    .dataframe thead th {\n",
       "        text-align: right;\n",
       "    }\n",
       "</style>\n",
       "<table border=\"1\" class=\"dataframe\">\n",
       "  <thead>\n",
       "    <tr style=\"text-align: right;\">\n",
       "      <th></th>\n",
       "      <th>IRWRKSTAT</th>\n",
       "    </tr>\n",
       "  </thead>\n",
       "  <tbody>\n",
       "    <tr>\n",
       "      <th>0</th>\n",
       "      <td>Employed full time</td>\n",
       "    </tr>\n",
       "    <tr>\n",
       "      <th>1</th>\n",
       "      <td>Employed full time</td>\n",
       "    </tr>\n",
       "    <tr>\n",
       "      <th>2</th>\n",
       "      <td>Employed full time</td>\n",
       "    </tr>\n",
       "    <tr>\n",
       "      <th>3</th>\n",
       "      <td>Other (incl. not in labor force)</td>\n",
       "    </tr>\n",
       "    <tr>\n",
       "      <th>4</th>\n",
       "      <td>Other (incl. not in labor force)</td>\n",
       "    </tr>\n",
       "  </tbody>\n",
       "</table>\n",
       "</div>"
      ],
      "text/plain": [
       "                          IRWRKSTAT\n",
       "0                Employed full time\n",
       "1                Employed full time\n",
       "2                Employed full time\n",
       "3  Other (incl. not in labor force)\n",
       "4  Other (incl. not in labor force)"
      ]
     },
     "execution_count": 46,
     "metadata": {},
     "output_type": "execute_result"
    }
   ],
   "source": [
    "filtered_df_cleaned[['IRWRKSTAT']].head()"
   ]
  },
  {
   "cell_type": "code",
   "execution_count": 47,
   "id": "6f62fcf8-2257-4029-a3f9-2b92c3e72e69",
   "metadata": {},
   "outputs": [
    {
     "name": "stderr",
     "output_type": "stream",
     "text": [
      "C:\\Users\\Rama Rao\\AppData\\Local\\Temp\\ipykernel_17120\\4064115886.py:8: SettingWithCopyWarning: \n",
      "A value is trying to be set on a copy of a slice from a DataFrame.\n",
      "Try using .loc[row_indexer,col_indexer] = value instead\n",
      "\n",
      "See the caveats in the documentation: https://pandas.pydata.org/pandas-docs/stable/user_guide/indexing.html#returning-a-view-versus-a-copy\n",
      "  filtered_df_cleaned['INCOME'] = filtered_df_cleaned['INCOME'].map(income_mapping)\n"
     ]
    }
   ],
   "source": [
    "income_mapping = {\n",
    "    1: 'Less than $20,000',\n",
    "    2: '$20,000 - $49,999',\n",
    "    3: '$50,000 - $74,999',\n",
    "    4: '$75,000 or more'\n",
    "}\n",
    "\n",
    "filtered_df_cleaned['INCOME'] = filtered_df_cleaned['INCOME'].map(income_mapping)\n",
    "\n"
   ]
  },
  {
   "cell_type": "code",
   "execution_count": 48,
   "id": "b7d39963-4cba-48b8-bce3-57ae748c81d7",
   "metadata": {},
   "outputs": [
    {
     "data": {
      "text/html": [
       "<div>\n",
       "<style scoped>\n",
       "    .dataframe tbody tr th:only-of-type {\n",
       "        vertical-align: middle;\n",
       "    }\n",
       "\n",
       "    .dataframe tbody tr th {\n",
       "        vertical-align: top;\n",
       "    }\n",
       "\n",
       "    .dataframe thead th {\n",
       "        text-align: right;\n",
       "    }\n",
       "</style>\n",
       "<table border=\"1\" class=\"dataframe\">\n",
       "  <thead>\n",
       "    <tr style=\"text-align: right;\">\n",
       "      <th></th>\n",
       "      <th>INCOME</th>\n",
       "    </tr>\n",
       "  </thead>\n",
       "  <tbody>\n",
       "    <tr>\n",
       "      <th>0</th>\n",
       "      <td>$75,000 or more</td>\n",
       "    </tr>\n",
       "    <tr>\n",
       "      <th>1</th>\n",
       "      <td>$75,000 or more</td>\n",
       "    </tr>\n",
       "    <tr>\n",
       "      <th>2</th>\n",
       "      <td>$75,000 or more</td>\n",
       "    </tr>\n",
       "    <tr>\n",
       "      <th>3</th>\n",
       "      <td>Less than $20,000</td>\n",
       "    </tr>\n",
       "    <tr>\n",
       "      <th>4</th>\n",
       "      <td>$75,000 or more</td>\n",
       "    </tr>\n",
       "  </tbody>\n",
       "</table>\n",
       "</div>"
      ],
      "text/plain": [
       "              INCOME\n",
       "0    $75,000 or more\n",
       "1    $75,000 or more\n",
       "2    $75,000 or more\n",
       "3  Less than $20,000\n",
       "4    $75,000 or more"
      ]
     },
     "execution_count": 48,
     "metadata": {},
     "output_type": "execute_result"
    }
   ],
   "source": [
    "filtered_df_cleaned[['INCOME']].head()"
   ]
  },
  {
   "cell_type": "code",
   "execution_count": 49,
   "id": "8683df9d-1e97-4b08-b6a0-d3db232e728b",
   "metadata": {},
   "outputs": [
    {
     "name": "stderr",
     "output_type": "stream",
     "text": [
      "C:\\Users\\Rama Rao\\AppData\\Local\\Temp\\ipykernel_17120\\4015784729.py:6: SettingWithCopyWarning: \n",
      "A value is trying to be set on a copy of a slice from a DataFrame.\n",
      "Try using .loc[row_indexer,col_indexer] = value instead\n",
      "\n",
      "See the caveats in the documentation: https://pandas.pydata.org/pandas-docs/stable/user_guide/indexing.html#returning-a-view-versus-a-copy\n",
      "  filtered_df_cleaned['IRSEX'] = filtered_df_cleaned['IRSEX'].map(gender_mapping)\n"
     ]
    }
   ],
   "source": [
    "\n",
    "gender_mapping = {\n",
    "    1: 'Male',\n",
    "    2: 'Female'\n",
    "}\n",
    "\n",
    "filtered_df_cleaned['IRSEX'] = filtered_df_cleaned['IRSEX'].map(gender_mapping)\n",
    "\n"
   ]
  },
  {
   "cell_type": "code",
   "execution_count": 50,
   "id": "d64e0ec8-dc2e-44da-8981-66cac950d3ba",
   "metadata": {
    "scrolled": true
   },
   "outputs": [
    {
     "data": {
      "text/html": [
       "<div>\n",
       "<style scoped>\n",
       "    .dataframe tbody tr th:only-of-type {\n",
       "        vertical-align: middle;\n",
       "    }\n",
       "\n",
       "    .dataframe tbody tr th {\n",
       "        vertical-align: top;\n",
       "    }\n",
       "\n",
       "    .dataframe thead th {\n",
       "        text-align: right;\n",
       "    }\n",
       "</style>\n",
       "<table border=\"1\" class=\"dataframe\">\n",
       "  <thead>\n",
       "    <tr style=\"text-align: right;\">\n",
       "      <th></th>\n",
       "      <th>QUESTID2</th>\n",
       "      <th>IRWRKSTAT</th>\n",
       "      <th>IREDUHIGHST2</th>\n",
       "      <th>INCOME</th>\n",
       "      <th>IRSEX</th>\n",
       "      <th>MJEVER</th>\n",
       "      <th>PNRANYLIF</th>\n",
       "      <th>COUTYP4</th>\n",
       "      <th>MEDMJPA2</th>\n",
       "      <th>DSTCHR30</th>\n",
       "      <th>ADDPREV</th>\n",
       "      <th>hallucinogens</th>\n",
       "    </tr>\n",
       "  </thead>\n",
       "  <tbody>\n",
       "    <tr>\n",
       "      <th>0</th>\n",
       "      <td>43295143</td>\n",
       "      <td>Employed full time</td>\n",
       "      <td>3</td>\n",
       "      <td>$75,000 or more</td>\n",
       "      <td>Male</td>\n",
       "      <td>1.00</td>\n",
       "      <td>1.00</td>\n",
       "      <td>2</td>\n",
       "      <td>2</td>\n",
       "      <td>3.00</td>\n",
       "      <td>1.00</td>\n",
       "      <td>No</td>\n",
       "    </tr>\n",
       "    <tr>\n",
       "      <th>1</th>\n",
       "      <td>65095143</td>\n",
       "      <td>Employed full time</td>\n",
       "      <td>3</td>\n",
       "      <td>$75,000 or more</td>\n",
       "      <td>Female</td>\n",
       "      <td>2.00</td>\n",
       "      <td>1.00</td>\n",
       "      <td>2</td>\n",
       "      <td>1</td>\n",
       "      <td>5.00</td>\n",
       "      <td>1.00</td>\n",
       "      <td>No</td>\n",
       "    </tr>\n",
       "    <tr>\n",
       "      <th>2</th>\n",
       "      <td>49405143</td>\n",
       "      <td>Employed full time</td>\n",
       "      <td>3</td>\n",
       "      <td>$75,000 or more</td>\n",
       "      <td>Male</td>\n",
       "      <td>1.00</td>\n",
       "      <td>1.00</td>\n",
       "      <td>2</td>\n",
       "      <td>1</td>\n",
       "      <td>5.00</td>\n",
       "      <td>2.00</td>\n",
       "      <td>No</td>\n",
       "    </tr>\n",
       "    <tr>\n",
       "      <th>3</th>\n",
       "      <td>51015143</td>\n",
       "      <td>Other (incl. not in labor force)</td>\n",
       "      <td>1</td>\n",
       "      <td>Less than $20,000</td>\n",
       "      <td>Female</td>\n",
       "      <td>2.00</td>\n",
       "      <td>1.00</td>\n",
       "      <td>2</td>\n",
       "      <td>1</td>\n",
       "      <td>4.00</td>\n",
       "      <td>2.00</td>\n",
       "      <td>No</td>\n",
       "    </tr>\n",
       "    <tr>\n",
       "      <th>4</th>\n",
       "      <td>31825143</td>\n",
       "      <td>Other (incl. not in labor force)</td>\n",
       "      <td>3</td>\n",
       "      <td>$75,000 or more</td>\n",
       "      <td>Male</td>\n",
       "      <td>2.00</td>\n",
       "      <td>2.00</td>\n",
       "      <td>2</td>\n",
       "      <td>1</td>\n",
       "      <td>4.00</td>\n",
       "      <td>1.00</td>\n",
       "      <td>No</td>\n",
       "    </tr>\n",
       "  </tbody>\n",
       "</table>\n",
       "</div>"
      ],
      "text/plain": [
       "   QUESTID2                         IRWRKSTAT  IREDUHIGHST2  \\\n",
       "0  43295143                Employed full time             3   \n",
       "1  65095143                Employed full time             3   \n",
       "2  49405143                Employed full time             3   \n",
       "3  51015143  Other (incl. not in labor force)             1   \n",
       "4  31825143  Other (incl. not in labor force)             3   \n",
       "\n",
       "              INCOME   IRSEX  MJEVER  PNRANYLIF  COUTYP4  MEDMJPA2  DSTCHR30  \\\n",
       "0    $75,000 or more    Male    1.00       1.00        2         2      3.00   \n",
       "1    $75,000 or more  Female    2.00       1.00        2         1      5.00   \n",
       "2    $75,000 or more    Male    1.00       1.00        2         1      5.00   \n",
       "3  Less than $20,000  Female    2.00       1.00        2         1      4.00   \n",
       "4    $75,000 or more    Male    2.00       2.00        2         1      4.00   \n",
       "\n",
       "   ADDPREV hallucinogens  \n",
       "0     1.00            No  \n",
       "1     1.00            No  \n",
       "2     2.00            No  \n",
       "3     2.00            No  \n",
       "4     1.00            No  "
      ]
     },
     "execution_count": 50,
     "metadata": {},
     "output_type": "execute_result"
    }
   ],
   "source": [
    "filtered_df_cleaned.head()"
   ]
  },
  {
   "cell_type": "code",
   "execution_count": 51,
   "id": "8cbdd8ff-ccd9-4616-b479-db81cc5d7ef7",
   "metadata": {},
   "outputs": [
    {
     "data": {
      "text/plain": [
       "array([3, 1, 2])"
      ]
     },
     "execution_count": 51,
     "metadata": {},
     "output_type": "execute_result"
    }
   ],
   "source": [
    "filtered_df_cleaned['IREDUHIGHST2'].unique()"
   ]
  },
  {
   "cell_type": "code",
   "execution_count": 52,
   "id": "a9cfba11-dc46-4e65-bd33-cb62b1032abe",
   "metadata": {},
   "outputs": [
    {
     "name": "stderr",
     "output_type": "stream",
     "text": [
      "C:\\Users\\Rama Rao\\AppData\\Local\\Temp\\ipykernel_17120\\809615653.py:10: SettingWithCopyWarning: \n",
      "A value is trying to be set on a copy of a slice from a DataFrame.\n",
      "Try using .loc[row_indexer,col_indexer] = value instead\n",
      "\n",
      "See the caveats in the documentation: https://pandas.pydata.org/pandas-docs/stable/user_guide/indexing.html#returning-a-view-versus-a-copy\n",
      "  filtered_df_cleaned['IREDUHIGHST2'] = filtered_df_cleaned['IREDUHIGHST2'].apply(categorize_education)\n"
     ]
    }
   ],
   "source": [
    "# Define a function to categorize the education levels\n",
    "def categorize_education(value):\n",
    "    if value==1:\n",
    "        return 'primary education'\n",
    "    elif value==2:\n",
    "        return 'High School education'\n",
    "    else:\n",
    "        return 'College Degree'\n",
    "\n",
    "filtered_df_cleaned['IREDUHIGHST2'] = filtered_df_cleaned['IREDUHIGHST2'].apply(categorize_education)\n",
    "\n"
   ]
  },
  {
   "cell_type": "code",
   "execution_count": 53,
   "id": "81930295-08e7-49bd-a8a4-bccba6c22bfe",
   "metadata": {},
   "outputs": [
    {
     "data": {
      "text/plain": [
       "array(['College Degree', 'primary education', 'High School education'],\n",
       "      dtype=object)"
      ]
     },
     "execution_count": 53,
     "metadata": {},
     "output_type": "execute_result"
    }
   ],
   "source": [
    "filtered_df_cleaned['IREDUHIGHST2'].unique()"
   ]
  },
  {
   "cell_type": "code",
   "execution_count": 54,
   "id": "c97b9017-a607-4796-90ac-fd68f02d2793",
   "metadata": {},
   "outputs": [
    {
     "name": "stderr",
     "output_type": "stream",
     "text": [
      "C:\\Users\\Rama Rao\\AppData\\Local\\Temp\\ipykernel_17120\\3622425528.py:6: SettingWithCopyWarning: \n",
      "A value is trying to be set on a copy of a slice from a DataFrame.\n",
      "Try using .loc[row_indexer,col_indexer] = value instead\n",
      "\n",
      "See the caveats in the documentation: https://pandas.pydata.org/pandas-docs/stable/user_guide/indexing.html#returning-a-view-versus-a-copy\n",
      "  filtered_df_cleaned['MJEVER'] = filtered_df_cleaned['MJEVER'].map(mj_mapping)\n"
     ]
    }
   ],
   "source": [
    "\n",
    "mj_mapping = {\n",
    "    1: 'Yes',\n",
    "    2: 'No'\n",
    "}\n",
    "\n",
    "filtered_df_cleaned['MJEVER'] = filtered_df_cleaned['MJEVER'].map(mj_mapping)\n",
    "\n"
   ]
  },
  {
   "cell_type": "code",
   "execution_count": 55,
   "id": "ecd46822-d914-4dae-ba27-0a478183052b",
   "metadata": {},
   "outputs": [
    {
     "name": "stderr",
     "output_type": "stream",
     "text": [
      "C:\\Users\\Rama Rao\\AppData\\Local\\Temp\\ipykernel_17120\\2351626243.py:7: SettingWithCopyWarning: \n",
      "A value is trying to be set on a copy of a slice from a DataFrame.\n",
      "Try using .loc[row_indexer,col_indexer] = value instead\n",
      "\n",
      "See the caveats in the documentation: https://pandas.pydata.org/pandas-docs/stable/user_guide/indexing.html#returning-a-view-versus-a-copy\n",
      "  filtered_df_cleaned['PNRANYLIF'] = filtered_df_cleaned['PNRANYLIF'].map(mj_mapping)\n"
     ]
    }
   ],
   "source": [
    "\n",
    "mj_mapping = {\n",
    "    1.00: 'Yes',\n",
    "    2.00: 'No'\n",
    "}\n",
    "\n",
    "\n",
    "filtered_df_cleaned['PNRANYLIF'] = filtered_df_cleaned['PNRANYLIF'].map(mj_mapping)\n"
   ]
  },
  {
   "cell_type": "code",
   "execution_count": 56,
   "id": "643f61fc-d2f6-4a99-8910-3a7ffac5487a",
   "metadata": {},
   "outputs": [
    {
     "name": "stderr",
     "output_type": "stream",
     "text": [
      "C:\\Users\\Rama Rao\\AppData\\Local\\Temp\\ipykernel_17120\\1158216921.py:8: SettingWithCopyWarning: \n",
      "A value is trying to be set on a copy of a slice from a DataFrame.\n",
      "Try using .loc[row_indexer,col_indexer] = value instead\n",
      "\n",
      "See the caveats in the documentation: https://pandas.pydata.org/pandas-docs/stable/user_guide/indexing.html#returning-a-view-versus-a-copy\n",
      "  filtered_df_cleaned['COUTYP4'] = filtered_df_cleaned['COUTYP4'].map(metro_mapping)\n"
     ]
    }
   ],
   "source": [
    "\n",
    "metro_mapping = {\n",
    "    1: 'Large Metro',\n",
    "    2: 'Small Metro',\n",
    "    3: 'Non Metro'\n",
    "}\n",
    "\n",
    "\n",
    "filtered_df_cleaned['COUTYP4'] = filtered_df_cleaned['COUTYP4'].map(metro_mapping)\n"
   ]
  },
  {
   "cell_type": "code",
   "execution_count": 57,
   "id": "cca7ed06-0330-49c5-840b-bbc931ea137e",
   "metadata": {
    "scrolled": true
   },
   "outputs": [
    {
     "name": "stderr",
     "output_type": "stream",
     "text": [
      "C:\\Users\\Rama Rao\\AppData\\Local\\Temp\\ipykernel_17120\\2251930963.py:9: SettingWithCopyWarning: \n",
      "A value is trying to be set on a copy of a slice from a DataFrame.\n",
      "Try using .loc[row_indexer,col_indexer] = value instead\n",
      "\n",
      "See the caveats in the documentation: https://pandas.pydata.org/pandas-docs/stable/user_guide/indexing.html#returning-a-view-versus-a-copy\n",
      "  filtered_df_cleaned['DSTCHR30'] = filtered_df_cleaned['DSTCHR30'].map(mapping)\n"
     ]
    }
   ],
   "source": [
    "mapping = {\n",
    "    1: 'All of the time',\n",
    "    2: 'Most of the time',\n",
    "    3: 'Some of the time',\n",
    "    4: 'A little of the time',\n",
    "    5: 'None of the time',\n",
    "    99: 'Legitimate skip'\n",
    "}\n",
    "filtered_df_cleaned['DSTCHR30'] = filtered_df_cleaned['DSTCHR30'].map(mapping)\n",
    "\n",
    "\n"
   ]
  },
  {
   "cell_type": "code",
   "execution_count": 58,
   "id": "f5e68605-077b-446d-a80f-70ce62e8f0f2",
   "metadata": {},
   "outputs": [
    {
     "data": {
      "text/plain": [
       "array([ 1.,  2., 94.])"
      ]
     },
     "execution_count": 58,
     "metadata": {},
     "output_type": "execute_result"
    }
   ],
   "source": [
    "filtered_df_cleaned['ADDPREV'].unique()"
   ]
  },
  {
   "cell_type": "code",
   "execution_count": 59,
   "id": "55428a34-a06e-4fd7-9271-1d1f9ffdd720",
   "metadata": {},
   "outputs": [
    {
     "name": "stderr",
     "output_type": "stream",
     "text": [
      "C:\\Users\\Rama Rao\\AppData\\Local\\Temp\\ipykernel_17120\\3008980501.py:6: SettingWithCopyWarning: \n",
      "A value is trying to be set on a copy of a slice from a DataFrame.\n",
      "Try using .loc[row_indexer,col_indexer] = value instead\n",
      "\n",
      "See the caveats in the documentation: https://pandas.pydata.org/pandas-docs/stable/user_guide/indexing.html#returning-a-view-versus-a-copy\n",
      "  filtered_df_cleaned['ADDPREV'] = filtered_df_cleaned['ADDPREV'].map(mapping)\n"
     ]
    }
   ],
   "source": [
    "mapping = {\n",
    "    1.00: 'Yes',\n",
    "    2.00: 'No',\n",
    "    94.00: 'No'\n",
    "}\n",
    "filtered_df_cleaned['ADDPREV'] = filtered_df_cleaned['ADDPREV'].map(mapping)\n",
    "\n",
    "\n"
   ]
  },
  {
   "cell_type": "code",
   "execution_count": 60,
   "id": "12954cbc-47e7-48e9-b824-a0a99522cbeb",
   "metadata": {},
   "outputs": [
    {
     "name": "stderr",
     "output_type": "stream",
     "text": [
      "C:\\Users\\Rama Rao\\AppData\\Local\\Temp\\ipykernel_17120\\88440773.py:5: SettingWithCopyWarning: \n",
      "A value is trying to be set on a copy of a slice from a DataFrame.\n",
      "Try using .loc[row_indexer,col_indexer] = value instead\n",
      "\n",
      "See the caveats in the documentation: https://pandas.pydata.org/pandas-docs/stable/user_guide/indexing.html#returning-a-view-versus-a-copy\n",
      "  filtered_df_cleaned['MEDMJPA2'] = filtered_df_cleaned['MEDMJPA2'].map(mapping)\n"
     ]
    }
   ],
   "source": [
    "mapping = {\n",
    "    1: 'Yes',\n",
    "    2: 'No',\n",
    "}\n",
    "filtered_df_cleaned['MEDMJPA2'] = filtered_df_cleaned['MEDMJPA2'].map(mapping)\n",
    "\n",
    "\n"
   ]
  },
  {
   "cell_type": "markdown",
   "id": "b2e6c848-de8e-4f8f-a04c-59883ce509c0",
   "metadata": {},
   "source": [
    "Renaming columns for better readability"
   ]
  },
  {
   "cell_type": "code",
   "execution_count": 61,
   "id": "4abac53a-a6df-4b91-879f-9055d62449b0",
   "metadata": {},
   "outputs": [
    {
     "name": "stderr",
     "output_type": "stream",
     "text": [
      "C:\\Users\\Rama Rao\\AppData\\Local\\Temp\\ipykernel_17120\\48733474.py:14: SettingWithCopyWarning: \n",
      "A value is trying to be set on a copy of a slice from a DataFrame\n",
      "\n",
      "See the caveats in the documentation: https://pandas.pydata.org/pandas-docs/stable/user_guide/indexing.html#returning-a-view-versus-a-copy\n",
      "  filtered_df_cleaned.rename(columns=column_mapping, inplace=True)\n"
     ]
    }
   ],
   "source": [
    "\n",
    "column_mapping = {\n",
    "    'IRWRKSTAT': 'Employment',\n",
    "    'IREDUHIGHST2': 'education',\n",
    "    'INCOME': 'income',\n",
    "    'IRSEX': 'sexual orientation',\n",
    "    'MJEVER': 'Ever used marijuana',\n",
    "    'PNRANYLIF': 'ANY PAIN RELIEVER USE IN LIFETIME',\n",
    "    'COUTYP4': 'COUNTY METRO/NONMETRO STATUS',\n",
    "    'MEDMJPA2': 'STATE MEDICAL MJ LAW PASSED AT TIME OF INTERVIEW',\n",
    "    'DSTCHR30': 'HOW OFTEN FELT SAD NOTHING COULD CHEER YOU UP',\n",
    "    'ADDPREV': 'SEVERAL DAYS OR LNGR WHEN FELT SAD/EMPTY/DPRSD'\n",
    "}\n",
    "\n",
    "filtered_df_cleaned.rename(columns=column_mapping, inplace=True)\n",
    "filtered_df__cleaned = filtered_df_cleaned.copy()\n",
    "filtered_df__cleaned['Mental_Health_Disorder'] = filtered_df__cleaned['SEVERAL DAYS OR LNGR WHEN FELT SAD/EMPTY/DPRSD'].apply(lambda x: 1 if x == 'Yes' else 0)\n",
    "filtered_df__cleaned = filtered_df__cleaned.drop(columns=['SEVERAL DAYS OR LNGR WHEN FELT SAD/EMPTY/DPRSD'])\n",
    "\n"
   ]
  },
  {
   "cell_type": "code",
   "execution_count": 62,
   "id": "081c58a4-17ad-4152-a18a-1574516cf1bc",
   "metadata": {},
   "outputs": [
    {
     "name": "stderr",
     "output_type": "stream",
     "text": [
      "C:\\Users\\Rama Rao\\AppData\\Local\\Temp\\ipykernel_17120\\1325856201.py:2: FutureWarning: Downcasting behavior in `replace` is deprecated and will be removed in a future version. To retain the old behavior, explicitly call `result.infer_objects(copy=False)`. To opt-in to the future behavior, set `pd.set_option('future.no_silent_downcasting', True)`\n",
      "  e_df = e_df.replace({True: 1, False: 0})\n"
     ]
    }
   ],
   "source": [
    "e_df = pd.get_dummies(filtered_df__cleaned, columns=['sexual orientation','STATE MEDICAL MJ LAW PASSED AT TIME OF INTERVIEW', 'Ever used marijuana','COUNTY METRO/NONMETRO STATUS', 'ANY PAIN RELIEVER USE IN LIFETIME', 'hallucinogens', 'Employment','education','income'], drop_first=True)\n",
    "e_df = e_df.replace({True: 1, False: 0})\n",
    "target_order = {\"None of the time\": 0, \"A little of the time\": 1, \"Some of the time\": 2, \"Most of the time\": 3, \"All of the time\": 4}\n",
    "e_df['HOW OFTEN FELT SAD NOTHING COULD CHEER YOU UP'] = e_df['HOW OFTEN FELT SAD NOTHING COULD CHEER YOU UP'].map(target_order)\n",
    "df = e_df.copy()\n",
    "req_X_cols = [w for w in df.columns if w not in ['Mental_Health_Disorder', 'QUESTID2']]"
   ]
  },
  {
   "cell_type": "code",
   "execution_count": 63,
   "id": "05d6f021-2760-44c9-a3f4-3cc04895ab44",
   "metadata": {},
   "outputs": [],
   "source": [
    "X = df[req_X_cols]\n",
    "X = df.drop(columns=['Mental_Health_Disorder'])\n",
    "y = df['Mental_Health_Disorder']\n",
    "X_train, X_test, y_train, y_test = train_test_split(X, y, test_size=0.86, random_state=42)"
   ]
  },
  {
   "cell_type": "code",
   "execution_count": 64,
   "id": "0dbd6456-fb77-416d-92ee-e7cade469f36",
   "metadata": {},
   "outputs": [
    {
     "name": "stdout",
     "output_type": "stream",
     "text": [
      "\n",
      "Records where predictions do not match actual values:\n"
     ]
    },
    {
     "data": {
      "text/plain": [
       "(8918, 19)"
      ]
     },
     "execution_count": 64,
     "metadata": {},
     "output_type": "execute_result"
    }
   ],
   "source": [
    "\n",
    "\n",
    "\n",
    "model = GradientBoostingClassifier()\n",
    "model.fit(X_train.drop(columns=['QUESTID2']), y_train) \n",
    "y_pred = model.predict(X_test.drop(columns=['QUESTID2']))\n",
    "mmi = [i for i, (actual, predicted) in enumerate(zip(y_test, y_pred)) if actual != predicted]\n",
    "mmr = X_test.iloc[mmi].copy()\n",
    "mmr['True Label'] = y_test.iloc[mmi].values\n",
    "mmr['Predicted Label'] = y_pred[mmi]\n",
    "\n",
    "print(\"\\nRecords where predictions do not match actual values:\")\n",
    "mmr.shape\n"
   ]
  },
  {
   "cell_type": "code",
   "execution_count": 65,
   "id": "0377065c-f167-43ca-9755-6897281abc84",
   "metadata": {},
   "outputs": [
    {
     "data": {
      "text/plain": [
       "(42166, 12)"
      ]
     },
     "execution_count": 65,
     "metadata": {},
     "output_type": "execute_result"
    }
   ],
   "source": [
    "filtered_df_cleaned.shape"
   ]
  },
  {
   "cell_type": "code",
   "execution_count": 66,
   "id": "a5ae4fcc-66cb-4eb3-a4d2-9a06360fd779",
   "metadata": {},
   "outputs": [],
   "source": [
    "\n",
    "matching_ids = mmr['QUESTID2'].values\n",
    "filtered_df_cleaned.loc[filtered_df_cleaned['QUESTID2'].isin(matching_ids), 'QUESTID2'] = np.nan\n",
    "\n"
   ]
  },
  {
   "cell_type": "code",
   "execution_count": 67,
   "id": "c9b8c5b7-001e-4e17-8cc4-2addafd98db8",
   "metadata": {},
   "outputs": [
    {
     "name": "stderr",
     "output_type": "stream",
     "text": [
      "C:\\Users\\Rama Rao\\AppData\\Local\\Temp\\ipykernel_17120\\907183047.py:7: UserWarning: No artists with labels found to put in legend.  Note that artists whose label start with an underscore are ignored when legend() is called with no argument.\n",
      "  plt.legend(title='Depression')\n"
     ]
    },
    {
     "data": {
      "image/png": "[encoded data removed]",
      "text/plain": [
       "<Figure size 1000x600 with 1 Axes>"
      ]
     },
     "metadata": {},
     "output_type": "display_data"
    }
   ],
   "source": [
    "# Relationship between marijuana use and depression\n",
    "plt.figure(figsize=(10, 6))\n",
    "sns.countplot(data=filtered_df__cleaned, x='Ever used marijuana')\n",
    "plt.title('Marijuana Use and Prevalence of Depression')\n",
    "plt.xlabel('Marijuana Use (Ever)')\n",
    "plt.ylabel('Count')\n",
    "plt.legend(title='Depression')\n",
    "plt.tight_layout()\n",
    "plt.show()"
   ]
  },
  {
   "cell_type": "code",
   "execution_count": 68,
   "id": "87b7ba32-3ad4-4ba7-8fd5-3c24d83689f9",
   "metadata": {
    "scrolled": true
   },
   "outputs": [
    {
     "name": "stderr",
     "output_type": "stream",
     "text": [
      "C:\\Users\\Rama Rao\\AppData\\Local\\Temp\\ipykernel_17120\\1524618430.py:6: UserWarning: No artists with labels found to put in legend.  Note that artists whose label start with an underscore are ignored when legend() is called with no argument.\n",
      "  plt.legend(title='Depression')\n"
     ]
    },
    {
     "data": {
      "image/png": "[encoded data removed]",
      "text/plain": [
       "<Figure size 1000x600 with 1 Axes>"
      ]
     },
     "metadata": {},
     "output_type": "display_data"
    }
   ],
   "source": [
    "plt.figure(figsize=(10, 6))\n",
    "sns.countplot(data=filtered_df__cleaned, x='Ever used marijuana', color='green')\n",
    "plt.title('Marijuana Use and Prevalence of Depression')\n",
    "plt.xlabel('Marijuana Use (Ever)')\n",
    "plt.ylabel('Count')\n",
    "plt.legend(title='Depression')\n",
    "plt.tight_layout()\n",
    "plt.show()\n"
   ]
  },
  {
   "cell_type": "code",
   "execution_count": 69,
   "id": "942b2c74-ebc6-4ce9-83e6-3930879e4c00",
   "metadata": {
    "scrolled": true
   },
   "outputs": [
    {
     "name": "stderr",
     "output_type": "stream",
     "text": [
      "C:\\Users\\Rama Rao\\AppData\\Local\\Temp\\ipykernel_17120\\1276217604.py:7: UserWarning: No artists with labels found to put in legend.  Note that artists whose label start with an underscore are ignored when legend() is called with no argument.\n",
      "  plt.legend(title='Depression')\n"
     ]
    },
    {
     "data": {
      "image/png": "[encoded data removed]",
      "text/plain": [
       "<Figure size 1000x600 with 1 Axes>"
      ]
     },
     "metadata": {},
     "output_type": "display_data"
    }
   ],
   "source": [
    "plt.figure(figsize=(10, 6))\n",
    "sns.countplot(data=filtered_df_cleaned, x='income')\n",
    "plt.title('Distribution of Depression Across Income Levels')\n",
    "plt.xlabel('Income Level')\n",
    "plt.ylabel('Count')\n",
    "plt.xticks(rotation=45)\n",
    "plt.legend(title='Depression')\n",
    "plt.tight_layout()\n",
    "plt.show()\n",
    "\n"
   ]
  },
  {
   "cell_type": "code",
   "execution_count": 70,
   "id": "59ae3700-1030-45ce-a816-ea84a44a93a2",
   "metadata": {},
   "outputs": [
    {
     "data": {
      "image/png": "[encoded data removed]",
      "text/plain": [
       "<Figure size 1000x600 with 1 Axes>"
      ]
     },
     "metadata": {},
     "output_type": "display_data"
    }
   ],
   "source": [
    "# Question 1: How does socioeconomic status (income, education, employment status) influence mental health?\n",
    "# Bar plot to show the distribution of depression (Sadness) across different income levels.\n",
    "\n",
    "# Create a plot for the influence of income on experiencing mental health disorders (depression)\n",
    "plt.figure(figsize=(10, 6))\n",
    "sns.countplot(data=filtered_df_cleaned, x='income', hue='SEVERAL DAYS OR LNGR WHEN FELT SAD/EMPTY/DPRSD', palette=\"Blues\")\n",
    "plt.title('Income vs. Mental Health Disorders (Depression)')\n",
    "plt.xlabel('Income Levels')\n",
    "plt.ylabel('Count of Individuals')\n",
    "plt.xticks(rotation=45)\n",
    "plt.legend(title='Felt Sad/Depressed for Several Days or Longer')\n",
    "plt.tight_layout()\n",
    "plt.show()"
   ]
  },
  {
   "cell_type": "markdown",
   "id": "8d16df49-57b2-481f-89fd-5610369bc7ed",
   "metadata": {},
   "source": [
    "### Observations:\n",
    "# From the above graphs we might conclude that people whose income is less than $20,000 (which is the least among the others) are more likely to \n",
    "# feel depressed.\n"
   ]
  },
  {
   "cell_type": "code",
   "execution_count": 71,
   "id": "e8e6835f-b505-4140-b872-80a280f2ab1a",
   "metadata": {
    "scrolled": true
   },
   "outputs": [
    {
     "data": {
      "image/png": "[encoded data removed]",
      "text/plain": [
       "<Figure size 1000x600 with 1 Axes>"
      ]
     },
     "metadata": {},
     "output_type": "display_data"
    }
   ],
   "source": [
    "# Question 2: The role of marijuana use in mental health\n",
    "# We will create a bar plot to see the relation between marijuana use, state marijuana laws, and depression\n",
    "\n",
    "plt.figure(figsize=(10, 6))\n",
    "sns.countplot(data=filtered_df__cleaned, x='STATE MEDICAL MJ LAW PASSED AT TIME OF INTERVIEW', hue='Ever used marijuana', palette=\"Greens\")\n",
    "plt.title('State Marijuana Laws and Marijuana Use')\n",
    "plt.xlabel('State Medical Marijuana Law Passed')\n",
    "plt.ylabel('Count of Individuals')\n",
    "plt.legend(title='Ever Used Marijuana')\n",
    "#plt.tight_layout()\n",
    "plt.show()\n",
    "\n"
   ]
  },
  {
   "cell_type": "code",
   "execution_count": 72,
   "id": "c8cd61c8-b786-42ca-9779-91fe5cfbdbb3",
   "metadata": {},
   "outputs": [
    {
     "name": "stderr",
     "output_type": "stream",
     "text": [
      "C:\\Users\\Rama Rao\\AppData\\Local\\Temp\\ipykernel_17120\\907183047.py:7: UserWarning: No artists with labels found to put in legend.  Note that artists whose label start with an underscore are ignored when legend() is called with no argument.\n",
      "  plt.legend(title='Depression')\n"
     ]
    },
    {
     "data": {
      "image/png": "[encoded data removed]",
      "text/plain": [
       "<Figure size 1000x600 with 1 Axes>"
      ]
     },
     "metadata": {},
     "output_type": "display_data"
    }
   ],
   "source": [
    "# Relationship between marijuana use and depression\n",
    "plt.figure(figsize=(10, 6))\n",
    "sns.countplot(data=filtered_df__cleaned, x='Ever used marijuana')\n",
    "plt.title('Marijuana Use and Prevalence of Depression')\n",
    "plt.xlabel('Marijuana Use (Ever)')\n",
    "plt.ylabel('Count')\n",
    "plt.legend(title='Depression')\n",
    "plt.tight_layout()\n",
    "plt.show()"
   ]
  },
  {
   "cell_type": "markdown",
   "id": "dbc527eb-ba3f-4095-82df-428a788ee0ef",
   "metadata": {},
   "source": [
    "### -x-x-x-x-x-x-x-x-x-x-x-x-x-x-x-x-x-x-x-x-x-x-x-x-x-x-x-x-x-x-x-x-x-x-x-x-x-x-x-x-x-x-x-x-x-x-x-x-x-x-x-x-x-x-x-x-x-"
   ]
  },
  {
   "cell_type": "markdown",
   "id": "05ded4df-3dd9-4617-a5ac-ff2d0e497e70",
   "metadata": {},
   "source": [
    "### Phase 2 starts here:"
   ]
  },
  {
   "cell_type": "markdown",
   "id": "a962f631-6f2d-4e55-b32b-dd954585ce5b",
   "metadata": {},
   "source": [
    "### Question1: What role does marijuana use play in the aggravation of mental health disorders?\n",
    "### Hypothesis 1: Frequent marijuana use is more common in states where marijuana is legalized, and this is associated with a higher prevalence of depression.\n",
    "### •\tUnderstanding the relationship between marijuana use and mental health will help us to answer sensitive questions like should marijuana be banned all over the world\n",
    "\n",
    "### Question 2: What role does hallucinogens play in mental health disorders?\n",
    "### Hypothesis 2: Unregulated use of hallucinogens can cause mental health problems like anxiety and depression.\n",
    "### •\tUnderstanding the relationship between use of various hallucinogens and mental health will suggest us to regulate the supply of medical hallucinogens"
   ]
  },
  {
   "cell_type": "code",
   "execution_count": 73,
   "id": "08290c80-aad8-4fcb-b14a-b4083fc1e59e",
   "metadata": {
    "jupyter": {
     "source_hidden": true
    }
   },
   "outputs": [],
   "source": [
    "#making a copy of original dataset for analysis for another question\n",
    "filtered_df_cleaned_org=filtered_df_cleaned.copy()\n"
   ]
  },
  {
   "cell_type": "code",
   "execution_count": 74,
   "id": "ace8b888-51f2-4452-a882-51a862f0fafb",
   "metadata": {},
   "outputs": [],
   "source": [
    "# Excluding the features which are not relevant to above analysis\n",
    "columns_to_exclude = ['Employment', 'education', 'income', 'sexual orientation', 'COUNTY METRO/NONMETRO STATUS']\n",
    "\n",
    "# Select columns that are not in the exclusion list\n",
    "filtered_df_cleaned = filtered_df_cleaned[[col for col in filtered_df_cleaned.columns if col not in columns_to_exclude]]\n",
    "\n"
   ]
  },
  {
   "cell_type": "code",
   "execution_count": 75,
   "id": "3ec3051c-1e5e-4063-8b9d-7936ff655c9e",
   "metadata": {},
   "outputs": [],
   "source": [
    "filtered_df_cleaned=filtered_df_cleaned.rename(columns={'ANY PAIN RELIEVER USE IN LIFETIME':'PAIN RELIEVER USE', 'hallucinogens':'Hallucinogens usage'})"
   ]
  },
  {
   "cell_type": "code",
   "execution_count": 76,
   "id": "269c18ac-2082-4094-8adc-020d84fbf7b2",
   "metadata": {},
   "outputs": [],
   "source": [
    "filtered_df_cleaned = filtered_df_cleaned.dropna()"
   ]
  },
  {
   "cell_type": "code",
   "execution_count": 77,
   "id": "1ab73255-369b-469d-a6c7-4498a81e72ac",
   "metadata": {},
   "outputs": [],
   "source": [
    "# We will use the column \"SEVERAL DAYS OR LNGR WHEN FELT SAD/EMPTY/DPRSD\" as the output column which will be the final outcome column, we will assume\n",
    "# \"Yes\" as experiencing mental health issues and \"No\" as not experiencing them"
   ]
  },
  {
   "cell_type": "code",
   "execution_count": 78,
   "id": "bae2c6d2-5651-47bd-bc0e-f3d351f9de0f",
   "metadata": {},
   "outputs": [],
   "source": [
    "filtered_df_cleaned['Mental_Health_Disorder'] = filtered_df_cleaned['SEVERAL DAYS OR LNGR WHEN FELT SAD/EMPTY/DPRSD'].apply(lambda x: 1 if x == 'Yes' else 0)\n",
    "\n",
    "# we will drop the original target column as it is already used in above column\n",
    "filtered_df_cleaned = filtered_df_cleaned.drop(columns=['SEVERAL DAYS OR LNGR WHEN FELT SAD/EMPTY/DPRSD'])\n"
   ]
  },
  {
   "cell_type": "code",
   "execution_count": 79,
   "id": "776204b1-852f-4d87-b764-c722ef167951",
   "metadata": {},
   "outputs": [],
   "source": [
    "# converting categorical variables into binary columns using One-hot encoding to make the data suitable for ML algorithms"
   ]
  },
  {
   "cell_type": "code",
   "execution_count": 80,
   "id": "6b9334bc-1e15-4f55-ad3c-945171bec553",
   "metadata": {},
   "outputs": [
    {
     "data": {
      "text/html": [
       "<div>\n",
       "<style scoped>\n",
       "    .dataframe tbody tr th:only-of-type {\n",
       "        vertical-align: middle;\n",
       "    }\n",
       "\n",
       "    .dataframe tbody tr th {\n",
       "        vertical-align: top;\n",
       "    }\n",
       "\n",
       "    .dataframe thead th {\n",
       "        text-align: right;\n",
       "    }\n",
       "</style>\n",
       "<table border=\"1\" class=\"dataframe\">\n",
       "  <thead>\n",
       "    <tr style=\"text-align: right;\">\n",
       "      <th></th>\n",
       "      <th>QUESTID2</th>\n",
       "      <th>HOW OFTEN FELT SAD NOTHING COULD CHEER YOU UP</th>\n",
       "      <th>Mental_Health_Disorder</th>\n",
       "      <th>STATE MEDICAL MJ LAW PASSED AT TIME OF INTERVIEW_Yes</th>\n",
       "      <th>Ever used marijuana_Yes</th>\n",
       "      <th>PAIN RELIEVER USE_Yes</th>\n",
       "      <th>Hallucinogens usage_Yes</th>\n",
       "    </tr>\n",
       "  </thead>\n",
       "  <tbody>\n",
       "    <tr>\n",
       "      <th>0</th>\n",
       "      <td>43295143.00</td>\n",
       "      <td>Some of the time</td>\n",
       "      <td>1</td>\n",
       "      <td>False</td>\n",
       "      <td>True</td>\n",
       "      <td>True</td>\n",
       "      <td>False</td>\n",
       "    </tr>\n",
       "    <tr>\n",
       "      <th>2</th>\n",
       "      <td>49405143.00</td>\n",
       "      <td>None of the time</td>\n",
       "      <td>0</td>\n",
       "      <td>True</td>\n",
       "      <td>True</td>\n",
       "      <td>True</td>\n",
       "      <td>False</td>\n",
       "    </tr>\n",
       "    <tr>\n",
       "      <th>3</th>\n",
       "      <td>51015143.00</td>\n",
       "      <td>A little of the time</td>\n",
       "      <td>0</td>\n",
       "      <td>True</td>\n",
       "      <td>False</td>\n",
       "      <td>True</td>\n",
       "      <td>False</td>\n",
       "    </tr>\n",
       "    <tr>\n",
       "      <th>6</th>\n",
       "      <td>65565143.00</td>\n",
       "      <td>None of the time</td>\n",
       "      <td>0</td>\n",
       "      <td>True</td>\n",
       "      <td>True</td>\n",
       "      <td>False</td>\n",
       "      <td>False</td>\n",
       "    </tr>\n",
       "    <tr>\n",
       "      <th>7</th>\n",
       "      <td>45375143.00</td>\n",
       "      <td>None of the time</td>\n",
       "      <td>0</td>\n",
       "      <td>True</td>\n",
       "      <td>False</td>\n",
       "      <td>True</td>\n",
       "      <td>False</td>\n",
       "    </tr>\n",
       "  </tbody>\n",
       "</table>\n",
       "</div>"
      ],
      "text/plain": [
       "     QUESTID2 HOW OFTEN FELT SAD NOTHING COULD CHEER YOU UP  \\\n",
       "0 43295143.00                              Some of the time   \n",
       "2 49405143.00                              None of the time   \n",
       "3 51015143.00                          A little of the time   \n",
       "6 65565143.00                              None of the time   \n",
       "7 45375143.00                              None of the time   \n",
       "\n",
       "   Mental_Health_Disorder  \\\n",
       "0                       1   \n",
       "2                       0   \n",
       "3                       0   \n",
       "6                       0   \n",
       "7                       0   \n",
       "\n",
       "   STATE MEDICAL MJ LAW PASSED AT TIME OF INTERVIEW_Yes  \\\n",
       "0                                              False      \n",
       "2                                               True      \n",
       "3                                               True      \n",
       "6                                               True      \n",
       "7                                               True      \n",
       "\n",
       "   Ever used marijuana_Yes  PAIN RELIEVER USE_Yes  Hallucinogens usage_Yes  \n",
       "0                     True                   True                    False  \n",
       "2                     True                   True                    False  \n",
       "3                    False                   True                    False  \n",
       "6                     True                  False                    False  \n",
       "7                    False                   True                    False  "
      ]
     },
     "execution_count": 80,
     "metadata": {},
     "output_type": "execute_result"
    }
   ],
   "source": [
    "encoded_df = pd.get_dummies(filtered_df_cleaned, columns=[ 'STATE MEDICAL MJ LAW PASSED AT TIME OF INTERVIEW', 'Ever used marijuana', 'PAIN RELIEVER USE','Hallucinogens usage'], drop_first=True)\n",
    "\n",
    "encoded_df.head()\n"
   ]
  },
  {
   "cell_type": "code",
   "execution_count": 81,
   "id": "545c20dd-8402-4b69-88e7-1b138c661eda",
   "metadata": {},
   "outputs": [
    {
     "name": "stderr",
     "output_type": "stream",
     "text": [
      "C:\\Users\\Rama Rao\\AppData\\Local\\Temp\\ipykernel_17120\\3547169791.py:2: FutureWarning: Downcasting behavior in `replace` is deprecated and will be removed in a future version. To retain the old behavior, explicitly call `result.infer_objects(copy=False)`. To opt-in to the future behavior, set `pd.set_option('future.no_silent_downcasting', True)`\n",
      "  encoded_df = encoded_df.replace({True: 1, False: 0})\n"
     ]
    },
    {
     "data": {
      "text/html": [
       "<div>\n",
       "<style scoped>\n",
       "    .dataframe tbody tr th:only-of-type {\n",
       "        vertical-align: middle;\n",
       "    }\n",
       "\n",
       "    .dataframe tbody tr th {\n",
       "        vertical-align: top;\n",
       "    }\n",
       "\n",
       "    .dataframe thead th {\n",
       "        text-align: right;\n",
       "    }\n",
       "</style>\n",
       "<table border=\"1\" class=\"dataframe\">\n",
       "  <thead>\n",
       "    <tr style=\"text-align: right;\">\n",
       "      <th></th>\n",
       "      <th>QUESTID2</th>\n",
       "      <th>HOW OFTEN FELT SAD NOTHING COULD CHEER YOU UP</th>\n",
       "      <th>Mental_Health_Disorder</th>\n",
       "      <th>STATE MEDICAL MJ LAW PASSED AT TIME OF INTERVIEW_Yes</th>\n",
       "      <th>Ever used marijuana_Yes</th>\n",
       "      <th>PAIN RELIEVER USE_Yes</th>\n",
       "      <th>Hallucinogens usage_Yes</th>\n",
       "    </tr>\n",
       "  </thead>\n",
       "  <tbody>\n",
       "    <tr>\n",
       "      <th>0</th>\n",
       "      <td>43295143.00</td>\n",
       "      <td>Some of the time</td>\n",
       "      <td>1</td>\n",
       "      <td>0</td>\n",
       "      <td>1</td>\n",
       "      <td>1</td>\n",
       "      <td>0</td>\n",
       "    </tr>\n",
       "    <tr>\n",
       "      <th>2</th>\n",
       "      <td>49405143.00</td>\n",
       "      <td>None of the time</td>\n",
       "      <td>0</td>\n",
       "      <td>1</td>\n",
       "      <td>1</td>\n",
       "      <td>1</td>\n",
       "      <td>0</td>\n",
       "    </tr>\n",
       "    <tr>\n",
       "      <th>3</th>\n",
       "      <td>51015143.00</td>\n",
       "      <td>A little of the time</td>\n",
       "      <td>0</td>\n",
       "      <td>1</td>\n",
       "      <td>0</td>\n",
       "      <td>1</td>\n",
       "      <td>0</td>\n",
       "    </tr>\n",
       "    <tr>\n",
       "      <th>6</th>\n",
       "      <td>65565143.00</td>\n",
       "      <td>None of the time</td>\n",
       "      <td>0</td>\n",
       "      <td>1</td>\n",
       "      <td>1</td>\n",
       "      <td>0</td>\n",
       "      <td>0</td>\n",
       "    </tr>\n",
       "    <tr>\n",
       "      <th>7</th>\n",
       "      <td>45375143.00</td>\n",
       "      <td>None of the time</td>\n",
       "      <td>0</td>\n",
       "      <td>1</td>\n",
       "      <td>0</td>\n",
       "      <td>1</td>\n",
       "      <td>0</td>\n",
       "    </tr>\n",
       "  </tbody>\n",
       "</table>\n",
       "</div>"
      ],
      "text/plain": [
       "     QUESTID2 HOW OFTEN FELT SAD NOTHING COULD CHEER YOU UP  \\\n",
       "0 43295143.00                              Some of the time   \n",
       "2 49405143.00                              None of the time   \n",
       "3 51015143.00                          A little of the time   \n",
       "6 65565143.00                              None of the time   \n",
       "7 45375143.00                              None of the time   \n",
       "\n",
       "   Mental_Health_Disorder  \\\n",
       "0                       1   \n",
       "2                       0   \n",
       "3                       0   \n",
       "6                       0   \n",
       "7                       0   \n",
       "\n",
       "   STATE MEDICAL MJ LAW PASSED AT TIME OF INTERVIEW_Yes  \\\n",
       "0                                                  0      \n",
       "2                                                  1      \n",
       "3                                                  1      \n",
       "6                                                  1      \n",
       "7                                                  1      \n",
       "\n",
       "   Ever used marijuana_Yes  PAIN RELIEVER USE_Yes  Hallucinogens usage_Yes  \n",
       "0                        1                      1                        0  \n",
       "2                        1                      1                        0  \n",
       "3                        0                      1                        0  \n",
       "6                        1                      0                        0  \n",
       "7                        0                      1                        0  "
      ]
     },
     "execution_count": 81,
     "metadata": {},
     "output_type": "execute_result"
    }
   ],
   "source": [
    "# Converting boolean  values to 1 and 0\n",
    "encoded_df = encoded_df.replace({True: 1, False: 0})\n",
    "encoded_df.head()\n"
   ]
  },
  {
   "cell_type": "code",
   "execution_count": 82,
   "id": "caaa09f5-3787-498f-8b34-8b523e3af029",
   "metadata": {},
   "outputs": [
    {
     "data": {
      "text/plain": [
       "array(['Some of the time', 'None of the time', 'A little of the time',\n",
       "       'Most of the time', 'All of the time'], dtype=object)"
      ]
     },
     "execution_count": 82,
     "metadata": {},
     "output_type": "execute_result"
    }
   ],
   "source": [
    "encoded_df['HOW OFTEN FELT SAD NOTHING COULD CHEER YOU UP'].unique()"
   ]
  },
  {
   "cell_type": "code",
   "execution_count": 83,
   "id": "d0e13faa-70ae-4faa-89bf-569754799189",
   "metadata": {},
   "outputs": [
    {
     "data": {
      "text/plain": [
       "array([2, 0, 1, 3, 4])"
      ]
     },
     "execution_count": 83,
     "metadata": {},
     "output_type": "execute_result"
    }
   ],
   "source": [
    "target_order = {\n",
    "    \"None of the time\": 0,\n",
    "    \"A little of the time\": 1,\n",
    "    \"Some of the time\": 2,\n",
    "    \"Most of the time\": 3,\n",
    "    \"All of the time\": 4\n",
    "}\n",
    "\n",
    "\n",
    "encoded_df['HOW OFTEN FELT SAD NOTHING COULD CHEER YOU UP'] = encoded_df['HOW OFTEN FELT SAD NOTHING COULD CHEER YOU UP'].map(target_order)\n",
    "\n",
    "encoded_df['HOW OFTEN FELT SAD NOTHING COULD CHEER YOU UP'].unique()\n"
   ]
  },
  {
   "cell_type": "code",
   "execution_count": 84,
   "id": "94c93ae9-f610-4990-bd82-6ef12bd9e798",
   "metadata": {},
   "outputs": [
    {
     "data": {
      "text/html": [
       "<div>\n",
       "<style scoped>\n",
       "    .dataframe tbody tr th:only-of-type {\n",
       "        vertical-align: middle;\n",
       "    }\n",
       "\n",
       "    .dataframe tbody tr th {\n",
       "        vertical-align: top;\n",
       "    }\n",
       "\n",
       "    .dataframe thead th {\n",
       "        text-align: right;\n",
       "    }\n",
       "</style>\n",
       "<table border=\"1\" class=\"dataframe\">\n",
       "  <thead>\n",
       "    <tr style=\"text-align: right;\">\n",
       "      <th></th>\n",
       "      <th>QUESTID2</th>\n",
       "      <th>HOW OFTEN FELT SAD NOTHING COULD CHEER YOU UP</th>\n",
       "      <th>Mental_Health_Disorder</th>\n",
       "      <th>STATE MEDICAL MJ LAW PASSED AT TIME OF INTERVIEW_Yes</th>\n",
       "      <th>Ever used marijuana_Yes</th>\n",
       "      <th>PAIN RELIEVER USE_Yes</th>\n",
       "      <th>Hallucinogens usage_Yes</th>\n",
       "    </tr>\n",
       "  </thead>\n",
       "  <tbody>\n",
       "    <tr>\n",
       "      <th>0</th>\n",
       "      <td>43295143.00</td>\n",
       "      <td>2</td>\n",
       "      <td>1</td>\n",
       "      <td>0</td>\n",
       "      <td>1</td>\n",
       "      <td>1</td>\n",
       "      <td>0</td>\n",
       "    </tr>\n",
       "    <tr>\n",
       "      <th>2</th>\n",
       "      <td>49405143.00</td>\n",
       "      <td>0</td>\n",
       "      <td>0</td>\n",
       "      <td>1</td>\n",
       "      <td>1</td>\n",
       "      <td>1</td>\n",
       "      <td>0</td>\n",
       "    </tr>\n",
       "    <tr>\n",
       "      <th>3</th>\n",
       "      <td>51015143.00</td>\n",
       "      <td>1</td>\n",
       "      <td>0</td>\n",
       "      <td>1</td>\n",
       "      <td>0</td>\n",
       "      <td>1</td>\n",
       "      <td>0</td>\n",
       "    </tr>\n",
       "    <tr>\n",
       "      <th>6</th>\n",
       "      <td>65565143.00</td>\n",
       "      <td>0</td>\n",
       "      <td>0</td>\n",
       "      <td>1</td>\n",
       "      <td>1</td>\n",
       "      <td>0</td>\n",
       "      <td>0</td>\n",
       "    </tr>\n",
       "    <tr>\n",
       "      <th>7</th>\n",
       "      <td>45375143.00</td>\n",
       "      <td>0</td>\n",
       "      <td>0</td>\n",
       "      <td>1</td>\n",
       "      <td>0</td>\n",
       "      <td>1</td>\n",
       "      <td>0</td>\n",
       "    </tr>\n",
       "  </tbody>\n",
       "</table>\n",
       "</div>"
      ],
      "text/plain": [
       "     QUESTID2  HOW OFTEN FELT SAD NOTHING COULD CHEER YOU UP  \\\n",
       "0 43295143.00                                              2   \n",
       "2 49405143.00                                              0   \n",
       "3 51015143.00                                              1   \n",
       "6 65565143.00                                              0   \n",
       "7 45375143.00                                              0   \n",
       "\n",
       "   Mental_Health_Disorder  \\\n",
       "0                       1   \n",
       "2                       0   \n",
       "3                       0   \n",
       "6                       0   \n",
       "7                       0   \n",
       "\n",
       "   STATE MEDICAL MJ LAW PASSED AT TIME OF INTERVIEW_Yes  \\\n",
       "0                                                  0      \n",
       "2                                                  1      \n",
       "3                                                  1      \n",
       "6                                                  1      \n",
       "7                                                  1      \n",
       "\n",
       "   Ever used marijuana_Yes  PAIN RELIEVER USE_Yes  Hallucinogens usage_Yes  \n",
       "0                        1                      1                        0  \n",
       "2                        1                      1                        0  \n",
       "3                        0                      1                        0  \n",
       "6                        1                      0                        0  \n",
       "7                        0                      1                        0  "
      ]
     },
     "execution_count": 84,
     "metadata": {},
     "output_type": "execute_result"
    }
   ],
   "source": [
    "encoded_df.head()"
   ]
  },
  {
   "cell_type": "code",
   "execution_count": 85,
   "id": "b0248243-eaf5-4040-9d80-60d1326f5b23",
   "metadata": {},
   "outputs": [
    {
     "data": {
      "text/html": [
       "<div>\n",
       "<style scoped>\n",
       "    .dataframe tbody tr th:only-of-type {\n",
       "        vertical-align: middle;\n",
       "    }\n",
       "\n",
       "    .dataframe tbody tr th {\n",
       "        vertical-align: top;\n",
       "    }\n",
       "\n",
       "    .dataframe thead th {\n",
       "        text-align: right;\n",
       "    }\n",
       "</style>\n",
       "<table border=\"1\" class=\"dataframe\">\n",
       "  <thead>\n",
       "    <tr style=\"text-align: right;\">\n",
       "      <th></th>\n",
       "      <th>QUESTID2</th>\n",
       "      <th>HOW OFTEN FELT SAD NOTHING COULD CHEER YOU UP</th>\n",
       "      <th>Mental_Health_Disorder</th>\n",
       "      <th>STATE MEDICAL MJ LAW PASSED AT TIME OF INTERVIEW_Yes</th>\n",
       "      <th>Ever used marijuana_Yes</th>\n",
       "      <th>PAIN RELIEVER USE_Yes</th>\n",
       "      <th>Hallucinogens usage_Yes</th>\n",
       "    </tr>\n",
       "  </thead>\n",
       "  <tbody>\n",
       "    <tr>\n",
       "      <th>0</th>\n",
       "      <td>43295143.00</td>\n",
       "      <td>2</td>\n",
       "      <td>1</td>\n",
       "      <td>0</td>\n",
       "      <td>1</td>\n",
       "      <td>1</td>\n",
       "      <td>0</td>\n",
       "    </tr>\n",
       "    <tr>\n",
       "      <th>2</th>\n",
       "      <td>49405143.00</td>\n",
       "      <td>0</td>\n",
       "      <td>0</td>\n",
       "      <td>1</td>\n",
       "      <td>1</td>\n",
       "      <td>1</td>\n",
       "      <td>0</td>\n",
       "    </tr>\n",
       "    <tr>\n",
       "      <th>3</th>\n",
       "      <td>51015143.00</td>\n",
       "      <td>1</td>\n",
       "      <td>0</td>\n",
       "      <td>1</td>\n",
       "      <td>0</td>\n",
       "      <td>1</td>\n",
       "      <td>0</td>\n",
       "    </tr>\n",
       "    <tr>\n",
       "      <th>6</th>\n",
       "      <td>65565143.00</td>\n",
       "      <td>0</td>\n",
       "      <td>0</td>\n",
       "      <td>1</td>\n",
       "      <td>1</td>\n",
       "      <td>0</td>\n",
       "      <td>0</td>\n",
       "    </tr>\n",
       "    <tr>\n",
       "      <th>7</th>\n",
       "      <td>45375143.00</td>\n",
       "      <td>0</td>\n",
       "      <td>0</td>\n",
       "      <td>1</td>\n",
       "      <td>0</td>\n",
       "      <td>1</td>\n",
       "      <td>0</td>\n",
       "    </tr>\n",
       "  </tbody>\n",
       "</table>\n",
       "</div>"
      ],
      "text/plain": [
       "     QUESTID2  HOW OFTEN FELT SAD NOTHING COULD CHEER YOU UP  \\\n",
       "0 43295143.00                                              2   \n",
       "2 49405143.00                                              0   \n",
       "3 51015143.00                                              1   \n",
       "6 65565143.00                                              0   \n",
       "7 45375143.00                                              0   \n",
       "\n",
       "   Mental_Health_Disorder  \\\n",
       "0                       1   \n",
       "2                       0   \n",
       "3                       0   \n",
       "6                       0   \n",
       "7                       0   \n",
       "\n",
       "   STATE MEDICAL MJ LAW PASSED AT TIME OF INTERVIEW_Yes  \\\n",
       "0                                                  0      \n",
       "2                                                  1      \n",
       "3                                                  1      \n",
       "6                                                  1      \n",
       "7                                                  1      \n",
       "\n",
       "   Ever used marijuana_Yes  PAIN RELIEVER USE_Yes  Hallucinogens usage_Yes  \n",
       "0                        1                      1                        0  \n",
       "2                        1                      1                        0  \n",
       "3                        0                      1                        0  \n",
       "6                        1                      0                        0  \n",
       "7                        0                      1                        0  "
      ]
     },
     "execution_count": 85,
     "metadata": {},
     "output_type": "execute_result"
    }
   ],
   "source": [
    "df=encoded_df.copy()\n",
    "df.head()"
   ]
  },
  {
   "cell_type": "code",
   "execution_count": 86,
   "id": "4534f1f9-6ab0-43ec-9e7e-345cbde6bce4",
   "metadata": {},
   "outputs": [],
   "source": [
    "#Excluding the columns to predict and the ID which is unique for each row\n",
    "req_X_cols = [w for w in df.columns if w not in ['Mental_Health_Disorder','QUESTID2']]\n"
   ]
  },
  {
   "cell_type": "code",
   "execution_count": 87,
   "id": "1b85cd13-13d1-4234-b01d-512111b49a38",
   "metadata": {
    "scrolled": true
   },
   "outputs": [],
   "source": [
    "X = df[req_X_cols]\n",
    "y = df['Mental_Health_Disorder'] #Outcome\n"
   ]
  },
  {
   "cell_type": "code",
   "execution_count": 88,
   "id": "4ce4f8d0-81fe-4305-a4bf-a43b1acf2b1d",
   "metadata": {},
   "outputs": [],
   "source": [
    "data=df.copy()"
   ]
  },
  {
   "cell_type": "markdown",
   "id": "d0cf1635-bbc0-4338-8c0b-0fc39ce0aae2",
   "metadata": {},
   "source": [
    "### We will calculate Variance Inflation Factor to detect multicollinearity among features\n",
    "High VIF indicates high multicollinearity, which can negatively impact model performance and interpretation. Hence, we \n"
   ]
  },
  {
   "cell_type": "code",
   "execution_count": 89,
   "id": "19ddc1f9-da18-485e-9221-3c7ae5256aae",
   "metadata": {},
   "outputs": [
    {
     "name": "stdout",
     "output_type": "stream",
     "text": [
      "                                             Feature  VIF\n",
      "0      HOW OFTEN FELT SAD NOTHING COULD CHEER YOU UP 1.38\n",
      "1  STATE MEDICAL MJ LAW PASSED AT TIME OF INTERVI... 1.90\n",
      "2                            Ever used marijuana_Yes 2.41\n",
      "3                              PAIN RELIEVER USE_Yes 2.04\n",
      "4                            Hallucinogens usage_Yes 1.50\n"
     ]
    }
   ],
   "source": [
    "\n",
    "vif_data = pd.DataFrame()\n",
    "vif_data[\"Feature\"] = X.columns\n",
    "vif_data[\"VIF\"] = [variance_inflation_factor(X.values, i) for i in range(X.shape[1])]\n",
    "\n",
    "print(vif_data)\n"
   ]
  },
  {
   "cell_type": "markdown",
   "id": "da9355f1-e251-46e3-881d-ca69b53451e0",
   "metadata": {},
   "source": [
    " A VIF value greater than 10 indicates high collinearity and this should be removed. However, we can observe that all the features have VIF less than 5 \n",
    "this indicates that multicollinearity is not an issue in our case"
   ]
  },
  {
   "cell_type": "markdown",
   "id": "b2e0a361-675a-4034-a5be-d1c93f2b99de",
   "metadata": {},
   "source": [
    "## Model Selection \n",
    "\n",
    "### Logistic Regression: \n",
    "Mental health data has complex, non-linear relationships between features and the target variable. Since Logistic Regression has a linear decision boundary in the feature space, this model might fail to capture these non-linear interactions adequately.\n",
    "### Random Forest: \n",
    "In this method multiple decision trees are built and merged finally to get accurate and stable predictions. This model is better than logistic regression as it can handle both linear and non-linear relationships well. This model can also reduce overfitting by averaging, but it is computationally expensive.\n",
    "### Gradient Boosting: \n",
    "This is another ensemble technique that builds trees sequentially, with each tree correcting the errors of the previous one. It is known for its high predictive performance but may require careful tuning to avoid overfitting.\n",
    "### XGBoost\n",
    "This model is suitable for our case because it can effectively handle complex and non-linear relationships between features. This can also handle class imbalance, making it suitable for real-world datasets. Additionally, it has built-in regularization which prevents overfitting."
   ]
  },
  {
   "cell_type": "code",
   "execution_count": 90,
   "id": "09b07e22-f226-4417-8145-b19265427e11",
   "metadata": {},
   "outputs": [
    {
     "name": "stderr",
     "output_type": "stream",
     "text": [
      "C:\\Users\\Rama Rao\\AppData\\Local\\Programs\\Python\\Python312\\Lib\\site-packages\\xgboost\\core.py:158: UserWarning: [22:41:21] WARNING: C:\\buildkite-agent\\builds\\buildkite-windows-cpu-autoscaling-group-i-0ed59c031377d09b8-1\\xgboost\\xgboost-ci-windows\\src\\learner.cc:740: \n",
      "Parameters: { \"use_label_encoder\" } are not used.\n",
      "\n",
      "  warnings.warn(smsg, UserWarning)\n"
     ]
    },
    {
     "data": {
      "text/html": [
       "<div>\n",
       "<style scoped>\n",
       "    .dataframe tbody tr th:only-of-type {\n",
       "        vertical-align: middle;\n",
       "    }\n",
       "\n",
       "    .dataframe tbody tr th {\n",
       "        vertical-align: top;\n",
       "    }\n",
       "\n",
       "    .dataframe thead th {\n",
       "        text-align: right;\n",
       "    }\n",
       "</style>\n",
       "<table border=\"1\" class=\"dataframe\">\n",
       "  <thead>\n",
       "    <tr style=\"text-align: right;\">\n",
       "      <th></th>\n",
       "      <th>Test Accuracy</th>\n",
       "      <th>F1 Score</th>\n",
       "    </tr>\n",
       "  </thead>\n",
       "  <tbody>\n",
       "    <tr>\n",
       "      <th>Logistic Regression</th>\n",
       "      <td>0.92</td>\n",
       "      <td>0.85</td>\n",
       "    </tr>\n",
       "    <tr>\n",
       "      <th>Random Forest</th>\n",
       "      <td>0.93</td>\n",
       "      <td>0.87</td>\n",
       "    </tr>\n",
       "    <tr>\n",
       "      <th>Gradient Boosting</th>\n",
       "      <td>0.93</td>\n",
       "      <td>0.87</td>\n",
       "    </tr>\n",
       "    <tr>\n",
       "      <th>XGBoost</th>\n",
       "      <td>0.93</td>\n",
       "      <td>0.87</td>\n",
       "    </tr>\n",
       "  </tbody>\n",
       "</table>\n",
       "</div>"
      ],
      "text/plain": [
       "                     Test Accuracy  F1 Score\n",
       "Logistic Regression           0.92      0.85\n",
       "Random Forest                 0.93      0.87\n",
       "Gradient Boosting             0.93      0.87\n",
       "XGBoost                       0.93      0.87"
      ]
     },
     "execution_count": 90,
     "metadata": {},
     "output_type": "execute_result"
    }
   ],
   "source": [
    "X = data.drop(columns=['QUESTID2', 'Mental_Health_Disorder'])\n",
    "y = data['Mental_Health_Disorder']\n",
    "X_train, X_test, y_train, y_test = train_test_split(X, y, test_size=0.2, random_state=42)\n",
    "\n",
    "models = {\n",
    "    'Logistic Regression': LogisticRegression(max_iter=1000),\n",
    "    'Random Forest': RandomForestClassifier(),\n",
    "    'Gradient Boosting': GradientBoostingClassifier(),\n",
    "    'XGBoost': XGBClassifier(use_label_encoder=False, eval_metric='logloss'),\n",
    "}\n",
    "\n",
    "model_performance = {}\n",
    "\n",
    "for name, model in models.items():\n",
    "    model.fit(X_train, y_train)  \n",
    "    y_pred = model.predict(X_test) \n",
    "    test_accuracy = accuracy_score(y_test, y_pred)\n",
    "    f1 = f1_score(y_test, y_pred)\n",
    "    \n",
    "    model_performance[name] = {'Test Accuracy': test_accuracy, 'F1 Score': f1}\n",
    "\n",
    "performance_df = pd.DataFrame(model_performance).T\n",
    "performance_df"
   ]
  },
  {
   "cell_type": "code",
   "execution_count": 91,
   "id": "cc1c3e5f-4ffe-4abf-8bb7-7f4994c44f55",
   "metadata": {},
   "outputs": [
    {
     "data": {
      "image/png": "[encoded data removed]",
      "text/plain": [
       "<Figure size 1000x500 with 1 Axes>"
      ]
     },
     "metadata": {},
     "output_type": "display_data"
    },
    {
     "data": {
      "image/png": "[encoded data removed]",
      "text/plain": [
       "<Figure size 1000x500 with 1 Axes>"
      ]
     },
     "metadata": {},
     "output_type": "display_data"
    }
   ],
   "source": [
    "plt.figure(figsize=(10, 5))\n",
    "performance_df['Test Accuracy'].plot(kind='bar', color='blue', alpha=0.7)\n",
    "plt.title('Model Test Accuracy Comparison')\n",
    "plt.ylabel('Test Accuracy')\n",
    "plt.xlabel('Models')\n",
    "plt.ylim(0.90, 0.95)  # Adjusting the y-axis range to highlight variations\n",
    "plt.xticks(rotation=45)\n",
    "plt.show()\n",
    "\n",
    "# Plotting F1 Score with adjusted y-axis range to highlight differences\n",
    "plt.figure(figsize=(10, 5))\n",
    "performance_df['F1 Score'].plot(kind='bar', color='green', alpha=0.7)\n",
    "plt.title('Model F1 Score Comparison')\n",
    "plt.ylabel('F1 Score')\n",
    "plt.xlabel('Models')\n",
    "plt.ylim(0.5, 1.0)  # Adjusting the y-axis range to highlight variations\n",
    "plt.xticks(rotation=45)\n",
    "plt.show()\n"
   ]
  },
  {
   "cell_type": "markdown",
   "id": "4c049cf4-4412-4bd7-853e-3c22bd373fb6",
   "metadata": {},
   "source": [
    "## Finalizing the model to be used\n",
    "### Test Accuracy: \n",
    "This metric measures overall correctness of the predictions. This will help us to understand how well the model performs on the entire test set.\n",
    "### F1 Score:\n",
    "This metric is the harmonic mean of precision and recall, this is useful while dealing with cases having class imbalance issue. This gives a measure of how well the model identifies the positive class.\n",
    "\n",
    "In case of Logistic Regression, the F1 Score is the lowest among all models evaluated. This indicates that logistic regression might not be useful for balancing precision and recall, which is very important for our case.\n",
    "\n",
    "Random Forest has slighlty high accuracy and F1 Score compared to Logistic Regression. It can capture non-linear relationships and is more robust. However, this model does not perform as good as Gradient Boosting.\n",
    "\n",
    "Gradient Boosting achieves the highest Test Accuracy and F1 Score among all the models which we have evaluated. Hence, this is the most effective at correctly predicting both classes and balancing precision and recall.\n",
    "\n",
    " XGBoost performs similarly to Random Forest, with the same Test Accuracy and F1 Score. Although it is known for its efficiency and performance, it does not outperform Gradient Boosting in this case.\n",
    "\n",
    " ### Conclusion:\n",
    " Hence we will choose Gradient Boosting as the final model as it provides the best balance between accuracy and the F1 Score. This is the most suitable option in our case as both performance and the handling of imbalanced classes are important to us."
   ]
  },
  {
   "cell_type": "code",
   "execution_count": 92,
   "id": "b7208fc6-cb25-4eb2-bae5-79e43acfa1df",
   "metadata": {},
   "outputs": [],
   "source": [
    "model = GradientBoostingClassifier()\n",
    "\n",
    "model.fit(X_train, y_train)\n",
    "\n",
    "with open('gradient_boosting_model.pkl', 'wb') as f:\n",
    "    pickle.dump(model, f)\n",
    "\n",
    "with open('gradient_boosting_model.pkl', 'rb') as f:\n",
    "    loaded_model = pickle.load(f)"
   ]
  },
  {
   "cell_type": "code",
   "execution_count": 93,
   "id": "089f7768-ccbf-40b4-b62f-6edaff28de28",
   "metadata": {},
   "outputs": [
    {
     "name": "stdout",
     "output_type": "stream",
     "text": [
      "Model Evaluation Metrics:\n",
      "Accuracy: 0.930421686746988\n",
      "Precision: 0.860502405130946\n",
      "Recall: 0.8890115958034235\n",
      "F1 Score: 0.8745247148288974\n"
     ]
    }
   ],
   "source": [
    "from sklearn.metrics import accuracy_score, precision_score, recall_score, f1_score, confusion_matrix\n",
    "\n",
    "y_pred = loaded_model.predict(X_test)\n",
    "\n",
    "accuracy = accuracy_score(y_test, y_pred)\n",
    "precision = precision_score(y_test, y_pred)\n",
    "recall = recall_score(y_test, y_pred)\n",
    "f1 = f1_score(y_test, y_pred)\n",
    "conf_matrix = confusion_matrix(y_test, y_pred)\n",
    "print(\"Model Evaluation Metrics:\")\n",
    "print(\"Accuracy:\", accuracy)\n",
    "print(\"Precision:\", precision)\n",
    "print(\"Recall:\", recall)\n",
    "print(\"F1 Score:\", f1)"
   ]
  },
  {
   "cell_type": "code",
   "execution_count": 94,
   "id": "0e5e8960-a858-48c9-bfd8-b5e8115ead0c",
   "metadata": {},
   "outputs": [
    {
     "name": "stdout",
     "output_type": "stream",
     "text": [
      "Model Evaluation Metrics:\n",
      "Accuracy: 0.930421686746988\n",
      "Precision: 0.9313013589837174\n",
      "Recall: 0.930421686746988\n",
      "F1 Score: 0.9307711156191577\n",
      "Confusion Matrix:\n",
      " [[4568  261]\n",
      " [ 201 1610]]\n",
      "              precision    recall  f1-score   support\n",
      "\n",
      "           0       0.96      0.95      0.95      4829\n",
      "           1       0.86      0.89      0.87      1811\n",
      "\n",
      "    accuracy                           0.93      6640\n",
      "   macro avg       0.91      0.92      0.91      6640\n",
      "weighted avg       0.93      0.93      0.93      6640\n",
      "\n"
     ]
    }
   ],
   "source": [
    "from sklearn.metrics import accuracy_score, classification_report, precision_score, recall_score, f1_score, confusion_matrix\n",
    "\n",
    "y_pred = loaded_model.predict(X_test)\n",
    "\n",
    "accuracy = accuracy_score(y_test, y_pred)\n",
    "precision = precision_score(y_test, y_pred, average='weighted')  # Use 'weighted' for multiclass if applicable\n",
    "recall = recall_score(y_test, y_pred, average='weighted')\n",
    "f1 = f1_score(y_test, y_pred, average='weighted')\n",
    "conf_matrix = confusion_matrix(y_test, y_pred)\n",
    "\n",
    "print(\"Model Evaluation Metrics:\")\n",
    "print(\"Accuracy:\", accuracy)\n",
    "print(\"Precision:\", precision)\n",
    "print(\"Recall:\", recall)\n",
    "print(\"F1 Score:\", f1)\n",
    "print(\"Confusion Matrix:\\n\", conf_matrix)\n",
    "print(classification_report(y_test, y_pred))\n"
   ]
  },
  {
   "cell_type": "code",
   "execution_count": 95,
   "id": "2ae70250-d54b-418f-9c6f-6f7c177bfc51",
   "metadata": {},
   "outputs": [
    {
     "data": {
      "image/png": "[encoded data removed]",
      "text/plain": [
       "<Figure size 800x500 with 1 Axes>"
      ]
     },
     "metadata": {},
     "output_type": "display_data"
    },
    {
     "data": {
      "image/png": "[encoded data removed]",
      "text/plain": [
       "<Figure size 600x500 with 1 Axes>"
      ]
     },
     "metadata": {},
     "output_type": "display_data"
    }
   ],
   "source": [
    "metrics = ['Accuracy', 'Precision', 'Recall', 'F1 Score']\n",
    "scores = [accuracy, precision, recall, f1]\n",
    "\n",
    "plt.figure(figsize=(8, 5))\n",
    "plt.bar(metrics, scores, color='lightblue', alpha=0.7)\n",
    "plt.title(\"Model Evaluation Metrics\")\n",
    "plt.ylim(0, 1)\n",
    "plt.ylabel(\"Score\")\n",
    "plt.show()\n",
    "\n",
    "plt.figure(figsize=(6, 5))\n",
    "sns.heatmap(conf_matrix, annot=True, fmt='d', cmap='Blues', cbar=False)\n",
    "plt.title(\"Confusion Matrix\")\n",
    "plt.xlabel(\"Predicted Labels\")\n",
    "plt.ylabel(\"True Labels\")\n",
    "plt.show()\n",
    "\n"
   ]
  },
  {
   "cell_type": "markdown",
   "id": "32336136-cd90-40bc-bc86-366f20805de1",
   "metadata": {},
   "source": [
    "## Checking the most important features which led to the predictions to evaluate our initial hypothesis"
   ]
  },
  {
   "cell_type": "code",
   "execution_count": 96,
   "id": "4254abf9-1207-44cd-8d8f-336feab4dffd",
   "metadata": {},
   "outputs": [
    {
     "name": "stdout",
     "output_type": "stream",
     "text": [
      "Top Features:\n",
      "3                                PAIN RELIEVER USE_Yes\n",
      "2                              Ever used marijuana_Yes\n",
      "4                              Hallucinogens usage_Yes\n",
      "1    STATE MEDICAL MJ LAW PASSED AT TIME OF INTERVI...\n",
      "Name: Feature, dtype: object\n"
     ]
    }
   ],
   "source": [
    "feature_names = X_train.columns\n",
    "\n",
    "feature_importances = loaded_model.feature_importances_\n",
    "feature_importance_df = pd.DataFrame({\n",
    "    'Feature': feature_names,\n",
    "    'Importance': feature_importances\n",
    "})\n",
    "feature_importance = feature_importance_df[feature_importance_df['Feature'] != 'HOW OFTEN FELT SAD NOTHING COULD CHEER YOU UP']\n",
    "\n",
    "top_features = feature_importance.sort_values(by='Importance', ascending=False)\n",
    "\n",
    "top_feature_names = top_features.head(5)['Feature']\n",
    "print(\"Top Features:\")\n",
    "print(top_feature_names)\n"
   ]
  },
  {
   "cell_type": "code",
   "execution_count": 97,
   "id": "ef41c3c4-a70f-4563-ae26-f9809c1490d8",
   "metadata": {},
   "outputs": [
    {
     "name": "stdout",
     "output_type": "stream",
     "text": [
      "Top Features:\n",
      "3                                PAIN RELIEVER USE_Yes\n",
      "2                              Ever used marijuana_Yes\n",
      "4                              Hallucinogens usage_Yes\n",
      "1    STATE MEDICAL MJ LAW PASSED AT TIME OF INTERVI...\n",
      "Name: Feature, dtype: object\n"
     ]
    },
    {
     "data": {
      "image/png": "[encoded data removed]",
      "text/plain": [
       "<Figure size 1000x600 with 1 Axes>"
      ]
     },
     "metadata": {},
     "output_type": "display_data"
    }
   ],
   "source": [
    "feature_names = X_train.columns\n",
    "feature_importances = loaded_model.feature_importances_\n",
    "feature_importance_df = pd.DataFrame({\n",
    "    'Feature': feature_names,\n",
    "    'Importance': feature_importances\n",
    "})\n",
    "feature_importance = feature_importance_df[feature_importance_df['Feature'] != 'HOW OFTEN FELT SAD NOTHING COULD CHEER YOU UP']\n",
    "top_features = feature_importance.sort_values(by='Importance', ascending=False).head()\n",
    "top_feature_names = top_features['Feature']\n",
    "top_importance_values = top_features['Importance']\n",
    "print(\"Top Features:\")\n",
    "print(top_feature_names)\n",
    "plt.figure(figsize=(10, 6))\n",
    "plt.barh(top_feature_names, top_importance_values, color='skyblue')\n",
    "plt.gca().invert_yaxis()\n",
    "plt.title(\"Top 4 Feature Importances\")\n",
    "plt.xlabel(\"Importance Score\")\n",
    "plt.ylabel(\"Feature\")\n",
    "plt.show()\n"
   ]
  },
  {
   "cell_type": "markdown",
   "id": "8d6f0495-fe6a-4045-b026-a70eebdfa894",
   "metadata": {},
   "source": [
    "## From the above data we can conclude the following -\n",
    "- Frequent marijuana use which is more common in states where marijuana is legalized, and this is associated with a higher prevalence of bad mental health conditions\n",
    "- Usage of hallucinogens is also associated with bad mental health conditions\n",
    "- We have observed that pain reliever use is a significant feature in predicting mental health disorders. This suggests that the unregulated use of pain relievers, often for recreational purposes, may contribute to bad mental health. Hence, it is essential to ensure that pain relievers are only accessible through proper prescriptions from authorized medical professionals. "
   ]
  },
  {
   "cell_type": "markdown",
   "id": "4e3b03fb-3885-483b-a3c6-badced7677a2",
   "metadata": {},
   "source": [
    "### Question 3: How does socioeconomic status (income, education, employment status) influence the likelihood of experiencing mental health disorders?\n",
    "### Hypothesis 1: Individuals with lower income are more likely to experience mental health issues or Unemployment is a significant predictor of mental health disorders\n",
    "### Significance of the question: Understanding the correlation between socio-economic factors and mental health can help identify vulnerable populations and provide support for economically weak population."
   ]
  },
  {
   "cell_type": "code",
   "execution_count": 98,
   "id": "cdcb3ad0-a726-4b2d-86b1-3ef6026198bb",
   "metadata": {},
   "outputs": [
    {
     "data": {
      "text/html": [
       "<div>\n",
       "<style scoped>\n",
       "    .dataframe tbody tr th:only-of-type {\n",
       "        vertical-align: middle;\n",
       "    }\n",
       "\n",
       "    .dataframe tbody tr th {\n",
       "        vertical-align: top;\n",
       "    }\n",
       "\n",
       "    .dataframe thead th {\n",
       "        text-align: right;\n",
       "    }\n",
       "</style>\n",
       "<table border=\"1\" class=\"dataframe\">\n",
       "  <thead>\n",
       "    <tr style=\"text-align: right;\">\n",
       "      <th></th>\n",
       "      <th>QUESTID2</th>\n",
       "      <th>Employment</th>\n",
       "      <th>education</th>\n",
       "      <th>income</th>\n",
       "      <th>sexual orientation</th>\n",
       "      <th>Ever used marijuana</th>\n",
       "      <th>ANY PAIN RELIEVER USE IN LIFETIME</th>\n",
       "      <th>COUNTY METRO/NONMETRO STATUS</th>\n",
       "      <th>STATE MEDICAL MJ LAW PASSED AT TIME OF INTERVIEW</th>\n",
       "      <th>HOW OFTEN FELT SAD NOTHING COULD CHEER YOU UP</th>\n",
       "      <th>SEVERAL DAYS OR LNGR WHEN FELT SAD/EMPTY/DPRSD</th>\n",
       "      <th>hallucinogens</th>\n",
       "    </tr>\n",
       "  </thead>\n",
       "  <tbody>\n",
       "    <tr>\n",
       "      <th>0</th>\n",
       "      <td>43295143.00</td>\n",
       "      <td>Employed full time</td>\n",
       "      <td>College Degree</td>\n",
       "      <td>$75,000 or more</td>\n",
       "      <td>Male</td>\n",
       "      <td>Yes</td>\n",
       "      <td>Yes</td>\n",
       "      <td>Small Metro</td>\n",
       "      <td>No</td>\n",
       "      <td>Some of the time</td>\n",
       "      <td>Yes</td>\n",
       "      <td>No</td>\n",
       "    </tr>\n",
       "    <tr>\n",
       "      <th>2</th>\n",
       "      <td>49405143.00</td>\n",
       "      <td>Employed full time</td>\n",
       "      <td>College Degree</td>\n",
       "      <td>$75,000 or more</td>\n",
       "      <td>Male</td>\n",
       "      <td>Yes</td>\n",
       "      <td>Yes</td>\n",
       "      <td>Small Metro</td>\n",
       "      <td>Yes</td>\n",
       "      <td>None of the time</td>\n",
       "      <td>No</td>\n",
       "      <td>No</td>\n",
       "    </tr>\n",
       "    <tr>\n",
       "      <th>3</th>\n",
       "      <td>51015143.00</td>\n",
       "      <td>Other (incl. not in labor force)</td>\n",
       "      <td>primary education</td>\n",
       "      <td>Less than $20,000</td>\n",
       "      <td>Female</td>\n",
       "      <td>No</td>\n",
       "      <td>Yes</td>\n",
       "      <td>Small Metro</td>\n",
       "      <td>Yes</td>\n",
       "      <td>A little of the time</td>\n",
       "      <td>No</td>\n",
       "      <td>No</td>\n",
       "    </tr>\n",
       "    <tr>\n",
       "      <th>6</th>\n",
       "      <td>65565143.00</td>\n",
       "      <td>Unemployed</td>\n",
       "      <td>High School education</td>\n",
       "      <td>$75,000 or more</td>\n",
       "      <td>Female</td>\n",
       "      <td>Yes</td>\n",
       "      <td>No</td>\n",
       "      <td>Large Metro</td>\n",
       "      <td>Yes</td>\n",
       "      <td>None of the time</td>\n",
       "      <td>No</td>\n",
       "      <td>No</td>\n",
       "    </tr>\n",
       "    <tr>\n",
       "      <th>7</th>\n",
       "      <td>45375143.00</td>\n",
       "      <td>Other (incl. not in labor force)</td>\n",
       "      <td>High School education</td>\n",
       "      <td>$20,000 - $49,999</td>\n",
       "      <td>Male</td>\n",
       "      <td>No</td>\n",
       "      <td>Yes</td>\n",
       "      <td>Non Metro</td>\n",
       "      <td>Yes</td>\n",
       "      <td>None of the time</td>\n",
       "      <td>No</td>\n",
       "      <td>No</td>\n",
       "    </tr>\n",
       "    <tr>\n",
       "      <th>...</th>\n",
       "      <td>...</td>\n",
       "      <td>...</td>\n",
       "      <td>...</td>\n",
       "      <td>...</td>\n",
       "      <td>...</td>\n",
       "      <td>...</td>\n",
       "      <td>...</td>\n",
       "      <td>...</td>\n",
       "      <td>...</td>\n",
       "      <td>...</td>\n",
       "      <td>...</td>\n",
       "      <td>...</td>\n",
       "    </tr>\n",
       "    <tr>\n",
       "      <th>56125</th>\n",
       "      <td>23883730.00</td>\n",
       "      <td>Employed full time</td>\n",
       "      <td>College Degree</td>\n",
       "      <td>$75,000 or more</td>\n",
       "      <td>Male</td>\n",
       "      <td>Yes</td>\n",
       "      <td>Yes</td>\n",
       "      <td>Small Metro</td>\n",
       "      <td>Yes</td>\n",
       "      <td>None of the time</td>\n",
       "      <td>No</td>\n",
       "      <td>Yes</td>\n",
       "    </tr>\n",
       "    <tr>\n",
       "      <th>56126</th>\n",
       "      <td>55494730.00</td>\n",
       "      <td>Other (incl. not in labor force)</td>\n",
       "      <td>College Degree</td>\n",
       "      <td>$20,000 - $49,999</td>\n",
       "      <td>Female</td>\n",
       "      <td>No</td>\n",
       "      <td>Yes</td>\n",
       "      <td>Small Metro</td>\n",
       "      <td>Yes</td>\n",
       "      <td>None of the time</td>\n",
       "      <td>No</td>\n",
       "      <td>No</td>\n",
       "    </tr>\n",
       "    <tr>\n",
       "      <th>56127</th>\n",
       "      <td>21894730.00</td>\n",
       "      <td>Other (incl. not in labor force)</td>\n",
       "      <td>High School education</td>\n",
       "      <td>$20,000 - $49,999</td>\n",
       "      <td>Female</td>\n",
       "      <td>No</td>\n",
       "      <td>No</td>\n",
       "      <td>Large Metro</td>\n",
       "      <td>Yes</td>\n",
       "      <td>Some of the time</td>\n",
       "      <td>Yes</td>\n",
       "      <td>No</td>\n",
       "    </tr>\n",
       "    <tr>\n",
       "      <th>56129</th>\n",
       "      <td>61414730.00</td>\n",
       "      <td>Employed full time</td>\n",
       "      <td>College Degree</td>\n",
       "      <td>$75,000 or more</td>\n",
       "      <td>Female</td>\n",
       "      <td>Yes</td>\n",
       "      <td>Yes</td>\n",
       "      <td>Small Metro</td>\n",
       "      <td>No</td>\n",
       "      <td>A little of the time</td>\n",
       "      <td>Yes</td>\n",
       "      <td>No</td>\n",
       "    </tr>\n",
       "    <tr>\n",
       "      <th>56130</th>\n",
       "      <td>49614730.00</td>\n",
       "      <td>Other (incl. not in labor force)</td>\n",
       "      <td>primary education</td>\n",
       "      <td>$20,000 - $49,999</td>\n",
       "      <td>Male</td>\n",
       "      <td>No</td>\n",
       "      <td>No</td>\n",
       "      <td>Large Metro</td>\n",
       "      <td>Yes</td>\n",
       "      <td>None of the time</td>\n",
       "      <td>No</td>\n",
       "      <td>No</td>\n",
       "    </tr>\n",
       "  </tbody>\n",
       "</table>\n",
       "<p>33199 rows × 12 columns</p>\n",
       "</div>"
      ],
      "text/plain": [
       "         QUESTID2                        Employment              education  \\\n",
       "0     43295143.00                Employed full time         College Degree   \n",
       "2     49405143.00                Employed full time         College Degree   \n",
       "3     51015143.00  Other (incl. not in labor force)      primary education   \n",
       "6     65565143.00                        Unemployed  High School education   \n",
       "7     45375143.00  Other (incl. not in labor force)  High School education   \n",
       "...           ...                               ...                    ...   \n",
       "56125 23883730.00                Employed full time         College Degree   \n",
       "56126 55494730.00  Other (incl. not in labor force)         College Degree   \n",
       "56127 21894730.00  Other (incl. not in labor force)  High School education   \n",
       "56129 61414730.00                Employed full time         College Degree   \n",
       "56130 49614730.00  Other (incl. not in labor force)      primary education   \n",
       "\n",
       "                  income sexual orientation Ever used marijuana  \\\n",
       "0        $75,000 or more               Male                 Yes   \n",
       "2        $75,000 or more               Male                 Yes   \n",
       "3      Less than $20,000             Female                  No   \n",
       "6        $75,000 or more             Female                 Yes   \n",
       "7      $20,000 - $49,999               Male                  No   \n",
       "...                  ...                ...                 ...   \n",
       "56125    $75,000 or more               Male                 Yes   \n",
       "56126  $20,000 - $49,999             Female                  No   \n",
       "56127  $20,000 - $49,999             Female                  No   \n",
       "56129    $75,000 or more             Female                 Yes   \n",
       "56130  $20,000 - $49,999               Male                  No   \n",
       "\n",
       "      ANY PAIN RELIEVER USE IN LIFETIME COUNTY METRO/NONMETRO STATUS  \\\n",
       "0                                   Yes                  Small Metro   \n",
       "2                                   Yes                  Small Metro   \n",
       "3                                   Yes                  Small Metro   \n",
       "6                                    No                  Large Metro   \n",
       "7                                   Yes                    Non Metro   \n",
       "...                                 ...                          ...   \n",
       "56125                               Yes                  Small Metro   \n",
       "56126                               Yes                  Small Metro   \n",
       "56127                                No                  Large Metro   \n",
       "56129                               Yes                  Small Metro   \n",
       "56130                                No                  Large Metro   \n",
       "\n",
       "      STATE MEDICAL MJ LAW PASSED AT TIME OF INTERVIEW  \\\n",
       "0                                                   No   \n",
       "2                                                  Yes   \n",
       "3                                                  Yes   \n",
       "6                                                  Yes   \n",
       "7                                                  Yes   \n",
       "...                                                ...   \n",
       "56125                                              Yes   \n",
       "56126                                              Yes   \n",
       "56127                                              Yes   \n",
       "56129                                               No   \n",
       "56130                                              Yes   \n",
       "\n",
       "      HOW OFTEN FELT SAD NOTHING COULD CHEER YOU UP  \\\n",
       "0                                  Some of the time   \n",
       "2                                  None of the time   \n",
       "3                              A little of the time   \n",
       "6                                  None of the time   \n",
       "7                                  None of the time   \n",
       "...                                             ...   \n",
       "56125                              None of the time   \n",
       "56126                              None of the time   \n",
       "56127                              Some of the time   \n",
       "56129                          A little of the time   \n",
       "56130                              None of the time   \n",
       "\n",
       "      SEVERAL DAYS OR LNGR WHEN FELT SAD/EMPTY/DPRSD hallucinogens  \n",
       "0                                                Yes            No  \n",
       "2                                                 No            No  \n",
       "3                                                 No            No  \n",
       "6                                                 No            No  \n",
       "7                                                 No            No  \n",
       "...                                              ...           ...  \n",
       "56125                                             No           Yes  \n",
       "56126                                             No            No  \n",
       "56127                                            Yes            No  \n",
       "56129                                            Yes            No  \n",
       "56130                                             No            No  \n",
       "\n",
       "[33199 rows x 12 columns]"
      ]
     },
     "execution_count": 98,
     "metadata": {},
     "output_type": "execute_result"
    }
   ],
   "source": [
    "filtered_df_cleaned=filtered_df_cleaned_org.copy()\n",
    "filtered_df_cleaned.dropna()"
   ]
  },
  {
   "cell_type": "code",
   "execution_count": 99,
   "id": "8440954f-03a6-42a8-b34f-a8bffb65145f",
   "metadata": {},
   "outputs": [],
   "source": [
    "# Excluding the features which are not relevant to our analysis\n",
    "columns_to_exclude = ['sexual orientation', 'Ever used marijuana', 'ANY PAIN RELIEVER USE IN LIFETIME', 'STATE MEDICAL MJ LAW PASSED AT TIME OF INTERVIEW', 'hallucinogens']\n",
    "filtered_df_cleaned = filtered_df_cleaned[[col for col in filtered_df_cleaned.columns if col not in columns_to_exclude]]"
   ]
  },
  {
   "cell_type": "code",
   "execution_count": 100,
   "id": "2acb9f4b-fb62-4b86-8744-044ed6f98244",
   "metadata": {},
   "outputs": [],
   "source": [
    "filtered_df_cleaned['Mental_Health_Disorder'] = filtered_df_cleaned['SEVERAL DAYS OR LNGR WHEN FELT SAD/EMPTY/DPRSD'].apply(lambda x: 1 if x == 'Yes' else 0)\n",
    "\n",
    "filtered_df_cleaned = filtered_df_cleaned.drop(columns=['SEVERAL DAYS OR LNGR WHEN FELT SAD/EMPTY/DPRSD'])\n"
   ]
  },
  {
   "cell_type": "code",
   "execution_count": 101,
   "id": "a640730a-b230-4778-9fe7-08228f4437a0",
   "metadata": {},
   "outputs": [],
   "source": [
    "encoded_df = pd.get_dummies(filtered_df_cleaned, columns=[ 'Employment', 'education', 'income','COUNTY METRO/NONMETRO STATUS'], drop_first=True)\n",
    "\n",
    "encoded_df=encoded_df.dropna()\n"
   ]
  },
  {
   "cell_type": "code",
   "execution_count": 102,
   "id": "ff2a188a-905a-4508-a773-393fe621eabf",
   "metadata": {},
   "outputs": [
    {
     "name": "stderr",
     "output_type": "stream",
     "text": [
      "C:\\Users\\Rama Rao\\AppData\\Local\\Temp\\ipykernel_17120\\794848686.py:1: FutureWarning: Downcasting behavior in `replace` is deprecated and will be removed in a future version. To retain the old behavior, explicitly call `result.infer_objects(copy=False)`. To opt-in to the future behavior, set `pd.set_option('future.no_silent_downcasting', True)`\n",
      "  encoded_df = encoded_df.replace({True: 1, False: 0})\n"
     ]
    },
    {
     "data": {
      "text/html": [
       "<div>\n",
       "<style scoped>\n",
       "    .dataframe tbody tr th:only-of-type {\n",
       "        vertical-align: middle;\n",
       "    }\n",
       "\n",
       "    .dataframe tbody tr th {\n",
       "        vertical-align: top;\n",
       "    }\n",
       "\n",
       "    .dataframe thead th {\n",
       "        text-align: right;\n",
       "    }\n",
       "</style>\n",
       "<table border=\"1\" class=\"dataframe\">\n",
       "  <thead>\n",
       "    <tr style=\"text-align: right;\">\n",
       "      <th></th>\n",
       "      <th>QUESTID2</th>\n",
       "      <th>HOW OFTEN FELT SAD NOTHING COULD CHEER YOU UP</th>\n",
       "      <th>Mental_Health_Disorder</th>\n",
       "      <th>Employment_Employed part time</th>\n",
       "      <th>Employment_Other (incl. not in labor force)</th>\n",
       "      <th>Employment_Unemployed</th>\n",
       "      <th>education_High School education</th>\n",
       "      <th>education_primary education</th>\n",
       "      <th>income_$50,000 - $74,999</th>\n",
       "      <th>income_$75,000 or more</th>\n",
       "      <th>income_Less than $20,000</th>\n",
       "      <th>COUNTY METRO/NONMETRO STATUS_Non Metro</th>\n",
       "      <th>COUNTY METRO/NONMETRO STATUS_Small Metro</th>\n",
       "    </tr>\n",
       "  </thead>\n",
       "  <tbody>\n",
       "    <tr>\n",
       "      <th>0</th>\n",
       "      <td>43295143.00</td>\n",
       "      <td>Some of the time</td>\n",
       "      <td>1</td>\n",
       "      <td>0</td>\n",
       "      <td>0</td>\n",
       "      <td>0</td>\n",
       "      <td>0</td>\n",
       "      <td>0</td>\n",
       "      <td>0</td>\n",
       "      <td>1</td>\n",
       "      <td>0</td>\n",
       "      <td>0</td>\n",
       "      <td>1</td>\n",
       "    </tr>\n",
       "    <tr>\n",
       "      <th>2</th>\n",
       "      <td>49405143.00</td>\n",
       "      <td>None of the time</td>\n",
       "      <td>0</td>\n",
       "      <td>0</td>\n",
       "      <td>0</td>\n",
       "      <td>0</td>\n",
       "      <td>0</td>\n",
       "      <td>0</td>\n",
       "      <td>0</td>\n",
       "      <td>1</td>\n",
       "      <td>0</td>\n",
       "      <td>0</td>\n",
       "      <td>1</td>\n",
       "    </tr>\n",
       "    <tr>\n",
       "      <th>3</th>\n",
       "      <td>51015143.00</td>\n",
       "      <td>A little of the time</td>\n",
       "      <td>0</td>\n",
       "      <td>0</td>\n",
       "      <td>1</td>\n",
       "      <td>0</td>\n",
       "      <td>0</td>\n",
       "      <td>1</td>\n",
       "      <td>0</td>\n",
       "      <td>0</td>\n",
       "      <td>1</td>\n",
       "      <td>0</td>\n",
       "      <td>1</td>\n",
       "    </tr>\n",
       "    <tr>\n",
       "      <th>6</th>\n",
       "      <td>65565143.00</td>\n",
       "      <td>None of the time</td>\n",
       "      <td>0</td>\n",
       "      <td>0</td>\n",
       "      <td>0</td>\n",
       "      <td>1</td>\n",
       "      <td>1</td>\n",
       "      <td>0</td>\n",
       "      <td>0</td>\n",
       "      <td>1</td>\n",
       "      <td>0</td>\n",
       "      <td>0</td>\n",
       "      <td>0</td>\n",
       "    </tr>\n",
       "    <tr>\n",
       "      <th>7</th>\n",
       "      <td>45375143.00</td>\n",
       "      <td>None of the time</td>\n",
       "      <td>0</td>\n",
       "      <td>0</td>\n",
       "      <td>1</td>\n",
       "      <td>0</td>\n",
       "      <td>1</td>\n",
       "      <td>0</td>\n",
       "      <td>0</td>\n",
       "      <td>0</td>\n",
       "      <td>0</td>\n",
       "      <td>1</td>\n",
       "      <td>0</td>\n",
       "    </tr>\n",
       "  </tbody>\n",
       "</table>\n",
       "</div>"
      ],
      "text/plain": [
       "     QUESTID2 HOW OFTEN FELT SAD NOTHING COULD CHEER YOU UP  \\\n",
       "0 43295143.00                              Some of the time   \n",
       "2 49405143.00                              None of the time   \n",
       "3 51015143.00                          A little of the time   \n",
       "6 65565143.00                              None of the time   \n",
       "7 45375143.00                              None of the time   \n",
       "\n",
       "   Mental_Health_Disorder  Employment_Employed part time  \\\n",
       "0                       1                              0   \n",
       "2                       0                              0   \n",
       "3                       0                              0   \n",
       "6                       0                              0   \n",
       "7                       0                              0   \n",
       "\n",
       "   Employment_Other (incl. not in labor force)  Employment_Unemployed  \\\n",
       "0                                            0                      0   \n",
       "2                                            0                      0   \n",
       "3                                            1                      0   \n",
       "6                                            0                      1   \n",
       "7                                            1                      0   \n",
       "\n",
       "   education_High School education  education_primary education  \\\n",
       "0                                0                            0   \n",
       "2                                0                            0   \n",
       "3                                0                            1   \n",
       "6                                1                            0   \n",
       "7                                1                            0   \n",
       "\n",
       "   income_$50,000 - $74,999  income_$75,000 or more  income_Less than $20,000  \\\n",
       "0                         0                       1                         0   \n",
       "2                         0                       1                         0   \n",
       "3                         0                       0                         1   \n",
       "6                         0                       1                         0   \n",
       "7                         0                       0                         0   \n",
       "\n",
       "   COUNTY METRO/NONMETRO STATUS_Non Metro  \\\n",
       "0                                       0   \n",
       "2                                       0   \n",
       "3                                       0   \n",
       "6                                       0   \n",
       "7                                       1   \n",
       "\n",
       "   COUNTY METRO/NONMETRO STATUS_Small Metro  \n",
       "0                                         1  \n",
       "2                                         1  \n",
       "3                                         1  \n",
       "6                                         0  \n",
       "7                                         0  "
      ]
     },
     "execution_count": 102,
     "metadata": {},
     "output_type": "execute_result"
    }
   ],
   "source": [
    "encoded_df = encoded_df.replace({True: 1, False: 0})\n",
    "encoded_df.head()"
   ]
  },
  {
   "cell_type": "code",
   "execution_count": 103,
   "id": "03950afb-b66f-4253-ad75-ad2546a069a1",
   "metadata": {},
   "outputs": [
    {
     "data": {
      "text/plain": [
       "array([2, 0, 1, 3, 4])"
      ]
     },
     "execution_count": 103,
     "metadata": {},
     "output_type": "execute_result"
    }
   ],
   "source": [
    "order = {\n",
    "    \"None of the time\": 0,\n",
    "    \"A little of the time\": 1,\n",
    "    \"Some of the time\": 2,\n",
    "    \"Most of the time\": 3,\n",
    "    \"All of the time\": 4\n",
    "}\n",
    "encoded_df['HOW OFTEN FELT SAD NOTHING COULD CHEER YOU UP'] = encoded_df['HOW OFTEN FELT SAD NOTHING COULD CHEER YOU UP'].map(order)\n",
    "encoded_df['HOW OFTEN FELT SAD NOTHING COULD CHEER YOU UP'].unique()\n"
   ]
  },
  {
   "cell_type": "code",
   "execution_count": 104,
   "id": "e45e396b-6567-4ba2-a1b2-34c73712c062",
   "metadata": {},
   "outputs": [],
   "source": [
    "encoded_df=encoded_df.dropna()"
   ]
  },
  {
   "cell_type": "code",
   "execution_count": 105,
   "id": "eab1c79e-9114-42a4-8eab-f9c8d7133455",
   "metadata": {},
   "outputs": [],
   "source": [
    "df=encoded_df.copy()\n",
    "req_X_cols = [w for w in df.columns if w not in ['Mental_Health_Disorder','QUESTID2']]\n",
    "X = df[req_X_cols]\n",
    "y = df['Mental_Health_Disorder'] #Outcome\n",
    "\n",
    "data=df.copy()"
   ]
  },
  {
   "cell_type": "code",
   "execution_count": 106,
   "id": "b4d01c8c-1164-4351-92cb-5a2fbe6fe872",
   "metadata": {},
   "outputs": [
    {
     "data": {
      "text/html": [
       "<div>\n",
       "<style scoped>\n",
       "    .dataframe tbody tr th:only-of-type {\n",
       "        vertical-align: middle;\n",
       "    }\n",
       "\n",
       "    .dataframe tbody tr th {\n",
       "        vertical-align: top;\n",
       "    }\n",
       "\n",
       "    .dataframe thead th {\n",
       "        text-align: right;\n",
       "    }\n",
       "</style>\n",
       "<table border=\"1\" class=\"dataframe\">\n",
       "  <thead>\n",
       "    <tr style=\"text-align: right;\">\n",
       "      <th></th>\n",
       "      <th>QUESTID2</th>\n",
       "      <th>HOW OFTEN FELT SAD NOTHING COULD CHEER YOU UP</th>\n",
       "      <th>Mental_Health_Disorder</th>\n",
       "      <th>Employment_Employed part time</th>\n",
       "      <th>Employment_Other (incl. not in labor force)</th>\n",
       "      <th>Employment_Unemployed</th>\n",
       "      <th>education_High School education</th>\n",
       "      <th>education_primary education</th>\n",
       "      <th>income_$50,000 - $74,999</th>\n",
       "      <th>income_$75,000 or more</th>\n",
       "      <th>income_Less than $20,000</th>\n",
       "      <th>COUNTY METRO/NONMETRO STATUS_Non Metro</th>\n",
       "      <th>COUNTY METRO/NONMETRO STATUS_Small Metro</th>\n",
       "    </tr>\n",
       "  </thead>\n",
       "  <tbody>\n",
       "    <tr>\n",
       "      <th>0</th>\n",
       "      <td>43295143.00</td>\n",
       "      <td>2</td>\n",
       "      <td>1</td>\n",
       "      <td>0</td>\n",
       "      <td>0</td>\n",
       "      <td>0</td>\n",
       "      <td>0</td>\n",
       "      <td>0</td>\n",
       "      <td>0</td>\n",
       "      <td>1</td>\n",
       "      <td>0</td>\n",
       "      <td>0</td>\n",
       "      <td>1</td>\n",
       "    </tr>\n",
       "    <tr>\n",
       "      <th>2</th>\n",
       "      <td>49405143.00</td>\n",
       "      <td>0</td>\n",
       "      <td>0</td>\n",
       "      <td>0</td>\n",
       "      <td>0</td>\n",
       "      <td>0</td>\n",
       "      <td>0</td>\n",
       "      <td>0</td>\n",
       "      <td>0</td>\n",
       "      <td>1</td>\n",
       "      <td>0</td>\n",
       "      <td>0</td>\n",
       "      <td>1</td>\n",
       "    </tr>\n",
       "    <tr>\n",
       "      <th>3</th>\n",
       "      <td>51015143.00</td>\n",
       "      <td>1</td>\n",
       "      <td>0</td>\n",
       "      <td>0</td>\n",
       "      <td>1</td>\n",
       "      <td>0</td>\n",
       "      <td>0</td>\n",
       "      <td>1</td>\n",
       "      <td>0</td>\n",
       "      <td>0</td>\n",
       "      <td>1</td>\n",
       "      <td>0</td>\n",
       "      <td>1</td>\n",
       "    </tr>\n",
       "    <tr>\n",
       "      <th>6</th>\n",
       "      <td>65565143.00</td>\n",
       "      <td>0</td>\n",
       "      <td>0</td>\n",
       "      <td>0</td>\n",
       "      <td>0</td>\n",
       "      <td>1</td>\n",
       "      <td>1</td>\n",
       "      <td>0</td>\n",
       "      <td>0</td>\n",
       "      <td>1</td>\n",
       "      <td>0</td>\n",
       "      <td>0</td>\n",
       "      <td>0</td>\n",
       "    </tr>\n",
       "    <tr>\n",
       "      <th>7</th>\n",
       "      <td>45375143.00</td>\n",
       "      <td>0</td>\n",
       "      <td>0</td>\n",
       "      <td>0</td>\n",
       "      <td>1</td>\n",
       "      <td>0</td>\n",
       "      <td>1</td>\n",
       "      <td>0</td>\n",
       "      <td>0</td>\n",
       "      <td>0</td>\n",
       "      <td>0</td>\n",
       "      <td>1</td>\n",
       "      <td>0</td>\n",
       "    </tr>\n",
       "    <tr>\n",
       "      <th>...</th>\n",
       "      <td>...</td>\n",
       "      <td>...</td>\n",
       "      <td>...</td>\n",
       "      <td>...</td>\n",
       "      <td>...</td>\n",
       "      <td>...</td>\n",
       "      <td>...</td>\n",
       "      <td>...</td>\n",
       "      <td>...</td>\n",
       "      <td>...</td>\n",
       "      <td>...</td>\n",
       "      <td>...</td>\n",
       "      <td>...</td>\n",
       "    </tr>\n",
       "    <tr>\n",
       "      <th>56125</th>\n",
       "      <td>23883730.00</td>\n",
       "      <td>0</td>\n",
       "      <td>0</td>\n",
       "      <td>0</td>\n",
       "      <td>0</td>\n",
       "      <td>0</td>\n",
       "      <td>0</td>\n",
       "      <td>0</td>\n",
       "      <td>0</td>\n",
       "      <td>1</td>\n",
       "      <td>0</td>\n",
       "      <td>0</td>\n",
       "      <td>1</td>\n",
       "    </tr>\n",
       "    <tr>\n",
       "      <th>56126</th>\n",
       "      <td>55494730.00</td>\n",
       "      <td>0</td>\n",
       "      <td>0</td>\n",
       "      <td>0</td>\n",
       "      <td>1</td>\n",
       "      <td>0</td>\n",
       "      <td>0</td>\n",
       "      <td>0</td>\n",
       "      <td>0</td>\n",
       "      <td>0</td>\n",
       "      <td>0</td>\n",
       "      <td>0</td>\n",
       "      <td>1</td>\n",
       "    </tr>\n",
       "    <tr>\n",
       "      <th>56127</th>\n",
       "      <td>21894730.00</td>\n",
       "      <td>2</td>\n",
       "      <td>1</td>\n",
       "      <td>0</td>\n",
       "      <td>1</td>\n",
       "      <td>0</td>\n",
       "      <td>1</td>\n",
       "      <td>0</td>\n",
       "      <td>0</td>\n",
       "      <td>0</td>\n",
       "      <td>0</td>\n",
       "      <td>0</td>\n",
       "      <td>0</td>\n",
       "    </tr>\n",
       "    <tr>\n",
       "      <th>56129</th>\n",
       "      <td>61414730.00</td>\n",
       "      <td>1</td>\n",
       "      <td>1</td>\n",
       "      <td>0</td>\n",
       "      <td>0</td>\n",
       "      <td>0</td>\n",
       "      <td>0</td>\n",
       "      <td>0</td>\n",
       "      <td>0</td>\n",
       "      <td>1</td>\n",
       "      <td>0</td>\n",
       "      <td>0</td>\n",
       "      <td>1</td>\n",
       "    </tr>\n",
       "    <tr>\n",
       "      <th>56130</th>\n",
       "      <td>49614730.00</td>\n",
       "      <td>0</td>\n",
       "      <td>0</td>\n",
       "      <td>0</td>\n",
       "      <td>1</td>\n",
       "      <td>0</td>\n",
       "      <td>0</td>\n",
       "      <td>1</td>\n",
       "      <td>0</td>\n",
       "      <td>0</td>\n",
       "      <td>0</td>\n",
       "      <td>0</td>\n",
       "      <td>0</td>\n",
       "    </tr>\n",
       "  </tbody>\n",
       "</table>\n",
       "<p>33248 rows × 13 columns</p>\n",
       "</div>"
      ],
      "text/plain": [
       "         QUESTID2  HOW OFTEN FELT SAD NOTHING COULD CHEER YOU UP  \\\n",
       "0     43295143.00                                              2   \n",
       "2     49405143.00                                              0   \n",
       "3     51015143.00                                              1   \n",
       "6     65565143.00                                              0   \n",
       "7     45375143.00                                              0   \n",
       "...           ...                                            ...   \n",
       "56125 23883730.00                                              0   \n",
       "56126 55494730.00                                              0   \n",
       "56127 21894730.00                                              2   \n",
       "56129 61414730.00                                              1   \n",
       "56130 49614730.00                                              0   \n",
       "\n",
       "       Mental_Health_Disorder  Employment_Employed part time  \\\n",
       "0                           1                              0   \n",
       "2                           0                              0   \n",
       "3                           0                              0   \n",
       "6                           0                              0   \n",
       "7                           0                              0   \n",
       "...                       ...                            ...   \n",
       "56125                       0                              0   \n",
       "56126                       0                              0   \n",
       "56127                       1                              0   \n",
       "56129                       1                              0   \n",
       "56130                       0                              0   \n",
       "\n",
       "       Employment_Other (incl. not in labor force)  Employment_Unemployed  \\\n",
       "0                                                0                      0   \n",
       "2                                                0                      0   \n",
       "3                                                1                      0   \n",
       "6                                                0                      1   \n",
       "7                                                1                      0   \n",
       "...                                            ...                    ...   \n",
       "56125                                            0                      0   \n",
       "56126                                            1                      0   \n",
       "56127                                            1                      0   \n",
       "56129                                            0                      0   \n",
       "56130                                            1                      0   \n",
       "\n",
       "       education_High School education  education_primary education  \\\n",
       "0                                    0                            0   \n",
       "2                                    0                            0   \n",
       "3                                    0                            1   \n",
       "6                                    1                            0   \n",
       "7                                    1                            0   \n",
       "...                                ...                          ...   \n",
       "56125                                0                            0   \n",
       "56126                                0                            0   \n",
       "56127                                1                            0   \n",
       "56129                                0                            0   \n",
       "56130                                0                            1   \n",
       "\n",
       "       income_$50,000 - $74,999  income_$75,000 or more  \\\n",
       "0                             0                       1   \n",
       "2                             0                       1   \n",
       "3                             0                       0   \n",
       "6                             0                       1   \n",
       "7                             0                       0   \n",
       "...                         ...                     ...   \n",
       "56125                         0                       1   \n",
       "56126                         0                       0   \n",
       "56127                         0                       0   \n",
       "56129                         0                       1   \n",
       "56130                         0                       0   \n",
       "\n",
       "       income_Less than $20,000  COUNTY METRO/NONMETRO STATUS_Non Metro  \\\n",
       "0                             0                                       0   \n",
       "2                             0                                       0   \n",
       "3                             1                                       0   \n",
       "6                             0                                       0   \n",
       "7                             0                                       1   \n",
       "...                         ...                                     ...   \n",
       "56125                         0                                       0   \n",
       "56126                         0                                       0   \n",
       "56127                         0                                       0   \n",
       "56129                         0                                       0   \n",
       "56130                         0                                       0   \n",
       "\n",
       "       COUNTY METRO/NONMETRO STATUS_Small Metro  \n",
       "0                                             1  \n",
       "2                                             1  \n",
       "3                                             1  \n",
       "6                                             0  \n",
       "7                                             0  \n",
       "...                                         ...  \n",
       "56125                                         1  \n",
       "56126                                         1  \n",
       "56127                                         0  \n",
       "56129                                         1  \n",
       "56130                                         0  \n",
       "\n",
       "[33248 rows x 13 columns]"
      ]
     },
     "execution_count": 106,
     "metadata": {},
     "output_type": "execute_result"
    }
   ],
   "source": [
    "data"
   ]
  },
  {
   "cell_type": "markdown",
   "id": "45a437ac-435f-4702-8f5a-b35527b9ade0",
   "metadata": {},
   "source": [
    "### We will calculate Variance Inflation Factor to detect multicollinearity among features"
   ]
  },
  {
   "cell_type": "code",
   "execution_count": 107,
   "id": "14bd1690-60b6-4ca2-98f5-0ce02e74a9d6",
   "metadata": {},
   "outputs": [
    {
     "name": "stdout",
     "output_type": "stream",
     "text": [
      "                                          Feature  VIF\n",
      "0   HOW OFTEN FELT SAD NOTHING COULD CHEER YOU UP 1.34\n",
      "1                   Employment_Employed part time 1.26\n",
      "2     Employment_Other (incl. not in labor force) 1.50\n",
      "3                           Employment_Unemployed 1.12\n",
      "4                 education_High School education 1.91\n",
      "5                     education_primary education 1.15\n",
      "6                        income_$50,000 - $74,999 1.23\n",
      "7                          income_$75,000 or more 1.35\n",
      "8                        income_Less than $20,000 1.52\n",
      "9          COUNTY METRO/NONMETRO STATUS_Non Metro 1.34\n",
      "10       COUNTY METRO/NONMETRO STATUS_Small Metro 1.58\n"
     ]
    }
   ],
   "source": [
    "\n",
    "vif_data = pd.DataFrame()\n",
    "vif_data[\"Feature\"] = X.columns\n",
    "vif_data[\"VIF\"] = [variance_inflation_factor(X.values, i) for i in range(X.shape[1])]\n",
    "\n",
    "print(vif_data)\n"
   ]
  },
  {
   "cell_type": "code",
   "execution_count": 108,
   "id": "cb179b34-3bb1-4ff3-83fb-b1aa0de9a605",
   "metadata": {},
   "outputs": [
    {
     "data": {
      "text/plain": [
       "{'Logistic Regression': {'Test Accuracy': 0.90677,\n",
       "  'F1 Score': np.float64(0.828)},\n",
       " 'Random Forest': {'Test Accuracy': 0.91203, 'F1 Score': np.float64(0.843)}}"
      ]
     },
     "execution_count": 108,
     "metadata": {},
     "output_type": "execute_result"
    }
   ],
   "source": [
    "X = data.drop(columns=['QUESTID2', 'Mental_Health_Disorder'])\n",
    "y = data['Mental_Health_Disorder']\n",
    "X_train, X_test, y_train, y_test = train_test_split(X, y, test_size=0.2, random_state=42)\n",
    "models = {\n",
    "    'Logistic Regression': LogisticRegression(max_iter=1000),\n",
    "    'Random Forest': RandomForestClassifier()\n",
    "}\n",
    "model_performance = {}\n",
    "\n",
    "for name, model in models.items():\n",
    "    model.fit(X_train, y_train)\n",
    "    y_pred = model.predict(X_test)\n",
    "    test_accuracy = accuracy_score(y_test, y_pred)\n",
    "    f1 = f1_score(y_test, y_pred)\n",
    "    model_performance[name] = {\n",
    "        'Test Accuracy': round(test_accuracy,5),\n",
    "        'F1 Score': round(f1,3)\n",
    "    }\n",
    "model_performance"
   ]
  },
  {
   "cell_type": "code",
   "execution_count": 109,
   "id": "dcb62e72-6d08-4a3b-8b5a-cb3171d7d47d",
   "metadata": {},
   "outputs": [
    {
     "data": {
      "image/png": "[encoded data removed]",
      "text/plain": [
       "<Figure size 1000x500 with 1 Axes>"
      ]
     },
     "metadata": {},
     "output_type": "display_data"
    },
    {
     "data": {
      "image/png": "[encoded data removed]",
      "text/plain": [
       "<Figure size 1000x500 with 1 Axes>"
      ]
     },
     "metadata": {},
     "output_type": "display_data"
    }
   ],
   "source": [
    "performance_df = pd.DataFrame(model_performance).T\n",
    "performance_df\n",
    "plt.figure(figsize=(10, 5))\n",
    "performance_df['Test Accuracy'].plot(kind='bar', color='blue', alpha=0.7)\n",
    "plt.title('Model Test Accuracy Comparison')\n",
    "plt.ylabel('Test Accuracy')\n",
    "plt.xlabel('Models')\n",
    "plt.ylim(0.90, 0.92)  \n",
    "plt.xticks(rotation=45)\n",
    "plt.show()\n",
    "plt.figure(figsize=(10, 5))\n",
    "performance_df['F1 Score'].plot(kind='bar', color='green', alpha=0.7)\n",
    "plt.title('Model F1 Score Comparison')\n",
    "plt.ylabel('F1 Score')\n",
    "plt.xlabel('Models')\n",
    "plt.ylim(0.5, 1.0)\n",
    "plt.xticks(rotation=45)\n",
    "plt.show()"
   ]
  },
  {
   "cell_type": "markdown",
   "id": "bc15eec8-e2d7-4fb1-a73c-af867af6ef99",
   "metadata": {},
   "source": [
    "## Finalizing the model to be used\n",
    "\n",
    "In case of Logistic Regression, the F1 Score is the lowest among all models evaluated. This indicates that logistic regression might not be useful for balancing precision and recall, which is very important for our case.\n",
    "\n",
    "Random Forest has slighlty high accuracy and F1 Score compared to Logistic Regression. Additionally, it can capture non-linear relationships and is more robust. \n",
    "\n",
    "Hence we will be using Random Forest as the final model as it provides the best balance between accuracy and the F1 Score."
   ]
  },
  {
   "cell_type": "code",
   "execution_count": 110,
   "id": "a920d14a-c7f6-4428-a9d7-b03cc2f63d8e",
   "metadata": {},
   "outputs": [
    {
     "name": "stdout",
     "output_type": "stream",
     "text": [
      "Model Evaluation Metrics:\n",
      "Accuracy: 0.912781954887218\n",
      "Precision: 0.9140717339567406\n",
      "Recall: 0.912781954887218\n",
      "F1 Score: 0.9133013915713517\n",
      "Confusion Matrix:\n",
      " [[4506  326]\n",
      " [ 254 1564]]\n",
      "              precision    recall  f1-score   support\n",
      "\n",
      "           0       0.95      0.93      0.94      4832\n",
      "           1       0.83      0.86      0.84      1818\n",
      "\n",
      "    accuracy                           0.91      6650\n",
      "   macro avg       0.89      0.90      0.89      6650\n",
      "weighted avg       0.91      0.91      0.91      6650\n",
      "\n"
     ]
    }
   ],
   "source": [
    "\n",
    "\n",
    "model = RandomForestClassifier()\n",
    "\n",
    "model.fit(X_train, y_train)\n",
    "\n",
    "with open('random_forest_model.pkl', 'wb') as f:\n",
    "    pickle.dump(model, f)\n",
    "\n",
    "with open('random_forest_model.pkl', 'rb') as f:\n",
    "    loaded_model = pickle.load(f)\n",
    "\n",
    "y_pred = loaded_model.predict(X_test)\n",
    "\n",
    "accuracy = accuracy_score(y_test, y_pred)\n",
    "precision = precision_score(y_test, y_pred, average='weighted')\n",
    "recall = recall_score(y_test, y_pred, average='weighted')\n",
    "f1 = f1_score(y_test, y_pred, average='weighted')\n",
    "conf_matrix = confusion_matrix(y_test, y_pred)\n",
    "\n",
    "print(\"Model Evaluation Metrics:\")\n",
    "print(\"Accuracy:\", accuracy)\n",
    "print(\"Precision:\", precision)\n",
    "print(\"Recall:\", recall)\n",
    "print(\"F1 Score:\", f1)\n",
    "print(\"Confusion Matrix:\\n\", conf_matrix)\n",
    "print(classification_report(y_test, y_pred))\n"
   ]
  },
  {
   "cell_type": "code",
   "execution_count": 111,
   "id": "a12f4897-caeb-4598-af90-a71a6bed61c2",
   "metadata": {},
   "outputs": [
    {
     "data": {
      "image/png": "[encoded data removed]",
      "text/plain": [
       "<Figure size 800x500 with 1 Axes>"
      ]
     },
     "metadata": {},
     "output_type": "display_data"
    },
    {
     "data": {
      "image/png": "[encoded data removed]",
      "text/plain": [
       "<Figure size 600x500 with 1 Axes>"
      ]
     },
     "metadata": {},
     "output_type": "display_data"
    }
   ],
   "source": [
    "metrics = ['Accuracy', 'Precision', 'Recall', 'F1 Score']\n",
    "scores = [accuracy, precision, recall, f1]\n",
    "\n",
    "plt.figure(figsize=(8, 5))\n",
    "plt.bar(metrics, scores, color='lightblue', alpha=0.7)\n",
    "plt.title(\"Model Evaluation Metrics\")\n",
    "plt.ylim(0.8, 1)  # Set y-axis range from 0 to 1 for better visualization\n",
    "plt.ylabel(\"Score\")\n",
    "plt.show()\n",
    "\n",
    "plt.figure(figsize=(6, 5))\n",
    "sns.heatmap(conf_matrix, annot=True, fmt='d', cmap='Blues', cbar=False)\n",
    "plt.title(\"Confusion Matrix\")\n",
    "plt.xlabel(\"Predicted Labels\")\n",
    "plt.ylabel(\"True Labels\")\n",
    "plt.show()\n",
    "\n"
   ]
  },
  {
   "cell_type": "code",
   "execution_count": 112,
   "id": "d37f9acf-5e05-4d26-a20d-eb5ccb62e322",
   "metadata": {},
   "outputs": [
    {
     "name": "stdout",
     "output_type": "stream",
     "text": [
      "Top Features:\n",
      "5                  education_primary education\n",
      "1                Employment_Employed part time\n",
      "8                     income_Less than $20,000\n",
      "10    COUNTY METRO/NONMETRO STATUS_Small Metro\n",
      "7                       income_$75,000 or more\n",
      "Name: Feature, dtype: object\n"
     ]
    }
   ],
   "source": [
    "feature_names = X_train.columns\n",
    "\n",
    "feature_importances = loaded_model.feature_importances_\n",
    "feature_importance_df = pd.DataFrame({\n",
    "    'Feature': feature_names,\n",
    "    'Importance': feature_importances\n",
    "})\n",
    "feature_importance = feature_importance_df[feature_importance_df['Feature'] != 'HOW OFTEN FELT SAD NOTHING COULD CHEER YOU UP']\n",
    "\n",
    "top_features = feature_importance.sort_values(by='Importance', ascending=False)\n",
    "\n",
    "top_feature_names = top_features.head(5)['Feature']\n",
    "print(\"Top Features:\")\n",
    "print(top_feature_names)\n"
   ]
  },
  {
   "cell_type": "code",
   "execution_count": 113,
   "id": "48bbb62f-1c5d-4c40-a8a9-37b9eec510f0",
   "metadata": {},
   "outputs": [
    {
     "name": "stdout",
     "output_type": "stream",
     "text": [
      "Top Features:\n",
      "5                  education_primary education\n",
      "1                Employment_Employed part time\n",
      "8                     income_Less than $20,000\n",
      "10    COUNTY METRO/NONMETRO STATUS_Small Metro\n",
      "7                       income_$75,000 or more\n",
      "Name: Feature, dtype: object\n"
     ]
    },
    {
     "data": {
      "image/png": "[encoded data removed]",
      "text/plain": [
       "<Figure size 1000x600 with 1 Axes>"
      ]
     },
     "metadata": {},
     "output_type": "display_data"
    }
   ],
   "source": [
    "feature_names = X_train.columns\n",
    "feature_importances = loaded_model.feature_importances_\n",
    "feature_importance_df = pd.DataFrame({\n",
    "    'Feature': feature_names,\n",
    "    'Importance': feature_importances\n",
    "})\n",
    "feature_importance = feature_importance_df[feature_importance_df['Feature'] != 'HOW OFTEN FELT SAD NOTHING COULD CHEER YOU UP']\n",
    "top_features = feature_importance.sort_values(by='Importance', ascending=False).head()\n",
    "top_feature_names = top_features['Feature']\n",
    "top_importance_values = top_features['Importance']\n",
    "print(\"Top Features:\")\n",
    "print(top_feature_names)\n",
    "plt.figure(figsize=(10, 6))\n",
    "plt.barh(top_feature_names, top_importance_values, color='skyblue')\n",
    "plt.gca().invert_yaxis()\n",
    "plt.title(\"Top 4 Feature Importances\")\n",
    "plt.xlabel(\"Importance Score\")\n",
    "plt.ylabel(\"Feature\")\n",
    "plt.show()\n"
   ]
  },
  {
   "cell_type": "markdown",
   "id": "2cc3d00f-452a-4582-acc6-49edfb9636d1",
   "metadata": {},
   "source": [
    "## From the above data we can conclude the following -\n",
    "- Based on above data we can conclude that our initial hypothesis is correct and there is a strong relationship between socioeconomic and educational factors and mental health conditions.\n",
    "- Education seems to have a strong impact on mental health. People with a high school education or less are more likely to face mental health challenges. This highlights how important education can be in shaping a person’s overall well-being.\n",
    "- The data shows that people earning less than the minimum needed for basic living (around $20,000 a year) or those who are underemployed are more likely to struggle with depression. This indicates the importantance of financial stability and employment for better mental health\n",
    "- This suggests that there is a need for support for those facing economic challenges "
   ]
  },
  {
   "cell_type": "code",
   "execution_count": null,
   "id": "04284779-22de-46bc-9e8c-12c995b4cc70",
   "metadata": {},
   "outputs": [],
   "source": []
  },
  {
   "cell_type": "code",
   "execution_count": null,
   "id": "88a1b1d7-21ed-4333-b4bf-a4009be84cbe",
   "metadata": {},
   "outputs": [],
   "source": []
  },
  {
   "cell_type": "code",
   "execution_count": null,
   "id": "9c66f4d4-9f94-4bbb-9f3c-f8ed1fcbe901",
   "metadata": {},
   "outputs": [],
   "source": []
  },
  {
   "cell_type": "code",
   "execution_count": null,
   "id": "ef7d6126-e695-4de1-883f-c0df27f2fd95",
   "metadata": {},
   "outputs": [],
   "source": []
  },
  {
   "cell_type": "code",
   "execution_count": null,
   "id": "f11feb71-c649-46a6-abd5-7c928f7a84ac",
   "metadata": {},
   "outputs": [],
   "source": []
  },
  {
   "cell_type": "code",
   "execution_count": null,
   "id": "006ab5ff-d86a-4599-9c05-4445df3494c0",
   "metadata": {},
   "outputs": [],
   "source": []
  },
  {
   "cell_type": "code",
   "execution_count": null,
   "id": "33e7d5dc-5aef-4b97-8db1-eada75e54fd7",
   "metadata": {},
   "outputs": [],
   "source": []
  },
  {
   "cell_type": "code",
   "execution_count": null,
   "id": "e744d8c6-28d2-4c29-971a-b10ca32b5279",
   "metadata": {},
   "outputs": [],
   "source": []
  },
  {
   "cell_type": "code",
   "execution_count": null,
   "id": "5a72aa2c-7075-44a3-a5ec-fde491d9bb23",
   "metadata": {},
   "outputs": [],
   "source": []
  },
  {
   "cell_type": "code",
   "execution_count": null,
   "id": "657cd1d9-a6e9-4100-ad89-692ad1e0acf5",
   "metadata": {},
   "outputs": [],
   "source": []
  },
  {
   "cell_type": "code",
   "execution_count": null,
   "id": "16516343-953e-4850-9bb7-9e0b7b12d242",
   "metadata": {},
   "outputs": [],
   "source": []
  },
  {
   "cell_type": "code",
   "execution_count": null,
   "id": "fba526de-8b69-4759-b005-08b167f7cc06",
   "metadata": {},
   "outputs": [],
   "source": []
  },
  {
   "cell_type": "code",
   "execution_count": null,
   "id": "cdd83383-628a-41a4-897f-a2cb4021a44d",
   "metadata": {},
   "outputs": [],
   "source": []
  },
  {
   "cell_type": "code",
   "execution_count": null,
   "id": "038233e6-0408-4f4b-adc2-00e23cec5478",
   "metadata": {},
   "outputs": [],
   "source": []
  },
  {
   "cell_type": "code",
   "execution_count": null,
   "id": "feb5b072-4681-48dc-afcf-c51ea497672b",
   "metadata": {},
   "outputs": [],
   "source": []
  },
  {
   "cell_type": "code",
   "execution_count": null,
   "id": "8a29f485-70ad-4743-9ee4-753ab6b12050",
   "metadata": {},
   "outputs": [],
   "source": []
  },
  {
   "cell_type": "code",
   "execution_count": null,
   "id": "15eb659a-1c2e-478d-8ca7-cd5414803c9b",
   "metadata": {},
   "outputs": [],
   "source": []
  },
  {
   "cell_type": "code",
   "execution_count": null,
   "id": "b425161a-1478-4747-af0b-744ba294cb32",
   "metadata": {},
   "outputs": [],
   "source": []
  },
  {
   "cell_type": "code",
   "execution_count": null,
   "id": "5a7a6553-be88-4199-89cc-5b6496a8effe",
   "metadata": {},
   "outputs": [],
   "source": []
  },
  {
   "cell_type": "code",
   "execution_count": null,
   "id": "3a7c9fe8-f1f0-479f-8e63-c8019efae179",
   "metadata": {},
   "outputs": [],
   "source": []
  },
  {
   "cell_type": "code",
   "execution_count": null,
   "id": "643ad4df-9038-4739-99a2-df3122f5bad0",
   "metadata": {},
   "outputs": [],
   "source": []
  },
  {
   "cell_type": "code",
   "execution_count": null,
   "id": "b30a234a-ed4c-4a35-89ac-d6be9a40588e",
   "metadata": {},
   "outputs": [],
   "source": []
  }
 ],
 "metadata": {
  "kernelspec": {
   "display_name": "Python 3 (ipykernel)",
   "language": "python",
   "name": "python3"
  },
  "language_info": {
   "codemirror_mode": {
    "name": "ipython",
    "version": 3
   },
   "file_extension": ".py",
   "mimetype": "text/x-python",
   "name": "python",
   "nbconvert_exporter": "python",
   "pygments_lexer": "ipython3",
   "version": "3.12.5"
  }
 },
 "nbformat": 4,
 "nbformat_minor": 5
}
