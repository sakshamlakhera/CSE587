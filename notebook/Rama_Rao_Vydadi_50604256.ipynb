{
 "cells": [
  {
   "cell_type": "markdown",
   "id": "d7c447df-1fb8-4259-9fd4-c144de344725",
   "metadata": {},
   "source": [
    "### Problem Statement :\n",
    "### This analysis aims to uncover potential causes of mental health disorders by examining the behavioral patterns and histories of affected patients, ### leading to insights for better interventions.\n"
   ]
  },
  {
   "cell_type": "code",
   "execution_count": 1,
   "id": "8ba4c456-2d2b-4fc0-ab35-2ab2170987d3",
   "metadata": {},
   "outputs": [],
   "source": [
    "import pandas as pd\n",
    "import os\n",
    "from typing import List, Optional, Dict\n",
    "import gc\n",
    "import numpy as np\n",
    "import matplotlib.pyplot as plt\n",
    "import seaborn as sns\n"
   ]
  },
  {
   "cell_type": "code",
   "execution_count": 2,
   "id": "6b5f9d73-77f7-43e1-b1b4-6f12d151d4ce",
   "metadata": {},
   "outputs": [],
   "source": [
    "# !pip3 install pandas\n",
    "#!pip3 install pyarrow\n",
    "# !pip3 install pandas\n",
    "#!pip3 install fastparquet\n",
    "\n"
   ]
  },
  {
   "cell_type": "markdown",
   "id": "04b49026-f3aa-43fc-9e82-0d682006de47",
   "metadata": {},
   "source": [
    "### Data Fetch"
   ]
  },
  {
   "cell_type": "code",
   "execution_count": 3,
   "id": "e74cf3b4-aeda-4e89-9e1e-520688ec130f",
   "metadata": {},
   "outputs": [],
   "source": [
    "def fetch_nsduh_data(year: int) -> Optional[pd.DataFrame]:\n",
    "    \"\"\"\n",
    "    Fetches NSDUH data for a specified year from a remote source.\n",
    "\n",
    "    Args:\n",
    "        year (int): The year for which to fetch data.\n",
    "\n",
    "    Returns:\n",
    "        Optional[pd.DataFrame]: A pandas DataFrame with the data, or None if fetching failed.\n",
    "    \"\"\"\n",
    "    url_placeholder = \"https://www.datafiles.samhsa.gov/sites/default/files/field-uploads-protected/studies/NSDUH-{year}/NSDUH-{year}-datasets/NSDUH-{year}-DS0001/NSDUH-{year}-DS0001-bundles-with-study-info/NSDUH-{year}-DS0001-bndl-data-tsv.zip\"\n",
    "    \n",
    "    try:\n",
    "        url = url_placeholder.format(year=year)\n",
    "        df = pd.read_csv(url, compression='zip', sep='\\t', low_memory=False)\n",
    "        return df\n",
    "    except Exception as e:\n",
    "        print(f\"An error occurred for year {year}: {e}\")\n",
    "        return None"
   ]
  },
  {
   "cell_type": "code",
   "execution_count": 4,
   "id": "1c1f3873-a5b6-420e-9277-9edaa98fa6e3",
   "metadata": {},
   "outputs": [],
   "source": [
    "def check_parquet_exists(years: List[int], output_dir: str) -> Dict[int, bool]:\n",
    "    \"\"\"\n",
    "    Checks if Parquet files for the specified years already exist in the output directory.\n",
    "\n",
    "    Args:\n",
    "        years (List[int]): A list of years to check.\n",
    "        output_dir (str): The directory where Parquet files are saved.\n",
    "\n",
    "    Returns:\n",
    "        Dict[int, bool]: A dictionary with years as keys and boolean values indicating \n",
    "                         whether the Parquet file for that year exists.\n",
    "    \"\"\"\n",
    "    existence_check = {}\n",
    "    \n",
    "    for year in years:\n",
    "        year_path = os.path.join(output_dir, f'year={year}')\n",
    "        existence_check[year] = os.path.exists(year_path)\n",
    "    \n",
    "    return existence_check"
   ]
  },
  {
   "cell_type": "code",
   "execution_count": 5,
   "id": "4c5018e3-d52b-4661-b8ce-c26a8fc1cb95",
   "metadata": {},
   "outputs": [],
   "source": [
    "def write_parquet(df: pd.DataFrame, year: int, output_dir: str, overwrite: bool = False) -> None:\n",
    "    \"\"\"\n",
    "    Writes a DataFrame to Parquet format, partitioned by year.\n",
    "\n",
    "    Args:\n",
    "        df (pd.DataFrame): The DataFrame to write.\n",
    "        year (int): The year of the data.\n",
    "        output_dir (str): The directory where Parquet files will be saved.\n",
    "        overwrite (bool): If True, overwrite existing files. If False, skip existing files.\n",
    "    \"\"\"\n",
    "    try:\n",
    "        year_dir = os.path.join(output_dir, f'year={year}')\n",
    "        if overwrite and os.path.exists(year_dir):\n",
    "            shutil.rmtree(year_dir)  # Remove existing directory to start fresh\n",
    "\n",
    "        df['year'] = year  # Add the year column for partitioning\n",
    "        # Write data to Parquet format with partitioning\n",
    "        df.to_parquet(output_dir, partition_cols=['year'], index=False)\n",
    "        \n",
    "        print(f\"Data for year {year} successfully saved to Parquet format in {output_dir}\")\n",
    "    except Exception as e:\n",
    "        print(f\"Error saving data to Parquet for year {year}: {e}\")"
   ]
  },
  {
   "cell_type": "code",
   "execution_count": 6,
   "id": "51986590-78ad-4ed7-9b4c-68672905ff5d",
   "metadata": {},
   "outputs": [],
   "source": [
    "def data_fetch(years_to_fetch: List[int], output_dir: str, overwrite: bool = False) -> None:\n",
    "    \"\"\"\n",
    "    Fetches NSDUH data for specified years and saves it to Parquet format, one year at a time.\n",
    "\n",
    "    Args:\n",
    "        years_to_fetch (List[int]): A list of years for which to fetch data.\n",
    "        output_dir (str): The directory where Parquet files will be saved.\n",
    "        overwrite (bool): If True, overwrite existing files. If False, skip existing files.\n",
    "    \"\"\"\n",
    "    try:\n",
    "        for year in years_to_fetch:\n",
    "            if not overwrite and os.path.exists(os.path.join(output_dir, f'year={year}')):\n",
    "                print(f\"Data for year {year} already exists. Skipping.\")\n",
    "                continue\n",
    "\n",
    "            df = fetch_nsduh_data(year)\n",
    "            if df is not None:\n",
    "                print(f\"Successfully fetched data for year: {year}\")\n",
    "                write_parquet(df, year, output_dir, overwrite)\n",
    "                del df  # Remove the DataFrame from memory\n",
    "                gc.collect()  # Force garbage collection\n",
    "\n",
    "        print(\"All requested years processed.\")\n",
    "    except Exception as e:\n",
    "        print(f\"An unexpected error occurred in the data_fetch function: {e}\")"
   ]
  },
  {
   "cell_type": "code",
   "execution_count": 7,
   "id": "9af61774-cc8a-46d3-8acf-849d7e49e6a9",
   "metadata": {},
   "outputs": [],
   "source": [
    "def read_parquet(input_dir: str, years: Optional[List[int]] = None) -> pd.DataFrame:\n",
    "    \"\"\"\n",
    "    Reads Parquet files for specified years from the input directory and combines them into a single DataFrame.\n",
    "    Args:\n",
    "        input_dir (str): The directory where Parquet files are stored.\n",
    "        years (Optional[List[int]]): A list of years to read. If None, read all available years.\n",
    "    Returns:\n",
    "        pd.DataFrame: A pandas DataFrame with the data for the specified years.\n",
    "    \"\"\"\n",
    "    data_frames = []\n",
    "    available_years = [int(d.split('=')[1]) for d in os.listdir(input_dir) if d.startswith('year=')]\n",
    "    years_to_read = years if years is not None else available_years\n",
    "\n",
    "    for year in years_to_read:\n",
    "        year_path = os.path.join(input_dir, f'year={year}')\n",
    "        if os.path.exists(year_path):\n",
    "            df = pd.read_parquet(year_path)\n",
    "\n",
    "            # Convert data types to reduce memory usage\n",
    "            for col in df.select_dtypes(include=['float64']).columns:\n",
    "                df[col] = df[col].astype('float32')\n",
    "\n",
    "            data_frames.append(df)\n",
    "        else:\n",
    "            print(f\"Warning: No data found for year {year}\")\n",
    "\n",
    "    if data_frames:\n",
    "        combined_df = pd.concat(data_frames, ignore_index=True)\n",
    "        return combined_df\n",
    "    else:\n",
    "        print(\"Warning: No data was loaded.\")\n",
    "        return pd.DataFrame()\n"
   ]
  },
  {
   "cell_type": "code",
   "execution_count": 8,
   "id": "33055038-3cc7-4486-af8d-808f0559811c",
   "metadata": {},
   "outputs": [
    {
     "name": "stdout",
     "output_type": "stream",
     "text": [
      "Data for year 2015 already exists. Skipping.\n",
      "Data for year 2016 already exists. Skipping.\n",
      "Data for year 2017 already exists. Skipping.\n",
      "Data for year 2018 already exists. Skipping.\n",
      "Data for year 2019 already exists. Skipping.\n",
      "All requested years processed.\n"
     ]
    }
   ],
   "source": [
    "if __name__ == \"__main__\":\n",
    "    # Example usage\n",
    "    years = [2015, 2016, 2017, 2018, 2019] \n",
    "    output_directory = \"../data/DS/NSDUH\"\n",
    "    \n",
    "    # Fetch and save data\n",
    "    data_fetch(years, output_directory, overwrite=False)\n",
    "\n",
    "    # Read saved data (if needed)\n",
    "    # Note: This part is optional and can be removed if you don't need to read the data immediately after saving\n",
    "    for year in years:\n",
    "        df = read_parquet(output_directory, [year])\n",
    "        if year in df:\n",
    "            print(f\"Data for year {year}:\")\n",
    "            print(df[year].head())\n",
    "        #del df\n",
    "        gc.collect()"
   ]
  },
  {
   "cell_type": "markdown",
   "id": "05c8938e-35c5-4fae-996d-3496559d93be",
   "metadata": {},
   "source": [
    "### Name : Rama Rao Vydadi\n",
    "### Person Number : 50604256\n",
    "\n",
    "### Question 1: How does socioeconomic status (income, education, employment status) influence the likelihood of experiencing mental health disorders?\n",
    "### Hypothesis 1: Individuals with lower income are more likely to experience mental health issues or Unemployment is a significant predictor of mental health disorders\n",
    "### Significance of the question: Understanding the correlation between socio-economic factors and mental health can help identify vulnerable populations and provide support for economically weak population.\n",
    "\n",
    "\n",
    "\n",
    "### Question2: What role does marijuana use play in the aggravation of mental health disorders?\n",
    "### Hypothesis 2: Frequent marijuana use is more common in states where marijuana is legalized, and this is associated with a higher prevalence of depression.\n",
    "### •\tUnderstanding the relationship between marijuana use and mental health will help us to answer sensitive questions like should marijuana be banned all over the world\n",
    "\n",
    "\n",
    "\n",
    "\n",
    "### Question 3: What role does hallucinogens play in mental health disorders?\n",
    "### Hypothesis 3: Unregulated use of hallucinogens can cause mental health problems like anxiety and depression.\n",
    "### •\tUnderstanding the relationship between use of various hallucinogens and mental health will suggest us to regulate the supply of medical hallucinogens\n"
   ]
  },
  {
   "cell_type": "markdown",
   "id": "f7025341-2e66-423f-8402-84be045dda7b",
   "metadata": {},
   "source": [
    "#We will first perform the basic data cleaning steps and then perform EDA "
   ]
  },
  {
   "cell_type": "code",
   "execution_count": 9,
   "id": "b5efc9d1-b40c-4b83-aea5-2db71c42c793",
   "metadata": {},
   "outputs": [
    {
     "data": {
      "text/html": [
       "<div>\n",
       "<style scoped>\n",
       "    .dataframe tbody tr th:only-of-type {\n",
       "        vertical-align: middle;\n",
       "    }\n",
       "\n",
       "    .dataframe tbody tr th {\n",
       "        vertical-align: top;\n",
       "    }\n",
       "\n",
       "    .dataframe thead th {\n",
       "        text-align: right;\n",
       "    }\n",
       "</style>\n",
       "<table border=\"1\" class=\"dataframe\">\n",
       "  <thead>\n",
       "    <tr style=\"text-align: right;\">\n",
       "      <th></th>\n",
       "      <th>QUESTID2</th>\n",
       "      <th>FILEDATE</th>\n",
       "      <th>CIGEVER</th>\n",
       "      <th>CIGOFRSM</th>\n",
       "      <th>CIGWILYR</th>\n",
       "      <th>CIGTRY</th>\n",
       "      <th>CIGYFU</th>\n",
       "      <th>CIGMFU</th>\n",
       "      <th>CIGREC</th>\n",
       "      <th>CIG30USE</th>\n",
       "      <th>...</th>\n",
       "      <th>POVERTY3</th>\n",
       "      <th>TOOLONG</th>\n",
       "      <th>TROUBUND</th>\n",
       "      <th>PDEN10</th>\n",
       "      <th>COUTYP4</th>\n",
       "      <th>MAIIN102</th>\n",
       "      <th>AIIND102</th>\n",
       "      <th>ANALWT_C</th>\n",
       "      <th>VESTR</th>\n",
       "      <th>VEREP</th>\n",
       "    </tr>\n",
       "  </thead>\n",
       "  <tbody>\n",
       "    <tr>\n",
       "      <th>0</th>\n",
       "      <td>43295143</td>\n",
       "      <td>10/09/2020</td>\n",
       "      <td>1</td>\n",
       "      <td>99</td>\n",
       "      <td>99</td>\n",
       "      <td>13</td>\n",
       "      <td>9999</td>\n",
       "      <td>99</td>\n",
       "      <td>4</td>\n",
       "      <td>93</td>\n",
       "      <td>...</td>\n",
       "      <td>3.0</td>\n",
       "      <td>2</td>\n",
       "      <td>2</td>\n",
       "      <td>2</td>\n",
       "      <td>2</td>\n",
       "      <td>2</td>\n",
       "      <td>2</td>\n",
       "      <td>6613.865723</td>\n",
       "      <td>40004</td>\n",
       "      <td>2</td>\n",
       "    </tr>\n",
       "    <tr>\n",
       "      <th>1</th>\n",
       "      <td>65095143</td>\n",
       "      <td>10/09/2020</td>\n",
       "      <td>2</td>\n",
       "      <td>99</td>\n",
       "      <td>99</td>\n",
       "      <td>991</td>\n",
       "      <td>9991</td>\n",
       "      <td>91</td>\n",
       "      <td>91</td>\n",
       "      <td>91</td>\n",
       "      <td>...</td>\n",
       "      <td>3.0</td>\n",
       "      <td>2</td>\n",
       "      <td>2</td>\n",
       "      <td>2</td>\n",
       "      <td>2</td>\n",
       "      <td>2</td>\n",
       "      <td>2</td>\n",
       "      <td>6321.580566</td>\n",
       "      <td>40003</td>\n",
       "      <td>1</td>\n",
       "    </tr>\n",
       "    <tr>\n",
       "      <th>2</th>\n",
       "      <td>49405143</td>\n",
       "      <td>10/09/2020</td>\n",
       "      <td>1</td>\n",
       "      <td>99</td>\n",
       "      <td>99</td>\n",
       "      <td>22</td>\n",
       "      <td>9999</td>\n",
       "      <td>99</td>\n",
       "      <td>4</td>\n",
       "      <td>93</td>\n",
       "      <td>...</td>\n",
       "      <td>3.0</td>\n",
       "      <td>2</td>\n",
       "      <td>2</td>\n",
       "      <td>2</td>\n",
       "      <td>2</td>\n",
       "      <td>2</td>\n",
       "      <td>2</td>\n",
       "      <td>5045.607422</td>\n",
       "      <td>40008</td>\n",
       "      <td>1</td>\n",
       "    </tr>\n",
       "    <tr>\n",
       "      <th>3</th>\n",
       "      <td>51015143</td>\n",
       "      <td>10/09/2020</td>\n",
       "      <td>2</td>\n",
       "      <td>99</td>\n",
       "      <td>99</td>\n",
       "      <td>991</td>\n",
       "      <td>9991</td>\n",
       "      <td>91</td>\n",
       "      <td>91</td>\n",
       "      <td>91</td>\n",
       "      <td>...</td>\n",
       "      <td>1.0</td>\n",
       "      <td>2</td>\n",
       "      <td>2</td>\n",
       "      <td>2</td>\n",
       "      <td>2</td>\n",
       "      <td>2</td>\n",
       "      <td>2</td>\n",
       "      <td>2419.558838</td>\n",
       "      <td>40031</td>\n",
       "      <td>1</td>\n",
       "    </tr>\n",
       "    <tr>\n",
       "      <th>4</th>\n",
       "      <td>31825143</td>\n",
       "      <td>10/09/2020</td>\n",
       "      <td>2</td>\n",
       "      <td>99</td>\n",
       "      <td>99</td>\n",
       "      <td>991</td>\n",
       "      <td>9991</td>\n",
       "      <td>91</td>\n",
       "      <td>91</td>\n",
       "      <td>91</td>\n",
       "      <td>...</td>\n",
       "      <td>3.0</td>\n",
       "      <td>2</td>\n",
       "      <td>2</td>\n",
       "      <td>2</td>\n",
       "      <td>2</td>\n",
       "      <td>2</td>\n",
       "      <td>2</td>\n",
       "      <td>575.225464</td>\n",
       "      <td>40010</td>\n",
       "      <td>2</td>\n",
       "    </tr>\n",
       "  </tbody>\n",
       "</table>\n",
       "<p>5 rows × 2741 columns</p>\n",
       "</div>"
      ],
      "text/plain": [
       "   QUESTID2    FILEDATE  CIGEVER  CIGOFRSM  CIGWILYR  CIGTRY  CIGYFU  CIGMFU  \\\n",
       "0  43295143  10/09/2020        1        99        99      13    9999      99   \n",
       "1  65095143  10/09/2020        2        99        99     991    9991      91   \n",
       "2  49405143  10/09/2020        1        99        99      22    9999      99   \n",
       "3  51015143  10/09/2020        2        99        99     991    9991      91   \n",
       "4  31825143  10/09/2020        2        99        99     991    9991      91   \n",
       "\n",
       "   CIGREC  CIG30USE  ...  POVERTY3  TOOLONG  TROUBUND  PDEN10  COUTYP4  \\\n",
       "0       4        93  ...       3.0        2         2       2        2   \n",
       "1      91        91  ...       3.0        2         2       2        2   \n",
       "2       4        93  ...       3.0        2         2       2        2   \n",
       "3      91        91  ...       1.0        2         2       2        2   \n",
       "4      91        91  ...       3.0        2         2       2        2   \n",
       "\n",
       "   MAIIN102  AIIND102     ANALWT_C  VESTR  VEREP  \n",
       "0         2         2  6613.865723  40004      2  \n",
       "1         2         2  6321.580566  40003      1  \n",
       "2         2         2  5045.607422  40008      1  \n",
       "3         2         2  2419.558838  40031      1  \n",
       "4         2         2   575.225464  40010      2  \n",
       "\n",
       "[5 rows x 2741 columns]"
      ]
     },
     "execution_count": 9,
     "metadata": {},
     "output_type": "execute_result"
    }
   ],
   "source": [
    "df.head()"
   ]
  },
  {
   "cell_type": "code",
   "execution_count": 10,
   "id": "05a46504-1236-4fbe-bda1-8a2f516bce1e",
   "metadata": {},
   "outputs": [
    {
     "data": {
      "text/plain": [
       "(56136, 2741)"
      ]
     },
     "execution_count": 10,
     "metadata": {},
     "output_type": "execute_result"
    }
   ],
   "source": [
    "df.shape"
   ]
  },
  {
   "cell_type": "code",
   "execution_count": 11,
   "id": "cd78d40c-45b4-4d53-9ea3-b45c929f3e85",
   "metadata": {},
   "outputs": [
    {
     "name": "stdout",
     "output_type": "stream",
     "text": [
      "<class 'pandas.core.frame.DataFrame'>\n",
      "RangeIndex: 56136 entries, 0 to 56135\n",
      "Columns: 2741 entries, QUESTID2 to VEREP\n",
      "dtypes: float32(407), int64(2332), object(2)\n",
      "memory usage: 1.1+ GB\n"
     ]
    }
   ],
   "source": [
    "df.info()"
   ]
  },
  {
   "cell_type": "code",
   "execution_count": 12,
   "id": "9068faa7-0ea6-437a-9477-1856cc52107a",
   "metadata": {},
   "outputs": [
    {
     "data": {
      "text/html": [
       "<div>\n",
       "<style scoped>\n",
       "    .dataframe tbody tr th:only-of-type {\n",
       "        vertical-align: middle;\n",
       "    }\n",
       "\n",
       "    .dataframe tbody tr th {\n",
       "        vertical-align: top;\n",
       "    }\n",
       "\n",
       "    .dataframe thead th {\n",
       "        text-align: right;\n",
       "    }\n",
       "</style>\n",
       "<table border=\"1\" class=\"dataframe\">\n",
       "  <thead>\n",
       "    <tr style=\"text-align: right;\">\n",
       "      <th></th>\n",
       "      <th>QUESTID2</th>\n",
       "      <th>CIGEVER</th>\n",
       "      <th>CIGOFRSM</th>\n",
       "      <th>CIGWILYR</th>\n",
       "      <th>CIGTRY</th>\n",
       "      <th>CIGYFU</th>\n",
       "      <th>CIGMFU</th>\n",
       "      <th>CIGREC</th>\n",
       "      <th>CIG30USE</th>\n",
       "      <th>CG30EST</th>\n",
       "      <th>...</th>\n",
       "      <th>POVERTY3</th>\n",
       "      <th>TOOLONG</th>\n",
       "      <th>TROUBUND</th>\n",
       "      <th>PDEN10</th>\n",
       "      <th>COUTYP4</th>\n",
       "      <th>MAIIN102</th>\n",
       "      <th>AIIND102</th>\n",
       "      <th>ANALWT_C</th>\n",
       "      <th>VESTR</th>\n",
       "      <th>VEREP</th>\n",
       "    </tr>\n",
       "  </thead>\n",
       "  <tbody>\n",
       "    <tr>\n",
       "      <th>count</th>\n",
       "      <td>5.613600e+04</td>\n",
       "      <td>56136.000000</td>\n",
       "      <td>56136.000000</td>\n",
       "      <td>56136.000000</td>\n",
       "      <td>56136.000000</td>\n",
       "      <td>56136.000000</td>\n",
       "      <td>56136.000000</td>\n",
       "      <td>56136.000000</td>\n",
       "      <td>56136.000000</td>\n",
       "      <td>56136.000000</td>\n",
       "      <td>...</td>\n",
       "      <td>55609.000000</td>\n",
       "      <td>56136.000000</td>\n",
       "      <td>56136.000000</td>\n",
       "      <td>56136.000000</td>\n",
       "      <td>56136.000000</td>\n",
       "      <td>56136.000000</td>\n",
       "      <td>56136.000000</td>\n",
       "      <td>56136.000000</td>\n",
       "      <td>56136.000000</td>\n",
       "      <td>56136.000000</td>\n",
       "    </tr>\n",
       "    <tr>\n",
       "      <th>mean</th>\n",
       "      <td>5.434607e+07</td>\n",
       "      <td>1.542700</td>\n",
       "      <td>78.595554</td>\n",
       "      <td>78.605458</td>\n",
       "      <td>550.575816</td>\n",
       "      <td>9840.048846</td>\n",
       "      <td>92.951600</td>\n",
       "      <td>50.651080</td>\n",
       "      <td>80.111248</td>\n",
       "      <td>92.784915</td>\n",
       "      <td>...</td>\n",
       "      <td>2.427179</td>\n",
       "      <td>2.173650</td>\n",
       "      <td>2.199854</td>\n",
       "      <td>1.662997</td>\n",
       "      <td>1.747827</td>\n",
       "      <td>1.982827</td>\n",
       "      <td>1.982560</td>\n",
       "      <td>4902.758301</td>\n",
       "      <td>40025.570899</td>\n",
       "      <td>1.504400</td>\n",
       "    </tr>\n",
       "    <tr>\n",
       "      <th>std</th>\n",
       "      <td>2.563167e+07</td>\n",
       "      <td>0.498178</td>\n",
       "      <td>39.056828</td>\n",
       "      <td>39.037478</td>\n",
       "      <td>485.236660</td>\n",
       "      <td>1099.156156</td>\n",
       "      <td>12.225758</td>\n",
       "      <td>43.980321</td>\n",
       "      <td>26.734751</td>\n",
       "      <td>4.208800</td>\n",
       "      <td>...</td>\n",
       "      <td>0.776759</td>\n",
       "      <td>4.797938</td>\n",
       "      <td>4.794185</td>\n",
       "      <td>0.627146</td>\n",
       "      <td>0.762371</td>\n",
       "      <td>0.129915</td>\n",
       "      <td>0.130904</td>\n",
       "      <td>5952.114746</td>\n",
       "      <td>14.388113</td>\n",
       "      <td>0.499985</td>\n",
       "    </tr>\n",
       "    <tr>\n",
       "      <th>min</th>\n",
       "      <td>1.000945e+07</td>\n",
       "      <td>1.000000</td>\n",
       "      <td>1.000000</td>\n",
       "      <td>1.000000</td>\n",
       "      <td>1.000000</td>\n",
       "      <td>2017.000000</td>\n",
       "      <td>1.000000</td>\n",
       "      <td>1.000000</td>\n",
       "      <td>1.000000</td>\n",
       "      <td>1.000000</td>\n",
       "      <td>...</td>\n",
       "      <td>1.000000</td>\n",
       "      <td>1.000000</td>\n",
       "      <td>1.000000</td>\n",
       "      <td>1.000000</td>\n",
       "      <td>1.000000</td>\n",
       "      <td>1.000000</td>\n",
       "      <td>1.000000</td>\n",
       "      <td>3.581148</td>\n",
       "      <td>40001.000000</td>\n",
       "      <td>1.000000</td>\n",
       "    </tr>\n",
       "    <tr>\n",
       "      <th>25%</th>\n",
       "      <td>3.198245e+07</td>\n",
       "      <td>1.000000</td>\n",
       "      <td>99.000000</td>\n",
       "      <td>99.000000</td>\n",
       "      <td>16.000000</td>\n",
       "      <td>9991.000000</td>\n",
       "      <td>91.000000</td>\n",
       "      <td>3.000000</td>\n",
       "      <td>91.000000</td>\n",
       "      <td>91.000000</td>\n",
       "      <td>...</td>\n",
       "      <td>2.000000</td>\n",
       "      <td>2.000000</td>\n",
       "      <td>2.000000</td>\n",
       "      <td>1.000000</td>\n",
       "      <td>1.000000</td>\n",
       "      <td>2.000000</td>\n",
       "      <td>2.000000</td>\n",
       "      <td>1262.476593</td>\n",
       "      <td>40013.000000</td>\n",
       "      <td>1.000000</td>\n",
       "    </tr>\n",
       "    <tr>\n",
       "      <th>50%</th>\n",
       "      <td>5.403939e+07</td>\n",
       "      <td>2.000000</td>\n",
       "      <td>99.000000</td>\n",
       "      <td>99.000000</td>\n",
       "      <td>991.000000</td>\n",
       "      <td>9991.000000</td>\n",
       "      <td>91.000000</td>\n",
       "      <td>91.000000</td>\n",
       "      <td>91.000000</td>\n",
       "      <td>91.000000</td>\n",
       "      <td>...</td>\n",
       "      <td>3.000000</td>\n",
       "      <td>2.000000</td>\n",
       "      <td>2.000000</td>\n",
       "      <td>2.000000</td>\n",
       "      <td>2.000000</td>\n",
       "      <td>2.000000</td>\n",
       "      <td>2.000000</td>\n",
       "      <td>2855.374878</td>\n",
       "      <td>40025.000000</td>\n",
       "      <td>2.000000</td>\n",
       "    </tr>\n",
       "    <tr>\n",
       "      <th>75%</th>\n",
       "      <td>7.625105e+07</td>\n",
       "      <td>2.000000</td>\n",
       "      <td>99.000000</td>\n",
       "      <td>99.000000</td>\n",
       "      <td>991.000000</td>\n",
       "      <td>9999.000000</td>\n",
       "      <td>99.000000</td>\n",
       "      <td>91.000000</td>\n",
       "      <td>93.000000</td>\n",
       "      <td>93.000000</td>\n",
       "      <td>...</td>\n",
       "      <td>3.000000</td>\n",
       "      <td>2.000000</td>\n",
       "      <td>2.000000</td>\n",
       "      <td>2.000000</td>\n",
       "      <td>2.000000</td>\n",
       "      <td>2.000000</td>\n",
       "      <td>2.000000</td>\n",
       "      <td>6076.500732</td>\n",
       "      <td>40038.000000</td>\n",
       "      <td>2.000000</td>\n",
       "    </tr>\n",
       "    <tr>\n",
       "      <th>max</th>\n",
       "      <td>9.999669e+07</td>\n",
       "      <td>2.000000</td>\n",
       "      <td>99.000000</td>\n",
       "      <td>99.000000</td>\n",
       "      <td>997.000000</td>\n",
       "      <td>9999.000000</td>\n",
       "      <td>99.000000</td>\n",
       "      <td>91.000000</td>\n",
       "      <td>98.000000</td>\n",
       "      <td>99.000000</td>\n",
       "      <td>...</td>\n",
       "      <td>3.000000</td>\n",
       "      <td>98.000000</td>\n",
       "      <td>98.000000</td>\n",
       "      <td>3.000000</td>\n",
       "      <td>3.000000</td>\n",
       "      <td>2.000000</td>\n",
       "      <td>2.000000</td>\n",
       "      <td>77284.484375</td>\n",
       "      <td>40050.000000</td>\n",
       "      <td>2.000000</td>\n",
       "    </tr>\n",
       "  </tbody>\n",
       "</table>\n",
       "<p>8 rows × 2739 columns</p>\n",
       "</div>"
      ],
      "text/plain": [
       "           QUESTID2       CIGEVER      CIGOFRSM      CIGWILYR        CIGTRY  \\\n",
       "count  5.613600e+04  56136.000000  56136.000000  56136.000000  56136.000000   \n",
       "mean   5.434607e+07      1.542700     78.595554     78.605458    550.575816   \n",
       "std    2.563167e+07      0.498178     39.056828     39.037478    485.236660   \n",
       "min    1.000945e+07      1.000000      1.000000      1.000000      1.000000   \n",
       "25%    3.198245e+07      1.000000     99.000000     99.000000     16.000000   \n",
       "50%    5.403939e+07      2.000000     99.000000     99.000000    991.000000   \n",
       "75%    7.625105e+07      2.000000     99.000000     99.000000    991.000000   \n",
       "max    9.999669e+07      2.000000     99.000000     99.000000    997.000000   \n",
       "\n",
       "             CIGYFU        CIGMFU        CIGREC      CIG30USE       CG30EST  \\\n",
       "count  56136.000000  56136.000000  56136.000000  56136.000000  56136.000000   \n",
       "mean    9840.048846     92.951600     50.651080     80.111248     92.784915   \n",
       "std     1099.156156     12.225758     43.980321     26.734751      4.208800   \n",
       "min     2017.000000      1.000000      1.000000      1.000000      1.000000   \n",
       "25%     9991.000000     91.000000      3.000000     91.000000     91.000000   \n",
       "50%     9991.000000     91.000000     91.000000     91.000000     91.000000   \n",
       "75%     9999.000000     99.000000     91.000000     93.000000     93.000000   \n",
       "max     9999.000000     99.000000     91.000000     98.000000     99.000000   \n",
       "\n",
       "       ...      POVERTY3       TOOLONG      TROUBUND        PDEN10  \\\n",
       "count  ...  55609.000000  56136.000000  56136.000000  56136.000000   \n",
       "mean   ...      2.427179      2.173650      2.199854      1.662997   \n",
       "std    ...      0.776759      4.797938      4.794185      0.627146   \n",
       "min    ...      1.000000      1.000000      1.000000      1.000000   \n",
       "25%    ...      2.000000      2.000000      2.000000      1.000000   \n",
       "50%    ...      3.000000      2.000000      2.000000      2.000000   \n",
       "75%    ...      3.000000      2.000000      2.000000      2.000000   \n",
       "max    ...      3.000000     98.000000     98.000000      3.000000   \n",
       "\n",
       "            COUTYP4      MAIIN102      AIIND102      ANALWT_C         VESTR  \\\n",
       "count  56136.000000  56136.000000  56136.000000  56136.000000  56136.000000   \n",
       "mean       1.747827      1.982827      1.982560   4902.758301  40025.570899   \n",
       "std        0.762371      0.129915      0.130904   5952.114746     14.388113   \n",
       "min        1.000000      1.000000      1.000000      3.581148  40001.000000   \n",
       "25%        1.000000      2.000000      2.000000   1262.476593  40013.000000   \n",
       "50%        2.000000      2.000000      2.000000   2855.374878  40025.000000   \n",
       "75%        2.000000      2.000000      2.000000   6076.500732  40038.000000   \n",
       "max        3.000000      2.000000      2.000000  77284.484375  40050.000000   \n",
       "\n",
       "              VEREP  \n",
       "count  56136.000000  \n",
       "mean       1.504400  \n",
       "std        0.499985  \n",
       "min        1.000000  \n",
       "25%        1.000000  \n",
       "50%        2.000000  \n",
       "75%        2.000000  \n",
       "max        2.000000  \n",
       "\n",
       "[8 rows x 2739 columns]"
      ]
     },
     "execution_count": 12,
     "metadata": {},
     "output_type": "execute_result"
    }
   ],
   "source": [
    "df.describe()"
   ]
  },
  {
   "cell_type": "code",
   "execution_count": 13,
   "id": "d2d6caaf-40c2-447a-83d8-a2c311b9d5af",
   "metadata": {},
   "outputs": [
    {
     "data": {
      "text/plain": [
       "Index(['QUESTID2', 'FILEDATE', 'CIGEVER', 'CIGOFRSM', 'CIGWILYR', 'CIGTRY',\n",
       "       'CIGYFU', 'CIGMFU', 'CIGREC', 'CIG30USE',\n",
       "       ...\n",
       "       'POVERTY3', 'TOOLONG', 'TROUBUND', 'PDEN10', 'COUTYP4', 'MAIIN102',\n",
       "       'AIIND102', 'ANALWT_C', 'VESTR', 'VEREP'],\n",
       "      dtype='object', length=2741)"
      ]
     },
     "execution_count": 13,
     "metadata": {},
     "output_type": "execute_result"
    }
   ],
   "source": [
    "df.columns"
   ]
  },
  {
   "cell_type": "code",
   "execution_count": 14,
   "id": "d93df249-c5c2-47dd-afed-302c681cb2aa",
   "metadata": {},
   "outputs": [],
   "source": [
    "filtered_df=df.copy()"
   ]
  },
  {
   "cell_type": "markdown",
   "id": "81d3f1ae-12ef-46f6-ae6d-4b0367dd611a",
   "metadata": {},
   "source": [
    "Selecting only required columns from the entire dataset (This is an iterative step after performing EDA)"
   ]
  },
  {
   "cell_type": "code",
   "execution_count": 15,
   "id": "bc28ed22-1bd3-4e10-9e80-c628bd4ef2f6",
   "metadata": {},
   "outputs": [],
   "source": [
    "desired_columns = [\n",
    "    'QUESTID2', 'IRWRKSTAT', 'IREDUHIGHST2', 'INCOME', 'IRSEX', 'MJEVER',\n",
    "    'PNRANYLIF', 'COUTYP4', 'MEDMJPA2', 'DSTCHR30', 'ADDPREV', 'LSD', 'PCP', 'PEYOTE', 'MESC', 'PSILCY', 'ECSTMOLLY', 'KETMINESK', 'DMTAMTFXY', 'SALVIADIV', 'HALLUCOTH'\n",
    "]\n",
    "\n",
    "filtered_df = df[desired_columns]\n",
    "\n"
   ]
  },
  {
   "cell_type": "code",
   "execution_count": 16,
   "id": "1d4f35a9-6cfe-48c7-a089-8ce1fdb8894a",
   "metadata": {},
   "outputs": [],
   "source": [
    "#We have various hallucinogens in our dataset we can standardize the mapping and remove the unwanted data \n",
    "#like \"Dont know\", \"Refused\" etc with nan values "
   ]
  },
  {
   "cell_type": "code",
   "execution_count": 17,
   "id": "1e8cf6b3-3eeb-4b8a-aa0f-dc6e1c6b4d3f",
   "metadata": {},
   "outputs": [
    {
     "name": "stderr",
     "output_type": "stream",
     "text": [
      "C:\\Users\\Rama Rao\\AppData\\Local\\Temp\\ipykernel_9164\\1422645912.py:11: SettingWithCopyWarning: \n",
      "A value is trying to be set on a copy of a slice from a DataFrame.\n",
      "Try using .loc[row_indexer,col_indexer] = value instead\n",
      "\n",
      "See the caveats in the documentation: https://pandas.pydata.org/pandas-docs/stable/user_guide/indexing.html#returning-a-view-versus-a-copy\n",
      "  filtered_df['LSD'] = filtered_df['LSD'].map(lsd_mapping)\n"
     ]
    }
   ],
   "source": [
    "lsd_mapping = {\n",
    "    1: 'Yes',  # \"Yes\"\n",
    "    2: 'No',   # \"No\"\n",
    "    3: 'Yes',  # \"Yes logically assigned\"\n",
    "    91: 'No',  # \"Never used hallucinogens\"\n",
    "    94: np.nan,  # \"Don't know\" replaced with NaN\n",
    "    97: np.nan   # \"Refused\" replaced with NaN\n",
    "}\n",
    "\n",
    "# Apply the mapping to the 'LSD' column\n",
    "filtered_df['LSD'] = filtered_df['LSD'].map(lsd_mapping)"
   ]
  },
  {
   "cell_type": "code",
   "execution_count": 18,
   "id": "2e315c38-8279-4445-bd79-a7de13acb356",
   "metadata": {},
   "outputs": [],
   "source": [
    "#we can create similar mapping for all hallucinogens"
   ]
  },
  {
   "cell_type": "code",
   "execution_count": 19,
   "id": "68f0783c-957f-4033-a56a-afea0d155435",
   "metadata": {},
   "outputs": [
    {
     "name": "stderr",
     "output_type": "stream",
     "text": [
      "C:\\Users\\Rama Rao\\AppData\\Local\\Temp\\ipykernel_9164\\497884309.py:12: SettingWithCopyWarning: \n",
      "A value is trying to be set on a copy of a slice from a DataFrame.\n",
      "Try using .loc[row_indexer,col_indexer] = value instead\n",
      "\n",
      "See the caveats in the documentation: https://pandas.pydata.org/pandas-docs/stable/user_guide/indexing.html#returning-a-view-versus-a-copy\n",
      "  filtered_df[col] = filtered_df[col].map(substance_mapping)\n"
     ]
    }
   ],
   "source": [
    "substance_mapping = {\n",
    "    1: 'Yes',  # \"Yes\"\n",
    "    2: 'No',   # \"No\"\n",
    "    91: 'No',  # \"Never used hallucinogens\"\n",
    "    94: np.nan,  # \"Don't know\" replaced with NaN\n",
    "    97: np.nan   # \"Refused\" replaced with NaN\n",
    "}\n",
    "\n",
    "substance_columns = ['PCP', 'PEYOTE', 'MESC', 'PSILCY', 'ECSTMOLLY', 'KETMINESK', 'DMTAMTFXY', 'SALVIADIV', 'HALLUCOTH']\n",
    "\n",
    "for col in substance_columns:\n",
    "    filtered_df[col] = filtered_df[col].map(substance_mapping)"
   ]
  },
  {
   "cell_type": "code",
   "execution_count": 20,
   "id": "9f098fd3-d3cf-45a2-9130-667cf61282d0",
   "metadata": {},
   "outputs": [],
   "source": [
    "# Since we have a lot of hallucinogens we can generalize the use of them by creating a new column which will have yes if any one of the \n",
    "#hallucinogens in dataset is used"
   ]
  },
  {
   "cell_type": "code",
   "execution_count": 21,
   "id": "affcecb4-dc89-47e4-a079-4a83be65d6fe",
   "metadata": {},
   "outputs": [
    {
     "name": "stderr",
     "output_type": "stream",
     "text": [
      "C:\\Users\\Rama Rao\\AppData\\Local\\Temp\\ipykernel_9164\\3382138147.py:3: SettingWithCopyWarning: \n",
      "A value is trying to be set on a copy of a slice from a DataFrame.\n",
      "Try using .loc[row_indexer,col_indexer] = value instead\n",
      "\n",
      "See the caveats in the documentation: https://pandas.pydata.org/pandas-docs/stable/user_guide/indexing.html#returning-a-view-versus-a-copy\n",
      "  filtered_df['hallucinogens'] = filtered_df[hallucinogen_columns].apply(\n"
     ]
    }
   ],
   "source": [
    "hallucinogen_columns = ['LSD', 'PCP', 'PEYOTE', 'MESC', 'PSILCY', 'ECSTMOLLY', 'KETMINESK', 'DMTAMTFXY', 'SALVIADIV', 'HALLUCOTH']\n",
    "\n",
    "filtered_df['hallucinogens'] = filtered_df[hallucinogen_columns].apply(\n",
    "    lambda row: 'Yes' if 'Yes' in row.values else ('No' if all(val == 'No' for val in row.values) else np.nan), axis=1\n",
    ")"
   ]
  },
  {
   "cell_type": "code",
   "execution_count": 22,
   "id": "cd5416fa-6486-43ff-a0c5-6c73378840cd",
   "metadata": {},
   "outputs": [],
   "source": [
    "# Now only considering hallucination column created in filtered_df\n",
    "desired_columns = [\n",
    "    'QUESTID2', 'IRWRKSTAT', 'IREDUHIGHST2', 'INCOME', 'IRSEX', 'MJEVER',\n",
    "    'PNRANYLIF', 'COUTYP4', 'MEDMJPA2', 'DSTCHR30', 'ADDPREV', 'hallucinogens' ]\n",
    "\n",
    "filtered_df = filtered_df[desired_columns]\n",
    "\n"
   ]
  },
  {
   "cell_type": "markdown",
   "id": "0ccddbd8-4248-4b9c-9dcb-899b9fb8adf7",
   "metadata": {},
   "source": [
    "### Data Cleaning"
   ]
  },
  {
   "cell_type": "code",
   "execution_count": 23,
   "id": "311d7d08-9500-421a-b797-f6f6f1f261c3",
   "metadata": {},
   "outputs": [
    {
     "data": {
      "text/html": [
       "<div>\n",
       "<style scoped>\n",
       "    .dataframe tbody tr th:only-of-type {\n",
       "        vertical-align: middle;\n",
       "    }\n",
       "\n",
       "    .dataframe tbody tr th {\n",
       "        vertical-align: top;\n",
       "    }\n",
       "\n",
       "    .dataframe thead th {\n",
       "        text-align: right;\n",
       "    }\n",
       "</style>\n",
       "<table border=\"1\" class=\"dataframe\">\n",
       "  <thead>\n",
       "    <tr style=\"text-align: right;\">\n",
       "      <th></th>\n",
       "      <th>QUESTID2</th>\n",
       "      <th>IRWRKSTAT</th>\n",
       "      <th>IREDUHIGHST2</th>\n",
       "      <th>INCOME</th>\n",
       "      <th>IRSEX</th>\n",
       "      <th>MJEVER</th>\n",
       "      <th>PNRANYLIF</th>\n",
       "      <th>COUTYP4</th>\n",
       "      <th>MEDMJPA2</th>\n",
       "      <th>DSTCHR30</th>\n",
       "      <th>ADDPREV</th>\n",
       "      <th>hallucinogens</th>\n",
       "    </tr>\n",
       "  </thead>\n",
       "  <tbody>\n",
       "    <tr>\n",
       "      <th>0</th>\n",
       "      <td>43295143</td>\n",
       "      <td>1</td>\n",
       "      <td>11</td>\n",
       "      <td>4</td>\n",
       "      <td>1</td>\n",
       "      <td>1</td>\n",
       "      <td>1</td>\n",
       "      <td>2</td>\n",
       "      <td>2</td>\n",
       "      <td>3</td>\n",
       "      <td>1</td>\n",
       "      <td>No</td>\n",
       "    </tr>\n",
       "    <tr>\n",
       "      <th>1</th>\n",
       "      <td>65095143</td>\n",
       "      <td>1</td>\n",
       "      <td>11</td>\n",
       "      <td>4</td>\n",
       "      <td>2</td>\n",
       "      <td>2</td>\n",
       "      <td>1</td>\n",
       "      <td>2</td>\n",
       "      <td>1</td>\n",
       "      <td>5</td>\n",
       "      <td>1</td>\n",
       "      <td>No</td>\n",
       "    </tr>\n",
       "    <tr>\n",
       "      <th>2</th>\n",
       "      <td>49405143</td>\n",
       "      <td>1</td>\n",
       "      <td>11</td>\n",
       "      <td>4</td>\n",
       "      <td>1</td>\n",
       "      <td>1</td>\n",
       "      <td>1</td>\n",
       "      <td>2</td>\n",
       "      <td>1</td>\n",
       "      <td>5</td>\n",
       "      <td>2</td>\n",
       "      <td>No</td>\n",
       "    </tr>\n",
       "    <tr>\n",
       "      <th>3</th>\n",
       "      <td>51015143</td>\n",
       "      <td>4</td>\n",
       "      <td>6</td>\n",
       "      <td>1</td>\n",
       "      <td>2</td>\n",
       "      <td>2</td>\n",
       "      <td>1</td>\n",
       "      <td>2</td>\n",
       "      <td>1</td>\n",
       "      <td>4</td>\n",
       "      <td>2</td>\n",
       "      <td>No</td>\n",
       "    </tr>\n",
       "    <tr>\n",
       "      <th>4</th>\n",
       "      <td>31825143</td>\n",
       "      <td>4</td>\n",
       "      <td>7</td>\n",
       "      <td>4</td>\n",
       "      <td>1</td>\n",
       "      <td>2</td>\n",
       "      <td>2</td>\n",
       "      <td>2</td>\n",
       "      <td>1</td>\n",
       "      <td>4</td>\n",
       "      <td>1</td>\n",
       "      <td>No</td>\n",
       "    </tr>\n",
       "  </tbody>\n",
       "</table>\n",
       "</div>"
      ],
      "text/plain": [
       "   QUESTID2  IRWRKSTAT  IREDUHIGHST2  INCOME  IRSEX  MJEVER  PNRANYLIF  \\\n",
       "0  43295143          1            11       4      1       1          1   \n",
       "1  65095143          1            11       4      2       2          1   \n",
       "2  49405143          1            11       4      1       1          1   \n",
       "3  51015143          4             6       1      2       2          1   \n",
       "4  31825143          4             7       4      1       2          2   \n",
       "\n",
       "   COUTYP4  MEDMJPA2  DSTCHR30  ADDPREV hallucinogens  \n",
       "0        2         2         3        1            No  \n",
       "1        2         1         5        1            No  \n",
       "2        2         1         5        2            No  \n",
       "3        2         1         4        2            No  \n",
       "4        2         1         4        1            No  "
      ]
     },
     "execution_count": 23,
     "metadata": {},
     "output_type": "execute_result"
    }
   ],
   "source": [
    "filtered_df.head()"
   ]
  },
  {
   "cell_type": "markdown",
   "id": "3530f8ab-2bba-4479-a848-816d5fb5c4e5",
   "metadata": {},
   "source": [
    "### Handling Special codes like Bad Data, Legitimate Skip etc in depression column which does not add value to the analysis"
   ]
  },
  {
   "cell_type": "markdown",
   "id": "d745b126-280d-4cc9-8a56-bb0048aed034",
   "metadata": {},
   "source": [
    "Replace special codes which does not add value with NaN values\n",
    "85: 'Bad Data',\n",
    "97: 'Refused',\n",
    "98: 'Blank',\n",
    "99: 'Legitimate Skip'"
   ]
  },
  {
   "cell_type": "code",
   "execution_count": 24,
   "id": "08f8ae4c-318c-4f75-810c-c28401e25cc7",
   "metadata": {},
   "outputs": [
    {
     "name": "stderr",
     "output_type": "stream",
     "text": [
      "C:\\Users\\Rama Rao\\AppData\\Local\\Temp\\ipykernel_9164\\2321724339.py:1: FutureWarning: A value is trying to be set on a copy of a DataFrame or Series through chained assignment using an inplace method.\n",
      "The behavior will change in pandas 3.0. This inplace method will never work because the intermediate object on which we are setting values always behaves as a copy.\n",
      "\n",
      "For example, when doing 'df[col].method(value, inplace=True)', try using 'df.method({col: value}, inplace=True)' or df[col] = df[col].method(value) instead, to perform the operation inplace on the original object.\n",
      "\n",
      "\n",
      "  filtered_df['ADDPREV'].replace([85, 97, 98, 99], np.nan, inplace=True)\n"
     ]
    }
   ],
   "source": [
    "\n",
    "filtered_df['ADDPREV'].replace([85, 97, 98, 99], np.nan, inplace=True)\n"
   ]
  },
  {
   "cell_type": "code",
   "execution_count": 25,
   "id": "015e402b-d25a-4a4b-a84d-59abc40e3f88",
   "metadata": {},
   "outputs": [
    {
     "data": {
      "text/plain": [
       "array([ 1.,  2., nan, 94.])"
      ]
     },
     "execution_count": 25,
     "metadata": {},
     "output_type": "execute_result"
    }
   ],
   "source": [
    "filtered_df['ADDPREV'].unique()"
   ]
  },
  {
   "cell_type": "markdown",
   "id": "3754f8ff-d4c6-4655-bf27-0de69702d7a9",
   "metadata": {},
   "source": [
    "In the IRWRKSTAT (EMPLOYMENT STATUS) column - 99 indicates 12-14 year olds, this data might not be useful for analysis hence we can remove this data as these people might also be having some income, since we cannot say the exact income level it is better to drop these values "
   ]
  },
  {
   "cell_type": "code",
   "execution_count": 26,
   "id": "fa06ae38-2ea7-4622-be7e-7715428e7ef2",
   "metadata": {},
   "outputs": [
    {
     "name": "stderr",
     "output_type": "stream",
     "text": [
      "C:\\Users\\Rama Rao\\AppData\\Local\\Temp\\ipykernel_9164\\753615126.py:1: FutureWarning: A value is trying to be set on a copy of a DataFrame or Series through chained assignment using an inplace method.\n",
      "The behavior will change in pandas 3.0. This inplace method will never work because the intermediate object on which we are setting values always behaves as a copy.\n",
      "\n",
      "For example, when doing 'df[col].method(value, inplace=True)', try using 'df.method({col: value}, inplace=True)' or df[col] = df[col].method(value) instead, to perform the operation inplace on the original object.\n",
      "\n",
      "\n",
      "  filtered_df['IRWRKSTAT'].replace([99], np.nan, inplace=True)\n"
     ]
    }
   ],
   "source": [
    "\n",
    "filtered_df['IRWRKSTAT'].replace([99], np.nan, inplace=True)\n"
   ]
  },
  {
   "cell_type": "markdown",
   "id": "a67bf1f3-6501-44f5-b7e4-37eb7685dfa4",
   "metadata": {},
   "source": [
    "Since we have more than 11 levels of education in the dataset, we can categorize the education levels into 3 different levels which make more sense i.e Primary, Secondary and Higher education based on the grade studying"
   ]
  },
  {
   "cell_type": "code",
   "execution_count": 27,
   "id": "652fdb0e-f554-4beb-8f67-7b7a293b923a",
   "metadata": {},
   "outputs": [],
   "source": [
    "# Define a function to categorize the education levels\n",
    "def categorize_education(value):\n",
    "    if value < 7:\n",
    "        return 'primary education'\n",
    "    elif value in [8, 9]:\n",
    "        return 'intermediate education'\n",
    "    else:\n",
    "        return 'higher education'\n",
    "\n",
    "filtered_df['IREDUHIGHST2'] = filtered_df['IREDUHIGHST2'].apply(categorize_education)\n"
   ]
  },
  {
   "cell_type": "code",
   "execution_count": 28,
   "id": "6ddd5b99-34fb-4c2b-abab-9c298a93ccd3",
   "metadata": {},
   "outputs": [
    {
     "data": {
      "text/html": [
       "<div>\n",
       "<style scoped>\n",
       "    .dataframe tbody tr th:only-of-type {\n",
       "        vertical-align: middle;\n",
       "    }\n",
       "\n",
       "    .dataframe tbody tr th {\n",
       "        vertical-align: top;\n",
       "    }\n",
       "\n",
       "    .dataframe thead th {\n",
       "        text-align: right;\n",
       "    }\n",
       "</style>\n",
       "<table border=\"1\" class=\"dataframe\">\n",
       "  <thead>\n",
       "    <tr style=\"text-align: right;\">\n",
       "      <th></th>\n",
       "      <th>QUESTID2</th>\n",
       "      <th>IRWRKSTAT</th>\n",
       "      <th>IREDUHIGHST2</th>\n",
       "      <th>INCOME</th>\n",
       "      <th>IRSEX</th>\n",
       "      <th>MJEVER</th>\n",
       "      <th>PNRANYLIF</th>\n",
       "      <th>COUTYP4</th>\n",
       "      <th>MEDMJPA2</th>\n",
       "      <th>DSTCHR30</th>\n",
       "      <th>ADDPREV</th>\n",
       "      <th>hallucinogens</th>\n",
       "    </tr>\n",
       "  </thead>\n",
       "  <tbody>\n",
       "    <tr>\n",
       "      <th>0</th>\n",
       "      <td>43295143</td>\n",
       "      <td>1.0</td>\n",
       "      <td>higher education</td>\n",
       "      <td>4</td>\n",
       "      <td>1</td>\n",
       "      <td>1</td>\n",
       "      <td>1</td>\n",
       "      <td>2</td>\n",
       "      <td>2</td>\n",
       "      <td>3</td>\n",
       "      <td>1.0</td>\n",
       "      <td>No</td>\n",
       "    </tr>\n",
       "    <tr>\n",
       "      <th>1</th>\n",
       "      <td>65095143</td>\n",
       "      <td>1.0</td>\n",
       "      <td>higher education</td>\n",
       "      <td>4</td>\n",
       "      <td>2</td>\n",
       "      <td>2</td>\n",
       "      <td>1</td>\n",
       "      <td>2</td>\n",
       "      <td>1</td>\n",
       "      <td>5</td>\n",
       "      <td>1.0</td>\n",
       "      <td>No</td>\n",
       "    </tr>\n",
       "    <tr>\n",
       "      <th>2</th>\n",
       "      <td>49405143</td>\n",
       "      <td>1.0</td>\n",
       "      <td>higher education</td>\n",
       "      <td>4</td>\n",
       "      <td>1</td>\n",
       "      <td>1</td>\n",
       "      <td>1</td>\n",
       "      <td>2</td>\n",
       "      <td>1</td>\n",
       "      <td>5</td>\n",
       "      <td>2.0</td>\n",
       "      <td>No</td>\n",
       "    </tr>\n",
       "    <tr>\n",
       "      <th>3</th>\n",
       "      <td>51015143</td>\n",
       "      <td>4.0</td>\n",
       "      <td>primary education</td>\n",
       "      <td>1</td>\n",
       "      <td>2</td>\n",
       "      <td>2</td>\n",
       "      <td>1</td>\n",
       "      <td>2</td>\n",
       "      <td>1</td>\n",
       "      <td>4</td>\n",
       "      <td>2.0</td>\n",
       "      <td>No</td>\n",
       "    </tr>\n",
       "    <tr>\n",
       "      <th>4</th>\n",
       "      <td>31825143</td>\n",
       "      <td>4.0</td>\n",
       "      <td>higher education</td>\n",
       "      <td>4</td>\n",
       "      <td>1</td>\n",
       "      <td>2</td>\n",
       "      <td>2</td>\n",
       "      <td>2</td>\n",
       "      <td>1</td>\n",
       "      <td>4</td>\n",
       "      <td>1.0</td>\n",
       "      <td>No</td>\n",
       "    </tr>\n",
       "  </tbody>\n",
       "</table>\n",
       "</div>"
      ],
      "text/plain": [
       "   QUESTID2  IRWRKSTAT       IREDUHIGHST2  INCOME  IRSEX  MJEVER  PNRANYLIF  \\\n",
       "0  43295143        1.0   higher education       4      1       1          1   \n",
       "1  65095143        1.0   higher education       4      2       2          1   \n",
       "2  49405143        1.0   higher education       4      1       1          1   \n",
       "3  51015143        4.0  primary education       1      2       2          1   \n",
       "4  31825143        4.0   higher education       4      1       2          2   \n",
       "\n",
       "   COUTYP4  MEDMJPA2  DSTCHR30  ADDPREV hallucinogens  \n",
       "0        2         2         3      1.0            No  \n",
       "1        2         1         5      1.0            No  \n",
       "2        2         1         5      2.0            No  \n",
       "3        2         1         4      2.0            No  \n",
       "4        2         1         4      1.0            No  "
      ]
     },
     "execution_count": 28,
     "metadata": {},
     "output_type": "execute_result"
    }
   ],
   "source": [
    "filtered_df.head()"
   ]
  },
  {
   "cell_type": "markdown",
   "id": "2d3d4856-ca08-481d-8adc-3cbc138d7611",
   "metadata": {},
   "source": [
    "MJEVER contains 94 and 97 which are dont know and refused to answer, these rows are not useful in our analysis hence we can exclude this data"
   ]
  },
  {
   "cell_type": "code",
   "execution_count": 29,
   "id": "5b3ceb7d-d02a-44af-9ba3-e909282271bf",
   "metadata": {},
   "outputs": [
    {
     "name": "stderr",
     "output_type": "stream",
     "text": [
      "C:\\Users\\Rama Rao\\AppData\\Local\\Temp\\ipykernel_9164\\3512628858.py:1: FutureWarning: A value is trying to be set on a copy of a DataFrame or Series through chained assignment using an inplace method.\n",
      "The behavior will change in pandas 3.0. This inplace method will never work because the intermediate object on which we are setting values always behaves as a copy.\n",
      "\n",
      "For example, when doing 'df[col].method(value, inplace=True)', try using 'df.method({col: value}, inplace=True)' or df[col] = df[col].method(value) instead, to perform the operation inplace on the original object.\n",
      "\n",
      "\n",
      "  filtered_df['MJEVER'].replace([94, 97], np.nan, inplace=True)\n"
     ]
    }
   ],
   "source": [
    "\n",
    "filtered_df['MJEVER'].replace([94, 97], np.nan, inplace=True)\n"
   ]
  },
  {
   "cell_type": "code",
   "execution_count": 30,
   "id": "b56c229b-9337-4c4e-a330-06aa320bb148",
   "metadata": {},
   "outputs": [],
   "source": [
    "#Pain releiver use in lifetime 5 indicates logically assigned yes which means this value is logically made as yes, so we can replace this \n",
    "#with 1 in the final data"
   ]
  },
  {
   "cell_type": "code",
   "execution_count": 31,
   "id": "0e097213-8ed2-4c8d-97d6-a87fb1f65251",
   "metadata": {},
   "outputs": [
    {
     "name": "stderr",
     "output_type": "stream",
     "text": [
      "C:\\Users\\Rama Rao\\AppData\\Local\\Temp\\ipykernel_9164\\422161004.py:1: FutureWarning: A value is trying to be set on a copy of a DataFrame or Series through chained assignment using an inplace method.\n",
      "The behavior will change in pandas 3.0. This inplace method will never work because the intermediate object on which we are setting values always behaves as a copy.\n",
      "\n",
      "For example, when doing 'df[col].method(value, inplace=True)', try using 'df.method({col: value}, inplace=True)' or df[col] = df[col].method(value) instead, to perform the operation inplace on the original object.\n",
      "\n",
      "\n",
      "  filtered_df['PNRANYLIF'].replace(5, 1, inplace=True)\n"
     ]
    }
   ],
   "source": [
    "filtered_df['PNRANYLIF'].replace(5, 1, inplace=True)"
   ]
  },
  {
   "cell_type": "code",
   "execution_count": 32,
   "id": "49b3ec80-5c9e-4497-9745-c36786ae7b60",
   "metadata": {},
   "outputs": [
    {
     "name": "stderr",
     "output_type": "stream",
     "text": [
      "C:\\Users\\Rama Rao\\AppData\\Local\\Temp\\ipykernel_9164\\3256104701.py:2: FutureWarning: A value is trying to be set on a copy of a DataFrame or Series through chained assignment using an inplace method.\n",
      "The behavior will change in pandas 3.0. This inplace method will never work because the intermediate object on which we are setting values always behaves as a copy.\n",
      "\n",
      "For example, when doing 'df[col].method(value, inplace=True)', try using 'df.method({col: value}, inplace=True)' or df[col] = df[col].method(value) instead, to perform the operation inplace on the original object.\n",
      "\n",
      "\n",
      "  filtered_df['PNRANYLIF'].replace([94, 97, 98], np.nan, inplace=True)\n"
     ]
    }
   ],
   "source": [
    "#replcaing values which are not useful with NA\n",
    "filtered_df['PNRANYLIF'].replace([94, 97, 98], np.nan, inplace=True)\n"
   ]
  },
  {
   "cell_type": "markdown",
   "id": "fc42a58d-27d7-497e-ace4-e4101e755c91",
   "metadata": {},
   "source": [
    "In the column How often do you feel sad, there are many columns which cannot be used for analysis we can replace them with NaN"
   ]
  },
  {
   "cell_type": "code",
   "execution_count": 33,
   "id": "00abe390-0fe4-4979-b2d1-51b91b80e097",
   "metadata": {},
   "outputs": [
    {
     "name": "stderr",
     "output_type": "stream",
     "text": [
      "C:\\Users\\Rama Rao\\AppData\\Local\\Temp\\ipykernel_9164\\1097070963.py:2: FutureWarning: A value is trying to be set on a copy of a DataFrame or Series through chained assignment using an inplace method.\n",
      "The behavior will change in pandas 3.0. This inplace method will never work because the intermediate object on which we are setting values always behaves as a copy.\n",
      "\n",
      "For example, when doing 'df[col].method(value, inplace=True)', try using 'df.method({col: value}, inplace=True)' or df[col] = df[col].method(value) instead, to perform the operation inplace on the original object.\n",
      "\n",
      "\n",
      "  filtered_df['DSTCHR30'].replace([85, 94, 97, 98, 99], np.nan, inplace=True)\n"
     ]
    }
   ],
   "source": [
    "#replcaing values which are not useful with NA\n",
    "filtered_df['DSTCHR30'].replace([85, 94, 97, 98, 99], np.nan, inplace=True)\n"
   ]
  },
  {
   "cell_type": "code",
   "execution_count": 34,
   "id": "df4a9111-9709-4d9b-a552-11b40b8c6d03",
   "metadata": {},
   "outputs": [
    {
     "data": {
      "text/html": [
       "<div>\n",
       "<style scoped>\n",
       "    .dataframe tbody tr th:only-of-type {\n",
       "        vertical-align: middle;\n",
       "    }\n",
       "\n",
       "    .dataframe tbody tr th {\n",
       "        vertical-align: top;\n",
       "    }\n",
       "\n",
       "    .dataframe thead th {\n",
       "        text-align: right;\n",
       "    }\n",
       "</style>\n",
       "<table border=\"1\" class=\"dataframe\">\n",
       "  <thead>\n",
       "    <tr style=\"text-align: right;\">\n",
       "      <th></th>\n",
       "      <th>QUESTID2</th>\n",
       "      <th>IRWRKSTAT</th>\n",
       "      <th>IREDUHIGHST2</th>\n",
       "      <th>INCOME</th>\n",
       "      <th>IRSEX</th>\n",
       "      <th>MJEVER</th>\n",
       "      <th>PNRANYLIF</th>\n",
       "      <th>COUTYP4</th>\n",
       "      <th>MEDMJPA2</th>\n",
       "      <th>DSTCHR30</th>\n",
       "      <th>ADDPREV</th>\n",
       "      <th>hallucinogens</th>\n",
       "    </tr>\n",
       "  </thead>\n",
       "  <tbody>\n",
       "    <tr>\n",
       "      <th>0</th>\n",
       "      <td>43295143</td>\n",
       "      <td>1.0</td>\n",
       "      <td>higher education</td>\n",
       "      <td>4</td>\n",
       "      <td>1</td>\n",
       "      <td>1.0</td>\n",
       "      <td>1.0</td>\n",
       "      <td>2</td>\n",
       "      <td>2</td>\n",
       "      <td>3.0</td>\n",
       "      <td>1.0</td>\n",
       "      <td>No</td>\n",
       "    </tr>\n",
       "    <tr>\n",
       "      <th>1</th>\n",
       "      <td>65095143</td>\n",
       "      <td>1.0</td>\n",
       "      <td>higher education</td>\n",
       "      <td>4</td>\n",
       "      <td>2</td>\n",
       "      <td>2.0</td>\n",
       "      <td>1.0</td>\n",
       "      <td>2</td>\n",
       "      <td>1</td>\n",
       "      <td>5.0</td>\n",
       "      <td>1.0</td>\n",
       "      <td>No</td>\n",
       "    </tr>\n",
       "    <tr>\n",
       "      <th>2</th>\n",
       "      <td>49405143</td>\n",
       "      <td>1.0</td>\n",
       "      <td>higher education</td>\n",
       "      <td>4</td>\n",
       "      <td>1</td>\n",
       "      <td>1.0</td>\n",
       "      <td>1.0</td>\n",
       "      <td>2</td>\n",
       "      <td>1</td>\n",
       "      <td>5.0</td>\n",
       "      <td>2.0</td>\n",
       "      <td>No</td>\n",
       "    </tr>\n",
       "    <tr>\n",
       "      <th>3</th>\n",
       "      <td>51015143</td>\n",
       "      <td>4.0</td>\n",
       "      <td>primary education</td>\n",
       "      <td>1</td>\n",
       "      <td>2</td>\n",
       "      <td>2.0</td>\n",
       "      <td>1.0</td>\n",
       "      <td>2</td>\n",
       "      <td>1</td>\n",
       "      <td>4.0</td>\n",
       "      <td>2.0</td>\n",
       "      <td>No</td>\n",
       "    </tr>\n",
       "    <tr>\n",
       "      <th>4</th>\n",
       "      <td>31825143</td>\n",
       "      <td>4.0</td>\n",
       "      <td>higher education</td>\n",
       "      <td>4</td>\n",
       "      <td>1</td>\n",
       "      <td>2.0</td>\n",
       "      <td>2.0</td>\n",
       "      <td>2</td>\n",
       "      <td>1</td>\n",
       "      <td>4.0</td>\n",
       "      <td>1.0</td>\n",
       "      <td>No</td>\n",
       "    </tr>\n",
       "  </tbody>\n",
       "</table>\n",
       "</div>"
      ],
      "text/plain": [
       "   QUESTID2  IRWRKSTAT       IREDUHIGHST2  INCOME  IRSEX  MJEVER  PNRANYLIF  \\\n",
       "0  43295143        1.0   higher education       4      1     1.0        1.0   \n",
       "1  65095143        1.0   higher education       4      2     2.0        1.0   \n",
       "2  49405143        1.0   higher education       4      1     1.0        1.0   \n",
       "3  51015143        4.0  primary education       1      2     2.0        1.0   \n",
       "4  31825143        4.0   higher education       4      1     2.0        2.0   \n",
       "\n",
       "   COUTYP4  MEDMJPA2  DSTCHR30  ADDPREV hallucinogens  \n",
       "0        2         2       3.0      1.0            No  \n",
       "1        2         1       5.0      1.0            No  \n",
       "2        2         1       5.0      2.0            No  \n",
       "3        2         1       4.0      2.0            No  \n",
       "4        2         1       4.0      1.0            No  "
      ]
     },
     "execution_count": 34,
     "metadata": {},
     "output_type": "execute_result"
    }
   ],
   "source": [
    "filtered_df.head()"
   ]
  },
  {
   "cell_type": "code",
   "execution_count": 35,
   "id": "e6d97d53-6f40-4a4f-a81e-715dfc732664",
   "metadata": {},
   "outputs": [],
   "source": [
    "#Removal of duplicates from the data frame\n",
    "filtered_df.drop_duplicates(inplace=True)"
   ]
  },
  {
   "cell_type": "code",
   "execution_count": 36,
   "id": "ffcd43ac-13c5-4e95-bcd8-451413551ea5",
   "metadata": {},
   "outputs": [],
   "source": [
    "#Set display options to have 2 decimals to have proper scale for future operations\n",
    "pd.options.display.float_format = '{:.2f}'.format"
   ]
  },
  {
   "cell_type": "code",
   "execution_count": 37,
   "id": "f4adf034-f52f-49ca-a768-1c29cfa926a8",
   "metadata": {},
   "outputs": [
    {
     "data": {
      "text/html": [
       "<div>\n",
       "<style scoped>\n",
       "    .dataframe tbody tr th:only-of-type {\n",
       "        vertical-align: middle;\n",
       "    }\n",
       "\n",
       "    .dataframe tbody tr th {\n",
       "        vertical-align: top;\n",
       "    }\n",
       "\n",
       "    .dataframe thead th {\n",
       "        text-align: right;\n",
       "    }\n",
       "</style>\n",
       "<table border=\"1\" class=\"dataframe\">\n",
       "  <thead>\n",
       "    <tr style=\"text-align: right;\">\n",
       "      <th></th>\n",
       "      <th>QUESTID2</th>\n",
       "      <th>IRWRKSTAT</th>\n",
       "      <th>INCOME</th>\n",
       "      <th>IRSEX</th>\n",
       "      <th>MJEVER</th>\n",
       "      <th>PNRANYLIF</th>\n",
       "      <th>COUTYP4</th>\n",
       "      <th>MEDMJPA2</th>\n",
       "      <th>DSTCHR30</th>\n",
       "      <th>ADDPREV</th>\n",
       "    </tr>\n",
       "  </thead>\n",
       "  <tbody>\n",
       "    <tr>\n",
       "      <th>count</th>\n",
       "      <td>56136.00</td>\n",
       "      <td>49581.00</td>\n",
       "      <td>56136.00</td>\n",
       "      <td>56136.00</td>\n",
       "      <td>56097.00</td>\n",
       "      <td>55670.00</td>\n",
       "      <td>56136.00</td>\n",
       "      <td>56136.00</td>\n",
       "      <td>42411.00</td>\n",
       "      <td>42508.00</td>\n",
       "    </tr>\n",
       "    <tr>\n",
       "      <th>mean</th>\n",
       "      <td>54346070.01</td>\n",
       "      <td>2.22</td>\n",
       "      <td>2.72</td>\n",
       "      <td>1.52</td>\n",
       "      <td>1.56</td>\n",
       "      <td>1.49</td>\n",
       "      <td>1.75</td>\n",
       "      <td>1.30</td>\n",
       "      <td>4.37</td>\n",
       "      <td>1.89</td>\n",
       "    </tr>\n",
       "    <tr>\n",
       "      <th>std</th>\n",
       "      <td>25631667.47</td>\n",
       "      <td>1.30</td>\n",
       "      <td>1.14</td>\n",
       "      <td>0.50</td>\n",
       "      <td>0.50</td>\n",
       "      <td>0.50</td>\n",
       "      <td>0.76</td>\n",
       "      <td>0.46</td>\n",
       "      <td>0.98</td>\n",
       "      <td>4.59</td>\n",
       "    </tr>\n",
       "    <tr>\n",
       "      <th>min</th>\n",
       "      <td>10009454.00</td>\n",
       "      <td>1.00</td>\n",
       "      <td>1.00</td>\n",
       "      <td>1.00</td>\n",
       "      <td>1.00</td>\n",
       "      <td>1.00</td>\n",
       "      <td>1.00</td>\n",
       "      <td>1.00</td>\n",
       "      <td>1.00</td>\n",
       "      <td>1.00</td>\n",
       "    </tr>\n",
       "    <tr>\n",
       "      <th>25%</th>\n",
       "      <td>31982452.50</td>\n",
       "      <td>1.00</td>\n",
       "      <td>2.00</td>\n",
       "      <td>1.00</td>\n",
       "      <td>1.00</td>\n",
       "      <td>1.00</td>\n",
       "      <td>1.00</td>\n",
       "      <td>1.00</td>\n",
       "      <td>4.00</td>\n",
       "      <td>1.00</td>\n",
       "    </tr>\n",
       "    <tr>\n",
       "      <th>50%</th>\n",
       "      <td>54039390.00</td>\n",
       "      <td>2.00</td>\n",
       "      <td>3.00</td>\n",
       "      <td>2.00</td>\n",
       "      <td>2.00</td>\n",
       "      <td>1.00</td>\n",
       "      <td>2.00</td>\n",
       "      <td>1.00</td>\n",
       "      <td>5.00</td>\n",
       "      <td>2.00</td>\n",
       "    </tr>\n",
       "    <tr>\n",
       "      <th>75%</th>\n",
       "      <td>76251052.50</td>\n",
       "      <td>4.00</td>\n",
       "      <td>4.00</td>\n",
       "      <td>2.00</td>\n",
       "      <td>2.00</td>\n",
       "      <td>2.00</td>\n",
       "      <td>2.00</td>\n",
       "      <td>2.00</td>\n",
       "      <td>5.00</td>\n",
       "      <td>2.00</td>\n",
       "    </tr>\n",
       "    <tr>\n",
       "      <th>max</th>\n",
       "      <td>99996688.00</td>\n",
       "      <td>4.00</td>\n",
       "      <td>4.00</td>\n",
       "      <td>2.00</td>\n",
       "      <td>2.00</td>\n",
       "      <td>2.00</td>\n",
       "      <td>3.00</td>\n",
       "      <td>2.00</td>\n",
       "      <td>5.00</td>\n",
       "      <td>94.00</td>\n",
       "    </tr>\n",
       "  </tbody>\n",
       "</table>\n",
       "</div>"
      ],
      "text/plain": [
       "         QUESTID2  IRWRKSTAT   INCOME    IRSEX   MJEVER  PNRANYLIF  COUTYP4  \\\n",
       "count    56136.00   49581.00 56136.00 56136.00 56097.00   55670.00 56136.00   \n",
       "mean  54346070.01       2.22     2.72     1.52     1.56       1.49     1.75   \n",
       "std   25631667.47       1.30     1.14     0.50     0.50       0.50     0.76   \n",
       "min   10009454.00       1.00     1.00     1.00     1.00       1.00     1.00   \n",
       "25%   31982452.50       1.00     2.00     1.00     1.00       1.00     1.00   \n",
       "50%   54039390.00       2.00     3.00     2.00     2.00       1.00     2.00   \n",
       "75%   76251052.50       4.00     4.00     2.00     2.00       2.00     2.00   \n",
       "max   99996688.00       4.00     4.00     2.00     2.00       2.00     3.00   \n",
       "\n",
       "       MEDMJPA2  DSTCHR30  ADDPREV  \n",
       "count  56136.00  42411.00 42508.00  \n",
       "mean       1.30      4.37     1.89  \n",
       "std        0.46      0.98     4.59  \n",
       "min        1.00      1.00     1.00  \n",
       "25%        1.00      4.00     1.00  \n",
       "50%        1.00      5.00     2.00  \n",
       "75%        2.00      5.00     2.00  \n",
       "max        2.00      5.00    94.00  "
      ]
     },
     "execution_count": 37,
     "metadata": {},
     "output_type": "execute_result"
    }
   ],
   "source": [
    "filtered_df.describe()"
   ]
  },
  {
   "cell_type": "code",
   "execution_count": 38,
   "id": "f6307950-120a-4a52-b9da-0b1a922fba7d",
   "metadata": {},
   "outputs": [
    {
     "name": "stderr",
     "output_type": "stream",
     "text": [
      "C:\\Users\\Rama Rao\\AppData\\Local\\Temp\\ipykernel_9164\\3607131789.py:8: FutureWarning: Downcasting behavior in `replace` is deprecated and will be removed in a future version. To retain the old behavior, explicitly call `result.infer_objects(copy=False)`. To opt-in to the future behavior, set `pd.set_option('future.no_silent_downcasting', True)`\n",
      "  filtered_df['IREDUHIGHST2'] = filtered_df['IREDUHIGHST2'].replace(education_mapping)\n"
     ]
    }
   ],
   "source": [
    "education_mapping = {\n",
    "    'higher education': 3,\n",
    "    'primary education': 1,\n",
    "    'intermediate education': 2\n",
    "}\n",
    "\n",
    "# Apply the mapping to the 'IREDUHIGHST2' column in the DataFrame\n",
    "filtered_df['IREDUHIGHST2'] = filtered_df['IREDUHIGHST2'].replace(education_mapping)\n",
    "\n"
   ]
  },
  {
   "cell_type": "code",
   "execution_count": 39,
   "id": "7ae7e9f3-0c94-416a-af6d-479bf1e55d77",
   "metadata": {},
   "outputs": [
    {
     "data": {
      "text/html": [
       "<div>\n",
       "<style scoped>\n",
       "    .dataframe tbody tr th:only-of-type {\n",
       "        vertical-align: middle;\n",
       "    }\n",
       "\n",
       "    .dataframe tbody tr th {\n",
       "        vertical-align: top;\n",
       "    }\n",
       "\n",
       "    .dataframe thead th {\n",
       "        text-align: right;\n",
       "    }\n",
       "</style>\n",
       "<table border=\"1\" class=\"dataframe\">\n",
       "  <thead>\n",
       "    <tr style=\"text-align: right;\">\n",
       "      <th></th>\n",
       "      <th>QUESTID2</th>\n",
       "      <th>IRWRKSTAT</th>\n",
       "      <th>IREDUHIGHST2</th>\n",
       "      <th>INCOME</th>\n",
       "      <th>IRSEX</th>\n",
       "      <th>MJEVER</th>\n",
       "      <th>PNRANYLIF</th>\n",
       "      <th>COUTYP4</th>\n",
       "      <th>MEDMJPA2</th>\n",
       "      <th>DSTCHR30</th>\n",
       "      <th>ADDPREV</th>\n",
       "      <th>hallucinogens</th>\n",
       "    </tr>\n",
       "  </thead>\n",
       "  <tbody>\n",
       "    <tr>\n",
       "      <th>0</th>\n",
       "      <td>43295143</td>\n",
       "      <td>1.00</td>\n",
       "      <td>3</td>\n",
       "      <td>4</td>\n",
       "      <td>1</td>\n",
       "      <td>1.00</td>\n",
       "      <td>1.00</td>\n",
       "      <td>2</td>\n",
       "      <td>2</td>\n",
       "      <td>3.00</td>\n",
       "      <td>1.00</td>\n",
       "      <td>No</td>\n",
       "    </tr>\n",
       "    <tr>\n",
       "      <th>1</th>\n",
       "      <td>65095143</td>\n",
       "      <td>1.00</td>\n",
       "      <td>3</td>\n",
       "      <td>4</td>\n",
       "      <td>2</td>\n",
       "      <td>2.00</td>\n",
       "      <td>1.00</td>\n",
       "      <td>2</td>\n",
       "      <td>1</td>\n",
       "      <td>5.00</td>\n",
       "      <td>1.00</td>\n",
       "      <td>No</td>\n",
       "    </tr>\n",
       "    <tr>\n",
       "      <th>2</th>\n",
       "      <td>49405143</td>\n",
       "      <td>1.00</td>\n",
       "      <td>3</td>\n",
       "      <td>4</td>\n",
       "      <td>1</td>\n",
       "      <td>1.00</td>\n",
       "      <td>1.00</td>\n",
       "      <td>2</td>\n",
       "      <td>1</td>\n",
       "      <td>5.00</td>\n",
       "      <td>2.00</td>\n",
       "      <td>No</td>\n",
       "    </tr>\n",
       "    <tr>\n",
       "      <th>3</th>\n",
       "      <td>51015143</td>\n",
       "      <td>4.00</td>\n",
       "      <td>1</td>\n",
       "      <td>1</td>\n",
       "      <td>2</td>\n",
       "      <td>2.00</td>\n",
       "      <td>1.00</td>\n",
       "      <td>2</td>\n",
       "      <td>1</td>\n",
       "      <td>4.00</td>\n",
       "      <td>2.00</td>\n",
       "      <td>No</td>\n",
       "    </tr>\n",
       "    <tr>\n",
       "      <th>4</th>\n",
       "      <td>31825143</td>\n",
       "      <td>4.00</td>\n",
       "      <td>3</td>\n",
       "      <td>4</td>\n",
       "      <td>1</td>\n",
       "      <td>2.00</td>\n",
       "      <td>2.00</td>\n",
       "      <td>2</td>\n",
       "      <td>1</td>\n",
       "      <td>4.00</td>\n",
       "      <td>1.00</td>\n",
       "      <td>No</td>\n",
       "    </tr>\n",
       "  </tbody>\n",
       "</table>\n",
       "</div>"
      ],
      "text/plain": [
       "   QUESTID2  IRWRKSTAT  IREDUHIGHST2  INCOME  IRSEX  MJEVER  PNRANYLIF  \\\n",
       "0  43295143       1.00             3       4      1    1.00       1.00   \n",
       "1  65095143       1.00             3       4      2    2.00       1.00   \n",
       "2  49405143       1.00             3       4      1    1.00       1.00   \n",
       "3  51015143       4.00             1       1      2    2.00       1.00   \n",
       "4  31825143       4.00             3       4      1    2.00       2.00   \n",
       "\n",
       "   COUTYP4  MEDMJPA2  DSTCHR30  ADDPREV hallucinogens  \n",
       "0        2         2      3.00     1.00            No  \n",
       "1        2         1      5.00     1.00            No  \n",
       "2        2         1      5.00     2.00            No  \n",
       "3        2         1      4.00     2.00            No  \n",
       "4        2         1      4.00     1.00            No  "
      ]
     },
     "execution_count": 39,
     "metadata": {},
     "output_type": "execute_result"
    }
   ],
   "source": [
    "filtered_df.head()\n"
   ]
  },
  {
   "cell_type": "code",
   "execution_count": 40,
   "id": "cf6f55b4-d040-4639-9c77-60a4b00dea13",
   "metadata": {},
   "outputs": [
    {
     "data": {
      "text/plain": [
       "(56136, 12)"
      ]
     },
     "execution_count": 40,
     "metadata": {},
     "output_type": "execute_result"
    }
   ],
   "source": [
    "filtered_df.shape"
   ]
  },
  {
   "cell_type": "code",
   "execution_count": 41,
   "id": "c4e0c423-5ba6-4710-9415-950fd58a001a",
   "metadata": {},
   "outputs": [],
   "source": [
    "#Since we have already replaced unnecessary values with NaN we can drop these values as they are no longer useful\n"
   ]
  },
  {
   "cell_type": "code",
   "execution_count": 42,
   "id": "e004a0a0-89ad-4500-a8fc-cfb9e45936f8",
   "metadata": {},
   "outputs": [
    {
     "name": "stdout",
     "output_type": "stream",
     "text": [
      "QUESTID2             0\n",
      "IRWRKSTAT         6555\n",
      "IREDUHIGHST2         0\n",
      "INCOME               0\n",
      "IRSEX                0\n",
      "MJEVER              39\n",
      "PNRANYLIF          466\n",
      "COUTYP4              0\n",
      "MEDMJPA2             0\n",
      "DSTCHR30         13725\n",
      "ADDPREV          13628\n",
      "hallucinogens      245\n",
      "dtype: int64\n"
     ]
    }
   ],
   "source": [
    "null_values = filtered_df.isnull().sum()\n",
    "\n",
    "print(null_values)\n"
   ]
  },
  {
   "cell_type": "code",
   "execution_count": 43,
   "id": "bba7314b-fc68-4b65-b0dc-6cd0e6c74deb",
   "metadata": {},
   "outputs": [],
   "source": [
    "filtered_df_cleaned = filtered_df.dropna(subset=['IRWRKSTAT', 'DSTCHR30', 'ADDPREV', 'PNRANYLIF','MJEVER' ])\n",
    "\n"
   ]
  },
  {
   "cell_type": "code",
   "execution_count": 44,
   "id": "c7dcb3c6-5ebd-4608-8e52-7672964b54eb",
   "metadata": {},
   "outputs": [
    {
     "data": {
      "text/plain": [
       "(42166, 12)"
      ]
     },
     "execution_count": 44,
     "metadata": {},
     "output_type": "execute_result"
    }
   ],
   "source": [
    "filtered_df_cleaned.shape"
   ]
  },
  {
   "cell_type": "code",
   "execution_count": 45,
   "id": "0945b791-edef-49c1-89fb-5cb7b4de8c4a",
   "metadata": {},
   "outputs": [
    {
     "data": {
      "text/plain": [
       "array([1., 4., 3., 2.])"
      ]
     },
     "execution_count": 45,
     "metadata": {},
     "output_type": "execute_result"
    }
   ],
   "source": [
    "filtered_df_cleaned['IRWRKSTAT'].unique()"
   ]
  },
  {
   "cell_type": "code",
   "execution_count": 46,
   "id": "70ddbbce-a863-426f-8d01-753294989642",
   "metadata": {},
   "outputs": [
    {
     "name": "stderr",
     "output_type": "stream",
     "text": [
      "C:\\Users\\Rama Rao\\AppData\\Local\\Temp\\ipykernel_9164\\2354628446.py:9: SettingWithCopyWarning: \n",
      "A value is trying to be set on a copy of a slice from a DataFrame.\n",
      "Try using .loc[row_indexer,col_indexer] = value instead\n",
      "\n",
      "See the caveats in the documentation: https://pandas.pydata.org/pandas-docs/stable/user_guide/indexing.html#returning-a-view-versus-a-copy\n",
      "  filtered_df_cleaned['IRWRKSTAT'] = filtered_df_cleaned['IRWRKSTAT'].map(irwrkstat_mapping)\n"
     ]
    }
   ],
   "source": [
    "irwrkstat_mapping = {\n",
    "    1: 'Employed full time',\n",
    "    2: 'Employed part time',\n",
    "    3: 'Unemployed',\n",
    "    4: 'Other (incl. not in labor force)',\n",
    "    99: '12–14 year olds'\n",
    "}\n",
    "\n",
    "filtered_df_cleaned['IRWRKSTAT'] = filtered_df_cleaned['IRWRKSTAT'].map(irwrkstat_mapping)\n",
    "\n",
    "\n"
   ]
  },
  {
   "cell_type": "code",
   "execution_count": 47,
   "id": "af34f58c-5d49-419d-9fd7-5308721233e4",
   "metadata": {},
   "outputs": [
    {
     "data": {
      "text/html": [
       "<div>\n",
       "<style scoped>\n",
       "    .dataframe tbody tr th:only-of-type {\n",
       "        vertical-align: middle;\n",
       "    }\n",
       "\n",
       "    .dataframe tbody tr th {\n",
       "        vertical-align: top;\n",
       "    }\n",
       "\n",
       "    .dataframe thead th {\n",
       "        text-align: right;\n",
       "    }\n",
       "</style>\n",
       "<table border=\"1\" class=\"dataframe\">\n",
       "  <thead>\n",
       "    <tr style=\"text-align: right;\">\n",
       "      <th></th>\n",
       "      <th>IRWRKSTAT</th>\n",
       "    </tr>\n",
       "  </thead>\n",
       "  <tbody>\n",
       "    <tr>\n",
       "      <th>0</th>\n",
       "      <td>Employed full time</td>\n",
       "    </tr>\n",
       "    <tr>\n",
       "      <th>1</th>\n",
       "      <td>Employed full time</td>\n",
       "    </tr>\n",
       "    <tr>\n",
       "      <th>2</th>\n",
       "      <td>Employed full time</td>\n",
       "    </tr>\n",
       "    <tr>\n",
       "      <th>3</th>\n",
       "      <td>Other (incl. not in labor force)</td>\n",
       "    </tr>\n",
       "    <tr>\n",
       "      <th>4</th>\n",
       "      <td>Other (incl. not in labor force)</td>\n",
       "    </tr>\n",
       "  </tbody>\n",
       "</table>\n",
       "</div>"
      ],
      "text/plain": [
       "                          IRWRKSTAT\n",
       "0                Employed full time\n",
       "1                Employed full time\n",
       "2                Employed full time\n",
       "3  Other (incl. not in labor force)\n",
       "4  Other (incl. not in labor force)"
      ]
     },
     "execution_count": 47,
     "metadata": {},
     "output_type": "execute_result"
    }
   ],
   "source": [
    "filtered_df_cleaned[['IRWRKSTAT']].head()"
   ]
  },
  {
   "cell_type": "code",
   "execution_count": 48,
   "id": "6f62fcf8-2257-4029-a3f9-2b92c3e72e69",
   "metadata": {},
   "outputs": [
    {
     "name": "stderr",
     "output_type": "stream",
     "text": [
      "C:\\Users\\Rama Rao\\AppData\\Local\\Temp\\ipykernel_9164\\4064115886.py:8: SettingWithCopyWarning: \n",
      "A value is trying to be set on a copy of a slice from a DataFrame.\n",
      "Try using .loc[row_indexer,col_indexer] = value instead\n",
      "\n",
      "See the caveats in the documentation: https://pandas.pydata.org/pandas-docs/stable/user_guide/indexing.html#returning-a-view-versus-a-copy\n",
      "  filtered_df_cleaned['INCOME'] = filtered_df_cleaned['INCOME'].map(income_mapping)\n"
     ]
    }
   ],
   "source": [
    "income_mapping = {\n",
    "    1: 'Less than $20,000',\n",
    "    2: '$20,000 - $49,999',\n",
    "    3: '$50,000 - $74,999',\n",
    "    4: '$75,000 or more'\n",
    "}\n",
    "\n",
    "filtered_df_cleaned['INCOME'] = filtered_df_cleaned['INCOME'].map(income_mapping)\n",
    "\n"
   ]
  },
  {
   "cell_type": "code",
   "execution_count": 49,
   "id": "b7d39963-4cba-48b8-bce3-57ae748c81d7",
   "metadata": {},
   "outputs": [
    {
     "data": {
      "text/html": [
       "<div>\n",
       "<style scoped>\n",
       "    .dataframe tbody tr th:only-of-type {\n",
       "        vertical-align: middle;\n",
       "    }\n",
       "\n",
       "    .dataframe tbody tr th {\n",
       "        vertical-align: top;\n",
       "    }\n",
       "\n",
       "    .dataframe thead th {\n",
       "        text-align: right;\n",
       "    }\n",
       "</style>\n",
       "<table border=\"1\" class=\"dataframe\">\n",
       "  <thead>\n",
       "    <tr style=\"text-align: right;\">\n",
       "      <th></th>\n",
       "      <th>INCOME</th>\n",
       "    </tr>\n",
       "  </thead>\n",
       "  <tbody>\n",
       "    <tr>\n",
       "      <th>0</th>\n",
       "      <td>$75,000 or more</td>\n",
       "    </tr>\n",
       "    <tr>\n",
       "      <th>1</th>\n",
       "      <td>$75,000 or more</td>\n",
       "    </tr>\n",
       "    <tr>\n",
       "      <th>2</th>\n",
       "      <td>$75,000 or more</td>\n",
       "    </tr>\n",
       "    <tr>\n",
       "      <th>3</th>\n",
       "      <td>Less than $20,000</td>\n",
       "    </tr>\n",
       "    <tr>\n",
       "      <th>4</th>\n",
       "      <td>$75,000 or more</td>\n",
       "    </tr>\n",
       "  </tbody>\n",
       "</table>\n",
       "</div>"
      ],
      "text/plain": [
       "              INCOME\n",
       "0    $75,000 or more\n",
       "1    $75,000 or more\n",
       "2    $75,000 or more\n",
       "3  Less than $20,000\n",
       "4    $75,000 or more"
      ]
     },
     "execution_count": 49,
     "metadata": {},
     "output_type": "execute_result"
    }
   ],
   "source": [
    "filtered_df_cleaned[['INCOME']].head()"
   ]
  },
  {
   "cell_type": "code",
   "execution_count": 50,
   "id": "8683df9d-1e97-4b08-b6a0-d3db232e728b",
   "metadata": {},
   "outputs": [
    {
     "name": "stderr",
     "output_type": "stream",
     "text": [
      "C:\\Users\\Rama Rao\\AppData\\Local\\Temp\\ipykernel_9164\\4015784729.py:6: SettingWithCopyWarning: \n",
      "A value is trying to be set on a copy of a slice from a DataFrame.\n",
      "Try using .loc[row_indexer,col_indexer] = value instead\n",
      "\n",
      "See the caveats in the documentation: https://pandas.pydata.org/pandas-docs/stable/user_guide/indexing.html#returning-a-view-versus-a-copy\n",
      "  filtered_df_cleaned['IRSEX'] = filtered_df_cleaned['IRSEX'].map(gender_mapping)\n"
     ]
    }
   ],
   "source": [
    "\n",
    "gender_mapping = {\n",
    "    1: 'Male',\n",
    "    2: 'Female'\n",
    "}\n",
    "\n",
    "filtered_df_cleaned['IRSEX'] = filtered_df_cleaned['IRSEX'].map(gender_mapping)\n",
    "\n"
   ]
  },
  {
   "cell_type": "code",
   "execution_count": 51,
   "id": "d64e0ec8-dc2e-44da-8981-66cac950d3ba",
   "metadata": {
    "scrolled": true
   },
   "outputs": [
    {
     "data": {
      "text/html": [
       "<div>\n",
       "<style scoped>\n",
       "    .dataframe tbody tr th:only-of-type {\n",
       "        vertical-align: middle;\n",
       "    }\n",
       "\n",
       "    .dataframe tbody tr th {\n",
       "        vertical-align: top;\n",
       "    }\n",
       "\n",
       "    .dataframe thead th {\n",
       "        text-align: right;\n",
       "    }\n",
       "</style>\n",
       "<table border=\"1\" class=\"dataframe\">\n",
       "  <thead>\n",
       "    <tr style=\"text-align: right;\">\n",
       "      <th></th>\n",
       "      <th>QUESTID2</th>\n",
       "      <th>IRWRKSTAT</th>\n",
       "      <th>IREDUHIGHST2</th>\n",
       "      <th>INCOME</th>\n",
       "      <th>IRSEX</th>\n",
       "      <th>MJEVER</th>\n",
       "      <th>PNRANYLIF</th>\n",
       "      <th>COUTYP4</th>\n",
       "      <th>MEDMJPA2</th>\n",
       "      <th>DSTCHR30</th>\n",
       "      <th>ADDPREV</th>\n",
       "      <th>hallucinogens</th>\n",
       "    </tr>\n",
       "  </thead>\n",
       "  <tbody>\n",
       "    <tr>\n",
       "      <th>0</th>\n",
       "      <td>43295143</td>\n",
       "      <td>Employed full time</td>\n",
       "      <td>3</td>\n",
       "      <td>$75,000 or more</td>\n",
       "      <td>Male</td>\n",
       "      <td>1.00</td>\n",
       "      <td>1.00</td>\n",
       "      <td>2</td>\n",
       "      <td>2</td>\n",
       "      <td>3.00</td>\n",
       "      <td>1.00</td>\n",
       "      <td>No</td>\n",
       "    </tr>\n",
       "    <tr>\n",
       "      <th>1</th>\n",
       "      <td>65095143</td>\n",
       "      <td>Employed full time</td>\n",
       "      <td>3</td>\n",
       "      <td>$75,000 or more</td>\n",
       "      <td>Female</td>\n",
       "      <td>2.00</td>\n",
       "      <td>1.00</td>\n",
       "      <td>2</td>\n",
       "      <td>1</td>\n",
       "      <td>5.00</td>\n",
       "      <td>1.00</td>\n",
       "      <td>No</td>\n",
       "    </tr>\n",
       "    <tr>\n",
       "      <th>2</th>\n",
       "      <td>49405143</td>\n",
       "      <td>Employed full time</td>\n",
       "      <td>3</td>\n",
       "      <td>$75,000 or more</td>\n",
       "      <td>Male</td>\n",
       "      <td>1.00</td>\n",
       "      <td>1.00</td>\n",
       "      <td>2</td>\n",
       "      <td>1</td>\n",
       "      <td>5.00</td>\n",
       "      <td>2.00</td>\n",
       "      <td>No</td>\n",
       "    </tr>\n",
       "    <tr>\n",
       "      <th>3</th>\n",
       "      <td>51015143</td>\n",
       "      <td>Other (incl. not in labor force)</td>\n",
       "      <td>1</td>\n",
       "      <td>Less than $20,000</td>\n",
       "      <td>Female</td>\n",
       "      <td>2.00</td>\n",
       "      <td>1.00</td>\n",
       "      <td>2</td>\n",
       "      <td>1</td>\n",
       "      <td>4.00</td>\n",
       "      <td>2.00</td>\n",
       "      <td>No</td>\n",
       "    </tr>\n",
       "    <tr>\n",
       "      <th>4</th>\n",
       "      <td>31825143</td>\n",
       "      <td>Other (incl. not in labor force)</td>\n",
       "      <td>3</td>\n",
       "      <td>$75,000 or more</td>\n",
       "      <td>Male</td>\n",
       "      <td>2.00</td>\n",
       "      <td>2.00</td>\n",
       "      <td>2</td>\n",
       "      <td>1</td>\n",
       "      <td>4.00</td>\n",
       "      <td>1.00</td>\n",
       "      <td>No</td>\n",
       "    </tr>\n",
       "  </tbody>\n",
       "</table>\n",
       "</div>"
      ],
      "text/plain": [
       "   QUESTID2                         IRWRKSTAT  IREDUHIGHST2  \\\n",
       "0  43295143                Employed full time             3   \n",
       "1  65095143                Employed full time             3   \n",
       "2  49405143                Employed full time             3   \n",
       "3  51015143  Other (incl. not in labor force)             1   \n",
       "4  31825143  Other (incl. not in labor force)             3   \n",
       "\n",
       "              INCOME   IRSEX  MJEVER  PNRANYLIF  COUTYP4  MEDMJPA2  DSTCHR30  \\\n",
       "0    $75,000 or more    Male    1.00       1.00        2         2      3.00   \n",
       "1    $75,000 or more  Female    2.00       1.00        2         1      5.00   \n",
       "2    $75,000 or more    Male    1.00       1.00        2         1      5.00   \n",
       "3  Less than $20,000  Female    2.00       1.00        2         1      4.00   \n",
       "4    $75,000 or more    Male    2.00       2.00        2         1      4.00   \n",
       "\n",
       "   ADDPREV hallucinogens  \n",
       "0     1.00            No  \n",
       "1     1.00            No  \n",
       "2     2.00            No  \n",
       "3     2.00            No  \n",
       "4     1.00            No  "
      ]
     },
     "execution_count": 51,
     "metadata": {},
     "output_type": "execute_result"
    }
   ],
   "source": [
    "filtered_df_cleaned.head()"
   ]
  },
  {
   "cell_type": "code",
   "execution_count": 52,
   "id": "8cbdd8ff-ccd9-4616-b479-db81cc5d7ef7",
   "metadata": {},
   "outputs": [
    {
     "data": {
      "text/plain": [
       "array([3, 1, 2])"
      ]
     },
     "execution_count": 52,
     "metadata": {},
     "output_type": "execute_result"
    }
   ],
   "source": [
    "filtered_df_cleaned['IREDUHIGHST2'].unique()"
   ]
  },
  {
   "cell_type": "code",
   "execution_count": 53,
   "id": "a9cfba11-dc46-4e65-bd33-cb62b1032abe",
   "metadata": {},
   "outputs": [
    {
     "name": "stderr",
     "output_type": "stream",
     "text": [
      "C:\\Users\\Rama Rao\\AppData\\Local\\Temp\\ipykernel_9164\\809615653.py:10: SettingWithCopyWarning: \n",
      "A value is trying to be set on a copy of a slice from a DataFrame.\n",
      "Try using .loc[row_indexer,col_indexer] = value instead\n",
      "\n",
      "See the caveats in the documentation: https://pandas.pydata.org/pandas-docs/stable/user_guide/indexing.html#returning-a-view-versus-a-copy\n",
      "  filtered_df_cleaned['IREDUHIGHST2'] = filtered_df_cleaned['IREDUHIGHST2'].apply(categorize_education)\n"
     ]
    }
   ],
   "source": [
    "# Define a function to categorize the education levels\n",
    "def categorize_education(value):\n",
    "    if value==1:\n",
    "        return 'primary education'\n",
    "    elif value==2:\n",
    "        return 'High School education'\n",
    "    else:\n",
    "        return 'College Degree'\n",
    "\n",
    "filtered_df_cleaned['IREDUHIGHST2'] = filtered_df_cleaned['IREDUHIGHST2'].apply(categorize_education)\n",
    "\n"
   ]
  },
  {
   "cell_type": "code",
   "execution_count": 54,
   "id": "81930295-08e7-49bd-a8a4-bccba6c22bfe",
   "metadata": {},
   "outputs": [
    {
     "data": {
      "text/plain": [
       "array(['College Degree', 'primary education', 'High School education'],\n",
       "      dtype=object)"
      ]
     },
     "execution_count": 54,
     "metadata": {},
     "output_type": "execute_result"
    }
   ],
   "source": [
    "filtered_df_cleaned['IREDUHIGHST2'].unique()"
   ]
  },
  {
   "cell_type": "code",
   "execution_count": 55,
   "id": "c97b9017-a607-4796-90ac-fd68f02d2793",
   "metadata": {},
   "outputs": [
    {
     "name": "stderr",
     "output_type": "stream",
     "text": [
      "C:\\Users\\Rama Rao\\AppData\\Local\\Temp\\ipykernel_9164\\3622425528.py:6: SettingWithCopyWarning: \n",
      "A value is trying to be set on a copy of a slice from a DataFrame.\n",
      "Try using .loc[row_indexer,col_indexer] = value instead\n",
      "\n",
      "See the caveats in the documentation: https://pandas.pydata.org/pandas-docs/stable/user_guide/indexing.html#returning-a-view-versus-a-copy\n",
      "  filtered_df_cleaned['MJEVER'] = filtered_df_cleaned['MJEVER'].map(mj_mapping)\n"
     ]
    }
   ],
   "source": [
    "\n",
    "mj_mapping = {\n",
    "    1: 'Yes',\n",
    "    2: 'No'\n",
    "}\n",
    "\n",
    "filtered_df_cleaned['MJEVER'] = filtered_df_cleaned['MJEVER'].map(mj_mapping)\n",
    "\n"
   ]
  },
  {
   "cell_type": "code",
   "execution_count": 56,
   "id": "ecd46822-d914-4dae-ba27-0a478183052b",
   "metadata": {},
   "outputs": [
    {
     "name": "stderr",
     "output_type": "stream",
     "text": [
      "C:\\Users\\Rama Rao\\AppData\\Local\\Temp\\ipykernel_9164\\2351626243.py:7: SettingWithCopyWarning: \n",
      "A value is trying to be set on a copy of a slice from a DataFrame.\n",
      "Try using .loc[row_indexer,col_indexer] = value instead\n",
      "\n",
      "See the caveats in the documentation: https://pandas.pydata.org/pandas-docs/stable/user_guide/indexing.html#returning-a-view-versus-a-copy\n",
      "  filtered_df_cleaned['PNRANYLIF'] = filtered_df_cleaned['PNRANYLIF'].map(mj_mapping)\n"
     ]
    }
   ],
   "source": [
    "\n",
    "mj_mapping = {\n",
    "    1.00: 'Yes',\n",
    "    2.00: 'No'\n",
    "}\n",
    "\n",
    "\n",
    "filtered_df_cleaned['PNRANYLIF'] = filtered_df_cleaned['PNRANYLIF'].map(mj_mapping)\n"
   ]
  },
  {
   "cell_type": "code",
   "execution_count": 57,
   "id": "643f61fc-d2f6-4a99-8910-3a7ffac5487a",
   "metadata": {},
   "outputs": [
    {
     "name": "stderr",
     "output_type": "stream",
     "text": [
      "C:\\Users\\Rama Rao\\AppData\\Local\\Temp\\ipykernel_9164\\1158216921.py:8: SettingWithCopyWarning: \n",
      "A value is trying to be set on a copy of a slice from a DataFrame.\n",
      "Try using .loc[row_indexer,col_indexer] = value instead\n",
      "\n",
      "See the caveats in the documentation: https://pandas.pydata.org/pandas-docs/stable/user_guide/indexing.html#returning-a-view-versus-a-copy\n",
      "  filtered_df_cleaned['COUTYP4'] = filtered_df_cleaned['COUTYP4'].map(metro_mapping)\n"
     ]
    }
   ],
   "source": [
    "\n",
    "metro_mapping = {\n",
    "    1: 'Large Metro',\n",
    "    2: 'Small Metro',\n",
    "    3: 'Non Metro'\n",
    "}\n",
    "\n",
    "\n",
    "filtered_df_cleaned['COUTYP4'] = filtered_df_cleaned['COUTYP4'].map(metro_mapping)\n"
   ]
  },
  {
   "cell_type": "code",
   "execution_count": 58,
   "id": "cca7ed06-0330-49c5-840b-bbc931ea137e",
   "metadata": {
    "scrolled": true
   },
   "outputs": [
    {
     "name": "stderr",
     "output_type": "stream",
     "text": [
      "C:\\Users\\Rama Rao\\AppData\\Local\\Temp\\ipykernel_9164\\2042241130.py:12: SettingWithCopyWarning: \n",
      "A value is trying to be set on a copy of a slice from a DataFrame.\n",
      "Try using .loc[row_indexer,col_indexer] = value instead\n",
      "\n",
      "See the caveats in the documentation: https://pandas.pydata.org/pandas-docs/stable/user_guide/indexing.html#returning-a-view-versus-a-copy\n",
      "  filtered_df_cleaned['DSTCHR30'] = filtered_df_cleaned['DSTCHR30'].map(mapping)\n"
     ]
    }
   ],
   "source": [
    "# Mapping according to the provided image\n",
    "mapping = {\n",
    "    1: 'All of the time',\n",
    "    2: 'Most of the time',\n",
    "    3: 'Some of the time',\n",
    "    4: 'A little of the time',\n",
    "    5: 'None of the time',\n",
    "    99: 'Legitimate skip'\n",
    "}\n",
    "\n",
    "# Apply the mapping to 'DSTCHR30'\n",
    "filtered_df_cleaned['DSTCHR30'] = filtered_df_cleaned['DSTCHR30'].map(mapping)\n",
    "\n",
    "\n"
   ]
  },
  {
   "cell_type": "code",
   "execution_count": 59,
   "id": "f5e68605-077b-446d-a80f-70ce62e8f0f2",
   "metadata": {},
   "outputs": [
    {
     "data": {
      "text/plain": [
       "array([ 1.,  2., 94.])"
      ]
     },
     "execution_count": 59,
     "metadata": {},
     "output_type": "execute_result"
    }
   ],
   "source": [
    "filtered_df_cleaned['ADDPREV'].unique()"
   ]
  },
  {
   "cell_type": "code",
   "execution_count": 60,
   "id": "55428a34-a06e-4fd7-9271-1d1f9ffdd720",
   "metadata": {},
   "outputs": [
    {
     "name": "stderr",
     "output_type": "stream",
     "text": [
      "C:\\Users\\Rama Rao\\AppData\\Local\\Temp\\ipykernel_9164\\3307238547.py:8: SettingWithCopyWarning: \n",
      "A value is trying to be set on a copy of a slice from a DataFrame.\n",
      "Try using .loc[row_indexer,col_indexer] = value instead\n",
      "\n",
      "See the caveats in the documentation: https://pandas.pydata.org/pandas-docs/stable/user_guide/indexing.html#returning-a-view-versus-a-copy\n",
      "  filtered_df_cleaned['ADDPREV'] = filtered_df_cleaned['ADDPREV'].map(mapping)\n"
     ]
    }
   ],
   "source": [
    "mapping = {\n",
    "    1.00: 'Yes',\n",
    "    2.00: 'No',\n",
    "    94.00: 'No'\n",
    "}\n",
    "\n",
    "# Apply the mapping to 'DSTCHR30'\n",
    "filtered_df_cleaned['ADDPREV'] = filtered_df_cleaned['ADDPREV'].map(mapping)\n",
    "\n",
    "\n"
   ]
  },
  {
   "cell_type": "code",
   "execution_count": 61,
   "id": "b83897a2-dc2b-4caf-bf6d-532a7e14783c",
   "metadata": {},
   "outputs": [
    {
     "data": {
      "text/html": [
       "<div>\n",
       "<style scoped>\n",
       "    .dataframe tbody tr th:only-of-type {\n",
       "        vertical-align: middle;\n",
       "    }\n",
       "\n",
       "    .dataframe tbody tr th {\n",
       "        vertical-align: top;\n",
       "    }\n",
       "\n",
       "    .dataframe thead th {\n",
       "        text-align: right;\n",
       "    }\n",
       "</style>\n",
       "<table border=\"1\" class=\"dataframe\">\n",
       "  <thead>\n",
       "    <tr style=\"text-align: right;\">\n",
       "      <th></th>\n",
       "      <th>QUESTID2</th>\n",
       "      <th>IRWRKSTAT</th>\n",
       "      <th>IREDUHIGHST2</th>\n",
       "      <th>INCOME</th>\n",
       "      <th>IRSEX</th>\n",
       "      <th>MJEVER</th>\n",
       "      <th>PNRANYLIF</th>\n",
       "      <th>COUTYP4</th>\n",
       "      <th>MEDMJPA2</th>\n",
       "      <th>DSTCHR30</th>\n",
       "      <th>ADDPREV</th>\n",
       "      <th>hallucinogens</th>\n",
       "    </tr>\n",
       "  </thead>\n",
       "  <tbody>\n",
       "    <tr>\n",
       "      <th>0</th>\n",
       "      <td>43295143</td>\n",
       "      <td>Employed full time</td>\n",
       "      <td>College Degree</td>\n",
       "      <td>$75,000 or more</td>\n",
       "      <td>Male</td>\n",
       "      <td>Yes</td>\n",
       "      <td>Yes</td>\n",
       "      <td>Small Metro</td>\n",
       "      <td>2</td>\n",
       "      <td>Some of the time</td>\n",
       "      <td>Yes</td>\n",
       "      <td>No</td>\n",
       "    </tr>\n",
       "    <tr>\n",
       "      <th>1</th>\n",
       "      <td>65095143</td>\n",
       "      <td>Employed full time</td>\n",
       "      <td>College Degree</td>\n",
       "      <td>$75,000 or more</td>\n",
       "      <td>Female</td>\n",
       "      <td>No</td>\n",
       "      <td>Yes</td>\n",
       "      <td>Small Metro</td>\n",
       "      <td>1</td>\n",
       "      <td>None of the time</td>\n",
       "      <td>Yes</td>\n",
       "      <td>No</td>\n",
       "    </tr>\n",
       "    <tr>\n",
       "      <th>2</th>\n",
       "      <td>49405143</td>\n",
       "      <td>Employed full time</td>\n",
       "      <td>College Degree</td>\n",
       "      <td>$75,000 or more</td>\n",
       "      <td>Male</td>\n",
       "      <td>Yes</td>\n",
       "      <td>Yes</td>\n",
       "      <td>Small Metro</td>\n",
       "      <td>1</td>\n",
       "      <td>None of the time</td>\n",
       "      <td>No</td>\n",
       "      <td>No</td>\n",
       "    </tr>\n",
       "    <tr>\n",
       "      <th>3</th>\n",
       "      <td>51015143</td>\n",
       "      <td>Other (incl. not in labor force)</td>\n",
       "      <td>primary education</td>\n",
       "      <td>Less than $20,000</td>\n",
       "      <td>Female</td>\n",
       "      <td>No</td>\n",
       "      <td>Yes</td>\n",
       "      <td>Small Metro</td>\n",
       "      <td>1</td>\n",
       "      <td>A little of the time</td>\n",
       "      <td>No</td>\n",
       "      <td>No</td>\n",
       "    </tr>\n",
       "    <tr>\n",
       "      <th>4</th>\n",
       "      <td>31825143</td>\n",
       "      <td>Other (incl. not in labor force)</td>\n",
       "      <td>College Degree</td>\n",
       "      <td>$75,000 or more</td>\n",
       "      <td>Male</td>\n",
       "      <td>No</td>\n",
       "      <td>No</td>\n",
       "      <td>Small Metro</td>\n",
       "      <td>1</td>\n",
       "      <td>A little of the time</td>\n",
       "      <td>Yes</td>\n",
       "      <td>No</td>\n",
       "    </tr>\n",
       "  </tbody>\n",
       "</table>\n",
       "</div>"
      ],
      "text/plain": [
       "   QUESTID2                         IRWRKSTAT       IREDUHIGHST2  \\\n",
       "0  43295143                Employed full time     College Degree   \n",
       "1  65095143                Employed full time     College Degree   \n",
       "2  49405143                Employed full time     College Degree   \n",
       "3  51015143  Other (incl. not in labor force)  primary education   \n",
       "4  31825143  Other (incl. not in labor force)     College Degree   \n",
       "\n",
       "              INCOME   IRSEX MJEVER PNRANYLIF      COUTYP4  MEDMJPA2  \\\n",
       "0    $75,000 or more    Male    Yes       Yes  Small Metro         2   \n",
       "1    $75,000 or more  Female     No       Yes  Small Metro         1   \n",
       "2    $75,000 or more    Male    Yes       Yes  Small Metro         1   \n",
       "3  Less than $20,000  Female     No       Yes  Small Metro         1   \n",
       "4    $75,000 or more    Male     No        No  Small Metro         1   \n",
       "\n",
       "               DSTCHR30 ADDPREV hallucinogens  \n",
       "0      Some of the time     Yes            No  \n",
       "1      None of the time     Yes            No  \n",
       "2      None of the time      No            No  \n",
       "3  A little of the time      No            No  \n",
       "4  A little of the time     Yes            No  "
      ]
     },
     "execution_count": 61,
     "metadata": {},
     "output_type": "execute_result"
    }
   ],
   "source": [
    "# Display the updated dataframe\n",
    "filtered_df_cleaned.head()"
   ]
  },
  {
   "cell_type": "code",
   "execution_count": 62,
   "id": "12954cbc-47e7-48e9-b824-a0a99522cbeb",
   "metadata": {},
   "outputs": [
    {
     "name": "stderr",
     "output_type": "stream",
     "text": [
      "C:\\Users\\Rama Rao\\AppData\\Local\\Temp\\ipykernel_9164\\1872460905.py:7: SettingWithCopyWarning: \n",
      "A value is trying to be set on a copy of a slice from a DataFrame.\n",
      "Try using .loc[row_indexer,col_indexer] = value instead\n",
      "\n",
      "See the caveats in the documentation: https://pandas.pydata.org/pandas-docs/stable/user_guide/indexing.html#returning-a-view-versus-a-copy\n",
      "  filtered_df_cleaned['MEDMJPA2'] = filtered_df_cleaned['MEDMJPA2'].map(mapping)\n"
     ]
    }
   ],
   "source": [
    "mapping = {\n",
    "    1: 'Yes',\n",
    "    2: 'No',\n",
    "}\n",
    "\n",
    "# Apply the mapping to 'DSTCHR30'\n",
    "filtered_df_cleaned['MEDMJPA2'] = filtered_df_cleaned['MEDMJPA2'].map(mapping)\n",
    "\n",
    "\n"
   ]
  },
  {
   "cell_type": "code",
   "execution_count": null,
   "id": "1a52c0d2-2c32-493b-a082-1824d380bfd0",
   "metadata": {},
   "outputs": [],
   "source": []
  },
  {
   "cell_type": "markdown",
   "id": "b2e6c848-de8e-4f8f-a04c-59883ce509c0",
   "metadata": {},
   "source": [
    "Renaming columns for better readability"
   ]
  },
  {
   "cell_type": "code",
   "execution_count": 63,
   "id": "192f525b-124a-41e5-affa-891ac11e8890",
   "metadata": {},
   "outputs": [
    {
     "name": "stderr",
     "output_type": "stream",
     "text": [
      "C:\\Users\\Rama Rao\\AppData\\Local\\Temp\\ipykernel_9164\\1525854998.py:15: SettingWithCopyWarning: \n",
      "A value is trying to be set on a copy of a slice from a DataFrame\n",
      "\n",
      "See the caveats in the documentation: https://pandas.pydata.org/pandas-docs/stable/user_guide/indexing.html#returning-a-view-versus-a-copy\n",
      "  filtered_df_cleaned.rename(columns=column_mapping, inplace=True)\n"
     ]
    }
   ],
   "source": [
    "\n",
    "column_mapping = {\n",
    "    'IRWRKSTAT': 'Employment',\n",
    "    'IREDUHIGHST2': 'education',\n",
    "    'INCOME': 'income',\n",
    "    'IRSEX': 'sexual orientation',\n",
    "    'MJEVER': 'Ever used marijuana',\n",
    "    'PNRANYLIF': 'ANY PAIN RELIEVER USE IN LIFETIME',\n",
    "    'COUTYP4': 'COUNTY METRO/NONMETRO STATUS',\n",
    "    'MEDMJPA2': 'STATE MEDICAL MJ LAW PASSED AT TIME OF INTERVIEW',\n",
    "    'DSTCHR30': 'HOW OFTEN FELT SAD NOTHING COULD CHEER YOU UP',\n",
    "    'ADDPREV': 'SEVERAL DAYS OR LNGR WHEN FELT SAD/EMPTY/DPRSD'\n",
    "}\n",
    "\n",
    "# Apply the renaming to the DataFrame\n",
    "filtered_df_cleaned.rename(columns=column_mapping, inplace=True)\n",
    "\n"
   ]
  },
  {
   "cell_type": "code",
   "execution_count": null,
   "id": "eb82d806-f58d-4ac7-b73a-65279e846c77",
   "metadata": {},
   "outputs": [],
   "source": [
    "filtered_df_cleaned.to_excel('filtered_df_cleaned.xlsx')"
   ]
  },
  {
   "cell_type": "code",
   "execution_count": null,
   "id": "0d908098-ff3a-4de1-83c4-f2ec0a7b4db4",
   "metadata": {},
   "outputs": [],
   "source": [
    "filtered_df_cleaned.head()"
   ]
  },
  {
   "cell_type": "code",
   "execution_count": null,
   "id": "942b2c74-ebc6-4ce9-83e6-3930879e4c00",
   "metadata": {
    "scrolled": true
   },
   "outputs": [],
   "source": [
    "# Distribution of mental health disorders across income levels\n",
    "plt.figure(figsize=(10, 6))\n",
    "sns.countplot(data=filtered_df_cleaned, x='income')\n",
    "plt.title('Distribution of Depression Across Income Levels')\n",
    "plt.xlabel('Income Level')\n",
    "plt.ylabel('Count')\n",
    "plt.xticks(rotation=45)\n",
    "plt.legend(title='Depression')\n",
    "plt.tight_layout()\n",
    "plt.show()\n",
    "\n"
   ]
  },
  {
   "cell_type": "code",
   "execution_count": null,
   "id": "7b40a77d-764f-445c-83be-53d9cdf45318",
   "metadata": {},
   "outputs": [],
   "source": []
  },
  {
   "cell_type": "code",
   "execution_count": null,
   "id": "59ae3700-1030-45ce-a816-ea84a44a93a2",
   "metadata": {},
   "outputs": [],
   "source": [
    "# Question 1: How does socioeconomic status (income, education, employment status) influence mental health?\n",
    "# Bar plot to show the distribution of depression (Sadness) across different income levels.\n",
    "\n",
    "# Create a plot for the influence of income on experiencing mental health disorders (depression)\n",
    "plt.figure(figsize=(10, 6))\n",
    "sns.countplot(data=filtered_df_cleaned, x='income', hue='SEVERAL DAYS OR LNGR WHEN FELT SAD/EMPTY/DPRSD', palette=\"Blues\")\n",
    "plt.title('Income vs. Mental Health Disorders (Depression)')\n",
    "plt.xlabel('Income Levels')\n",
    "plt.ylabel('Count of Individuals')\n",
    "plt.xticks(rotation=45)\n",
    "plt.legend(title='Felt Sad/Depressed for Several Days or Longer')\n",
    "plt.tight_layout()\n",
    "plt.show()\n",
    "\n",
    "\n"
   ]
  },
  {
   "cell_type": "markdown",
   "id": "8d16df49-57b2-481f-89fd-5610369bc7ed",
   "metadata": {},
   "source": [
    "### Observations:\n",
    "# From the above graphs we might conclude that people whose income is less than $20,000 (which is the least among the others) are more likely to \n",
    "# feel depressed.\n"
   ]
  },
  {
   "cell_type": "code",
   "execution_count": null,
   "id": "e8e6835f-b505-4140-b872-80a280f2ab1a",
   "metadata": {
    "scrolled": true
   },
   "outputs": [],
   "source": [
    "# Question 2: The role of marijuana use in mental health\n",
    "# We will create a bar plot to see the relation between marijuana use, state marijuana laws, and depression\n",
    "\n",
    "plt.figure(figsize=(10, 6))\n",
    "sns.countplot(data=filtered_df_cleaned, x='STATE MEDICAL MJ LAW PASSED AT TIME OF INTERVIEW', hue='Ever used marijuana', palette=\"Greens\")\n",
    "plt.title('State Marijuana Laws and Marijuana Use')\n",
    "plt.xlabel('State Medical Marijuana Law Passed')\n",
    "plt.ylabel('Count of Individuals')\n",
    "plt.legend(title='Ever Used Marijuana')\n",
    "#plt.tight_layout()\n",
    "plt.show()\n",
    "\n"
   ]
  },
  {
   "cell_type": "code",
   "execution_count": null,
   "id": "c8cd61c8-b786-42ca-9779-91fe5cfbdbb3",
   "metadata": {},
   "outputs": [],
   "source": [
    "# Relationship between marijuana use and depression\n",
    "plt.figure(figsize=(10, 6))\n",
    "sns.countplot(data=filtered_df_cleaned, x='Ever used marijuana')\n",
    "plt.title('Marijuana Use and Prevalence of Depression')\n",
    "plt.xlabel('Marijuana Use (Ever)')\n",
    "plt.ylabel('Count')\n",
    "plt.legend(title='Depression')\n",
    "plt.tight_layout()\n",
    "plt.show()\n",
    "\n"
   ]
  },
  {
   "cell_type": "markdown",
   "id": "05ded4df-3dd9-4617-a5ac-ff2d0e497e70",
   "metadata": {},
   "source": [
    "### Observation:\n",
    "# We have observed that the locations where marijuana is legalized have higher usage of marijuana when compared to areas with stricter laws, and these regions with increased marijuana use also exhibit a higher prevalence of depression."
   ]
  },
  {
   "cell_type": "code",
   "execution_count": null,
   "id": "343137f2-e15c-4623-ae05-ecaeeff741d6",
   "metadata": {},
   "outputs": [],
   "source": [
    "# Question 3: The role of hallucinogen use in mental health\n",
    "# We will create a plot to examine how hallucinogen use is related to experiencing mental health disorders.\n",
    "\n",
    "plt.figure(figsize=(10, 6))\n",
    "sns.countplot(data=filtered_df_cleaned, x='hallucinogens', hue='SEVERAL DAYS OR LNGR WHEN FELT SAD/EMPTY/DPRSD', palette=\"Reds\")\n",
    "plt.title('Hallucinogen Use and Mental Health Disorders (Depression)')\n",
    "plt.xlabel('Used Hallucinogens')\n",
    "plt.ylabel('Count of Individuals')\n",
    "plt.legend(title='Felt Sad/Depressed for Several Days or Longer')\n",
    "plt.tight_layout()\n",
    "plt.show()"
   ]
  },
  {
   "cell_type": "markdown",
   "id": "6a0f3819-b031-45b8-bae5-3f59772f5270",
   "metadata": {},
   "source": [
    "### Observation: The above graph clearly shows that the percentage of people experiencing depression is higher among those who use hallucinogens compared to those who do not use them."
   ]
  },
  {
   "cell_type": "code",
   "execution_count": null,
   "id": "08290c80-aad8-4fcb-b14a-b4083fc1e59e",
   "metadata": {},
   "outputs": [],
   "source": []
  }
 ],
 "metadata": {
  "kernelspec": {
   "display_name": "Python 3 (ipykernel)",
   "language": "python",
   "name": "python3"
  },
  "language_info": {
   "codemirror_mode": {
    "name": "ipython",
    "version": 3
   },
   "file_extension": ".py",
   "mimetype": "text/x-python",
   "name": "python",
   "nbconvert_exporter": "python",
   "pygments_lexer": "ipython3",
   "version": "3.12.5"
  }
 },
 "nbformat": 4,
 "nbformat_minor": 5
}
