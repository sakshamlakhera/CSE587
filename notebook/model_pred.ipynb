{
 "cells": [
  {
   "cell_type": "code",
   "execution_count": 13,
   "metadata": {},
   "outputs": [],
   "source": [
    "import pandas as pd\n",
    "import pickle\n",
    "import numpy as np"
   ]
  },
  {
   "cell_type": "code",
   "execution_count": 14,
   "metadata": {},
   "outputs": [],
   "source": [
    "json_data = {\"Age\": [18], \"Game\": [6], \"Residence\": [103], \"Hours\": [12] }\n",
    "user_input_gmh_model = pd.DataFrame(json_data)"
   ]
  },
  {
   "cell_type": "code",
   "execution_count": 15,
   "metadata": {},
   "outputs": [
    {
     "data": {
      "text/plain": [
       "array([[0.32701897, 0.42520474, 0.39042891]])"
      ]
     },
     "execution_count": 15,
     "metadata": {},
     "output_type": "execute_result"
    }
   ],
   "source": [
    "\n",
    "mlp_reg_final = pickle.load(open(r\"../model/gmh_model.pickle\", 'rb'))\n",
    "mlp_reg_final.predict(user_input_gmh_model)\n",
    "# mlp_reg_final.predict(np.array([18, 6, 103, 12]).reshape(1, -1))"
   ]
  },
  {
   "cell_type": "code",
   "execution_count": 17,
   "metadata": {},
   "outputs": [
    {
     "name": "stderr",
     "output_type": "stream",
     "text": [
      "/Users/sharanraj/vscode/Data Intensive Computing/Project/venv/lib/python3.12/site-packages/sklearn/base.py:493: UserWarning: X does not have valid feature names, but MLPRegressor was fitted with feature names\n",
      "  warnings.warn(\n",
      "/Users/sharanraj/vscode/Data Intensive Computing/Project/venv/lib/python3.12/site-packages/sklearn/base.py:493: UserWarning: X does not have valid feature names, but MLPRegressor was fitted with feature names\n",
      "  warnings.warn(\n",
      "/Users/sharanraj/vscode/Data Intensive Computing/Project/venv/lib/python3.12/site-packages/sklearn/base.py:493: UserWarning: X does not have valid feature names, but MLPRegressor was fitted with feature names\n",
      "  warnings.warn(\n"
     ]
    },
    {
     "data": {
      "text/plain": [
       "array([[0.32701897, 0.42520474, 0.39042891]])"
      ]
     },
     "execution_count": 17,
     "metadata": {},
     "output_type": "execute_result"
    }
   ],
   "source": [
    "mlp_reg_final.predict(np.array([18, 6, 103, 12]).reshape(1, -1))"
   ]
  },
  {
   "cell_type": "code",
   "execution_count": 27,
   "metadata": {},
   "outputs": [
    {
     "data": {
      "text/plain": [
       "sklearn.multioutput.MultiOutputRegressor"
      ]
     },
     "execution_count": 27,
     "metadata": {},
     "output_type": "execute_result"
    }
   ],
   "source": [
    "type(mlp_reg_final)"
   ]
  },
  {
   "cell_type": "code",
   "execution_count": 6,
   "metadata": {},
   "outputs": [],
   "source": [
    "df = pd.read_csv(r\"/Users/sharanraj/git/CSE587/code/streamlit_app/dummy.csv\")"
   ]
  },
  {
   "cell_type": "code",
   "execution_count": 10,
   "metadata": {},
   "outputs": [],
   "source": [
    "dic = df.to_dict('list')"
   ]
  },
  {
   "cell_type": "code",
   "execution_count": 11,
   "metadata": {},
   "outputs": [
    {
     "data": {
      "text/html": [
       "<div>\n",
       "<style scoped>\n",
       "    .dataframe tbody tr th:only-of-type {\n",
       "        vertical-align: middle;\n",
       "    }\n",
       "\n",
       "    .dataframe tbody tr th {\n",
       "        vertical-align: top;\n",
       "    }\n",
       "\n",
       "    .dataframe thead th {\n",
       "        text-align: right;\n",
       "    }\n",
       "</style>\n",
       "<table border=\"1\" class=\"dataframe\">\n",
       "  <thead>\n",
       "    <tr style=\"text-align: right;\">\n",
       "      <th></th>\n",
       "      <th>Age</th>\n",
       "      <th>Drug_Use</th>\n",
       "      <th>plays_game</th>\n",
       "      <th>YEPCHKHW</th>\n",
       "      <th>YEPHLPHW</th>\n",
       "      <th>YO_MDEA2</th>\n",
       "      <th>YEPCHORE</th>\n",
       "      <th>YEPLMTTV</th>\n",
       "      <th>YEPLMTSN</th>\n",
       "      <th>YO_MDEA1</th>\n",
       "      <th>YEPGDJOB</th>\n",
       "      <th>YEPPROUD</th>\n",
       "      <th>YEYARGUP</th>\n",
       "      <th>YEPRTDNG</th>\n",
       "      <th>NEWRACE2</th>\n",
       "    </tr>\n",
       "  </thead>\n",
       "  <tbody>\n",
       "    <tr>\n",
       "      <th>0</th>\n",
       "      <td>7</td>\n",
       "      <td>No</td>\n",
       "      <td>No</td>\n",
       "      <td>Yes</td>\n",
       "      <td>Yes</td>\n",
       "      <td>No</td>\n",
       "      <td>Yes</td>\n",
       "      <td>Yes</td>\n",
       "      <td>Yes</td>\n",
       "      <td>No</td>\n",
       "      <td>Yes</td>\n",
       "      <td>Yes</td>\n",
       "      <td>Yes</td>\n",
       "      <td>Yes</td>\n",
       "      <td>1</td>\n",
       "    </tr>\n",
       "  </tbody>\n",
       "</table>\n",
       "</div>"
      ],
      "text/plain": [
       "   Age Drug_Use plays_game YEPCHKHW YEPHLPHW YO_MDEA2 YEPCHORE YEPLMTTV  \\\n",
       "0    7       No         No      Yes      Yes       No      Yes      Yes   \n",
       "\n",
       "  YEPLMTSN YO_MDEA1 YEPGDJOB YEPPROUD YEYARGUP YEPRTDNG  NEWRACE2  \n",
       "0      Yes       No      Yes      Yes      Yes      Yes         1  "
      ]
     },
     "execution_count": 11,
     "metadata": {},
     "output_type": "execute_result"
    }
   ],
   "source": [
    "df1 = pd.DataFrame.from_dict(dic)\n",
    "df1\n"
   ]
  },
  {
   "cell_type": "code",
   "execution_count": 12,
   "metadata": {},
   "outputs": [
    {
     "data": {
      "text/plain": [
       "{'Age': [7],\n",
       " 'Drug_Use': ['No'],\n",
       " 'plays_game': ['No'],\n",
       " 'YEPCHKHW': ['Yes'],\n",
       " 'YEPHLPHW': ['Yes'],\n",
       " 'YO_MDEA2': ['No'],\n",
       " 'YEPCHORE': ['Yes'],\n",
       " 'YEPLMTTV': ['Yes'],\n",
       " 'YEPLMTSN': ['Yes'],\n",
       " 'YO_MDEA1': ['No'],\n",
       " 'YEPGDJOB': ['Yes'],\n",
       " 'YEPPROUD': ['Yes'],\n",
       " 'YEYARGUP': ['Yes'],\n",
       " 'YEPRTDNG': ['Yes'],\n",
       " 'NEWRACE2': [1]}"
      ]
     },
     "execution_count": 12,
     "metadata": {},
     "output_type": "execute_result"
    }
   ],
   "source": [
    "dic"
   ]
  },
  {
   "cell_type": "code",
   "execution_count": null,
   "metadata": {},
   "outputs": [],
   "source": []
  }
 ],
 "metadata": {
  "kernelspec": {
   "display_name": "venv",
   "language": "python",
   "name": "venv"
  },
  "language_info": {
   "codemirror_mode": {
    "name": "ipython",
    "version": 3
   },
   "file_extension": ".py",
   "mimetype": "text/x-python",
   "name": "python",
   "nbconvert_exporter": "python",
   "pygments_lexer": "ipython3",
   "version": "3.12.7"
  }
 },
 "nbformat": 4,
 "nbformat_minor": 2
}
